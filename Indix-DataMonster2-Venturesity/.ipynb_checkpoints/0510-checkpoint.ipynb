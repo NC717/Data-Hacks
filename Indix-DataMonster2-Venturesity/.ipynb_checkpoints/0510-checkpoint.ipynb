{
 "cells": [
  {
   "cell_type": "markdown",
   "metadata": {},
   "source": [
    "<H1>Code for Indix Datamonster2 Challenge</H1>\n",
    "<H4>Change working directory</H4>"
   ]
  },
  {
   "cell_type": "code",
   "execution_count": 1,
   "metadata": {
    "collapsed": true
   },
   "outputs": [],
   "source": [
    "import os\n",
    "os.chdir('C:\\Users\\ernestkirubakarans\\Desktop\\Materials\\hacks\\indix')"
   ]
  },
  {
   "cell_type": "markdown",
   "metadata": {},
   "source": [
    "<H4>Import libraries</H4>"
   ]
  },
  {
   "cell_type": "code",
   "execution_count": 2,
   "metadata": {
    "collapsed": true
   },
   "outputs": [],
   "source": [
    "%matplotlib inline\n",
    "\n",
    "import numpy as np\n",
    "import scipy as sp\n",
    "import matplotlib as mpl\n",
    "import matplotlib.cm as cm\n",
    "import matplotlib.pyplot as plt\n",
    "import pandas as pd\n",
    "import seaborn as sns\n",
    "import re\n",
    "from bs4 import BeautifulSoup\n",
    "from nltk.corpus import stopwords\n",
    "import nltk\n",
    "from sklearn.feature_extraction.text import CountVectorizer\n",
    "from sklearn.ensemble import RandomForestClassifier\n",
    "\n",
    "pd.set_option('display.width', 500)\n",
    "pd.set_option('display.max_columns', 100)\n",
    "pd.set_option('display.notebook_repr_html', True)"
   ]
  },
  {
   "cell_type": "markdown",
   "metadata": {},
   "source": [
    "<H4>Reading Data</H4>"
   ]
  },
  {
   "cell_type": "code",
   "execution_count": 3,
   "metadata": {
    "collapsed": true
   },
   "outputs": [],
   "source": [
    "data = pd.read_csv('data.csv')\n",
    "blindset = pd.read_csv('blindset_table_out.csv')"
   ]
  },
  {
   "cell_type": "code",
   "execution_count": 4,
   "metadata": {
    "collapsed": true
   },
   "outputs": [],
   "source": [
    "data['y'] = 0\n",
    "data.ix[data.label == 'yes', 'y'] = 1"
   ]
  },
  {
   "cell_type": "markdown",
   "metadata": {},
   "source": [
    "<H2>Data Cleansing</H2>\n",
    "<p>Defining a function for:</p>\n",
    "<ul>\n",
    "<li>Removing HTML tags</li>\n",
    "<li>Keeping only alphabets</li>\n",
    "<li>Converting all words to lower case</li>\n",
    "<li>Splitting the words</li>\n",
    "<li>Remove English stopwords</li>\n",
    "</ul>"
   ]
  },
  {
   "cell_type": "code",
   "execution_count": 5,
   "metadata": {
    "collapsed": true
   },
   "outputs": [],
   "source": [
    "def table_to_words( raw_text ):\n",
    "    review_text = BeautifulSoup(raw_text).get_text() \n",
    "    letters_only = re.sub(\"[^a-zA-Z]\", \" \", review_text) \n",
    "    words = letters_only.lower().split()                             \n",
    "    stops = set(stopwords.words(\"english\"))                  \n",
    "    meaningful_words = [w for w in words if not w in stops]   \n",
    "    return( \" \".join( meaningful_words ))   "
   ]
  },
  {
   "cell_type": "markdown",
   "metadata": {},
   "source": [
    "<H4>Cleaning and Parsing the column 'table-text' in training dataset</H4>"
   ]
  },
  {
   "cell_type": "code",
   "execution_count": 6,
   "metadata": {
    "collapsed": false
   },
   "outputs": [
    {
     "name": "stdout",
     "output_type": "stream",
     "text": [
      "Cleaning and parsing the table data...\n",
      "\n",
      "Review 10000 of 91845\n",
      "\n",
      "Review 20000 of 91845\n",
      "\n",
      "Review 30000 of 91845\n",
      "\n",
      "Review 40000 of 91845\n",
      "\n",
      "Review 50000 of 91845\n",
      "\n",
      "Review 60000 of 91845\n",
      "\n",
      "Review 70000 of 91845\n",
      "\n",
      "Review 80000 of 91845\n",
      "\n",
      "Review 90000 of 91845\n",
      "\n"
     ]
    }
   ],
   "source": [
    "num_tables = data[\"table-text\"].size\n",
    "print \"Cleaning and parsing the table data...\\n\"\n",
    "clean_tables = []\n",
    "for i in xrange(0, num_tables):\n",
    "    if((i+1)%10000 == 0):\n",
    "        print \"Review %d of %d\\n\" % (i+1, num_tables)                                                                    \n",
    "    clean_tables.append(table_to_words(data[\"table-text\"][i]))"
   ]
  },
  {
   "cell_type": "markdown",
   "metadata": {},
   "source": [
    "<H4>Using top 1000 most occuring words in 'table-text' column as features for the model</H4>"
   ]
  },
  {
   "cell_type": "code",
   "execution_count": 7,
   "metadata": {
    "collapsed": true
   },
   "outputs": [],
   "source": [
    "vectorizer = CountVectorizer(analyzer = \"word\", tokenizer = None, preprocessor = None, stop_words = None, max_features = 1000)\n",
    "data_features = vectorizer.fit_transform(clean_tables)\n",
    "data_features = data_features.toarray()"
   ]
  },
  {
   "cell_type": "markdown",
   "metadata": {},
   "source": [
    "<H2>Training a Random Forest Model</H2>\n",
    "<H4>Building a Random Forest Classifier with 50 trees</H4>"
   ]
  },
  {
   "cell_type": "code",
   "execution_count": 20,
   "metadata": {
    "collapsed": true
   },
   "outputs": [],
   "source": [
    "vectorizer = CountVectorizer(analyzer = \"word\", tokenizer = None, preprocessor = None, stop_words = None, max_features = 1000)\n",
    "data_features = vectorizer.fit_transform(clean_tables)\n",
    "data_features = data_features.toarray()"
   ]
  },
  {
   "cell_type": "markdown",
   "metadata": {},
   "source": [
    "<H4>Building a Random Forest Classifier with 50 trees</H4>"
   ]
  },
  {
   "cell_type": "code",
   "execution_count": 21,
   "metadata": {
    "collapsed": true
   },
   "outputs": [],
   "source": [
    "forest = RandomForestClassifier(n_estimators = 50)\n",
    "forest = forest.fit(data_features, data['y'] )"
   ]
  },
  {
   "cell_type": "markdown",
   "metadata": {},
   "source": [
    "<H4>Verifying F1 score for training set</H4>"
   ]
  },
  {
   "cell_type": "code",
   "execution_count": 12,
   "metadata": {
    "collapsed": true
   },
   "outputs": [],
   "source": [
    "from sklearn.metrics import f1_score"
   ]
  },
  {
   "cell_type": "code",
   "execution_count": 22,
   "metadata": {
    "collapsed": false
   },
   "outputs": [
    {
     "data": {
      "text/plain": [
       "0.96937164508999063"
      ]
     },
     "execution_count": 22,
     "metadata": {},
     "output_type": "execute_result"
    }
   ],
   "source": [
    "train_result = forest.predict(data_features)\n",
    "f1_score(data['y'],train_result)"
   ]
  },
  {
   "cell_type": "markdown",
   "metadata": {},
   "source": [
    "<H2>Making Predictions</H2>\n",
    "<H4>Cleaning and Parsing the column 'table-text' in blind set</H4>"
   ]
  },
  {
   "cell_type": "code",
   "execution_count": 23,
   "metadata": {
    "collapsed": true
   },
   "outputs": [],
   "source": [
    "num_tables = blindset[\"table-text\"].size\n",
    "clean_tables = []"
   ]
  },
  {
   "cell_type": "code",
   "execution_count": 24,
   "metadata": {
    "collapsed": false
   },
   "outputs": [
    {
     "name": "stdout",
     "output_type": "stream",
     "text": [
      "Review 10000 of 11842\n",
      "\n"
     ]
    }
   ],
   "source": [
    "for i in xrange(0,num_tables):\n",
    "    if( (i+1) % 10000 == 0 ):\n",
    "        print \"Review %d of %d\\n\" % (i+1, num_tables)\n",
    "    clean_tables.append(table_to_words(blindset[\"table-text\"][i]))"
   ]
  },
  {
   "cell_type": "code",
   "execution_count": 25,
   "metadata": {
    "collapsed": true
   },
   "outputs": [],
   "source": [
    "blindset_features = vectorizer.transform(clean_tables)\n",
    "blindset_features = blindset_features.toarray()"
   ]
  },
  {
   "cell_type": "markdown",
   "metadata": {},
   "source": [
    "<H4>Predicting for blind set</H4>"
   ]
  },
  {
   "cell_type": "code",
   "execution_count": 26,
   "metadata": {
    "collapsed": true
   },
   "outputs": [],
   "source": [
    "result = forest.predict(blindset_features)\n",
    "output = ['no']*num_tables"
   ]
  },
  {
   "cell_type": "code",
   "execution_count": 27,
   "metadata": {
    "collapsed": false
   },
   "outputs": [],
   "source": [
    "for i in xrange(0,num_tables):\n",
    "    if (result[i] == 1):\n",
    "        output[i] = 'yes'"
   ]
  },
  {
   "cell_type": "markdown",
   "metadata": {},
   "source": [
    "<H4>Creating submission File</H4>"
   ]
  },
  {
   "cell_type": "code",
   "execution_count": 28,
   "metadata": {
    "collapsed": false
   },
   "outputs": [],
   "source": [
    "import csv\n",
    "with open('rf_0510.csv', \"w\") as final:\n",
    "    writer = csv.writer(final, lineterminator='\\n')\n",
    "    for val in output:\n",
    "        writer.writerow([val])  "
   ]
  }
 ],
 "metadata": {
  "kernelspec": {
   "display_name": "Python 2",
   "language": "python",
   "name": "python2"
  },
  "language_info": {
   "codemirror_mode": {
    "name": "ipython",
    "version": 2
   },
   "file_extension": ".py",
   "mimetype": "text/x-python",
   "name": "python",
   "nbconvert_exporter": "python",
   "pygments_lexer": "ipython2",
   "version": "2.7.11"
  }
 },
 "nbformat": 4,
 "nbformat_minor": 0
}
