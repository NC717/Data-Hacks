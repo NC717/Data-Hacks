{
 "cells": [
  {
   "cell_type": "markdown",
   "metadata": {},
   "source": [
    "<H3>Import libraries</H3>"
   ]
  },
  {
   "cell_type": "code",
   "execution_count": 1,
   "metadata": {
    "collapsed": true
   },
   "outputs": [],
   "source": [
    "import numpy as np\n",
    "import os\n",
    "from scipy.misc import imread, imsave, imresize, imshow\n",
    "import random\n",
    "import matplotlib.pyplot as plt\n",
    "import pandas as pd\n",
    "import zipfile\n",
    "from sklearn.cross_validation import train_test_split\n",
    "from time import time\n",
    "\n",
    "from shuffle_data import *"
   ]
  },
  {
   "cell_type": "markdown",
   "metadata": {},
   "source": [
    "<H3>The train folder has 5 zip files, each containing 200 csv files. Run a function to unzip all the zip files from the train folder, read all csv files, shuffle data inside csv files and save the csv files inside another destination folder</H3> "
   ]
  },
  {
   "cell_type": "code",
   "execution_count": 2,
   "metadata": {
    "collapsed": false
   },
   "outputs": [
    {
     "name": "stdout",
     "output_type": "stream",
     "text": [
      "Found 5 folders\n",
      "Processing folder 1 of 5\n",
      "Processing file 50 of 200\n",
      "Processing file 100 of 200\n",
      "Processing file 150 of 200\n",
      "Processing file 200 of 200\n",
      "Processing folder 2 of 5\n",
      "Processing file 50 of 200\n",
      "Processing file 100 of 200\n",
      "Processing file 150 of 200\n",
      "Processing file 200 of 200\n",
      "Processing folder 3 of 5\n",
      "Processing file 50 of 200\n",
      "Processing file 100 of 200\n",
      "Processing file 150 of 200\n",
      "Processing file 200 of 200\n",
      "Processing folder 4 of 5\n",
      "Processing file 50 of 200\n",
      "Processing file 100 of 200\n",
      "Processing file 150 of 200\n",
      "Processing file 200 of 200\n",
      "Processing folder 5 of 5\n",
      "Processing file 50 of 200\n",
      "Processing file 100 of 200\n",
      "Processing file 150 of 200\n",
      "Processing file 200 of 200\n",
      "Time taken: 1665.785000 sec\n"
     ]
    }
   ],
   "source": [
    "shuffle_data('train', 'train_new')"
   ]
  },
  {
   "cell_type": "markdown",
   "metadata": {},
   "source": [
    "<H3>Count the number of samples for each phase of flight</H3>"
   ]
  },
  {
   "cell_type": "code",
   "execution_count": 3,
   "metadata": {
    "collapsed": false
   },
   "outputs": [
    {
     "name": "stdout",
     "output_type": "stream",
     "text": [
      "Processing file 50\n",
      "Processing file 100\n",
      "Processing file 150\n",
      "Processing file 200\n",
      "Processing file 250\n",
      "Processing file 300\n",
      "Processing file 350\n",
      "Processing file 400\n",
      "Processing file 450\n",
      "Processing file 500\n",
      "Processing file 550\n",
      "Processing file 600\n",
      "Processing file 650\n",
      "Processing file 700\n",
      "Processing file 750\n",
      "Processing file 800\n",
      "Processing file 850\n",
      "Processing file 900\n",
      "Processing file 950\n",
      "Processing file 1000\n"
     ]
    }
   ],
   "source": [
    "ph_counter = counter_ph('train_new')"
   ]
  },
  {
   "cell_type": "code",
   "execution_count": 4,
   "metadata": {
    "collapsed": false
   },
   "outputs": [
    {
     "data": {
      "text/plain": [
       "[417026, 52395, 1186587, 109020, 1167633, 1962381, 1196532, 22190]"
      ]
     },
     "execution_count": 4,
     "metadata": {},
     "output_type": "execute_result"
    }
   ],
   "source": [
    "ph_counter"
   ]
  }
 ],
 "metadata": {
  "kernelspec": {
   "display_name": "Python 2",
   "language": "python",
   "name": "python2"
  },
  "language_info": {
   "codemirror_mode": {
    "name": "ipython",
    "version": 2
   },
   "file_extension": ".py",
   "mimetype": "text/x-python",
   "name": "python",
   "nbconvert_exporter": "python",
   "pygments_lexer": "ipython2",
   "version": "2.7.11"
  }
 },
 "nbformat": 4,
 "nbformat_minor": 0
}
