{
 "cells": [
  {
   "cell_type": "markdown",
   "metadata": {},
   "source": [
    "<H3>Load libraries</H3>"
   ]
  },
  {
   "cell_type": "code",
   "execution_count": 1,
   "metadata": {
    "collapsed": true
   },
   "outputs": [],
   "source": [
    "import numpy as np\n",
    "import os\n",
    "from scipy.misc import imread, imsave, imresize, imshow\n",
    "import random\n",
    "import matplotlib.pyplot as plt\n",
    "import pandas as pd\n",
    "import zipfile\n",
    "from sklearn import linear_model\n",
    "from sklearn.metrics import mean_squared_error\n",
    "from math import sqrt\n",
    "import gc\n",
    "\n",
    "import os\n",
    "\n",
    "mingw_path = 'C:\\\\Program Files\\\\mingw-w64\\\\x86_64-5.3.0-posix-seh-rt_v4-rev0\\\\mingw64\\\\bin'\n",
    "os.environ['PATH'] = mingw_path + ';' + os.environ['PATH']\n",
    "\n",
    "import xgboost as xgb"
   ]
  },
  {
   "cell_type": "code",
   "execution_count": 2,
   "metadata": {
    "collapsed": false
   },
   "outputs": [
    {
     "name": "stderr",
     "output_type": "stream",
     "text": [
      "C:\\Anaconda2\\lib\\site-packages\\IPython\\core\\interactiveshell.py:2723: DtypeWarning: Columns (1) have mixed types. Specify dtype option on import or set low_memory=False.\n",
      "  interactivity=interactivity, compiler=compiler, result=result)\n"
     ]
    }
   ],
   "source": [
    "train1 = pd.read_csv('train_part\\\\6\\\\X_train_6_a.csv')"
   ]
  },
  {
   "cell_type": "code",
   "execution_count": 3,
   "metadata": {
    "collapsed": true
   },
   "outputs": [],
   "source": [
    "train2 = pd.read_csv('train_part\\\\6\\\\X_train_6_b.csv')"
   ]
  },
  {
   "cell_type": "code",
   "execution_count": 4,
   "metadata": {
    "collapsed": true
   },
   "outputs": [],
   "source": [
    "train1 = train1.sample(frac=1).reset_index(drop=True)"
   ]
  },
  {
   "cell_type": "code",
   "execution_count": 5,
   "metadata": {
    "collapsed": true
   },
   "outputs": [],
   "source": [
    "train2 = train2.sample(frac=1).reset_index(drop=True)"
   ]
  },
  {
   "cell_type": "code",
   "execution_count": 6,
   "metadata": {
    "collapsed": false
   },
   "outputs": [],
   "source": [
    "xtrain1 = train1[:100000]\n",
    "xtrain2 = train1[100000:200000]\n",
    "xtrain3 = train1[200000:]"
   ]
  },
  {
   "cell_type": "code",
   "execution_count": 7,
   "metadata": {
    "collapsed": false
   },
   "outputs": [
    {
     "data": {
      "text/plain": [
       "14"
      ]
     },
     "execution_count": 7,
     "metadata": {},
     "output_type": "execute_result"
    }
   ],
   "source": [
    "del train1\n",
    "gc.collect()"
   ]
  },
  {
   "cell_type": "code",
   "execution_count": 8,
   "metadata": {
    "collapsed": false
   },
   "outputs": [],
   "source": [
    "xtrain1 = xtrain1.append(train2[:100000])\n",
    "xtrain2 = xtrain2.append(train2[100000:200000])\n",
    "xtrain3 = xtrain3.append(train2[200000:])"
   ]
  },
  {
   "cell_type": "code",
   "execution_count": 9,
   "metadata": {
    "collapsed": false
   },
   "outputs": [
    {
     "data": {
      "text/plain": [
       "24"
      ]
     },
     "execution_count": 9,
     "metadata": {},
     "output_type": "execute_result"
    }
   ],
   "source": [
    "del train2\n",
    "gc.collect()"
   ]
  },
  {
   "cell_type": "code",
   "execution_count": 10,
   "metadata": {
    "collapsed": true
   },
   "outputs": [],
   "source": [
    "train3 = pd.read_csv('train_part\\\\6\\\\X_train_6_c.csv')"
   ]
  },
  {
   "cell_type": "code",
   "execution_count": 11,
   "metadata": {
    "collapsed": true
   },
   "outputs": [],
   "source": [
    "train3 = train3.sample(frac=1).reset_index(drop=True)"
   ]
  },
  {
   "cell_type": "code",
   "execution_count": 12,
   "metadata": {
    "collapsed": false
   },
   "outputs": [],
   "source": [
    "xtrain1 = xtrain1.append(train3[:100000])\n",
    "xtrain2 = xtrain2.append(train3[100000:200000])\n",
    "xtrain3 = xtrain3.append(train3[200000:])"
   ]
  },
  {
   "cell_type": "code",
   "execution_count": 13,
   "metadata": {
    "collapsed": false
   },
   "outputs": [
    {
     "data": {
      "text/plain": [
       "31"
      ]
     },
     "execution_count": 13,
     "metadata": {},
     "output_type": "execute_result"
    }
   ],
   "source": [
    "del train3\n",
    "gc.collect()"
   ]
  },
  {
   "cell_type": "code",
   "execution_count": 14,
   "metadata": {
    "collapsed": true
   },
   "outputs": [],
   "source": [
    "train4 = pd.read_csv('train_part\\\\6\\\\X_train_6_d.csv')"
   ]
  },
  {
   "cell_type": "code",
   "execution_count": 15,
   "metadata": {
    "collapsed": true
   },
   "outputs": [],
   "source": [
    "train4 = train4.sample(frac=1).reset_index(drop=True)"
   ]
  },
  {
   "cell_type": "code",
   "execution_count": 16,
   "metadata": {
    "collapsed": true
   },
   "outputs": [],
   "source": [
    "xtrain1 = xtrain1.append(train4[:100000])\n",
    "xtrain2 = xtrain2.append(train4[100000:200000])\n",
    "xtrain3 = xtrain3.append(train4[200000:])"
   ]
  },
  {
   "cell_type": "code",
   "execution_count": 17,
   "metadata": {
    "collapsed": false
   },
   "outputs": [
    {
     "data": {
      "text/plain": [
       "31"
      ]
     },
     "execution_count": 17,
     "metadata": {},
     "output_type": "execute_result"
    }
   ],
   "source": [
    "del train4\n",
    "gc.collect()"
   ]
  },
  {
   "cell_type": "code",
   "execution_count": 18,
   "metadata": {
    "collapsed": false
   },
   "outputs": [],
   "source": [
    "xtrain1.drop(xtrain1.columns[[0,1,2,6,7]], axis = 1, inplace = True)\n",
    "xtrain2.drop(xtrain2.columns[[0,1,2,6,7]], axis = 1, inplace = True)\n",
    "xtrain3.drop(xtrain3.columns[[0,1,2,6,7]], axis = 1, inplace = True)\n",
    "\n",
    "xtrain1.drop('PH', axis=1, inplace=True)\n",
    "xtrain2.drop('PH', axis=1, inplace=True)\n",
    "xtrain3.drop('PH', axis=1, inplace=True)"
   ]
  },
  {
   "cell_type": "code",
   "execution_count": 19,
   "metadata": {
    "collapsed": true
   },
   "outputs": [],
   "source": [
    "xtrain1['Month1']=np.where(xtrain1['Month']==1.0, 1,0)\n",
    "xtrain1['Month2']=np.where(xtrain1['Month']==2.0, 1,0)\n",
    "xtrain1['Month3']=np.where(xtrain1['Month']==3.0, 1,0)\n",
    "xtrain1['Month4']=np.where(xtrain1['Month']==4.0, 1,0)\n",
    "xtrain1['Month5']=np.where(xtrain1['Month']==5.0, 1,0)\n",
    "xtrain1['Month6']=np.where(xtrain1['Month']==6.0, 1,0)\n",
    "xtrain1['Month7']=np.where(xtrain1['Month']==7.0, 1,0)\n",
    "xtrain1['Month8']=np.where(xtrain1['Month']==8.0, 1,0)\n",
    "xtrain1['Month9']=np.where(xtrain1['Month']==9.0, 1,0)\n",
    "xtrain1['Month10']=np.where(xtrain1['Month']==10.0, 1,0)\n",
    "xtrain1['Month11']=np.where(xtrain1['Month']==11.0, 1,0)\n",
    "xtrain1['Month12']=np.where(xtrain1['Month']==12.0, 1,0)\n",
    "xtrain1['Hour1']=np.where(xtrain1['Hour']==1.0, 1,0)\n",
    "xtrain1['Hour2']=np.where(xtrain1['Hour']==2.0, 1,0)\n",
    "xtrain1['Hour3']=np.where(xtrain1['Hour']==3.0, 1,0)\n",
    "xtrain1['Hour4']=np.where(xtrain1['Hour']==4.0, 1,0)\n",
    "xtrain1['Hour5']=np.where(xtrain1['Hour']==5.0, 1,0)\n",
    "xtrain1['Hour6']=np.where(xtrain1['Hour']==6.0, 1,0)\n",
    "xtrain1['Hour7']=np.where(xtrain1['Hour']==7.0, 1,0)\n",
    "xtrain1['Hour8']=np.where(xtrain1['Hour']==8.0, 1,0)\n",
    "xtrain1['Hour9']=np.where(xtrain1['Hour']==9.0, 1,0)\n",
    "xtrain1['Hour10']=np.where(xtrain1['Hour']==10.0, 1,0)\n",
    "xtrain1['Hour11']=np.where(xtrain1['Hour']==11.0, 1,0)\n",
    "xtrain1['Hour12']=np.where(xtrain1['Hour']==12.0, 1,0)\n",
    "xtrain1['Hour13']=np.where(xtrain1['Hour']==13.0, 1,0)\n",
    "xtrain1['Hour14']=np.where(xtrain1['Hour']==14.0, 1,0)\n",
    "xtrain1['Hour15']=np.where(xtrain1['Hour']==15.0, 1,0)\n",
    "xtrain1['Hour16']=np.where(xtrain1['Hour']==16.0, 1,0)\n",
    "xtrain1['Hour17']=np.where(xtrain1['Hour']==17.0, 1,0)\n",
    "xtrain1['Hour18']=np.where(xtrain1['Hour']==18.0, 1,0)\n",
    "xtrain1['Hour19']=np.where(xtrain1['Hour']==19.0, 1,0)\n",
    "xtrain1['Hour20']=np.where(xtrain1['Hour']==20.0, 1,0)\n",
    "xtrain1['Hour21']=np.where(xtrain1['Hour']==21.0, 1,0)\n",
    "xtrain1['Hour22']=np.where(xtrain1['Hour']==22.0, 1,0)\n",
    "xtrain1['Hour23']=np.where(xtrain1['Hour']==23.0, 1,0)\n",
    "xtrain1['Hour24']=np.where(xtrain1['Hour']==24.0, 1,0)\n",
    "xtrain2['Month1']=np.where(xtrain2['Month']==1.0, 1,0)\n",
    "xtrain2['Month2']=np.where(xtrain2['Month']==2.0, 1,0)\n",
    "xtrain2['Month3']=np.where(xtrain2['Month']==3.0, 1,0)\n",
    "xtrain2['Month4']=np.where(xtrain2['Month']==4.0, 1,0)\n",
    "xtrain2['Month5']=np.where(xtrain2['Month']==5.0, 1,0)\n",
    "xtrain2['Month6']=np.where(xtrain2['Month']==6.0, 1,0)\n",
    "xtrain2['Month7']=np.where(xtrain2['Month']==7.0, 1,0)\n",
    "xtrain2['Month8']=np.where(xtrain2['Month']==8.0, 1,0)\n",
    "xtrain2['Month9']=np.where(xtrain2['Month']==9.0, 1,0)\n",
    "xtrain2['Month10']=np.where(xtrain2['Month']==10.0, 1,0)\n",
    "xtrain2['Month11']=np.where(xtrain2['Month']==11.0, 1,0)\n",
    "xtrain2['Month12']=np.where(xtrain2['Month']==12.0, 1,0)\n",
    "xtrain2['Hour1']=np.where(xtrain2['Hour']==1.0, 1,0)\n",
    "xtrain2['Hour2']=np.where(xtrain2['Hour']==2.0, 1,0)\n",
    "xtrain2['Hour3']=np.where(xtrain2['Hour']==3.0, 1,0)\n",
    "xtrain2['Hour4']=np.where(xtrain2['Hour']==4.0, 1,0)\n",
    "xtrain2['Hour5']=np.where(xtrain2['Hour']==5.0, 1,0)\n",
    "xtrain2['Hour6']=np.where(xtrain2['Hour']==6.0, 1,0)\n",
    "xtrain2['Hour7']=np.where(xtrain2['Hour']==7.0, 1,0)\n",
    "xtrain2['Hour8']=np.where(xtrain2['Hour']==8.0, 1,0)\n",
    "xtrain2['Hour9']=np.where(xtrain2['Hour']==9.0, 1,0)\n",
    "xtrain2['Hour10']=np.where(xtrain2['Hour']==10.0, 1,0)\n",
    "xtrain2['Hour11']=np.where(xtrain2['Hour']==11.0, 1,0)\n",
    "xtrain2['Hour12']=np.where(xtrain2['Hour']==12.0, 1,0)\n",
    "xtrain2['Hour13']=np.where(xtrain2['Hour']==13.0, 1,0)\n",
    "xtrain2['Hour14']=np.where(xtrain2['Hour']==14.0, 1,0)\n",
    "xtrain2['Hour15']=np.where(xtrain2['Hour']==15.0, 1,0)\n",
    "xtrain2['Hour16']=np.where(xtrain2['Hour']==16.0, 1,0)\n",
    "xtrain2['Hour17']=np.where(xtrain2['Hour']==17.0, 1,0)\n",
    "xtrain2['Hour18']=np.where(xtrain2['Hour']==18.0, 1,0)\n",
    "xtrain2['Hour19']=np.where(xtrain2['Hour']==19.0, 1,0)\n",
    "xtrain2['Hour20']=np.where(xtrain2['Hour']==20.0, 1,0)\n",
    "xtrain2['Hour21']=np.where(xtrain2['Hour']==21.0, 1,0)\n",
    "xtrain2['Hour22']=np.where(xtrain2['Hour']==22.0, 1,0)\n",
    "xtrain2['Hour23']=np.where(xtrain2['Hour']==23.0, 1,0)\n",
    "xtrain2['Hour24']=np.where(xtrain2['Hour']==24.0, 1,0)\n",
    "xtrain3['Month1']=np.where(xtrain3['Month']==1.0, 1,0)\n",
    "xtrain3['Month2']=np.where(xtrain3['Month']==2.0, 1,0)\n",
    "xtrain3['Month3']=np.where(xtrain3['Month']==3.0, 1,0)\n",
    "xtrain3['Month4']=np.where(xtrain3['Month']==4.0, 1,0)\n",
    "xtrain3['Month5']=np.where(xtrain3['Month']==5.0, 1,0)\n",
    "xtrain3['Month6']=np.where(xtrain3['Month']==6.0, 1,0)\n",
    "xtrain3['Month7']=np.where(xtrain3['Month']==7.0, 1,0)\n",
    "xtrain3['Month8']=np.where(xtrain3['Month']==8.0, 1,0)\n",
    "xtrain3['Month9']=np.where(xtrain3['Month']==9.0, 1,0)\n",
    "xtrain3['Month10']=np.where(xtrain3['Month']==10.0, 1,0)\n",
    "xtrain3['Month11']=np.where(xtrain3['Month']==11.0, 1,0)\n",
    "xtrain3['Month12']=np.where(xtrain3['Month']==12.0, 1,0)\n",
    "xtrain3['Hour1']=np.where(xtrain3['Hour']==1.0, 1,0)\n",
    "xtrain3['Hour2']=np.where(xtrain3['Hour']==2.0, 1,0)\n",
    "xtrain3['Hour3']=np.where(xtrain3['Hour']==3.0, 1,0)\n",
    "xtrain3['Hour4']=np.where(xtrain3['Hour']==4.0, 1,0)\n",
    "xtrain3['Hour5']=np.where(xtrain3['Hour']==5.0, 1,0)\n",
    "xtrain3['Hour6']=np.where(xtrain3['Hour']==6.0, 1,0)\n",
    "xtrain3['Hour7']=np.where(xtrain3['Hour']==7.0, 1,0)\n",
    "xtrain3['Hour8']=np.where(xtrain3['Hour']==8.0, 1,0)\n",
    "xtrain3['Hour9']=np.where(xtrain3['Hour']==9.0, 1,0)\n",
    "xtrain3['Hour10']=np.where(xtrain3['Hour']==10.0, 1,0)\n",
    "xtrain3['Hour11']=np.where(xtrain3['Hour']==11.0, 1,0)\n",
    "xtrain3['Hour12']=np.where(xtrain3['Hour']==12.0, 1,0)\n",
    "xtrain3['Hour13']=np.where(xtrain3['Hour']==13.0, 1,0)\n",
    "xtrain3['Hour14']=np.where(xtrain3['Hour']==14.0, 1,0)\n",
    "xtrain3['Hour15']=np.where(xtrain3['Hour']==15.0, 1,0)\n",
    "xtrain3['Hour16']=np.where(xtrain3['Hour']==16.0, 1,0)\n",
    "xtrain3['Hour17']=np.where(xtrain3['Hour']==17.0, 1,0)\n",
    "xtrain3['Hour18']=np.where(xtrain3['Hour']==18.0, 1,0)\n",
    "xtrain3['Hour19']=np.where(xtrain3['Hour']==19.0, 1,0)\n",
    "xtrain3['Hour20']=np.where(xtrain3['Hour']==20.0, 1,0)\n",
    "xtrain3['Hour21']=np.where(xtrain3['Hour']==21.0, 1,0)\n",
    "xtrain3['Hour22']=np.where(xtrain3['Hour']==22.0, 1,0)\n",
    "xtrain3['Hour23']=np.where(xtrain3['Hour']==23.0, 1,0)\n",
    "xtrain3['Hour24']=np.where(xtrain3['Hour']==24.0, 1,0)"
   ]
  },
  {
   "cell_type": "code",
   "execution_count": 20,
   "metadata": {
    "collapsed": false
   },
   "outputs": [],
   "source": [
    "xtrain1.drop('Month', axis = 1, inplace = True)\n",
    "xtrain2.drop('Month', axis = 1, inplace = True)\n",
    "xtrain3.drop('Month', axis = 1, inplace = True)\n",
    "\n",
    "xtrain1.drop('Hour', axis = 1, inplace = True)\n",
    "xtrain2.drop('Hour', axis = 1, inplace = True)\n",
    "xtrain3.drop('Hour', axis = 1, inplace = True)"
   ]
  },
  {
   "cell_type": "code",
   "execution_count": 21,
   "metadata": {
    "collapsed": true
   },
   "outputs": [],
   "source": [
    "y1 = xtrain1.pop('FF')\n",
    "y2 = xtrain2.pop('FF')\n",
    "y3 = xtrain3.pop('FF')"
   ]
  },
  {
   "cell_type": "code",
   "execution_count": 22,
   "metadata": {
    "collapsed": true
   },
   "outputs": [],
   "source": [
    "xgtrain1 = xgb.DMatrix(xtrain1, label = y1)"
   ]
  },
  {
   "cell_type": "code",
   "execution_count": 23,
   "metadata": {
    "collapsed": false
   },
   "outputs": [
    {
     "data": {
      "text/plain": [
       "322"
      ]
     },
     "execution_count": 23,
     "metadata": {},
     "output_type": "execute_result"
    }
   ],
   "source": [
    "del xtrain1\n",
    "gc.collect()"
   ]
  },
  {
   "cell_type": "code",
   "execution_count": 24,
   "metadata": {
    "collapsed": true
   },
   "outputs": [],
   "source": [
    "xgtrain2 = xgb.DMatrix(xtrain2, label = y2)"
   ]
  },
  {
   "cell_type": "code",
   "execution_count": 25,
   "metadata": {
    "collapsed": false
   },
   "outputs": [
    {
     "data": {
      "text/plain": [
       "7"
      ]
     },
     "execution_count": 25,
     "metadata": {},
     "output_type": "execute_result"
    }
   ],
   "source": [
    "del xtrain2\n",
    "gc.collect()"
   ]
  },
  {
   "cell_type": "code",
   "execution_count": 26,
   "metadata": {
    "collapsed": true
   },
   "outputs": [],
   "source": [
    "xgtrain3 = xgb.DMatrix(xtrain3, label = y3)"
   ]
  },
  {
   "cell_type": "code",
   "execution_count": 27,
   "metadata": {
    "collapsed": false
   },
   "outputs": [
    {
     "data": {
      "text/plain": [
       "7"
      ]
     },
     "execution_count": 27,
     "metadata": {},
     "output_type": "execute_result"
    }
   ],
   "source": [
    "del xtrain3\n",
    "gc.collect()"
   ]
  },
  {
   "cell_type": "markdown",
   "metadata": {},
   "source": [
    "<H3>Train the model</H3>"
   ]
  },
  {
   "cell_type": "code",
   "execution_count": 28,
   "metadata": {
    "collapsed": false
   },
   "outputs": [
    {
     "name": "stdout",
     "output_type": "stream",
     "text": [
      "[0]\ttrain-rmse:2845.23\teval-rmse:2840.84\n",
      "Multiple eval metrics have been passed: 'eval-rmse' will be used for early stopping.\n",
      "\n",
      "Will train until eval-rmse hasn't improved in 10 rounds.\n",
      "[1]\ttrain-rmse:2565.6\teval-rmse:2561.65\n",
      "[2]\ttrain-rmse:2314.38\teval-rmse:2310.86\n",
      "[3]\ttrain-rmse:2088.36\teval-rmse:2085.21\n",
      "[4]\ttrain-rmse:1885.25\teval-rmse:1882.48\n",
      "[5]\ttrain-rmse:1702.64\teval-rmse:1700.2\n",
      "[6]\ttrain-rmse:1538.62\teval-rmse:1536.42\n",
      "[7]\ttrain-rmse:1391.34\teval-rmse:1389.47\n",
      "[8]\ttrain-rmse:1259.04\teval-rmse:1257.43\n",
      "[9]\ttrain-rmse:1140.01\teval-rmse:1138.76\n",
      "[10]\ttrain-rmse:1033.55\teval-rmse:1032.58\n",
      "[11]\ttrain-rmse:938.374\teval-rmse:937.705\n",
      "[12]\ttrain-rmse:852.662\teval-rmse:852.279\n",
      "[13]\ttrain-rmse:775.74\teval-rmse:775.701\n",
      "[14]\ttrain-rmse:707.089\teval-rmse:707.376\n",
      "[15]\ttrain-rmse:645.564\teval-rmse:646.173\n",
      "[16]\ttrain-rmse:590.893\teval-rmse:591.863\n",
      "[17]\ttrain-rmse:542.215\teval-rmse:543.503\n",
      "[18]\ttrain-rmse:499.029\teval-rmse:500.62\n",
      "[19]\ttrain-rmse:460.941\teval-rmse:462.82\n",
      "[20]\ttrain-rmse:426.315\teval-rmse:428.6\n",
      "[21]\ttrain-rmse:396.32\teval-rmse:398.964\n",
      "[22]\ttrain-rmse:370.061\teval-rmse:373.053\n",
      "[23]\ttrain-rmse:346.874\teval-rmse:350.234\n",
      "[24]\ttrain-rmse:326.274\teval-rmse:330.052\n",
      "[25]\ttrain-rmse:308.525\teval-rmse:312.673\n",
      "[26]\ttrain-rmse:293.101\teval-rmse:297.577\n",
      "[27]\ttrain-rmse:279.425\teval-rmse:284.235\n",
      "[28]\ttrain-rmse:267.712\teval-rmse:272.816\n",
      "[29]\ttrain-rmse:257.744\teval-rmse:263.192\n",
      "[30]\ttrain-rmse:248.565\teval-rmse:254.321\n",
      "[31]\ttrain-rmse:240.842\teval-rmse:246.838\n",
      "[32]\ttrain-rmse:233.768\teval-rmse:240.069\n",
      "[33]\ttrain-rmse:227.764\teval-rmse:234.291\n",
      "[34]\ttrain-rmse:222.809\teval-rmse:229.6\n",
      "[35]\ttrain-rmse:218.106\teval-rmse:225.087\n",
      "[36]\ttrain-rmse:213.676\teval-rmse:220.863\n",
      "[37]\ttrain-rmse:209.336\teval-rmse:216.688\n",
      "[38]\ttrain-rmse:206.214\teval-rmse:213.73\n",
      "[39]\ttrain-rmse:202.791\teval-rmse:210.514\n",
      "[40]\ttrain-rmse:200.163\teval-rmse:207.994\n",
      "[41]\ttrain-rmse:197.675\teval-rmse:205.687\n",
      "[42]\ttrain-rmse:195.424\teval-rmse:203.523\n",
      "[43]\ttrain-rmse:193.555\teval-rmse:201.786\n",
      "[44]\ttrain-rmse:191.421\teval-rmse:199.833\n",
      "[45]\ttrain-rmse:189.726\teval-rmse:198.237\n",
      "[46]\ttrain-rmse:188.057\teval-rmse:196.689\n",
      "[47]\ttrain-rmse:186.622\teval-rmse:195.36\n",
      "[48]\ttrain-rmse:185.274\teval-rmse:194.131\n",
      "[49]\ttrain-rmse:183.563\teval-rmse:192.513\n",
      "[50]\ttrain-rmse:182.505\teval-rmse:191.537\n",
      "[51]\ttrain-rmse:181.46\teval-rmse:190.567\n",
      "[52]\ttrain-rmse:180.617\teval-rmse:189.817\n",
      "[53]\ttrain-rmse:179.675\teval-rmse:188.96\n",
      "[54]\ttrain-rmse:178.393\teval-rmse:187.799\n",
      "[55]\ttrain-rmse:177.343\teval-rmse:186.811\n",
      "[56]\ttrain-rmse:176.484\teval-rmse:186.035\n",
      "[57]\ttrain-rmse:175.618\teval-rmse:185.286\n",
      "[58]\ttrain-rmse:174.439\teval-rmse:184.223\n",
      "[59]\ttrain-rmse:173.824\teval-rmse:183.656\n",
      "[60]\ttrain-rmse:173.137\teval-rmse:183.039\n",
      "[61]\ttrain-rmse:172.523\teval-rmse:182.484\n",
      "[62]\ttrain-rmse:171.239\teval-rmse:181.303\n",
      "[63]\ttrain-rmse:170.191\teval-rmse:180.339\n",
      "[64]\ttrain-rmse:169.668\teval-rmse:179.871\n",
      "[65]\ttrain-rmse:169.096\teval-rmse:179.342\n",
      "[66]\ttrain-rmse:168.588\teval-rmse:178.918\n",
      "[67]\ttrain-rmse:168.06\teval-rmse:178.5\n",
      "[68]\ttrain-rmse:167.206\teval-rmse:177.733\n",
      "[69]\ttrain-rmse:166.819\teval-rmse:177.421\n",
      "[70]\ttrain-rmse:166.404\teval-rmse:177.068\n",
      "[71]\ttrain-rmse:165.538\teval-rmse:176.318\n",
      "[72]\ttrain-rmse:165.172\teval-rmse:175.983\n",
      "[73]\ttrain-rmse:164.569\teval-rmse:175.432\n",
      "[74]\ttrain-rmse:164.259\teval-rmse:175.17\n",
      "[75]\ttrain-rmse:163.512\teval-rmse:174.49\n",
      "[76]\ttrain-rmse:163.117\teval-rmse:174.162\n",
      "[77]\ttrain-rmse:162.62\teval-rmse:173.735\n",
      "[78]\ttrain-rmse:162.301\teval-rmse:173.448\n",
      "[79]\ttrain-rmse:161.504\teval-rmse:172.703\n",
      "[80]\ttrain-rmse:161.038\teval-rmse:172.284\n",
      "[81]\ttrain-rmse:160.199\teval-rmse:171.534\n",
      "[82]\ttrain-rmse:159.676\teval-rmse:171.05\n",
      "[83]\ttrain-rmse:159.403\teval-rmse:170.836\n",
      "[84]\ttrain-rmse:158.835\teval-rmse:170.331\n",
      "[85]\ttrain-rmse:158.319\teval-rmse:169.876\n",
      "[86]\ttrain-rmse:157.944\teval-rmse:169.575\n",
      "[87]\ttrain-rmse:157.493\teval-rmse:169.164\n",
      "[88]\ttrain-rmse:157.048\teval-rmse:168.797\n",
      "[89]\ttrain-rmse:156.31\teval-rmse:168.196\n",
      "[90]\ttrain-rmse:155.688\teval-rmse:167.637\n",
      "[91]\ttrain-rmse:155.187\teval-rmse:167.205\n",
      "[92]\ttrain-rmse:154.944\teval-rmse:166.993\n",
      "[93]\ttrain-rmse:154.522\teval-rmse:166.667\n",
      "[94]\ttrain-rmse:153.983\teval-rmse:166.203\n",
      "[95]\ttrain-rmse:153.737\teval-rmse:166.008\n",
      "[96]\ttrain-rmse:153.441\teval-rmse:165.762\n",
      "[97]\ttrain-rmse:152.96\teval-rmse:165.333\n",
      "[98]\ttrain-rmse:152.691\teval-rmse:165.098\n",
      "[99]\ttrain-rmse:152.084\teval-rmse:164.551\n",
      "[100]\ttrain-rmse:151.907\teval-rmse:164.404\n",
      "[101]\ttrain-rmse:151.296\teval-rmse:163.896\n",
      "[102]\ttrain-rmse:151.018\teval-rmse:163.666\n",
      "[103]\ttrain-rmse:150.55\teval-rmse:163.242\n",
      "[104]\ttrain-rmse:150.212\teval-rmse:162.932\n",
      "[105]\ttrain-rmse:149.751\teval-rmse:162.58\n",
      "[106]\ttrain-rmse:149.324\teval-rmse:162.221\n",
      "[107]\ttrain-rmse:148.806\teval-rmse:161.742\n",
      "[108]\ttrain-rmse:148.4\teval-rmse:161.419\n",
      "[109]\ttrain-rmse:147.902\teval-rmse:160.997\n",
      "[110]\ttrain-rmse:147.569\teval-rmse:160.752\n",
      "[111]\ttrain-rmse:147.354\teval-rmse:160.557\n",
      "[112]\ttrain-rmse:146.738\teval-rmse:160.008\n",
      "[113]\ttrain-rmse:146.314\teval-rmse:159.62\n",
      "[114]\ttrain-rmse:145.994\teval-rmse:159.327\n",
      "[115]\ttrain-rmse:145.672\teval-rmse:159.085\n",
      "[116]\ttrain-rmse:145.451\teval-rmse:158.886\n",
      "[117]\ttrain-rmse:144.939\teval-rmse:158.475\n",
      "[118]\ttrain-rmse:144.573\teval-rmse:158.147\n",
      "[119]\ttrain-rmse:144.199\teval-rmse:157.823\n",
      "[120]\ttrain-rmse:143.937\teval-rmse:157.615\n",
      "[121]\ttrain-rmse:143.603\teval-rmse:157.35\n",
      "[122]\ttrain-rmse:143.233\teval-rmse:157.047\n",
      "[123]\ttrain-rmse:142.944\teval-rmse:156.821\n",
      "[124]\ttrain-rmse:142.612\teval-rmse:156.578\n",
      "[125]\ttrain-rmse:142.198\teval-rmse:156.207\n",
      "[126]\ttrain-rmse:141.983\teval-rmse:156.019\n",
      "[127]\ttrain-rmse:141.541\teval-rmse:155.63\n",
      "[128]\ttrain-rmse:141.253\teval-rmse:155.407\n",
      "[129]\ttrain-rmse:141.049\teval-rmse:155.252\n",
      "[130]\ttrain-rmse:140.803\teval-rmse:155.048\n",
      "[131]\ttrain-rmse:140.538\teval-rmse:154.821\n",
      "[132]\ttrain-rmse:140.058\teval-rmse:154.42\n",
      "[133]\ttrain-rmse:139.797\teval-rmse:154.244\n",
      "[134]\ttrain-rmse:139.434\teval-rmse:153.933\n",
      "[135]\ttrain-rmse:138.966\teval-rmse:153.516\n",
      "[136]\ttrain-rmse:138.676\teval-rmse:153.289\n",
      "[137]\ttrain-rmse:138.354\teval-rmse:153.024\n",
      "[138]\ttrain-rmse:138.108\teval-rmse:152.837\n",
      "[139]\ttrain-rmse:137.669\teval-rmse:152.473\n",
      "[140]\ttrain-rmse:137.211\teval-rmse:152.086\n",
      "[141]\ttrain-rmse:136.91\teval-rmse:151.842\n",
      "[142]\ttrain-rmse:136.642\teval-rmse:151.619\n",
      "[143]\ttrain-rmse:136.439\teval-rmse:151.446\n",
      "[144]\ttrain-rmse:136.183\teval-rmse:151.226\n",
      "[145]\ttrain-rmse:135.976\teval-rmse:151.044\n",
      "[146]\ttrain-rmse:135.644\teval-rmse:150.777\n",
      "[147]\ttrain-rmse:135.326\teval-rmse:150.528\n",
      "[148]\ttrain-rmse:135.084\teval-rmse:150.31\n",
      "[149]\ttrain-rmse:134.824\teval-rmse:150.092\n",
      "[150]\ttrain-rmse:134.549\teval-rmse:149.869\n",
      "[151]\ttrain-rmse:134.445\teval-rmse:149.798\n",
      "[152]\ttrain-rmse:134.236\teval-rmse:149.631\n",
      "[153]\ttrain-rmse:134.045\teval-rmse:149.48\n",
      "[154]\ttrain-rmse:133.747\teval-rmse:149.228\n",
      "[155]\ttrain-rmse:133.506\teval-rmse:149.017\n",
      "[156]\ttrain-rmse:133.292\teval-rmse:148.837\n",
      "[157]\ttrain-rmse:133.081\teval-rmse:148.651\n",
      "[158]\ttrain-rmse:132.759\teval-rmse:148.369\n",
      "[159]\ttrain-rmse:132.526\teval-rmse:148.202\n",
      "[160]\ttrain-rmse:132.236\teval-rmse:147.943\n",
      "[161]\ttrain-rmse:131.967\teval-rmse:147.732\n",
      "[162]\ttrain-rmse:131.783\teval-rmse:147.59\n",
      "[163]\ttrain-rmse:131.485\teval-rmse:147.339\n",
      "[164]\ttrain-rmse:131.384\teval-rmse:147.262\n",
      "[165]\ttrain-rmse:131.269\teval-rmse:147.164\n",
      "[166]\ttrain-rmse:130.975\teval-rmse:146.9\n",
      "[167]\ttrain-rmse:130.704\teval-rmse:146.68\n",
      "[168]\ttrain-rmse:130.473\teval-rmse:146.497\n",
      "[169]\ttrain-rmse:130.191\teval-rmse:146.267\n",
      "[170]\ttrain-rmse:129.967\teval-rmse:146.1\n",
      "[171]\ttrain-rmse:129.817\teval-rmse:145.972\n",
      "[172]\ttrain-rmse:129.618\teval-rmse:145.826\n",
      "[173]\ttrain-rmse:129.455\teval-rmse:145.71\n",
      "[174]\ttrain-rmse:129.299\teval-rmse:145.573\n",
      "[175]\ttrain-rmse:129.07\teval-rmse:145.397\n",
      "[176]\ttrain-rmse:128.835\teval-rmse:145.199\n",
      "[177]\ttrain-rmse:128.512\teval-rmse:144.897\n",
      "[178]\ttrain-rmse:128.314\teval-rmse:144.744\n",
      "[179]\ttrain-rmse:128.081\teval-rmse:144.571\n",
      "[180]\ttrain-rmse:127.904\teval-rmse:144.454\n",
      "[181]\ttrain-rmse:127.678\teval-rmse:144.279\n",
      "[182]\ttrain-rmse:127.386\teval-rmse:144.025\n",
      "[183]\ttrain-rmse:127.202\teval-rmse:143.877\n",
      "[184]\ttrain-rmse:127.116\teval-rmse:143.803\n",
      "[185]\ttrain-rmse:126.913\teval-rmse:143.64\n",
      "[186]\ttrain-rmse:126.691\teval-rmse:143.455\n",
      "[187]\ttrain-rmse:126.449\teval-rmse:143.259\n",
      "[188]\ttrain-rmse:126.184\teval-rmse:143.043\n",
      "[189]\ttrain-rmse:126.005\teval-rmse:142.905\n",
      "[190]\ttrain-rmse:125.806\teval-rmse:142.745\n",
      "[191]\ttrain-rmse:125.57\teval-rmse:142.551\n",
      "[192]\ttrain-rmse:125.422\teval-rmse:142.446\n",
      "[193]\ttrain-rmse:125.258\teval-rmse:142.299\n",
      "[194]\ttrain-rmse:125.115\teval-rmse:142.182\n",
      "[195]\ttrain-rmse:124.816\teval-rmse:141.926\n",
      "[196]\ttrain-rmse:124.645\teval-rmse:141.795\n",
      "[197]\ttrain-rmse:124.38\teval-rmse:141.569\n",
      "[198]\ttrain-rmse:124.226\teval-rmse:141.45\n",
      "[199]\ttrain-rmse:123.926\teval-rmse:141.208\n",
      "[200]\ttrain-rmse:123.726\teval-rmse:141.029\n",
      "[201]\ttrain-rmse:123.459\teval-rmse:140.786\n",
      "[202]\ttrain-rmse:123.299\teval-rmse:140.66\n",
      "[203]\ttrain-rmse:123.198\teval-rmse:140.575\n",
      "[204]\ttrain-rmse:122.996\teval-rmse:140.424\n",
      "[205]\ttrain-rmse:122.759\teval-rmse:140.226\n",
      "[206]\ttrain-rmse:122.57\teval-rmse:140.097\n",
      "[207]\ttrain-rmse:122.345\teval-rmse:139.921\n",
      "[208]\ttrain-rmse:122.147\teval-rmse:139.764\n",
      "[209]\ttrain-rmse:121.952\teval-rmse:139.61\n",
      "[210]\ttrain-rmse:121.702\teval-rmse:139.411\n",
      "[211]\ttrain-rmse:121.542\teval-rmse:139.301\n",
      "[212]\ttrain-rmse:121.399\teval-rmse:139.209\n",
      "[213]\ttrain-rmse:121.286\teval-rmse:139.132\n",
      "[214]\ttrain-rmse:121.093\teval-rmse:138.98\n",
      "[215]\ttrain-rmse:120.953\teval-rmse:138.876\n",
      "[216]\ttrain-rmse:120.776\teval-rmse:138.742\n",
      "[217]\ttrain-rmse:120.549\teval-rmse:138.559\n",
      "[218]\ttrain-rmse:120.321\teval-rmse:138.365\n",
      "[219]\ttrain-rmse:120.083\teval-rmse:138.173\n",
      "[220]\ttrain-rmse:119.937\teval-rmse:138.057\n",
      "[221]\ttrain-rmse:119.725\teval-rmse:137.896\n",
      "[222]\ttrain-rmse:119.566\teval-rmse:137.775\n",
      "[223]\ttrain-rmse:119.412\teval-rmse:137.673\n",
      "[224]\ttrain-rmse:119.343\teval-rmse:137.622\n",
      "[225]\ttrain-rmse:119.247\teval-rmse:137.552\n",
      "[226]\ttrain-rmse:119.174\teval-rmse:137.498\n",
      "[227]\ttrain-rmse:119.029\teval-rmse:137.391\n",
      "[228]\ttrain-rmse:118.84\teval-rmse:137.241\n",
      "[229]\ttrain-rmse:118.681\teval-rmse:137.112\n",
      "[230]\ttrain-rmse:118.544\teval-rmse:137.007\n",
      "[231]\ttrain-rmse:118.398\teval-rmse:136.881\n",
      "[232]\ttrain-rmse:118.152\teval-rmse:136.679\n",
      "[233]\ttrain-rmse:118.003\teval-rmse:136.568\n",
      "[234]\ttrain-rmse:117.853\teval-rmse:136.457\n",
      "[235]\ttrain-rmse:117.713\teval-rmse:136.361\n",
      "[236]\ttrain-rmse:117.569\teval-rmse:136.242\n",
      "[237]\ttrain-rmse:117.344\teval-rmse:136.067\n",
      "[238]\ttrain-rmse:117.263\teval-rmse:136.002\n",
      "[239]\ttrain-rmse:117.115\teval-rmse:135.902\n",
      "[240]\ttrain-rmse:116.977\teval-rmse:135.807\n",
      "[241]\ttrain-rmse:116.782\teval-rmse:135.645\n",
      "[242]\ttrain-rmse:116.596\teval-rmse:135.482\n",
      "[243]\ttrain-rmse:116.492\teval-rmse:135.401\n",
      "[244]\ttrain-rmse:116.361\teval-rmse:135.299\n",
      "[245]\ttrain-rmse:116.247\teval-rmse:135.205\n",
      "[246]\ttrain-rmse:116.025\teval-rmse:135.027\n",
      "[247]\ttrain-rmse:115.96\teval-rmse:134.977\n",
      "[248]\ttrain-rmse:115.837\teval-rmse:134.896\n",
      "[249]\ttrain-rmse:115.746\teval-rmse:134.822\n",
      "[250]\ttrain-rmse:115.603\teval-rmse:134.714\n",
      "[251]\ttrain-rmse:115.477\teval-rmse:134.635\n",
      "[252]\ttrain-rmse:115.341\teval-rmse:134.522\n",
      "[253]\ttrain-rmse:115.23\teval-rmse:134.442\n",
      "[254]\ttrain-rmse:115.052\teval-rmse:134.314\n",
      "[255]\ttrain-rmse:114.88\teval-rmse:134.183\n",
      "[256]\ttrain-rmse:114.774\teval-rmse:134.1\n",
      "[257]\ttrain-rmse:114.644\teval-rmse:134\n",
      "[258]\ttrain-rmse:114.516\teval-rmse:133.908\n",
      "[259]\ttrain-rmse:114.363\teval-rmse:133.805\n",
      "[260]\ttrain-rmse:114.222\teval-rmse:133.699\n",
      "[261]\ttrain-rmse:114.137\teval-rmse:133.646\n",
      "[262]\ttrain-rmse:113.998\teval-rmse:133.548\n",
      "[263]\ttrain-rmse:113.93\teval-rmse:133.499\n",
      "[264]\ttrain-rmse:113.781\teval-rmse:133.382\n",
      "[265]\ttrain-rmse:113.585\teval-rmse:133.229\n",
      "[266]\ttrain-rmse:113.406\teval-rmse:133.089\n",
      "[267]\ttrain-rmse:113.248\teval-rmse:132.972\n",
      "[268]\ttrain-rmse:113.116\teval-rmse:132.874\n",
      "[269]\ttrain-rmse:113.027\teval-rmse:132.803\n",
      "[270]\ttrain-rmse:112.914\teval-rmse:132.711\n",
      "[271]\ttrain-rmse:112.823\teval-rmse:132.639\n",
      "[272]\ttrain-rmse:112.659\teval-rmse:132.526\n",
      "[273]\ttrain-rmse:112.551\teval-rmse:132.458\n",
      "[274]\ttrain-rmse:112.439\teval-rmse:132.384\n",
      "[275]\ttrain-rmse:112.313\teval-rmse:132.291\n",
      "[276]\ttrain-rmse:112.246\teval-rmse:132.241\n",
      "[277]\ttrain-rmse:112.136\teval-rmse:132.173\n",
      "[278]\ttrain-rmse:112.043\teval-rmse:132.115\n",
      "[279]\ttrain-rmse:111.948\teval-rmse:132.058\n",
      "[280]\ttrain-rmse:111.784\teval-rmse:131.919\n",
      "[281]\ttrain-rmse:111.652\teval-rmse:131.835\n",
      "[282]\ttrain-rmse:111.496\teval-rmse:131.713\n",
      "[283]\ttrain-rmse:111.344\teval-rmse:131.605\n",
      "[284]\ttrain-rmse:111.171\teval-rmse:131.474\n",
      "[285]\ttrain-rmse:111.077\teval-rmse:131.404\n",
      "[286]\ttrain-rmse:111.035\teval-rmse:131.379\n",
      "[287]\ttrain-rmse:110.99\teval-rmse:131.345\n",
      "[288]\ttrain-rmse:110.887\teval-rmse:131.278\n",
      "[289]\ttrain-rmse:110.682\teval-rmse:131.115\n",
      "[290]\ttrain-rmse:110.596\teval-rmse:131.047\n",
      "[291]\ttrain-rmse:110.474\teval-rmse:130.959\n",
      "[292]\ttrain-rmse:110.259\teval-rmse:130.774\n",
      "[293]\ttrain-rmse:110.071\teval-rmse:130.625\n",
      "[294]\ttrain-rmse:109.984\teval-rmse:130.569\n",
      "[295]\ttrain-rmse:109.862\teval-rmse:130.479\n",
      "[296]\ttrain-rmse:109.741\teval-rmse:130.398\n",
      "[297]\ttrain-rmse:109.606\teval-rmse:130.295\n",
      "[298]\ttrain-rmse:109.52\teval-rmse:130.245\n",
      "[299]\ttrain-rmse:109.379\teval-rmse:130.148\n",
      "[300]\ttrain-rmse:109.255\teval-rmse:130.065\n",
      "[301]\ttrain-rmse:109.167\teval-rmse:129.995\n",
      "[302]\ttrain-rmse:109.096\teval-rmse:129.946\n",
      "[303]\ttrain-rmse:108.975\teval-rmse:129.849\n",
      "[304]\ttrain-rmse:108.914\teval-rmse:129.796\n",
      "[305]\ttrain-rmse:108.75\teval-rmse:129.681\n",
      "[306]\ttrain-rmse:108.621\teval-rmse:129.581\n",
      "[307]\ttrain-rmse:108.492\teval-rmse:129.493\n",
      "[308]\ttrain-rmse:108.392\teval-rmse:129.43\n",
      "[309]\ttrain-rmse:108.26\teval-rmse:129.332\n",
      "[310]\ttrain-rmse:108.175\teval-rmse:129.269\n",
      "[311]\ttrain-rmse:108.061\teval-rmse:129.186\n",
      "[312]\ttrain-rmse:107.947\teval-rmse:129.107\n",
      "[313]\ttrain-rmse:107.845\teval-rmse:129.033\n",
      "[314]\ttrain-rmse:107.773\teval-rmse:128.986\n",
      "[315]\ttrain-rmse:107.718\teval-rmse:128.943\n",
      "[316]\ttrain-rmse:107.593\teval-rmse:128.855\n",
      "[317]\ttrain-rmse:107.528\teval-rmse:128.812\n",
      "[318]\ttrain-rmse:107.381\teval-rmse:128.705\n",
      "[319]\ttrain-rmse:107.259\teval-rmse:128.613\n",
      "[320]\ttrain-rmse:107.095\teval-rmse:128.491\n",
      "[321]\ttrain-rmse:107.029\teval-rmse:128.455\n",
      "[322]\ttrain-rmse:106.886\teval-rmse:128.352\n",
      "[323]\ttrain-rmse:106.788\teval-rmse:128.277\n",
      "[324]\ttrain-rmse:106.683\teval-rmse:128.193\n",
      "[325]\ttrain-rmse:106.539\teval-rmse:128.094\n",
      "[326]\ttrain-rmse:106.496\teval-rmse:128.065\n",
      "[327]\ttrain-rmse:106.468\teval-rmse:128.048\n",
      "[328]\ttrain-rmse:106.299\teval-rmse:127.914\n",
      "[329]\ttrain-rmse:106.197\teval-rmse:127.842\n",
      "[330]\ttrain-rmse:106.083\teval-rmse:127.768\n",
      "[331]\ttrain-rmse:106.01\teval-rmse:127.719\n",
      "[332]\ttrain-rmse:105.931\teval-rmse:127.657\n",
      "[333]\ttrain-rmse:105.843\teval-rmse:127.616\n",
      "[334]\ttrain-rmse:105.779\teval-rmse:127.564\n",
      "[335]\ttrain-rmse:105.713\teval-rmse:127.524\n",
      "[336]\ttrain-rmse:105.635\teval-rmse:127.47\n",
      "[337]\ttrain-rmse:105.568\teval-rmse:127.427\n",
      "[338]\ttrain-rmse:105.473\teval-rmse:127.353\n",
      "[339]\ttrain-rmse:105.349\teval-rmse:127.267\n",
      "[340]\ttrain-rmse:105.204\teval-rmse:127.169\n",
      "[341]\ttrain-rmse:105.108\teval-rmse:127.105\n",
      "[342]\ttrain-rmse:105.028\teval-rmse:127.047\n",
      "[343]\ttrain-rmse:104.888\teval-rmse:126.95\n",
      "[344]\ttrain-rmse:104.849\teval-rmse:126.931\n",
      "[345]\ttrain-rmse:104.721\teval-rmse:126.827\n",
      "[346]\ttrain-rmse:104.621\teval-rmse:126.753\n",
      "[347]\ttrain-rmse:104.455\teval-rmse:126.614\n",
      "[348]\ttrain-rmse:104.401\teval-rmse:126.572\n",
      "[349]\ttrain-rmse:104.297\teval-rmse:126.494\n",
      "[350]\ttrain-rmse:104.27\teval-rmse:126.474\n",
      "[351]\ttrain-rmse:104.223\teval-rmse:126.444\n",
      "[352]\ttrain-rmse:104.133\teval-rmse:126.375\n",
      "[353]\ttrain-rmse:104.027\teval-rmse:126.302\n",
      "[354]\ttrain-rmse:103.914\teval-rmse:126.21\n",
      "[355]\ttrain-rmse:103.864\teval-rmse:126.173\n",
      "[356]\ttrain-rmse:103.783\teval-rmse:126.111\n",
      "[357]\ttrain-rmse:103.699\teval-rmse:126.054\n",
      "[358]\ttrain-rmse:103.585\teval-rmse:125.975\n",
      "[359]\ttrain-rmse:103.509\teval-rmse:125.93\n",
      "[360]\ttrain-rmse:103.404\teval-rmse:125.864\n",
      "[361]\ttrain-rmse:103.301\teval-rmse:125.786\n",
      "[362]\ttrain-rmse:103.184\teval-rmse:125.707\n",
      "[363]\ttrain-rmse:103.096\teval-rmse:125.64\n",
      "[364]\ttrain-rmse:103.051\teval-rmse:125.614\n",
      "[365]\ttrain-rmse:103.013\teval-rmse:125.59\n",
      "[366]\ttrain-rmse:102.877\teval-rmse:125.485\n",
      "[367]\ttrain-rmse:102.788\teval-rmse:125.428\n",
      "[368]\ttrain-rmse:102.7\teval-rmse:125.37\n",
      "[369]\ttrain-rmse:102.524\teval-rmse:125.218\n",
      "[370]\ttrain-rmse:102.439\teval-rmse:125.163\n",
      "[371]\ttrain-rmse:102.381\teval-rmse:125.137\n",
      "[372]\ttrain-rmse:102.299\teval-rmse:125.086\n",
      "[373]\ttrain-rmse:102.228\teval-rmse:125.045\n",
      "[374]\ttrain-rmse:102.111\teval-rmse:124.949\n",
      "[375]\ttrain-rmse:101.983\teval-rmse:124.855\n",
      "[376]\ttrain-rmse:101.895\teval-rmse:124.787\n",
      "[377]\ttrain-rmse:101.836\teval-rmse:124.746\n",
      "[378]\ttrain-rmse:101.732\teval-rmse:124.664\n",
      "[379]\ttrain-rmse:101.673\teval-rmse:124.616\n",
      "[380]\ttrain-rmse:101.588\teval-rmse:124.553\n",
      "[381]\ttrain-rmse:101.528\teval-rmse:124.514\n",
      "[382]\ttrain-rmse:101.433\teval-rmse:124.445\n",
      "[383]\ttrain-rmse:101.369\teval-rmse:124.393\n",
      "[384]\ttrain-rmse:101.301\teval-rmse:124.356\n",
      "[385]\ttrain-rmse:101.221\teval-rmse:124.297\n",
      "[386]\ttrain-rmse:101.162\teval-rmse:124.256\n",
      "[387]\ttrain-rmse:101.058\teval-rmse:124.191\n",
      "[388]\ttrain-rmse:101.002\teval-rmse:124.157\n",
      "[389]\ttrain-rmse:100.895\teval-rmse:124.078\n",
      "[390]\ttrain-rmse:100.824\teval-rmse:124.034\n",
      "[391]\ttrain-rmse:100.763\teval-rmse:123.99\n",
      "[392]\ttrain-rmse:100.678\teval-rmse:123.932\n",
      "[393]\ttrain-rmse:100.632\teval-rmse:123.9\n",
      "[394]\ttrain-rmse:100.6\teval-rmse:123.871\n",
      "[395]\ttrain-rmse:100.485\teval-rmse:123.792\n",
      "[396]\ttrain-rmse:100.44\teval-rmse:123.773\n",
      "[397]\ttrain-rmse:100.38\teval-rmse:123.74\n",
      "[398]\ttrain-rmse:100.279\teval-rmse:123.676\n",
      "[399]\ttrain-rmse:100.251\teval-rmse:123.662\n",
      "[400]\ttrain-rmse:100.199\teval-rmse:123.622\n",
      "[401]\ttrain-rmse:100.095\teval-rmse:123.555\n",
      "[402]\ttrain-rmse:100.028\teval-rmse:123.512\n",
      "[403]\ttrain-rmse:99.9018\teval-rmse:123.414\n",
      "[404]\ttrain-rmse:99.8346\teval-rmse:123.368\n",
      "[405]\ttrain-rmse:99.7776\teval-rmse:123.337\n",
      "[406]\ttrain-rmse:99.6756\teval-rmse:123.26\n",
      "[407]\ttrain-rmse:99.6128\teval-rmse:123.21\n",
      "[408]\ttrain-rmse:99.5235\teval-rmse:123.15\n",
      "[409]\ttrain-rmse:99.462\teval-rmse:123.106\n",
      "[410]\ttrain-rmse:99.3884\teval-rmse:123.07\n",
      "[411]\ttrain-rmse:99.3093\teval-rmse:123.013\n",
      "[412]\ttrain-rmse:99.2213\teval-rmse:122.952\n",
      "[413]\ttrain-rmse:99.1221\teval-rmse:122.881\n",
      "[414]\ttrain-rmse:99.0103\teval-rmse:122.797\n",
      "[415]\ttrain-rmse:98.902\teval-rmse:122.716\n",
      "[416]\ttrain-rmse:98.8394\teval-rmse:122.67\n",
      "[417]\ttrain-rmse:98.7541\teval-rmse:122.615\n",
      "[418]\ttrain-rmse:98.6603\teval-rmse:122.551\n",
      "[419]\ttrain-rmse:98.5695\teval-rmse:122.498\n",
      "[420]\ttrain-rmse:98.4755\teval-rmse:122.442\n",
      "[421]\ttrain-rmse:98.3973\teval-rmse:122.393\n",
      "[422]\ttrain-rmse:98.314\teval-rmse:122.339\n",
      "[423]\ttrain-rmse:98.2743\teval-rmse:122.313\n",
      "[424]\ttrain-rmse:98.2125\teval-rmse:122.277\n",
      "[425]\ttrain-rmse:98.043\teval-rmse:122.147\n",
      "[426]\ttrain-rmse:97.9733\teval-rmse:122.099\n",
      "[427]\ttrain-rmse:97.8971\teval-rmse:122.049\n",
      "[428]\ttrain-rmse:97.8041\teval-rmse:121.992\n",
      "[429]\ttrain-rmse:97.7153\teval-rmse:121.927\n",
      "[430]\ttrain-rmse:97.6305\teval-rmse:121.873\n",
      "[431]\ttrain-rmse:97.53\teval-rmse:121.809\n",
      "[432]\ttrain-rmse:97.4675\teval-rmse:121.771\n",
      "[433]\ttrain-rmse:97.4144\teval-rmse:121.74\n",
      "[434]\ttrain-rmse:97.341\teval-rmse:121.692\n",
      "[435]\ttrain-rmse:97.2512\teval-rmse:121.626\n",
      "[436]\ttrain-rmse:97.1878\teval-rmse:121.581\n",
      "[437]\ttrain-rmse:97.1427\teval-rmse:121.556\n",
      "[438]\ttrain-rmse:97.0715\teval-rmse:121.505\n",
      "[439]\ttrain-rmse:97.0137\teval-rmse:121.474\n",
      "[440]\ttrain-rmse:96.9541\teval-rmse:121.439\n",
      "[441]\ttrain-rmse:96.8928\teval-rmse:121.396\n",
      "[442]\ttrain-rmse:96.7986\teval-rmse:121.32\n",
      "[443]\ttrain-rmse:96.7644\teval-rmse:121.311\n",
      "[444]\ttrain-rmse:96.6935\teval-rmse:121.27\n",
      "[445]\ttrain-rmse:96.5478\teval-rmse:121.156\n",
      "[446]\ttrain-rmse:96.4837\teval-rmse:121.118\n",
      "[447]\ttrain-rmse:96.3969\teval-rmse:121.066\n",
      "[448]\ttrain-rmse:96.3466\teval-rmse:121.034\n",
      "[449]\ttrain-rmse:96.2791\teval-rmse:120.981\n",
      "[450]\ttrain-rmse:96.1653\teval-rmse:120.891\n",
      "[451]\ttrain-rmse:96.1026\teval-rmse:120.852\n",
      "[452]\ttrain-rmse:96.0161\teval-rmse:120.799\n",
      "[453]\ttrain-rmse:95.9396\teval-rmse:120.746\n",
      "[454]\ttrain-rmse:95.8522\teval-rmse:120.684\n",
      "[455]\ttrain-rmse:95.7836\teval-rmse:120.644\n",
      "[456]\ttrain-rmse:95.7152\teval-rmse:120.594\n",
      "[457]\ttrain-rmse:95.6436\teval-rmse:120.541\n",
      "[458]\ttrain-rmse:95.5831\teval-rmse:120.503\n",
      "[459]\ttrain-rmse:95.5125\teval-rmse:120.45\n",
      "[460]\ttrain-rmse:95.416\teval-rmse:120.386\n",
      "[461]\ttrain-rmse:95.3802\teval-rmse:120.37\n",
      "[462]\ttrain-rmse:95.2776\teval-rmse:120.293\n",
      "[463]\ttrain-rmse:95.2373\teval-rmse:120.262\n",
      "[464]\ttrain-rmse:95.2057\teval-rmse:120.24\n",
      "[465]\ttrain-rmse:95.1157\teval-rmse:120.18\n",
      "[466]\ttrain-rmse:95.0381\teval-rmse:120.126\n",
      "[467]\ttrain-rmse:94.9697\teval-rmse:120.082\n",
      "[468]\ttrain-rmse:94.9266\teval-rmse:120.059\n",
      "[469]\ttrain-rmse:94.8622\teval-rmse:120.018\n",
      "[470]\ttrain-rmse:94.8107\teval-rmse:119.985\n",
      "[471]\ttrain-rmse:94.7283\teval-rmse:119.93\n",
      "[472]\ttrain-rmse:94.6317\teval-rmse:119.865\n",
      "[473]\ttrain-rmse:94.6041\teval-rmse:119.852\n",
      "[474]\ttrain-rmse:94.5828\teval-rmse:119.839\n",
      "[475]\ttrain-rmse:94.5227\teval-rmse:119.805\n",
      "[476]\ttrain-rmse:94.4729\teval-rmse:119.782\n",
      "[477]\ttrain-rmse:94.4136\teval-rmse:119.749\n",
      "[478]\ttrain-rmse:94.3739\teval-rmse:119.738\n",
      "[479]\ttrain-rmse:94.3352\teval-rmse:119.715\n",
      "[480]\ttrain-rmse:94.3149\teval-rmse:119.701\n",
      "[481]\ttrain-rmse:94.2103\teval-rmse:119.632\n",
      "[482]\ttrain-rmse:94.1636\teval-rmse:119.603\n",
      "[483]\ttrain-rmse:94.0937\teval-rmse:119.556\n",
      "[484]\ttrain-rmse:94.0196\teval-rmse:119.508\n",
      "[485]\ttrain-rmse:93.9552\teval-rmse:119.469\n",
      "[486]\ttrain-rmse:93.9045\teval-rmse:119.443\n",
      "[487]\ttrain-rmse:93.7958\teval-rmse:119.371\n",
      "[488]\ttrain-rmse:93.734\teval-rmse:119.334\n",
      "[489]\ttrain-rmse:93.6195\teval-rmse:119.254\n",
      "[490]\ttrain-rmse:93.5561\teval-rmse:119.212\n",
      "[491]\ttrain-rmse:93.4839\teval-rmse:119.172\n",
      "[492]\ttrain-rmse:93.3889\teval-rmse:119.102\n",
      "[493]\ttrain-rmse:93.32\teval-rmse:119.054\n",
      "[494]\ttrain-rmse:93.2213\teval-rmse:118.993\n",
      "[495]\ttrain-rmse:93.1814\teval-rmse:118.966\n",
      "[496]\ttrain-rmse:93.1251\teval-rmse:118.939\n",
      "[497]\ttrain-rmse:93.058\teval-rmse:118.899\n",
      "[498]\ttrain-rmse:93.003\teval-rmse:118.861\n",
      "[499]\ttrain-rmse:92.8987\teval-rmse:118.777\n"
     ]
    }
   ],
   "source": [
    "params = {}\n",
    "params[\"objective\"] = \"reg:linear\"\n",
    "params[\"booster\"] = \"gbtree\"\n",
    "params[\"max_depth\"] = 7\n",
    "params[\"eval_metric\"] = 'rmse'\n",
    "params[\"subsample\"] = 0.9\n",
    "params[\"colsample_bytree\"] = 0.9\n",
    "params[\"silent\"] = 1\n",
    "params[\"seed\"] = 2016\n",
    "params[\"eta\"] = 0.1\n",
    "\n",
    "plst = list(params.items())\n",
    "num_rounds = 500\n",
    "early_stopping_rounds = 10\n",
    "\n",
    "watchlist = [(xgtrain2,'train'),(xgtrain1, 'eval')]\n",
    "\n",
    "model_6_1 = xgb.train(plst, xgtrain2, num_rounds, evals = watchlist, early_stopping_rounds = 10, verbose_eval = True)"
   ]
  },
  {
   "cell_type": "code",
   "execution_count": 29,
   "metadata": {
    "collapsed": false
   },
   "outputs": [
    {
     "name": "stdout",
     "output_type": "stream",
     "text": [
      "[0]\ttrain-rmse:2843.97\teval-rmse:2841.17\n",
      "Multiple eval metrics have been passed: 'eval-rmse' will be used for early stopping.\n",
      "\n",
      "Will train until eval-rmse hasn't improved in 10 rounds.\n",
      "[1]\ttrain-rmse:2564.51\teval-rmse:2561.99\n",
      "[2]\ttrain-rmse:2313.84\teval-rmse:2311.56\n",
      "[3]\ttrain-rmse:2087.97\teval-rmse:2085.95\n",
      "[4]\ttrain-rmse:1885.25\teval-rmse:1883.41\n",
      "[5]\ttrain-rmse:1702.57\teval-rmse:1700.98\n",
      "[6]\ttrain-rmse:1538.36\teval-rmse:1536.98\n",
      "[7]\ttrain-rmse:1391.22\teval-rmse:1390.02\n",
      "[8]\ttrain-rmse:1259.05\teval-rmse:1258.03\n",
      "[9]\ttrain-rmse:1140.33\teval-rmse:1139.52\n",
      "[10]\ttrain-rmse:1033.52\teval-rmse:1032.96\n",
      "[11]\ttrain-rmse:937.914\teval-rmse:937.6\n",
      "[12]\ttrain-rmse:852.068\teval-rmse:851.942\n",
      "[13]\ttrain-rmse:775.316\teval-rmse:775.456\n",
      "[14]\ttrain-rmse:706.654\teval-rmse:707.019\n",
      "[15]\ttrain-rmse:645.405\teval-rmse:646.058\n",
      "[16]\ttrain-rmse:590.64\teval-rmse:591.584\n",
      "[17]\ttrain-rmse:542.069\teval-rmse:543.309\n",
      "[18]\ttrain-rmse:498.904\teval-rmse:500.448\n",
      "[19]\ttrain-rmse:460.67\teval-rmse:462.535\n",
      "[20]\ttrain-rmse:426.94\teval-rmse:429.124\n",
      "[21]\ttrain-rmse:396.878\teval-rmse:399.376\n",
      "[22]\ttrain-rmse:370.553\teval-rmse:373.406\n",
      "[23]\ttrain-rmse:346.843\teval-rmse:350.023\n",
      "[24]\ttrain-rmse:326.206\teval-rmse:329.683\n",
      "[25]\ttrain-rmse:308.723\teval-rmse:312.497\n",
      "[26]\ttrain-rmse:293.388\teval-rmse:297.461\n",
      "[27]\ttrain-rmse:279.691\teval-rmse:284.095\n",
      "[28]\ttrain-rmse:268.164\teval-rmse:272.909\n",
      "[29]\ttrain-rmse:258.138\teval-rmse:263.112\n",
      "[30]\ttrain-rmse:249.12\teval-rmse:254.358\n",
      "[31]\ttrain-rmse:241.048\teval-rmse:246.553\n",
      "[32]\ttrain-rmse:234.129\teval-rmse:239.833\n",
      "[33]\ttrain-rmse:227.966\teval-rmse:233.874\n",
      "[34]\ttrain-rmse:222.761\teval-rmse:228.92\n",
      "[35]\ttrain-rmse:218.058\teval-rmse:224.476\n",
      "[36]\ttrain-rmse:213.318\teval-rmse:219.946\n",
      "[37]\ttrain-rmse:209.519\teval-rmse:216.333\n",
      "[38]\ttrain-rmse:206.42\teval-rmse:213.422\n",
      "[39]\ttrain-rmse:203.015\teval-rmse:210.206\n",
      "[40]\ttrain-rmse:200.191\teval-rmse:207.546\n",
      "[41]\ttrain-rmse:197.865\teval-rmse:205.332\n",
      "[42]\ttrain-rmse:195.801\teval-rmse:203.353\n",
      "[43]\ttrain-rmse:193.801\teval-rmse:201.518\n",
      "[44]\ttrain-rmse:191.975\teval-rmse:199.807\n",
      "[45]\ttrain-rmse:190.388\teval-rmse:198.356\n",
      "[46]\ttrain-rmse:188.705\teval-rmse:196.766\n",
      "[47]\ttrain-rmse:187.58\teval-rmse:195.734\n",
      "[48]\ttrain-rmse:185.651\teval-rmse:193.957\n",
      "[49]\ttrain-rmse:184.753\teval-rmse:193.159\n",
      "[50]\ttrain-rmse:183.635\teval-rmse:192.133\n",
      "[51]\ttrain-rmse:182.787\teval-rmse:191.354\n",
      "[52]\ttrain-rmse:181.9\teval-rmse:190.566\n",
      "[53]\ttrain-rmse:180.56\teval-rmse:189.384\n",
      "[54]\ttrain-rmse:179.507\teval-rmse:188.461\n",
      "[55]\ttrain-rmse:178.221\teval-rmse:187.314\n",
      "[56]\ttrain-rmse:177.307\teval-rmse:186.509\n",
      "[57]\ttrain-rmse:176.469\teval-rmse:185.747\n",
      "[58]\ttrain-rmse:175.771\teval-rmse:185.112\n",
      "[59]\ttrain-rmse:174.662\teval-rmse:184.112\n",
      "[60]\ttrain-rmse:173.696\teval-rmse:183.254\n",
      "[61]\ttrain-rmse:172.47\teval-rmse:182.13\n",
      "[62]\ttrain-rmse:171.71\teval-rmse:181.442\n",
      "[63]\ttrain-rmse:171.24\teval-rmse:181.038\n",
      "[64]\ttrain-rmse:170.616\teval-rmse:180.533\n",
      "[65]\ttrain-rmse:169.672\teval-rmse:179.705\n",
      "[66]\ttrain-rmse:168.919\teval-rmse:179.05\n",
      "[67]\ttrain-rmse:168.331\teval-rmse:178.503\n",
      "[68]\ttrain-rmse:167.742\teval-rmse:178.031\n",
      "[69]\ttrain-rmse:167.186\teval-rmse:177.553\n",
      "[70]\ttrain-rmse:166.341\teval-rmse:176.824\n",
      "[71]\ttrain-rmse:165.852\teval-rmse:176.372\n",
      "[72]\ttrain-rmse:165.253\teval-rmse:175.85\n",
      "[73]\ttrain-rmse:164.39\teval-rmse:175.071\n",
      "[74]\ttrain-rmse:163.703\teval-rmse:174.439\n",
      "[75]\ttrain-rmse:163.302\teval-rmse:174.089\n",
      "[76]\ttrain-rmse:162.728\teval-rmse:173.565\n",
      "[77]\ttrain-rmse:162.223\teval-rmse:173.116\n",
      "[78]\ttrain-rmse:161.859\teval-rmse:172.796\n",
      "[79]\ttrain-rmse:161.342\teval-rmse:172.346\n",
      "[80]\ttrain-rmse:160.607\teval-rmse:171.718\n",
      "[81]\ttrain-rmse:159.834\teval-rmse:171.044\n",
      "[82]\ttrain-rmse:159.34\teval-rmse:170.6\n",
      "[83]\ttrain-rmse:158.476\teval-rmse:169.862\n",
      "[84]\ttrain-rmse:158.058\teval-rmse:169.52\n",
      "[85]\ttrain-rmse:157.74\teval-rmse:169.248\n",
      "[86]\ttrain-rmse:156.938\teval-rmse:168.539\n",
      "[87]\ttrain-rmse:156.222\teval-rmse:167.939\n",
      "[88]\ttrain-rmse:155.55\teval-rmse:167.353\n",
      "[89]\ttrain-rmse:154.963\teval-rmse:166.856\n",
      "[90]\ttrain-rmse:154.604\teval-rmse:166.56\n",
      "[91]\ttrain-rmse:154.292\teval-rmse:166.267\n",
      "[92]\ttrain-rmse:153.924\teval-rmse:165.964\n",
      "[93]\ttrain-rmse:153.182\teval-rmse:165.3\n",
      "[94]\ttrain-rmse:152.803\teval-rmse:164.971\n",
      "[95]\ttrain-rmse:152.397\teval-rmse:164.617\n",
      "[96]\ttrain-rmse:152.183\teval-rmse:164.429\n",
      "[97]\ttrain-rmse:151.517\teval-rmse:163.813\n",
      "[98]\ttrain-rmse:151.011\teval-rmse:163.371\n",
      "[99]\ttrain-rmse:150.601\teval-rmse:163.025\n",
      "[100]\ttrain-rmse:150.185\teval-rmse:162.663\n",
      "[101]\ttrain-rmse:149.822\teval-rmse:162.356\n",
      "[102]\ttrain-rmse:149.357\teval-rmse:161.963\n",
      "[103]\ttrain-rmse:148.918\teval-rmse:161.577\n",
      "[104]\ttrain-rmse:148.622\teval-rmse:161.336\n",
      "[105]\ttrain-rmse:148.265\teval-rmse:161.018\n",
      "[106]\ttrain-rmse:147.829\teval-rmse:160.636\n",
      "[107]\ttrain-rmse:147.327\teval-rmse:160.211\n",
      "[108]\ttrain-rmse:147.058\teval-rmse:159.991\n",
      "[109]\ttrain-rmse:146.815\teval-rmse:159.769\n",
      "[110]\ttrain-rmse:146.467\teval-rmse:159.489\n",
      "[111]\ttrain-rmse:146.159\teval-rmse:159.216\n",
      "[112]\ttrain-rmse:145.762\teval-rmse:158.889\n",
      "[113]\ttrain-rmse:145.372\teval-rmse:158.551\n",
      "[114]\ttrain-rmse:145.069\teval-rmse:158.28\n",
      "[115]\ttrain-rmse:144.855\teval-rmse:158.103\n",
      "[116]\ttrain-rmse:144.598\teval-rmse:157.9\n",
      "[117]\ttrain-rmse:144.265\teval-rmse:157.621\n",
      "[118]\ttrain-rmse:144.029\teval-rmse:157.448\n",
      "[119]\ttrain-rmse:143.614\teval-rmse:157.111\n",
      "[120]\ttrain-rmse:143.348\teval-rmse:156.883\n",
      "[121]\ttrain-rmse:143.154\teval-rmse:156.72\n",
      "[122]\ttrain-rmse:142.725\teval-rmse:156.338\n",
      "[123]\ttrain-rmse:142.439\teval-rmse:156.111\n",
      "[124]\ttrain-rmse:142.012\teval-rmse:155.749\n",
      "[125]\ttrain-rmse:141.592\teval-rmse:155.405\n",
      "[126]\ttrain-rmse:141.301\teval-rmse:155.186\n",
      "[127]\ttrain-rmse:141.012\teval-rmse:154.953\n",
      "[128]\ttrain-rmse:140.811\teval-rmse:154.785\n",
      "[129]\ttrain-rmse:140.382\teval-rmse:154.424\n",
      "[130]\ttrain-rmse:140.031\teval-rmse:154.105\n",
      "[131]\ttrain-rmse:139.785\teval-rmse:153.901\n",
      "[132]\ttrain-rmse:139.55\teval-rmse:153.713\n",
      "[133]\ttrain-rmse:139.202\teval-rmse:153.428\n",
      "[134]\ttrain-rmse:138.949\teval-rmse:153.19\n",
      "[135]\ttrain-rmse:138.699\teval-rmse:152.999\n",
      "[136]\ttrain-rmse:138.213\teval-rmse:152.581\n",
      "[137]\ttrain-rmse:137.922\teval-rmse:152.328\n",
      "[138]\ttrain-rmse:137.812\teval-rmse:152.238\n",
      "[139]\ttrain-rmse:137.483\teval-rmse:151.966\n",
      "[140]\ttrain-rmse:137.209\teval-rmse:151.732\n",
      "[141]\ttrain-rmse:136.925\teval-rmse:151.512\n",
      "[142]\ttrain-rmse:136.664\teval-rmse:151.288\n",
      "[143]\ttrain-rmse:136.229\teval-rmse:150.942\n",
      "[144]\ttrain-rmse:135.859\teval-rmse:150.607\n",
      "[145]\ttrain-rmse:135.516\teval-rmse:150.328\n",
      "[146]\ttrain-rmse:135.196\teval-rmse:150.05\n",
      "[147]\ttrain-rmse:135.006\teval-rmse:149.891\n",
      "[148]\ttrain-rmse:134.82\teval-rmse:149.761\n",
      "[149]\ttrain-rmse:134.581\teval-rmse:149.565\n",
      "[150]\ttrain-rmse:134.379\teval-rmse:149.413\n",
      "[151]\ttrain-rmse:134.063\teval-rmse:149.156\n",
      "[152]\ttrain-rmse:133.85\teval-rmse:148.974\n",
      "[153]\ttrain-rmse:133.56\teval-rmse:148.734\n",
      "[154]\ttrain-rmse:133.371\teval-rmse:148.585\n",
      "[155]\ttrain-rmse:133.033\teval-rmse:148.322\n",
      "[156]\ttrain-rmse:132.78\teval-rmse:148.105\n",
      "[157]\ttrain-rmse:132.39\teval-rmse:147.762\n",
      "[158]\ttrain-rmse:132.08\teval-rmse:147.489\n",
      "[159]\ttrain-rmse:131.847\teval-rmse:147.299\n",
      "[160]\ttrain-rmse:131.609\teval-rmse:147.119\n",
      "[161]\ttrain-rmse:131.372\teval-rmse:146.929\n",
      "[162]\ttrain-rmse:131.21\teval-rmse:146.794\n",
      "[163]\ttrain-rmse:130.924\teval-rmse:146.567\n",
      "[164]\ttrain-rmse:130.609\teval-rmse:146.314\n",
      "[165]\ttrain-rmse:130.417\teval-rmse:146.156\n",
      "[166]\ttrain-rmse:130.134\teval-rmse:145.924\n",
      "[167]\ttrain-rmse:129.755\teval-rmse:145.609\n",
      "[168]\ttrain-rmse:129.491\teval-rmse:145.384\n",
      "[169]\ttrain-rmse:129.216\teval-rmse:145.188\n",
      "[170]\ttrain-rmse:128.962\teval-rmse:144.982\n",
      "[171]\ttrain-rmse:128.723\teval-rmse:144.788\n",
      "[172]\ttrain-rmse:128.546\teval-rmse:144.65\n",
      "[173]\ttrain-rmse:128.396\teval-rmse:144.514\n",
      "[174]\ttrain-rmse:128.147\teval-rmse:144.319\n",
      "[175]\ttrain-rmse:127.912\teval-rmse:144.144\n",
      "[176]\ttrain-rmse:127.674\teval-rmse:143.966\n",
      "[177]\ttrain-rmse:127.432\teval-rmse:143.759\n",
      "[178]\ttrain-rmse:127.22\teval-rmse:143.6\n",
      "[179]\ttrain-rmse:127.019\teval-rmse:143.438\n",
      "[180]\ttrain-rmse:126.883\teval-rmse:143.327\n",
      "[181]\ttrain-rmse:126.691\teval-rmse:143.195\n",
      "[182]\ttrain-rmse:126.533\teval-rmse:143.071\n",
      "[183]\ttrain-rmse:126.35\teval-rmse:142.915\n",
      "[184]\ttrain-rmse:126.093\teval-rmse:142.703\n",
      "[185]\ttrain-rmse:125.76\teval-rmse:142.424\n",
      "[186]\ttrain-rmse:125.612\teval-rmse:142.322\n",
      "[187]\ttrain-rmse:125.46\teval-rmse:142.217\n",
      "[188]\ttrain-rmse:125.23\teval-rmse:142.043\n",
      "[189]\ttrain-rmse:125.135\teval-rmse:141.963\n",
      "[190]\ttrain-rmse:124.883\teval-rmse:141.753\n",
      "[191]\ttrain-rmse:124.693\teval-rmse:141.595\n",
      "[192]\ttrain-rmse:124.432\teval-rmse:141.371\n",
      "[193]\ttrain-rmse:124.244\teval-rmse:141.213\n",
      "[194]\ttrain-rmse:124.057\teval-rmse:141.063\n",
      "[195]\ttrain-rmse:123.925\teval-rmse:140.97\n",
      "[196]\ttrain-rmse:123.662\teval-rmse:140.779\n",
      "[197]\ttrain-rmse:123.385\teval-rmse:140.53\n",
      "[198]\ttrain-rmse:123.252\teval-rmse:140.433\n",
      "[199]\ttrain-rmse:123.048\teval-rmse:140.284\n",
      "[200]\ttrain-rmse:122.839\teval-rmse:140.104\n",
      "[201]\ttrain-rmse:122.699\teval-rmse:139.989\n",
      "[202]\ttrain-rmse:122.535\teval-rmse:139.865\n",
      "[203]\ttrain-rmse:122.317\teval-rmse:139.693\n",
      "[204]\ttrain-rmse:122.133\teval-rmse:139.546\n",
      "[205]\ttrain-rmse:121.855\teval-rmse:139.326\n",
      "[206]\ttrain-rmse:121.672\teval-rmse:139.165\n",
      "[207]\ttrain-rmse:121.594\teval-rmse:139.104\n",
      "[208]\ttrain-rmse:121.498\teval-rmse:139.031\n",
      "[209]\ttrain-rmse:121.288\teval-rmse:138.867\n",
      "[210]\ttrain-rmse:121.08\teval-rmse:138.702\n",
      "[211]\ttrain-rmse:120.92\teval-rmse:138.572\n",
      "[212]\ttrain-rmse:120.765\teval-rmse:138.445\n",
      "[213]\ttrain-rmse:120.584\teval-rmse:138.298\n",
      "[214]\ttrain-rmse:120.373\teval-rmse:138.127\n",
      "[215]\ttrain-rmse:120.157\teval-rmse:137.947\n",
      "[216]\ttrain-rmse:120\teval-rmse:137.834\n",
      "[217]\ttrain-rmse:119.795\teval-rmse:137.682\n",
      "[218]\ttrain-rmse:119.721\teval-rmse:137.627\n",
      "[219]\ttrain-rmse:119.59\teval-rmse:137.523\n",
      "[220]\ttrain-rmse:119.462\teval-rmse:137.439\n",
      "[221]\ttrain-rmse:119.325\teval-rmse:137.34\n",
      "[222]\ttrain-rmse:119.176\teval-rmse:137.227\n",
      "[223]\ttrain-rmse:118.94\teval-rmse:137.026\n",
      "[224]\ttrain-rmse:118.729\teval-rmse:136.861\n",
      "[225]\ttrain-rmse:118.476\teval-rmse:136.652\n",
      "[226]\ttrain-rmse:118.349\teval-rmse:136.542\n",
      "[227]\ttrain-rmse:118.175\teval-rmse:136.402\n",
      "[228]\ttrain-rmse:118.003\teval-rmse:136.255\n",
      "[229]\ttrain-rmse:117.819\teval-rmse:136.106\n",
      "[230]\ttrain-rmse:117.615\teval-rmse:135.947\n",
      "[231]\ttrain-rmse:117.453\teval-rmse:135.826\n",
      "[232]\ttrain-rmse:117.265\teval-rmse:135.679\n",
      "[233]\ttrain-rmse:117.058\teval-rmse:135.529\n",
      "[234]\ttrain-rmse:116.923\teval-rmse:135.441\n",
      "[235]\ttrain-rmse:116.791\teval-rmse:135.337\n",
      "[236]\ttrain-rmse:116.626\teval-rmse:135.204\n",
      "[237]\ttrain-rmse:116.485\teval-rmse:135.091\n",
      "[238]\ttrain-rmse:116.323\teval-rmse:134.969\n",
      "[239]\ttrain-rmse:116.131\teval-rmse:134.82\n",
      "[240]\ttrain-rmse:115.999\teval-rmse:134.724\n",
      "[241]\ttrain-rmse:115.86\teval-rmse:134.623\n",
      "[242]\ttrain-rmse:115.703\teval-rmse:134.513\n",
      "[243]\ttrain-rmse:115.641\teval-rmse:134.461\n",
      "[244]\ttrain-rmse:115.479\teval-rmse:134.33\n",
      "[245]\ttrain-rmse:115.29\teval-rmse:134.174\n",
      "[246]\ttrain-rmse:115.119\teval-rmse:134.036\n",
      "[247]\ttrain-rmse:114.979\teval-rmse:133.941\n",
      "[248]\ttrain-rmse:114.758\teval-rmse:133.752\n",
      "[249]\ttrain-rmse:114.628\teval-rmse:133.656\n",
      "[250]\ttrain-rmse:114.518\teval-rmse:133.561\n",
      "[251]\ttrain-rmse:114.363\teval-rmse:133.452\n",
      "[252]\ttrain-rmse:114.109\teval-rmse:133.25\n",
      "[253]\ttrain-rmse:113.946\teval-rmse:133.132\n",
      "[254]\ttrain-rmse:113.831\teval-rmse:133.051\n",
      "[255]\ttrain-rmse:113.717\teval-rmse:132.972\n",
      "[256]\ttrain-rmse:113.633\teval-rmse:132.927\n",
      "[257]\ttrain-rmse:113.496\teval-rmse:132.834\n",
      "[258]\ttrain-rmse:113.397\teval-rmse:132.769\n",
      "[259]\ttrain-rmse:113.324\teval-rmse:132.722\n",
      "[260]\ttrain-rmse:113.108\teval-rmse:132.556\n",
      "[261]\ttrain-rmse:112.892\teval-rmse:132.386\n",
      "[262]\ttrain-rmse:112.765\teval-rmse:132.283\n",
      "[263]\ttrain-rmse:112.626\teval-rmse:132.182\n",
      "[264]\ttrain-rmse:112.466\teval-rmse:132.061\n",
      "[265]\ttrain-rmse:112.263\teval-rmse:131.907\n",
      "[266]\ttrain-rmse:112.121\teval-rmse:131.793\n",
      "[267]\ttrain-rmse:111.941\teval-rmse:131.648\n",
      "[268]\ttrain-rmse:111.867\teval-rmse:131.595\n",
      "[269]\ttrain-rmse:111.738\teval-rmse:131.51\n",
      "[270]\ttrain-rmse:111.595\teval-rmse:131.405\n",
      "[271]\ttrain-rmse:111.475\teval-rmse:131.317\n",
      "[272]\ttrain-rmse:111.423\teval-rmse:131.275\n",
      "[273]\ttrain-rmse:111.379\teval-rmse:131.252\n",
      "[274]\ttrain-rmse:111.305\teval-rmse:131.202\n",
      "[275]\ttrain-rmse:111.239\teval-rmse:131.155\n",
      "[276]\ttrain-rmse:111.135\teval-rmse:131.079\n",
      "[277]\ttrain-rmse:110.967\teval-rmse:130.942\n",
      "[278]\ttrain-rmse:110.878\teval-rmse:130.868\n",
      "[279]\ttrain-rmse:110.741\teval-rmse:130.769\n",
      "[280]\ttrain-rmse:110.642\teval-rmse:130.703\n",
      "[281]\ttrain-rmse:110.511\teval-rmse:130.61\n",
      "[282]\ttrain-rmse:110.343\teval-rmse:130.473\n",
      "[283]\ttrain-rmse:110.278\teval-rmse:130.42\n",
      "[284]\ttrain-rmse:110.155\teval-rmse:130.328\n",
      "[285]\ttrain-rmse:110.031\teval-rmse:130.245\n",
      "[286]\ttrain-rmse:109.952\teval-rmse:130.2\n",
      "[287]\ttrain-rmse:109.776\teval-rmse:130.065\n",
      "[288]\ttrain-rmse:109.706\teval-rmse:130.035\n",
      "[289]\ttrain-rmse:109.611\teval-rmse:129.971\n",
      "[290]\ttrain-rmse:109.51\teval-rmse:129.897\n",
      "[291]\ttrain-rmse:109.417\teval-rmse:129.823\n",
      "[292]\ttrain-rmse:109.263\teval-rmse:129.704\n",
      "[293]\ttrain-rmse:109.18\teval-rmse:129.665\n",
      "[294]\ttrain-rmse:109.043\teval-rmse:129.549\n",
      "[295]\ttrain-rmse:108.926\teval-rmse:129.468\n",
      "[296]\ttrain-rmse:108.766\teval-rmse:129.353\n",
      "[297]\ttrain-rmse:108.68\teval-rmse:129.3\n",
      "[298]\ttrain-rmse:108.564\teval-rmse:129.215\n",
      "[299]\ttrain-rmse:108.473\teval-rmse:129.156\n",
      "[300]\ttrain-rmse:108.36\teval-rmse:129.086\n",
      "[301]\ttrain-rmse:108.258\teval-rmse:129.001\n",
      "[302]\ttrain-rmse:108.172\teval-rmse:128.945\n",
      "[303]\ttrain-rmse:108.104\teval-rmse:128.91\n",
      "[304]\ttrain-rmse:107.971\teval-rmse:128.825\n",
      "[305]\ttrain-rmse:107.883\teval-rmse:128.772\n",
      "[306]\ttrain-rmse:107.741\teval-rmse:128.667\n",
      "[307]\ttrain-rmse:107.62\teval-rmse:128.582\n",
      "[308]\ttrain-rmse:107.481\teval-rmse:128.486\n",
      "[309]\ttrain-rmse:107.424\teval-rmse:128.448\n",
      "[310]\ttrain-rmse:107.315\teval-rmse:128.384\n",
      "[311]\ttrain-rmse:107.262\teval-rmse:128.349\n",
      "[312]\ttrain-rmse:107.129\teval-rmse:128.255\n",
      "[313]\ttrain-rmse:107.003\teval-rmse:128.159\n",
      "[314]\ttrain-rmse:106.884\teval-rmse:128.082\n",
      "[315]\ttrain-rmse:106.77\teval-rmse:128.003\n",
      "[316]\ttrain-rmse:106.62\teval-rmse:127.886\n",
      "[317]\ttrain-rmse:106.523\teval-rmse:127.828\n",
      "[318]\ttrain-rmse:106.425\teval-rmse:127.76\n",
      "[319]\ttrain-rmse:106.331\teval-rmse:127.693\n",
      "[320]\ttrain-rmse:106.192\teval-rmse:127.594\n",
      "[321]\ttrain-rmse:106.104\teval-rmse:127.528\n",
      "[322]\ttrain-rmse:106.031\teval-rmse:127.484\n",
      "[323]\ttrain-rmse:105.91\teval-rmse:127.386\n",
      "[324]\ttrain-rmse:105.771\teval-rmse:127.29\n",
      "[325]\ttrain-rmse:105.725\teval-rmse:127.273\n",
      "[326]\ttrain-rmse:105.626\teval-rmse:127.209\n",
      "[327]\ttrain-rmse:105.466\teval-rmse:127.091\n",
      "[328]\ttrain-rmse:105.389\teval-rmse:127.033\n",
      "[329]\ttrain-rmse:105.287\teval-rmse:126.972\n",
      "[330]\ttrain-rmse:105.18\teval-rmse:126.897\n",
      "[331]\ttrain-rmse:105.075\teval-rmse:126.826\n",
      "[332]\ttrain-rmse:104.976\teval-rmse:126.753\n",
      "[333]\ttrain-rmse:104.921\teval-rmse:126.719\n",
      "[334]\ttrain-rmse:104.833\teval-rmse:126.665\n",
      "[335]\ttrain-rmse:104.742\teval-rmse:126.607\n",
      "[336]\ttrain-rmse:104.654\teval-rmse:126.559\n",
      "[337]\ttrain-rmse:104.527\teval-rmse:126.472\n",
      "[338]\ttrain-rmse:104.454\teval-rmse:126.43\n",
      "[339]\ttrain-rmse:104.303\teval-rmse:126.31\n",
      "[340]\ttrain-rmse:104.164\teval-rmse:126.198\n",
      "[341]\ttrain-rmse:104.137\teval-rmse:126.185\n",
      "[342]\ttrain-rmse:104.032\teval-rmse:126.12\n",
      "[343]\ttrain-rmse:103.893\teval-rmse:126.015\n",
      "[344]\ttrain-rmse:103.774\teval-rmse:125.927\n",
      "[345]\ttrain-rmse:103.667\teval-rmse:125.863\n",
      "[346]\ttrain-rmse:103.577\teval-rmse:125.804\n",
      "[347]\ttrain-rmse:103.479\teval-rmse:125.743\n",
      "[348]\ttrain-rmse:103.394\teval-rmse:125.695\n",
      "[349]\ttrain-rmse:103.314\teval-rmse:125.651\n",
      "[350]\ttrain-rmse:103.216\teval-rmse:125.587\n",
      "[351]\ttrain-rmse:103.117\teval-rmse:125.526\n",
      "[352]\ttrain-rmse:103.023\teval-rmse:125.464\n",
      "[353]\ttrain-rmse:102.87\teval-rmse:125.348\n",
      "[354]\ttrain-rmse:102.805\teval-rmse:125.297\n",
      "[355]\ttrain-rmse:102.712\teval-rmse:125.228\n",
      "[356]\ttrain-rmse:102.614\teval-rmse:125.157\n",
      "[357]\ttrain-rmse:102.486\teval-rmse:125.053\n",
      "[358]\ttrain-rmse:102.369\teval-rmse:124.963\n",
      "[359]\ttrain-rmse:102.231\teval-rmse:124.861\n",
      "[360]\ttrain-rmse:102.106\teval-rmse:124.767\n",
      "[361]\ttrain-rmse:101.996\teval-rmse:124.688\n",
      "[362]\ttrain-rmse:101.92\teval-rmse:124.633\n",
      "[363]\ttrain-rmse:101.864\teval-rmse:124.597\n",
      "[364]\ttrain-rmse:101.764\teval-rmse:124.524\n",
      "[365]\ttrain-rmse:101.665\teval-rmse:124.459\n",
      "[366]\ttrain-rmse:101.61\teval-rmse:124.419\n",
      "[367]\ttrain-rmse:101.559\teval-rmse:124.38\n",
      "[368]\ttrain-rmse:101.503\teval-rmse:124.343\n",
      "[369]\ttrain-rmse:101.414\teval-rmse:124.271\n",
      "[370]\ttrain-rmse:101.326\teval-rmse:124.219\n",
      "[371]\ttrain-rmse:101.241\teval-rmse:124.167\n",
      "[372]\ttrain-rmse:101.125\teval-rmse:124.079\n",
      "[373]\ttrain-rmse:101.018\teval-rmse:123.999\n",
      "[374]\ttrain-rmse:100.905\teval-rmse:123.912\n",
      "[375]\ttrain-rmse:100.82\teval-rmse:123.855\n",
      "[376]\ttrain-rmse:100.748\teval-rmse:123.811\n",
      "[377]\ttrain-rmse:100.709\teval-rmse:123.793\n",
      "[378]\ttrain-rmse:100.614\teval-rmse:123.736\n",
      "[379]\ttrain-rmse:100.529\teval-rmse:123.673\n",
      "[380]\ttrain-rmse:100.483\teval-rmse:123.654\n",
      "[381]\ttrain-rmse:100.379\teval-rmse:123.581\n",
      "[382]\ttrain-rmse:100.268\teval-rmse:123.501\n",
      "[383]\ttrain-rmse:100.156\teval-rmse:123.428\n",
      "[384]\ttrain-rmse:100.039\teval-rmse:123.335\n",
      "[385]\ttrain-rmse:99.9275\teval-rmse:123.27\n",
      "[386]\ttrain-rmse:99.8237\teval-rmse:123.197\n",
      "[387]\ttrain-rmse:99.7037\teval-rmse:123.116\n",
      "[388]\ttrain-rmse:99.6331\teval-rmse:123.077\n",
      "[389]\ttrain-rmse:99.5126\teval-rmse:123.001\n",
      "[390]\ttrain-rmse:99.4095\teval-rmse:122.939\n",
      "[391]\ttrain-rmse:99.3664\teval-rmse:122.918\n",
      "[392]\ttrain-rmse:99.2856\teval-rmse:122.866\n",
      "[393]\ttrain-rmse:99.1866\teval-rmse:122.8\n",
      "[394]\ttrain-rmse:99.148\teval-rmse:122.775\n",
      "[395]\ttrain-rmse:99.0936\teval-rmse:122.739\n",
      "[396]\ttrain-rmse:99.051\teval-rmse:122.711\n",
      "[397]\ttrain-rmse:99.0051\teval-rmse:122.677\n",
      "[398]\ttrain-rmse:98.9172\teval-rmse:122.623\n",
      "[399]\ttrain-rmse:98.8263\teval-rmse:122.561\n",
      "[400]\ttrain-rmse:98.7924\teval-rmse:122.537\n",
      "[401]\ttrain-rmse:98.7293\teval-rmse:122.487\n",
      "[402]\ttrain-rmse:98.6746\teval-rmse:122.453\n",
      "[403]\ttrain-rmse:98.5788\teval-rmse:122.4\n",
      "[404]\ttrain-rmse:98.4488\teval-rmse:122.309\n",
      "[405]\ttrain-rmse:98.3911\teval-rmse:122.274\n",
      "[406]\ttrain-rmse:98.3166\teval-rmse:122.218\n",
      "[407]\ttrain-rmse:98.2632\teval-rmse:122.178\n",
      "[408]\ttrain-rmse:98.2007\teval-rmse:122.142\n",
      "[409]\ttrain-rmse:98.1394\teval-rmse:122.107\n",
      "[410]\ttrain-rmse:98.0573\teval-rmse:122.051\n",
      "[411]\ttrain-rmse:97.9349\teval-rmse:121.96\n",
      "[412]\ttrain-rmse:97.8306\teval-rmse:121.878\n",
      "[413]\ttrain-rmse:97.76\teval-rmse:121.828\n",
      "[414]\ttrain-rmse:97.6861\teval-rmse:121.787\n",
      "[415]\ttrain-rmse:97.597\teval-rmse:121.719\n",
      "[416]\ttrain-rmse:97.5439\teval-rmse:121.681\n",
      "[417]\ttrain-rmse:97.4437\teval-rmse:121.606\n",
      "[418]\ttrain-rmse:97.3912\teval-rmse:121.574\n",
      "[419]\ttrain-rmse:97.3224\teval-rmse:121.527\n",
      "[420]\ttrain-rmse:97.2322\teval-rmse:121.461\n",
      "[421]\ttrain-rmse:97.1501\teval-rmse:121.418\n",
      "[422]\ttrain-rmse:97.0544\teval-rmse:121.355\n",
      "[423]\ttrain-rmse:96.9709\teval-rmse:121.296\n",
      "[424]\ttrain-rmse:96.8923\teval-rmse:121.245\n",
      "[425]\ttrain-rmse:96.7979\teval-rmse:121.18\n",
      "[426]\ttrain-rmse:96.7568\teval-rmse:121.16\n",
      "[427]\ttrain-rmse:96.6972\teval-rmse:121.13\n",
      "[428]\ttrain-rmse:96.6665\teval-rmse:121.108\n",
      "[429]\ttrain-rmse:96.5616\teval-rmse:121.038\n",
      "[430]\ttrain-rmse:96.4523\teval-rmse:120.965\n",
      "[431]\ttrain-rmse:96.3888\teval-rmse:120.933\n",
      "[432]\ttrain-rmse:96.3181\teval-rmse:120.883\n",
      "[433]\ttrain-rmse:96.2253\teval-rmse:120.831\n",
      "[434]\ttrain-rmse:96.1321\teval-rmse:120.761\n",
      "[435]\ttrain-rmse:96.0929\teval-rmse:120.735\n",
      "[436]\ttrain-rmse:96.0319\teval-rmse:120.695\n",
      "[437]\ttrain-rmse:95.981\teval-rmse:120.659\n",
      "[438]\ttrain-rmse:95.9084\teval-rmse:120.605\n",
      "[439]\ttrain-rmse:95.8452\teval-rmse:120.562\n",
      "[440]\ttrain-rmse:95.8136\teval-rmse:120.544\n",
      "[441]\ttrain-rmse:95.697\teval-rmse:120.468\n",
      "[442]\ttrain-rmse:95.6638\teval-rmse:120.445\n",
      "[443]\ttrain-rmse:95.603\teval-rmse:120.402\n",
      "[444]\ttrain-rmse:95.5064\teval-rmse:120.341\n",
      "[445]\ttrain-rmse:95.4798\teval-rmse:120.329\n",
      "[446]\ttrain-rmse:95.4117\teval-rmse:120.282\n",
      "[447]\ttrain-rmse:95.3816\teval-rmse:120.268\n",
      "[448]\ttrain-rmse:95.3515\teval-rmse:120.253\n",
      "[449]\ttrain-rmse:95.2936\teval-rmse:120.218\n",
      "[450]\ttrain-rmse:95.2265\teval-rmse:120.183\n",
      "[451]\ttrain-rmse:95.1422\teval-rmse:120.132\n",
      "[452]\ttrain-rmse:95.0443\teval-rmse:120.053\n",
      "[453]\ttrain-rmse:94.9813\teval-rmse:120.01\n",
      "[454]\ttrain-rmse:94.8986\teval-rmse:119.954\n",
      "[455]\ttrain-rmse:94.8379\teval-rmse:119.919\n",
      "[456]\ttrain-rmse:94.7945\teval-rmse:119.888\n",
      "[457]\ttrain-rmse:94.7546\teval-rmse:119.872\n",
      "[458]\ttrain-rmse:94.6472\teval-rmse:119.787\n",
      "[459]\ttrain-rmse:94.5818\teval-rmse:119.751\n",
      "[460]\ttrain-rmse:94.4718\teval-rmse:119.674\n",
      "[461]\ttrain-rmse:94.4165\teval-rmse:119.635\n",
      "[462]\ttrain-rmse:94.3279\teval-rmse:119.582\n",
      "[463]\ttrain-rmse:94.252\teval-rmse:119.531\n",
      "[464]\ttrain-rmse:94.1806\teval-rmse:119.484\n",
      "[465]\ttrain-rmse:94.1334\teval-rmse:119.457\n",
      "[466]\ttrain-rmse:94.0623\teval-rmse:119.43\n",
      "[467]\ttrain-rmse:93.9822\teval-rmse:119.378\n",
      "[468]\ttrain-rmse:93.9527\teval-rmse:119.367\n",
      "[469]\ttrain-rmse:93.8832\teval-rmse:119.324\n",
      "[470]\ttrain-rmse:93.7802\teval-rmse:119.255\n",
      "[471]\ttrain-rmse:93.7223\teval-rmse:119.216\n",
      "[472]\ttrain-rmse:93.6654\teval-rmse:119.188\n",
      "[473]\ttrain-rmse:93.6312\teval-rmse:119.165\n",
      "[474]\ttrain-rmse:93.5376\teval-rmse:119.105\n",
      "[475]\ttrain-rmse:93.4924\teval-rmse:119.08\n",
      "[476]\ttrain-rmse:93.4294\teval-rmse:119.047\n",
      "[477]\ttrain-rmse:93.3489\teval-rmse:118.994\n",
      "[478]\ttrain-rmse:93.2349\teval-rmse:118.924\n",
      "[479]\ttrain-rmse:93.1683\teval-rmse:118.887\n",
      "[480]\ttrain-rmse:93.1161\teval-rmse:118.854\n",
      "[481]\ttrain-rmse:93.0731\teval-rmse:118.833\n",
      "[482]\ttrain-rmse:93.0238\teval-rmse:118.802\n",
      "[483]\ttrain-rmse:92.9206\teval-rmse:118.729\n",
      "[484]\ttrain-rmse:92.8708\teval-rmse:118.708\n",
      "[485]\ttrain-rmse:92.8362\teval-rmse:118.687\n",
      "[486]\ttrain-rmse:92.6966\teval-rmse:118.579\n",
      "[487]\ttrain-rmse:92.6706\teval-rmse:118.563\n",
      "[488]\ttrain-rmse:92.5927\teval-rmse:118.516\n",
      "[489]\ttrain-rmse:92.5228\teval-rmse:118.463\n",
      "[490]\ttrain-rmse:92.476\teval-rmse:118.431\n",
      "[491]\ttrain-rmse:92.416\teval-rmse:118.396\n",
      "[492]\ttrain-rmse:92.3912\teval-rmse:118.385\n",
      "[493]\ttrain-rmse:92.3278\teval-rmse:118.345\n",
      "[494]\ttrain-rmse:92.2574\teval-rmse:118.295\n",
      "[495]\ttrain-rmse:92.1897\teval-rmse:118.256\n",
      "[496]\ttrain-rmse:92.1344\teval-rmse:118.219\n",
      "[497]\ttrain-rmse:92.0454\teval-rmse:118.157\n",
      "[498]\ttrain-rmse:91.988\teval-rmse:118.126\n",
      "[499]\ttrain-rmse:91.9086\teval-rmse:118.071\n"
     ]
    }
   ],
   "source": [
    "watchlist = [(xgtrain3,'train'),(xgtrain1, 'eval')]\n",
    "model_6_2 = xgb.train(plst, xgtrain3, num_rounds, evals = watchlist, early_stopping_rounds = 10, verbose_eval = True)"
   ]
  },
  {
   "cell_type": "markdown",
   "metadata": {},
   "source": [
    "<H3>Validate the model</H3>"
   ]
  },
  {
   "cell_type": "code",
   "execution_count": 30,
   "metadata": {
    "collapsed": true
   },
   "outputs": [],
   "source": [
    "pred_xg6_1 = model_6_1.predict(xgtrain3)"
   ]
  },
  {
   "cell_type": "code",
   "execution_count": 31,
   "metadata": {
    "collapsed": false
   },
   "outputs": [
    {
     "data": {
      "text/plain": [
       "118.63412025661913"
      ]
     },
     "execution_count": 31,
     "metadata": {},
     "output_type": "execute_result"
    }
   ],
   "source": [
    "sqrt(mean_squared_error(y3, pred_xg6_1))"
   ]
  },
  {
   "cell_type": "code",
   "execution_count": 32,
   "metadata": {
    "collapsed": true
   },
   "outputs": [],
   "source": [
    "pred_xg6_2 = model_6_2.predict(xgtrain2)"
   ]
  },
  {
   "cell_type": "code",
   "execution_count": 33,
   "metadata": {
    "collapsed": false
   },
   "outputs": [
    {
     "data": {
      "text/plain": [
       "118.41754114161402"
      ]
     },
     "execution_count": 33,
     "metadata": {},
     "output_type": "execute_result"
    }
   ],
   "source": [
    "sqrt(mean_squared_error(y2, pred_xg6_2))"
   ]
  },
  {
   "cell_type": "code",
   "execution_count": 34,
   "metadata": {
    "collapsed": false
   },
   "outputs": [
    {
     "data": {
      "text/plain": [
       "21"
      ]
     },
     "execution_count": 34,
     "metadata": {},
     "output_type": "execute_result"
    }
   ],
   "source": [
    "del pred_xg6_1, pred_xg6_2\n",
    "gc.collect()"
   ]
  },
  {
   "cell_type": "code",
   "execution_count": 35,
   "metadata": {
    "collapsed": false
   },
   "outputs": [
    {
     "data": {
      "text/plain": [
       "14"
      ]
     },
     "execution_count": 35,
     "metadata": {},
     "output_type": "execute_result"
    }
   ],
   "source": [
    "del xgtrain1, xgtrain2, xgtrain3, y1, y2, y3\n",
    "gc.collect()"
   ]
  },
  {
   "cell_type": "code",
   "execution_count": 36,
   "metadata": {
    "collapsed": true
   },
   "outputs": [],
   "source": [
    "test = pd.read_csv('test\\\\CAX_Test.csv')"
   ]
  },
  {
   "cell_type": "code",
   "execution_count": 37,
   "metadata": {
    "collapsed": true
   },
   "outputs": [],
   "source": [
    "test = test[test.PH==6]"
   ]
  },
  {
   "cell_type": "code",
   "execution_count": 38,
   "metadata": {
    "collapsed": false
   },
   "outputs": [
    {
     "data": {
      "text/plain": [
       "(213531, 227)"
      ]
     },
     "execution_count": 38,
     "metadata": {},
     "output_type": "execute_result"
    }
   ],
   "source": [
    "test.shape"
   ]
  },
  {
   "cell_type": "code",
   "execution_count": 39,
   "metadata": {
    "collapsed": true
   },
   "outputs": [],
   "source": [
    "test.drop(test.columns[[0,1,2,6,7]], axis = 1, inplace = True)"
   ]
  },
  {
   "cell_type": "code",
   "execution_count": 40,
   "metadata": {
    "collapsed": true
   },
   "outputs": [],
   "source": [
    "test.drop('PH', axis=1, inplace=True)"
   ]
  },
  {
   "cell_type": "code",
   "execution_count": 41,
   "metadata": {
    "collapsed": true
   },
   "outputs": [],
   "source": [
    "test['Month1']=np.where(test['Month']==1.0, 1,0)\n",
    "test['Month2']=np.where(test['Month']==2.0, 1,0)\n",
    "test['Month3']=np.where(test['Month']==3.0, 1,0)\n",
    "test['Month4']=np.where(test['Month']==4.0, 1,0)\n",
    "test['Month5']=np.where(test['Month']==5.0, 1,0)\n",
    "test['Month6']=np.where(test['Month']==6.0, 1,0)\n",
    "test['Month7']=np.where(test['Month']==7.0, 1,0)\n",
    "test['Month8']=np.where(test['Month']==8.0, 1,0)\n",
    "test['Month9']=np.where(test['Month']==9.0, 1,0)\n",
    "test['Month10']=np.where(test['Month']==10.0, 1,0)\n",
    "test['Month11']=np.where(test['Month']==11.0, 1,0)\n",
    "test['Month12']=np.where(test['Month']==12.0, 1,0)\n",
    "test['Hour1']=np.where(test['Hour']==1.0, 1,0)\n",
    "test['Hour2']=np.where(test['Hour']==2.0, 1,0)\n",
    "test['Hour3']=np.where(test['Hour']==3.0, 1,0)\n",
    "test['Hour4']=np.where(test['Hour']==4.0, 1,0)\n",
    "test['Hour5']=np.where(test['Hour']==5.0, 1,0)\n",
    "test['Hour6']=np.where(test['Hour']==6.0, 1,0)\n",
    "test['Hour7']=np.where(test['Hour']==7.0, 1,0)\n",
    "test['Hour8']=np.where(test['Hour']==8.0, 1,0)\n",
    "test['Hour9']=np.where(test['Hour']==9.0, 1,0)\n",
    "test['Hour10']=np.where(test['Hour']==10.0, 1,0)\n",
    "test['Hour11']=np.where(test['Hour']==11.0, 1,0)\n",
    "test['Hour12']=np.where(test['Hour']==12.0, 1,0)\n",
    "test['Hour13']=np.where(test['Hour']==13.0, 1,0)\n",
    "test['Hour14']=np.where(test['Hour']==14.0, 1,0)\n",
    "test['Hour15']=np.where(test['Hour']==15.0, 1,0)\n",
    "test['Hour16']=np.where(test['Hour']==16.0, 1,0)\n",
    "test['Hour17']=np.where(test['Hour']==17.0, 1,0)\n",
    "test['Hour18']=np.where(test['Hour']==18.0, 1,0)\n",
    "test['Hour19']=np.where(test['Hour']==19.0, 1,0)\n",
    "test['Hour20']=np.where(test['Hour']==20.0, 1,0)\n",
    "test['Hour21']=np.where(test['Hour']==21.0, 1,0)\n",
    "test['Hour22']=np.where(test['Hour']==22.0, 1,0)\n",
    "test['Hour23']=np.where(test['Hour']==23.0, 1,0)\n",
    "test['Hour24']=np.where(test['Hour']==24.0, 1,0)"
   ]
  },
  {
   "cell_type": "code",
   "execution_count": 42,
   "metadata": {
    "collapsed": true
   },
   "outputs": [],
   "source": [
    "test.drop('Month', axis = 1, inplace = True)\n",
    "test.drop('Hour', axis = 1, inplace = True)\n",
    "test.drop('FF', axis = 1, inplace = True)\n",
    "test_id = test.pop('id')"
   ]
  },
  {
   "cell_type": "code",
   "execution_count": 43,
   "metadata": {
    "collapsed": true
   },
   "outputs": [],
   "source": [
    "xgtest = xgb.DMatrix(test)"
   ]
  },
  {
   "cell_type": "markdown",
   "metadata": {},
   "source": [
    "<H3>Predict on test</H3>"
   ]
  },
  {
   "cell_type": "code",
   "execution_count": 44,
   "metadata": {
    "collapsed": true
   },
   "outputs": [],
   "source": [
    "pred1 = model_6_1.predict(xgtest)\n",
    "pred2 = model_6_2.predict(xgtest)"
   ]
  },
  {
   "cell_type": "code",
   "execution_count": 45,
   "metadata": {
    "collapsed": true
   },
   "outputs": [],
   "source": [
    "submission_6 = pd.DataFrame(columns = ['id', 'pred1', 'pred2', 'FF'])"
   ]
  },
  {
   "cell_type": "code",
   "execution_count": 46,
   "metadata": {
    "collapsed": true
   },
   "outputs": [],
   "source": [
    "submission_6['id'] = test_id\n",
    "submission_6['pred1'] = pred1\n",
    "submission_6['pred2'] = pred2\n",
    "submission_6['FF'] = (submission_6['pred1']+submission_6['pred2'])/2.0"
   ]
  },
  {
   "cell_type": "code",
   "execution_count": 47,
   "metadata": {
    "collapsed": true
   },
   "outputs": [],
   "source": [
    "submission_6.drop('pred1', axis = 1, inplace = True)\n",
    "submission_6.drop('pred2', axis = 1, inplace = True)"
   ]
  },
  {
   "cell_type": "code",
   "execution_count": 48,
   "metadata": {
    "collapsed": true
   },
   "outputs": [],
   "source": [
    "submission_6.to_csv('0819\\\\submission_6a.csv', index = False)"
   ]
  },
  {
   "cell_type": "markdown",
   "metadata": {},
   "source": [
    "<H3>Feature importance</H3>"
   ]
  },
  {
   "cell_type": "code",
   "execution_count": 50,
   "metadata": {
    "collapsed": false
   },
   "outputs": [],
   "source": [
    "feat_imp_1 = pd.Series(model_6_1.get_fscore()).sort_values(ascending=False)\n",
    "feat_imp_2 = pd.Series(model_6_2.get_fscore()).sort_values(ascending=False)"
   ]
  },
  {
   "cell_type": "code",
   "execution_count": 51,
   "metadata": {
    "collapsed": true
   },
   "outputs": [],
   "source": [
    "%matplotlib inline"
   ]
  },
  {
   "cell_type": "code",
   "execution_count": 52,
   "metadata": {
    "collapsed": true
   },
   "outputs": [],
   "source": [
    "feat_imp_1.to_csv('feat_imp_6_1a.csv')\n",
    "feat_imp_2.to_csv('feat_imp_6_2a.csv')"
   ]
  },
  {
   "cell_type": "code",
   "execution_count": 53,
   "metadata": {
    "collapsed": false
   },
   "outputs": [
    {
     "data": {
      "text/plain": [
       "<matplotlib.text.Text at 0x4aed8048>"
      ]
     },
     "execution_count": 53,
     "metadata": {},
     "output_type": "execute_result"
    },
    {
     "data": {
      "image/png": "[encoded data removed]",
      "text/plain": [
       "<matplotlib.figure.Figure at 0x35579d68>"
      ]
     },
     "metadata": {},
     "output_type": "display_data"
    }
   ],
   "source": [
    "feat_imp_1[:25].plot(kind='bar', title='Feature Importances')\n",
    "plt.ylabel('Feature Importance Score')"
   ]
  },
  {
   "cell_type": "code",
   "execution_count": 54,
   "metadata": {
    "collapsed": false
   },
   "outputs": [
    {
     "data": {
      "text/plain": [
       "<matplotlib.text.Text at 0x4a016f60>"
      ]
     },
     "execution_count": 54,
     "metadata": {},
     "output_type": "execute_result"
    },
    {
     "data": {
      "image/png": "[encoded data removed]",
      "text/plain": [
       "<matplotlib.figure.Figure at 0x35579dd8>"
      ]
     },
     "metadata": {},
     "output_type": "display_data"
    }
   ],
   "source": [
    "feat_imp_2[:25].plot(kind='bar', title='Feature Importances')\n",
    "plt.ylabel('Feature Importance Score')"
   ]
  }
 ],
 "metadata": {
  "kernelspec": {
   "display_name": "Python 2",
   "language": "python",
   "name": "python2"
  },
  "language_info": {
   "codemirror_mode": {
    "name": "ipython",
    "version": 2
   },
   "file_extension": ".py",
   "mimetype": "text/x-python",
   "name": "python",
   "nbconvert_exporter": "python",
   "pygments_lexer": "ipython2",
   "version": "2.7.11"
  }
 },
 "nbformat": 4,
 "nbformat_minor": 0
}
