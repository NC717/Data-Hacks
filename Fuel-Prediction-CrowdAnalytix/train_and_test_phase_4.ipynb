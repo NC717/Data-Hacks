{
 "cells": [
  {
   "cell_type": "markdown",
   "metadata": {},
   "source": [
    "<H3>Import Libraries</H3>"
   ]
  },
  {
   "cell_type": "code",
   "execution_count": 1,
   "metadata": {
    "collapsed": true
   },
   "outputs": [],
   "source": [
    "import numpy as np\n",
    "import os\n",
    "from scipy.misc import imread, imsave, imresize, imshow\n",
    "import random\n",
    "import matplotlib.pyplot as plt\n",
    "import pandas as pd\n",
    "import zipfile\n",
    "from sklearn import linear_model\n",
    "from sklearn.metrics import mean_squared_error\n",
    "from math import sqrt\n",
    "import gc\n",
    "\n",
    "import os\n",
    "\n",
    "mingw_path = 'C:\\\\Program Files\\\\mingw-w64\\\\x86_64-5.3.0-posix-seh-rt_v4-rev0\\\\mingw64\\\\bin'\n",
    "os.environ['PATH'] = mingw_path + ';' + os.environ['PATH']\n",
    "\n",
    "import xgboost as xgb"
   ]
  },
  {
   "cell_type": "code",
   "execution_count": 2,
   "metadata": {
    "collapsed": false
   },
   "outputs": [
    {
     "name": "stderr",
     "output_type": "stream",
     "text": [
      "C:\\Anaconda2\\lib\\site-packages\\IPython\\core\\interactiveshell.py:2723: DtypeWarning: Columns (1) have mixed types. Specify dtype option on import or set low_memory=False.\n",
      "  interactivity=interactivity, compiler=compiler, result=result)\n"
     ]
    }
   ],
   "source": [
    "train1 = pd.read_csv('train_part\\\\4\\\\X_train_4_a.csv')"
   ]
  },
  {
   "cell_type": "code",
   "execution_count": 3,
   "metadata": {
    "collapsed": true
   },
   "outputs": [],
   "source": [
    "train2 = pd.read_csv('train_part\\\\4\\\\X_train_4_b.csv')"
   ]
  },
  {
   "cell_type": "code",
   "execution_count": 4,
   "metadata": {
    "collapsed": true
   },
   "outputs": [],
   "source": [
    "train1 = train1.sample(frac=1).reset_index(drop=True)"
   ]
  },
  {
   "cell_type": "code",
   "execution_count": 5,
   "metadata": {
    "collapsed": true
   },
   "outputs": [],
   "source": [
    "train2 = train2.sample(frac=1).reset_index(drop=True)"
   ]
  },
  {
   "cell_type": "code",
   "execution_count": 6,
   "metadata": {
    "collapsed": false
   },
   "outputs": [],
   "source": [
    "xtrain1 = train1[:100000]\n",
    "xtrain2 = train1[100000:200000]\n",
    "xtrain3 = train1[200000:]"
   ]
  },
  {
   "cell_type": "code",
   "execution_count": 7,
   "metadata": {
    "collapsed": false
   },
   "outputs": [
    {
     "data": {
      "text/plain": [
       "14"
      ]
     },
     "execution_count": 7,
     "metadata": {},
     "output_type": "execute_result"
    }
   ],
   "source": [
    "del train1\n",
    "gc.collect()"
   ]
  },
  {
   "cell_type": "code",
   "execution_count": 8,
   "metadata": {
    "collapsed": false
   },
   "outputs": [],
   "source": [
    "xtrain1 = xtrain1.append(train2[:100000])\n",
    "xtrain2 = xtrain2.append(train2[100000:200000])\n",
    "xtrain3 = xtrain3.append(train2[200000:])"
   ]
  },
  {
   "cell_type": "code",
   "execution_count": 9,
   "metadata": {
    "collapsed": false
   },
   "outputs": [
    {
     "data": {
      "text/plain": [
       "24"
      ]
     },
     "execution_count": 9,
     "metadata": {},
     "output_type": "execute_result"
    }
   ],
   "source": [
    "del train2\n",
    "gc.collect()"
   ]
  },
  {
   "cell_type": "code",
   "execution_count": 10,
   "metadata": {
    "collapsed": true
   },
   "outputs": [],
   "source": [
    "train3 = pd.read_csv('train_part\\\\4\\\\X_train_4_c.csv')"
   ]
  },
  {
   "cell_type": "code",
   "execution_count": 11,
   "metadata": {
    "collapsed": true
   },
   "outputs": [],
   "source": [
    "train3 = train3.sample(frac=1).reset_index(drop=True)"
   ]
  },
  {
   "cell_type": "code",
   "execution_count": 12,
   "metadata": {
    "collapsed": false
   },
   "outputs": [],
   "source": [
    "xtrain1 = xtrain1.append(train3[:100000])\n",
    "xtrain2 = xtrain2.append(train3[100000:200000])\n",
    "xtrain3 = xtrain3.append(train3[200000:])"
   ]
  },
  {
   "cell_type": "code",
   "execution_count": 13,
   "metadata": {
    "collapsed": false
   },
   "outputs": [
    {
     "data": {
      "text/plain": [
       "31"
      ]
     },
     "execution_count": 13,
     "metadata": {},
     "output_type": "execute_result"
    }
   ],
   "source": [
    "del train3\n",
    "gc.collect()"
   ]
  },
  {
   "cell_type": "code",
   "execution_count": 14,
   "metadata": {
    "collapsed": true
   },
   "outputs": [],
   "source": [
    "train4 = pd.read_csv('train_part\\\\4\\\\X_train_4_d.csv')"
   ]
  },
  {
   "cell_type": "code",
   "execution_count": 15,
   "metadata": {
    "collapsed": true
   },
   "outputs": [],
   "source": [
    "train4 = train4.sample(frac=1).reset_index(drop=True)"
   ]
  },
  {
   "cell_type": "code",
   "execution_count": 16,
   "metadata": {
    "collapsed": true
   },
   "outputs": [],
   "source": [
    "xtrain1 = xtrain1.append(train4[:100000])\n",
    "xtrain2 = xtrain2.append(train4[100000:200000])\n",
    "xtrain3 = xtrain3.append(train4[200000:])"
   ]
  },
  {
   "cell_type": "code",
   "execution_count": 17,
   "metadata": {
    "collapsed": false
   },
   "outputs": [
    {
     "data": {
      "text/plain": [
       "31"
      ]
     },
     "execution_count": 17,
     "metadata": {},
     "output_type": "execute_result"
    }
   ],
   "source": [
    "del train4\n",
    "gc.collect()"
   ]
  },
  {
   "cell_type": "code",
   "execution_count": 18,
   "metadata": {
    "collapsed": false
   },
   "outputs": [],
   "source": [
    "xtrain1.drop(xtrain1.columns[[0,1,2,6,7]], axis = 1, inplace = True)\n",
    "xtrain2.drop(xtrain2.columns[[0,1,2,6,7]], axis = 1, inplace = True)\n",
    "xtrain3.drop(xtrain3.columns[[0,1,2,6,7]], axis = 1, inplace = True)\n",
    "\n",
    "xtrain1.drop('PH', axis=1, inplace=True)\n",
    "xtrain2.drop('PH', axis=1, inplace=True)\n",
    "xtrain3.drop('PH', axis=1, inplace=True)"
   ]
  },
  {
   "cell_type": "code",
   "execution_count": 19,
   "metadata": {
    "collapsed": true
   },
   "outputs": [],
   "source": [
    "xtrain1['Month1']=np.where(xtrain1['Month']==1.0, 1,0)\n",
    "xtrain1['Month2']=np.where(xtrain1['Month']==2.0, 1,0)\n",
    "xtrain1['Month3']=np.where(xtrain1['Month']==3.0, 1,0)\n",
    "xtrain1['Month4']=np.where(xtrain1['Month']==4.0, 1,0)\n",
    "xtrain1['Month5']=np.where(xtrain1['Month']==5.0, 1,0)\n",
    "xtrain1['Month6']=np.where(xtrain1['Month']==6.0, 1,0)\n",
    "xtrain1['Month7']=np.where(xtrain1['Month']==7.0, 1,0)\n",
    "xtrain1['Month8']=np.where(xtrain1['Month']==8.0, 1,0)\n",
    "xtrain1['Month9']=np.where(xtrain1['Month']==9.0, 1,0)\n",
    "xtrain1['Month10']=np.where(xtrain1['Month']==10.0, 1,0)\n",
    "xtrain1['Month11']=np.where(xtrain1['Month']==11.0, 1,0)\n",
    "xtrain1['Month12']=np.where(xtrain1['Month']==12.0, 1,0)\n",
    "xtrain1['Hour1']=np.where(xtrain1['Hour']==1.0, 1,0)\n",
    "xtrain1['Hour2']=np.where(xtrain1['Hour']==2.0, 1,0)\n",
    "xtrain1['Hour3']=np.where(xtrain1['Hour']==3.0, 1,0)\n",
    "xtrain1['Hour4']=np.where(xtrain1['Hour']==4.0, 1,0)\n",
    "xtrain1['Hour5']=np.where(xtrain1['Hour']==5.0, 1,0)\n",
    "xtrain1['Hour6']=np.where(xtrain1['Hour']==6.0, 1,0)\n",
    "xtrain1['Hour7']=np.where(xtrain1['Hour']==7.0, 1,0)\n",
    "xtrain1['Hour8']=np.where(xtrain1['Hour']==8.0, 1,0)\n",
    "xtrain1['Hour9']=np.where(xtrain1['Hour']==9.0, 1,0)\n",
    "xtrain1['Hour10']=np.where(xtrain1['Hour']==10.0, 1,0)\n",
    "xtrain1['Hour11']=np.where(xtrain1['Hour']==11.0, 1,0)\n",
    "xtrain1['Hour12']=np.where(xtrain1['Hour']==12.0, 1,0)\n",
    "xtrain1['Hour13']=np.where(xtrain1['Hour']==13.0, 1,0)\n",
    "xtrain1['Hour14']=np.where(xtrain1['Hour']==14.0, 1,0)\n",
    "xtrain1['Hour15']=np.where(xtrain1['Hour']==15.0, 1,0)\n",
    "xtrain1['Hour16']=np.where(xtrain1['Hour']==16.0, 1,0)\n",
    "xtrain1['Hour17']=np.where(xtrain1['Hour']==17.0, 1,0)\n",
    "xtrain1['Hour18']=np.where(xtrain1['Hour']==18.0, 1,0)\n",
    "xtrain1['Hour19']=np.where(xtrain1['Hour']==19.0, 1,0)\n",
    "xtrain1['Hour20']=np.where(xtrain1['Hour']==20.0, 1,0)\n",
    "xtrain1['Hour21']=np.where(xtrain1['Hour']==21.0, 1,0)\n",
    "xtrain1['Hour22']=np.where(xtrain1['Hour']==22.0, 1,0)\n",
    "xtrain1['Hour23']=np.where(xtrain1['Hour']==23.0, 1,0)\n",
    "xtrain1['Hour24']=np.where(xtrain1['Hour']==24.0, 1,0)\n",
    "xtrain2['Month1']=np.where(xtrain2['Month']==1.0, 1,0)\n",
    "xtrain2['Month2']=np.where(xtrain2['Month']==2.0, 1,0)\n",
    "xtrain2['Month3']=np.where(xtrain2['Month']==3.0, 1,0)\n",
    "xtrain2['Month4']=np.where(xtrain2['Month']==4.0, 1,0)\n",
    "xtrain2['Month5']=np.where(xtrain2['Month']==5.0, 1,0)\n",
    "xtrain2['Month6']=np.where(xtrain2['Month']==6.0, 1,0)\n",
    "xtrain2['Month7']=np.where(xtrain2['Month']==7.0, 1,0)\n",
    "xtrain2['Month8']=np.where(xtrain2['Month']==8.0, 1,0)\n",
    "xtrain2['Month9']=np.where(xtrain2['Month']==9.0, 1,0)\n",
    "xtrain2['Month10']=np.where(xtrain2['Month']==10.0, 1,0)\n",
    "xtrain2['Month11']=np.where(xtrain2['Month']==11.0, 1,0)\n",
    "xtrain2['Month12']=np.where(xtrain2['Month']==12.0, 1,0)\n",
    "xtrain2['Hour1']=np.where(xtrain2['Hour']==1.0, 1,0)\n",
    "xtrain2['Hour2']=np.where(xtrain2['Hour']==2.0, 1,0)\n",
    "xtrain2['Hour3']=np.where(xtrain2['Hour']==3.0, 1,0)\n",
    "xtrain2['Hour4']=np.where(xtrain2['Hour']==4.0, 1,0)\n",
    "xtrain2['Hour5']=np.where(xtrain2['Hour']==5.0, 1,0)\n",
    "xtrain2['Hour6']=np.where(xtrain2['Hour']==6.0, 1,0)\n",
    "xtrain2['Hour7']=np.where(xtrain2['Hour']==7.0, 1,0)\n",
    "xtrain2['Hour8']=np.where(xtrain2['Hour']==8.0, 1,0)\n",
    "xtrain2['Hour9']=np.where(xtrain2['Hour']==9.0, 1,0)\n",
    "xtrain2['Hour10']=np.where(xtrain2['Hour']==10.0, 1,0)\n",
    "xtrain2['Hour11']=np.where(xtrain2['Hour']==11.0, 1,0)\n",
    "xtrain2['Hour12']=np.where(xtrain2['Hour']==12.0, 1,0)\n",
    "xtrain2['Hour13']=np.where(xtrain2['Hour']==13.0, 1,0)\n",
    "xtrain2['Hour14']=np.where(xtrain2['Hour']==14.0, 1,0)\n",
    "xtrain2['Hour15']=np.where(xtrain2['Hour']==15.0, 1,0)\n",
    "xtrain2['Hour16']=np.where(xtrain2['Hour']==16.0, 1,0)\n",
    "xtrain2['Hour17']=np.where(xtrain2['Hour']==17.0, 1,0)\n",
    "xtrain2['Hour18']=np.where(xtrain2['Hour']==18.0, 1,0)\n",
    "xtrain2['Hour19']=np.where(xtrain2['Hour']==19.0, 1,0)\n",
    "xtrain2['Hour20']=np.where(xtrain2['Hour']==20.0, 1,0)\n",
    "xtrain2['Hour21']=np.where(xtrain2['Hour']==21.0, 1,0)\n",
    "xtrain2['Hour22']=np.where(xtrain2['Hour']==22.0, 1,0)\n",
    "xtrain2['Hour23']=np.where(xtrain2['Hour']==23.0, 1,0)\n",
    "xtrain2['Hour24']=np.where(xtrain2['Hour']==24.0, 1,0)\n",
    "xtrain3['Month1']=np.where(xtrain3['Month']==1.0, 1,0)\n",
    "xtrain3['Month2']=np.where(xtrain3['Month']==2.0, 1,0)\n",
    "xtrain3['Month3']=np.where(xtrain3['Month']==3.0, 1,0)\n",
    "xtrain3['Month4']=np.where(xtrain3['Month']==4.0, 1,0)\n",
    "xtrain3['Month5']=np.where(xtrain3['Month']==5.0, 1,0)\n",
    "xtrain3['Month6']=np.where(xtrain3['Month']==6.0, 1,0)\n",
    "xtrain3['Month7']=np.where(xtrain3['Month']==7.0, 1,0)\n",
    "xtrain3['Month8']=np.where(xtrain3['Month']==8.0, 1,0)\n",
    "xtrain3['Month9']=np.where(xtrain3['Month']==9.0, 1,0)\n",
    "xtrain3['Month10']=np.where(xtrain3['Month']==10.0, 1,0)\n",
    "xtrain3['Month11']=np.where(xtrain3['Month']==11.0, 1,0)\n",
    "xtrain3['Month12']=np.where(xtrain3['Month']==12.0, 1,0)\n",
    "xtrain3['Hour1']=np.where(xtrain3['Hour']==1.0, 1,0)\n",
    "xtrain3['Hour2']=np.where(xtrain3['Hour']==2.0, 1,0)\n",
    "xtrain3['Hour3']=np.where(xtrain3['Hour']==3.0, 1,0)\n",
    "xtrain3['Hour4']=np.where(xtrain3['Hour']==4.0, 1,0)\n",
    "xtrain3['Hour5']=np.where(xtrain3['Hour']==5.0, 1,0)\n",
    "xtrain3['Hour6']=np.where(xtrain3['Hour']==6.0, 1,0)\n",
    "xtrain3['Hour7']=np.where(xtrain3['Hour']==7.0, 1,0)\n",
    "xtrain3['Hour8']=np.where(xtrain3['Hour']==8.0, 1,0)\n",
    "xtrain3['Hour9']=np.where(xtrain3['Hour']==9.0, 1,0)\n",
    "xtrain3['Hour10']=np.where(xtrain3['Hour']==10.0, 1,0)\n",
    "xtrain3['Hour11']=np.where(xtrain3['Hour']==11.0, 1,0)\n",
    "xtrain3['Hour12']=np.where(xtrain3['Hour']==12.0, 1,0)\n",
    "xtrain3['Hour13']=np.where(xtrain3['Hour']==13.0, 1,0)\n",
    "xtrain3['Hour14']=np.where(xtrain3['Hour']==14.0, 1,0)\n",
    "xtrain3['Hour15']=np.where(xtrain3['Hour']==15.0, 1,0)\n",
    "xtrain3['Hour16']=np.where(xtrain3['Hour']==16.0, 1,0)\n",
    "xtrain3['Hour17']=np.where(xtrain3['Hour']==17.0, 1,0)\n",
    "xtrain3['Hour18']=np.where(xtrain3['Hour']==18.0, 1,0)\n",
    "xtrain3['Hour19']=np.where(xtrain3['Hour']==19.0, 1,0)\n",
    "xtrain3['Hour20']=np.where(xtrain3['Hour']==20.0, 1,0)\n",
    "xtrain3['Hour21']=np.where(xtrain3['Hour']==21.0, 1,0)\n",
    "xtrain3['Hour22']=np.where(xtrain3['Hour']==22.0, 1,0)\n",
    "xtrain3['Hour23']=np.where(xtrain3['Hour']==23.0, 1,0)\n",
    "xtrain3['Hour24']=np.where(xtrain3['Hour']==24.0, 1,0)"
   ]
  },
  {
   "cell_type": "code",
   "execution_count": 20,
   "metadata": {
    "collapsed": false
   },
   "outputs": [],
   "source": [
    "xtrain1.drop('Month', axis = 1, inplace = True)\n",
    "xtrain2.drop('Month', axis = 1, inplace = True)\n",
    "xtrain3.drop('Month', axis = 1, inplace = True)\n",
    "\n",
    "xtrain1.drop('Hour', axis = 1, inplace = True)\n",
    "xtrain2.drop('Hour', axis = 1, inplace = True)\n",
    "xtrain3.drop('Hour', axis = 1, inplace = True)"
   ]
  },
  {
   "cell_type": "code",
   "execution_count": 21,
   "metadata": {
    "collapsed": true
   },
   "outputs": [],
   "source": [
    "y1 = xtrain1.pop('FF')\n",
    "y2 = xtrain2.pop('FF')\n",
    "y3 = xtrain3.pop('FF')"
   ]
  },
  {
   "cell_type": "code",
   "execution_count": 22,
   "metadata": {
    "collapsed": true
   },
   "outputs": [],
   "source": [
    "xgtrain1 = xgb.DMatrix(xtrain1, label = y1)"
   ]
  },
  {
   "cell_type": "code",
   "execution_count": 23,
   "metadata": {
    "collapsed": false
   },
   "outputs": [
    {
     "data": {
      "text/plain": [
       "322"
      ]
     },
     "execution_count": 23,
     "metadata": {},
     "output_type": "execute_result"
    }
   ],
   "source": [
    "del xtrain1\n",
    "gc.collect()"
   ]
  },
  {
   "cell_type": "code",
   "execution_count": 24,
   "metadata": {
    "collapsed": true
   },
   "outputs": [],
   "source": [
    "xgtrain2 = xgb.DMatrix(xtrain2, label = y2)"
   ]
  },
  {
   "cell_type": "code",
   "execution_count": 25,
   "metadata": {
    "collapsed": false
   },
   "outputs": [
    {
     "data": {
      "text/plain": [
       "7"
      ]
     },
     "execution_count": 25,
     "metadata": {},
     "output_type": "execute_result"
    }
   ],
   "source": [
    "del xtrain2\n",
    "gc.collect()"
   ]
  },
  {
   "cell_type": "code",
   "execution_count": 26,
   "metadata": {
    "collapsed": true
   },
   "outputs": [],
   "source": [
    "xgtrain3 = xgb.DMatrix(xtrain3, label = y3)"
   ]
  },
  {
   "cell_type": "code",
   "execution_count": 27,
   "metadata": {
    "collapsed": false
   },
   "outputs": [
    {
     "data": {
      "text/plain": [
       "7"
      ]
     },
     "execution_count": 27,
     "metadata": {},
     "output_type": "execute_result"
    }
   ],
   "source": [
    "del xtrain3\n",
    "gc.collect()"
   ]
  },
  {
   "cell_type": "markdown",
   "metadata": {},
   "source": [
    "<H3>Train the model</H3>"
   ]
  },
  {
   "cell_type": "code",
   "execution_count": 28,
   "metadata": {
    "collapsed": false
   },
   "outputs": [
    {
     "name": "stdout",
     "output_type": "stream",
     "text": [
      "[0]\ttrain-rmse:6648.91\teval-rmse:6653.19\n",
      "Multiple eval metrics have been passed: 'eval-rmse' will be used for early stopping.\n",
      "\n",
      "Will train until eval-rmse hasn't improved in 10 rounds.\n",
      "[1]\ttrain-rmse:5985.07\teval-rmse:5989\n",
      "[2]\ttrain-rmse:5387.71\teval-rmse:5391.33\n",
      "[3]\ttrain-rmse:4850.12\teval-rmse:4853.45\n",
      "[4]\ttrain-rmse:4366.29\teval-rmse:4369.37\n",
      "[5]\ttrain-rmse:3930.84\teval-rmse:3933.69\n",
      "[6]\ttrain-rmse:3539\teval-rmse:3541.59\n",
      "[7]\ttrain-rmse:3186.38\teval-rmse:3188.78\n",
      "[8]\ttrain-rmse:2869.14\teval-rmse:2871.4\n",
      "[9]\ttrain-rmse:2583.68\teval-rmse:2585.8\n",
      "[10]\ttrain-rmse:2326.81\teval-rmse:2328.8\n",
      "[11]\ttrain-rmse:2095.69\teval-rmse:2097.52\n",
      "[12]\ttrain-rmse:1887.75\teval-rmse:1889.47\n",
      "[13]\ttrain-rmse:1700.68\teval-rmse:1702.3\n",
      "[14]\ttrain-rmse:1532.46\teval-rmse:1534\n",
      "[15]\ttrain-rmse:1381.16\teval-rmse:1382.63\n",
      "[16]\ttrain-rmse:1245.15\teval-rmse:1246.55\n",
      "[17]\ttrain-rmse:1122.88\teval-rmse:1124.24\n",
      "[18]\ttrain-rmse:1012.96\teval-rmse:1014.25\n",
      "[19]\ttrain-rmse:914.171\teval-rmse:915.393\n",
      "[20]\ttrain-rmse:825.462\teval-rmse:826.671\n",
      "[21]\ttrain-rmse:745.812\teval-rmse:747.013\n",
      "[22]\ttrain-rmse:674.265\teval-rmse:675.451\n",
      "[23]\ttrain-rmse:610.205\teval-rmse:611.426\n",
      "[24]\ttrain-rmse:552.778\teval-rmse:554.002\n",
      "[25]\ttrain-rmse:501.329\teval-rmse:502.533\n",
      "[26]\ttrain-rmse:455.331\teval-rmse:456.56\n",
      "[27]\ttrain-rmse:414.202\teval-rmse:415.484\n",
      "[28]\ttrain-rmse:377.542\teval-rmse:378.871\n",
      "[29]\ttrain-rmse:344.892\teval-rmse:346.309\n",
      "[30]\ttrain-rmse:315.858\teval-rmse:317.361\n",
      "[31]\ttrain-rmse:290.1\teval-rmse:291.675\n",
      "[32]\ttrain-rmse:267.236\teval-rmse:268.888\n",
      "[33]\ttrain-rmse:246.777\teval-rmse:248.555\n",
      "[34]\ttrain-rmse:228.886\teval-rmse:230.81\n",
      "[35]\ttrain-rmse:213.357\teval-rmse:215.451\n",
      "[36]\ttrain-rmse:199.218\teval-rmse:201.424\n",
      "[37]\ttrain-rmse:187.293\teval-rmse:189.645\n",
      "[38]\ttrain-rmse:176.92\teval-rmse:179.438\n",
      "[39]\ttrain-rmse:167.367\teval-rmse:170.03\n",
      "[40]\ttrain-rmse:159.498\teval-rmse:162.35\n",
      "[41]\ttrain-rmse:152.446\teval-rmse:155.481\n",
      "[42]\ttrain-rmse:146.381\teval-rmse:149.544\n",
      "[43]\ttrain-rmse:140.966\teval-rmse:144.3\n",
      "[44]\ttrain-rmse:136.637\teval-rmse:140.068\n",
      "[45]\ttrain-rmse:132.538\teval-rmse:136.129\n",
      "[46]\ttrain-rmse:129.009\teval-rmse:132.76\n",
      "[47]\ttrain-rmse:126.202\teval-rmse:130.076\n",
      "[48]\ttrain-rmse:123.721\teval-rmse:127.7\n",
      "[49]\ttrain-rmse:121.192\teval-rmse:125.335\n",
      "[50]\ttrain-rmse:119.235\teval-rmse:123.502\n",
      "[51]\ttrain-rmse:117.556\teval-rmse:121.899\n",
      "[52]\ttrain-rmse:116.023\teval-rmse:120.457\n",
      "[53]\ttrain-rmse:114.574\teval-rmse:119.114\n",
      "[54]\ttrain-rmse:113.401\teval-rmse:118.012\n",
      "[55]\ttrain-rmse:112.331\teval-rmse:117\n",
      "[56]\ttrain-rmse:111.251\teval-rmse:116.022\n",
      "[57]\ttrain-rmse:110.273\teval-rmse:115.109\n",
      "[58]\ttrain-rmse:109.59\teval-rmse:114.517\n",
      "[59]\ttrain-rmse:108.797\teval-rmse:113.791\n",
      "[60]\ttrain-rmse:108.006\teval-rmse:113.082\n",
      "[61]\ttrain-rmse:107.188\teval-rmse:112.314\n",
      "[62]\ttrain-rmse:106.577\teval-rmse:111.79\n",
      "[63]\ttrain-rmse:105.934\teval-rmse:111.223\n",
      "[64]\ttrain-rmse:104.908\teval-rmse:110.282\n",
      "[65]\ttrain-rmse:104.347\teval-rmse:109.775\n",
      "[66]\ttrain-rmse:103.878\teval-rmse:109.381\n",
      "[67]\ttrain-rmse:103.424\teval-rmse:108.976\n",
      "[68]\ttrain-rmse:102.887\teval-rmse:108.492\n",
      "[69]\ttrain-rmse:102.397\teval-rmse:108.074\n",
      "[70]\ttrain-rmse:101.932\teval-rmse:107.686\n",
      "[71]\ttrain-rmse:101.668\teval-rmse:107.449\n",
      "[72]\ttrain-rmse:101.148\teval-rmse:106.996\n",
      "[73]\ttrain-rmse:100.711\teval-rmse:106.601\n",
      "[74]\ttrain-rmse:100.061\teval-rmse:105.987\n",
      "[75]\ttrain-rmse:99.6752\teval-rmse:105.653\n",
      "[76]\ttrain-rmse:99.3687\teval-rmse:105.443\n",
      "[77]\ttrain-rmse:98.7884\teval-rmse:104.938\n",
      "[78]\ttrain-rmse:98.459\teval-rmse:104.675\n",
      "[79]\ttrain-rmse:98.095\teval-rmse:104.361\n",
      "[80]\ttrain-rmse:97.8384\teval-rmse:104.13\n",
      "[81]\ttrain-rmse:97.5231\teval-rmse:103.876\n",
      "[82]\ttrain-rmse:97.1799\teval-rmse:103.564\n",
      "[83]\ttrain-rmse:96.8465\teval-rmse:103.295\n",
      "[84]\ttrain-rmse:96.3949\teval-rmse:102.891\n",
      "[85]\ttrain-rmse:96.1219\teval-rmse:102.655\n",
      "[86]\ttrain-rmse:95.5744\teval-rmse:102.177\n",
      "[87]\ttrain-rmse:95.161\teval-rmse:101.817\n",
      "[88]\ttrain-rmse:94.9223\teval-rmse:101.616\n",
      "[89]\ttrain-rmse:94.6397\teval-rmse:101.36\n",
      "[90]\ttrain-rmse:94.4051\teval-rmse:101.165\n",
      "[91]\ttrain-rmse:94.1911\teval-rmse:100.99\n",
      "[92]\ttrain-rmse:93.8197\teval-rmse:100.628\n",
      "[93]\ttrain-rmse:93.4562\teval-rmse:100.316\n",
      "[94]\ttrain-rmse:93.1376\teval-rmse:100.032\n",
      "[95]\ttrain-rmse:92.9653\teval-rmse:99.8973\n",
      "[96]\ttrain-rmse:92.7235\teval-rmse:99.7361\n",
      "[97]\ttrain-rmse:92.4429\teval-rmse:99.4789\n",
      "[98]\ttrain-rmse:91.9931\teval-rmse:99.1136\n",
      "[99]\ttrain-rmse:91.6112\teval-rmse:98.7909\n",
      "[100]\ttrain-rmse:91.5077\teval-rmse:98.7146\n",
      "[101]\ttrain-rmse:91.1794\teval-rmse:98.425\n",
      "[102]\ttrain-rmse:90.9773\teval-rmse:98.2523\n",
      "[103]\ttrain-rmse:90.7461\teval-rmse:98.0411\n",
      "[104]\ttrain-rmse:90.469\teval-rmse:97.7896\n",
      "[105]\ttrain-rmse:90.2854\teval-rmse:97.6152\n",
      "[106]\ttrain-rmse:89.9606\teval-rmse:97.3384\n",
      "[107]\ttrain-rmse:89.7087\teval-rmse:97.1077\n",
      "[108]\ttrain-rmse:89.419\teval-rmse:96.8704\n",
      "[109]\ttrain-rmse:89.2649\teval-rmse:96.7463\n",
      "[110]\ttrain-rmse:89.0658\teval-rmse:96.5568\n",
      "[111]\ttrain-rmse:88.8263\teval-rmse:96.3618\n",
      "[112]\ttrain-rmse:88.5759\teval-rmse:96.1867\n",
      "[113]\ttrain-rmse:88.3986\teval-rmse:96.0296\n",
      "[114]\ttrain-rmse:88.0213\teval-rmse:95.6719\n",
      "[115]\ttrain-rmse:87.8521\teval-rmse:95.5599\n",
      "[116]\ttrain-rmse:87.6547\teval-rmse:95.4261\n",
      "[117]\ttrain-rmse:87.427\teval-rmse:95.2419\n",
      "[118]\ttrain-rmse:87.0603\teval-rmse:94.9495\n",
      "[119]\ttrain-rmse:86.7749\teval-rmse:94.7185\n",
      "[120]\ttrain-rmse:86.5414\teval-rmse:94.5013\n",
      "[121]\ttrain-rmse:86.3997\teval-rmse:94.3861\n",
      "[122]\ttrain-rmse:86.1957\teval-rmse:94.2383\n",
      "[123]\ttrain-rmse:86.0753\teval-rmse:94.1252\n",
      "[124]\ttrain-rmse:85.7334\teval-rmse:93.8386\n",
      "[125]\ttrain-rmse:85.5714\teval-rmse:93.7095\n",
      "[126]\ttrain-rmse:85.3701\teval-rmse:93.5469\n",
      "[127]\ttrain-rmse:85.2805\teval-rmse:93.4677\n",
      "[128]\ttrain-rmse:85.0917\teval-rmse:93.2916\n",
      "[129]\ttrain-rmse:84.9258\teval-rmse:93.1508\n",
      "[130]\ttrain-rmse:84.7489\teval-rmse:93.008\n",
      "[131]\ttrain-rmse:84.4433\teval-rmse:92.7619\n",
      "[132]\ttrain-rmse:84.1547\teval-rmse:92.533\n",
      "[133]\ttrain-rmse:84.0002\teval-rmse:92.4006\n",
      "[134]\ttrain-rmse:83.8274\teval-rmse:92.2365\n",
      "[135]\ttrain-rmse:83.6448\teval-rmse:92.0737\n",
      "[136]\ttrain-rmse:83.5329\teval-rmse:91.9812\n",
      "[137]\ttrain-rmse:83.2187\teval-rmse:91.7444\n",
      "[138]\ttrain-rmse:83.0265\teval-rmse:91.594\n",
      "[139]\ttrain-rmse:82.9071\teval-rmse:91.5033\n",
      "[140]\ttrain-rmse:82.6715\teval-rmse:91.3256\n",
      "[141]\ttrain-rmse:82.3926\teval-rmse:91.0666\n",
      "[142]\ttrain-rmse:82.2327\teval-rmse:90.937\n",
      "[143]\ttrain-rmse:81.9976\teval-rmse:90.7359\n",
      "[144]\ttrain-rmse:81.81\teval-rmse:90.5653\n",
      "[145]\ttrain-rmse:81.7125\teval-rmse:90.4771\n",
      "[146]\ttrain-rmse:81.4962\teval-rmse:90.2928\n",
      "[147]\ttrain-rmse:81.4115\teval-rmse:90.2126\n",
      "[148]\ttrain-rmse:81.223\teval-rmse:90.0691\n",
      "[149]\ttrain-rmse:81.131\teval-rmse:89.9873\n",
      "[150]\ttrain-rmse:81.0035\teval-rmse:89.8817\n",
      "[151]\ttrain-rmse:80.8775\teval-rmse:89.7777\n",
      "[152]\ttrain-rmse:80.5995\teval-rmse:89.5341\n",
      "[153]\ttrain-rmse:80.4278\teval-rmse:89.3966\n",
      "[154]\ttrain-rmse:80.2819\teval-rmse:89.2664\n",
      "[155]\ttrain-rmse:80.1055\teval-rmse:89.1327\n",
      "[156]\ttrain-rmse:79.8612\teval-rmse:88.938\n",
      "[157]\ttrain-rmse:79.7116\teval-rmse:88.8171\n",
      "[158]\ttrain-rmse:79.5616\teval-rmse:88.701\n",
      "[159]\ttrain-rmse:79.4002\teval-rmse:88.5647\n",
      "[160]\ttrain-rmse:79.1625\teval-rmse:88.3731\n",
      "[161]\ttrain-rmse:78.911\teval-rmse:88.1578\n",
      "[162]\ttrain-rmse:78.7962\teval-rmse:88.059\n",
      "[163]\ttrain-rmse:78.6187\teval-rmse:87.9103\n",
      "[164]\ttrain-rmse:78.4789\teval-rmse:87.8261\n",
      "[165]\ttrain-rmse:78.3397\teval-rmse:87.7166\n",
      "[166]\ttrain-rmse:78.196\teval-rmse:87.6146\n",
      "[167]\ttrain-rmse:78.1187\teval-rmse:87.5558\n",
      "[168]\ttrain-rmse:77.9275\teval-rmse:87.3784\n",
      "[169]\ttrain-rmse:77.7117\teval-rmse:87.203\n",
      "[170]\ttrain-rmse:77.5478\teval-rmse:87.0714\n",
      "[171]\ttrain-rmse:77.4605\teval-rmse:87.0004\n",
      "[172]\ttrain-rmse:77.1987\teval-rmse:86.782\n",
      "[173]\ttrain-rmse:77.0731\teval-rmse:86.6724\n",
      "[174]\ttrain-rmse:76.9704\teval-rmse:86.5915\n",
      "[175]\ttrain-rmse:76.8736\teval-rmse:86.5119\n",
      "[176]\ttrain-rmse:76.6982\teval-rmse:86.3433\n",
      "[177]\ttrain-rmse:76.5663\teval-rmse:86.2337\n",
      "[178]\ttrain-rmse:76.4768\teval-rmse:86.1641\n",
      "[179]\ttrain-rmse:76.401\teval-rmse:86.0982\n",
      "[180]\ttrain-rmse:76.2295\teval-rmse:85.9596\n",
      "[181]\ttrain-rmse:76.0153\teval-rmse:85.7969\n",
      "[182]\ttrain-rmse:75.8939\teval-rmse:85.7164\n",
      "[183]\ttrain-rmse:75.7456\teval-rmse:85.5821\n",
      "[184]\ttrain-rmse:75.7023\teval-rmse:85.543\n",
      "[185]\ttrain-rmse:75.5467\teval-rmse:85.4224\n",
      "[186]\ttrain-rmse:75.3623\teval-rmse:85.2491\n",
      "[187]\ttrain-rmse:75.2773\teval-rmse:85.1849\n",
      "[188]\ttrain-rmse:75.1833\teval-rmse:85.0996\n",
      "[189]\ttrain-rmse:75.0281\teval-rmse:84.9768\n",
      "[190]\ttrain-rmse:74.8615\teval-rmse:84.8366\n",
      "[191]\ttrain-rmse:74.7862\teval-rmse:84.788\n",
      "[192]\ttrain-rmse:74.6099\teval-rmse:84.636\n",
      "[193]\ttrain-rmse:74.3653\teval-rmse:84.4192\n",
      "[194]\ttrain-rmse:74.2867\teval-rmse:84.3538\n",
      "[195]\ttrain-rmse:74.1169\teval-rmse:84.2187\n",
      "[196]\ttrain-rmse:74.0219\teval-rmse:84.155\n",
      "[197]\ttrain-rmse:73.9097\teval-rmse:84.0559\n",
      "[198]\ttrain-rmse:73.8179\teval-rmse:83.9786\n",
      "[199]\ttrain-rmse:73.6637\teval-rmse:83.8545\n",
      "[200]\ttrain-rmse:73.5739\teval-rmse:83.7719\n",
      "[201]\ttrain-rmse:73.3797\teval-rmse:83.6045\n",
      "[202]\ttrain-rmse:73.2546\teval-rmse:83.5042\n",
      "[203]\ttrain-rmse:73.1014\teval-rmse:83.3925\n",
      "[204]\ttrain-rmse:72.9546\teval-rmse:83.2725\n",
      "[205]\ttrain-rmse:72.8712\teval-rmse:83.1912\n",
      "[206]\ttrain-rmse:72.8027\teval-rmse:83.1329\n",
      "[207]\ttrain-rmse:72.6956\teval-rmse:83.0437\n",
      "[208]\ttrain-rmse:72.5862\teval-rmse:82.9479\n",
      "[209]\ttrain-rmse:72.3965\teval-rmse:82.7881\n",
      "[210]\ttrain-rmse:72.1321\teval-rmse:82.5624\n",
      "[211]\ttrain-rmse:72.0443\teval-rmse:82.489\n",
      "[212]\ttrain-rmse:71.9126\teval-rmse:82.3853\n",
      "[213]\ttrain-rmse:71.7769\teval-rmse:82.2825\n",
      "[214]\ttrain-rmse:71.6582\teval-rmse:82.176\n",
      "[215]\ttrain-rmse:71.5255\teval-rmse:82.0793\n",
      "[216]\ttrain-rmse:71.325\teval-rmse:81.9051\n",
      "[217]\ttrain-rmse:71.2685\teval-rmse:81.8595\n",
      "[218]\ttrain-rmse:71.1981\teval-rmse:81.7989\n",
      "[219]\ttrain-rmse:71.0211\teval-rmse:81.6438\n",
      "[220]\ttrain-rmse:70.8444\teval-rmse:81.5007\n",
      "[221]\ttrain-rmse:70.6991\teval-rmse:81.3858\n",
      "[222]\ttrain-rmse:70.5793\teval-rmse:81.2794\n",
      "[223]\ttrain-rmse:70.4865\teval-rmse:81.2055\n",
      "[224]\ttrain-rmse:70.3048\teval-rmse:81.0506\n",
      "[225]\ttrain-rmse:70.1479\teval-rmse:80.9243\n",
      "[226]\ttrain-rmse:70.0271\teval-rmse:80.8212\n",
      "[227]\ttrain-rmse:69.871\teval-rmse:80.6975\n",
      "[228]\ttrain-rmse:69.7222\teval-rmse:80.5902\n",
      "[229]\ttrain-rmse:69.634\teval-rmse:80.5079\n",
      "[230]\ttrain-rmse:69.4721\teval-rmse:80.3848\n",
      "[231]\ttrain-rmse:69.352\teval-rmse:80.2943\n",
      "[232]\ttrain-rmse:69.2732\teval-rmse:80.2346\n",
      "[233]\ttrain-rmse:69.2227\teval-rmse:80.1947\n",
      "[234]\ttrain-rmse:69.0917\teval-rmse:80.0943\n",
      "[235]\ttrain-rmse:69.0051\teval-rmse:80.017\n",
      "[236]\ttrain-rmse:68.9489\teval-rmse:79.9749\n",
      "[237]\ttrain-rmse:68.8729\teval-rmse:79.9096\n",
      "[238]\ttrain-rmse:68.8357\teval-rmse:79.8773\n",
      "[239]\ttrain-rmse:68.7476\teval-rmse:79.8074\n",
      "[240]\ttrain-rmse:68.7028\teval-rmse:79.778\n",
      "[241]\ttrain-rmse:68.5582\teval-rmse:79.658\n",
      "[242]\ttrain-rmse:68.4524\teval-rmse:79.5719\n",
      "[243]\ttrain-rmse:68.325\teval-rmse:79.4603\n",
      "[244]\ttrain-rmse:68.2031\teval-rmse:79.367\n",
      "[245]\ttrain-rmse:68.0035\teval-rmse:79.1824\n",
      "[246]\ttrain-rmse:67.9121\teval-rmse:79.1121\n",
      "[247]\ttrain-rmse:67.8439\teval-rmse:79.0579\n",
      "[248]\ttrain-rmse:67.6286\teval-rmse:78.8962\n",
      "[249]\ttrain-rmse:67.5507\teval-rmse:78.8317\n",
      "[250]\ttrain-rmse:67.455\teval-rmse:78.7703\n",
      "[251]\ttrain-rmse:67.3762\teval-rmse:78.7084\n",
      "[252]\ttrain-rmse:67.3144\teval-rmse:78.6671\n",
      "[253]\ttrain-rmse:67.1718\teval-rmse:78.5415\n",
      "[254]\ttrain-rmse:67.1083\teval-rmse:78.4936\n",
      "[255]\ttrain-rmse:67.0002\teval-rmse:78.4083\n",
      "[256]\ttrain-rmse:66.9467\teval-rmse:78.3704\n",
      "[257]\ttrain-rmse:66.8853\teval-rmse:78.3191\n",
      "[258]\ttrain-rmse:66.8374\teval-rmse:78.2788\n",
      "[259]\ttrain-rmse:66.8062\teval-rmse:78.266\n",
      "[260]\ttrain-rmse:66.7549\teval-rmse:78.2277\n",
      "[261]\ttrain-rmse:66.6813\teval-rmse:78.172\n",
      "[262]\ttrain-rmse:66.5708\teval-rmse:78.1327\n",
      "[263]\ttrain-rmse:66.4705\teval-rmse:78.0635\n",
      "[264]\ttrain-rmse:66.4174\teval-rmse:78.016\n",
      "[265]\ttrain-rmse:66.3261\teval-rmse:77.9651\n",
      "[266]\ttrain-rmse:66.2399\teval-rmse:77.9006\n",
      "[267]\ttrain-rmse:66.1544\teval-rmse:77.834\n",
      "[268]\ttrain-rmse:66.091\teval-rmse:77.7904\n",
      "[269]\ttrain-rmse:66.015\teval-rmse:77.7305\n",
      "[270]\ttrain-rmse:65.8558\teval-rmse:77.6164\n",
      "[271]\ttrain-rmse:65.8316\teval-rmse:77.5974\n",
      "[272]\ttrain-rmse:65.7768\teval-rmse:77.5591\n",
      "[273]\ttrain-rmse:65.7255\teval-rmse:77.524\n",
      "[274]\ttrain-rmse:65.6536\teval-rmse:77.4665\n",
      "[275]\ttrain-rmse:65.5689\teval-rmse:77.3964\n",
      "[276]\ttrain-rmse:65.4751\teval-rmse:77.3176\n",
      "[277]\ttrain-rmse:65.362\teval-rmse:77.2235\n",
      "[278]\ttrain-rmse:65.335\teval-rmse:77.205\n",
      "[279]\ttrain-rmse:65.2161\teval-rmse:77.108\n",
      "[280]\ttrain-rmse:65.1355\teval-rmse:77.0364\n",
      "[281]\ttrain-rmse:65.0203\teval-rmse:76.9529\n",
      "[282]\ttrain-rmse:64.9778\teval-rmse:76.9111\n",
      "[283]\ttrain-rmse:64.8754\teval-rmse:76.8323\n",
      "[284]\ttrain-rmse:64.7886\teval-rmse:76.7759\n",
      "[285]\ttrain-rmse:64.6798\teval-rmse:76.6863\n",
      "[286]\ttrain-rmse:64.6533\teval-rmse:76.664\n",
      "[287]\ttrain-rmse:64.5931\teval-rmse:76.6134\n",
      "[288]\ttrain-rmse:64.4574\teval-rmse:76.5044\n",
      "[289]\ttrain-rmse:64.3764\teval-rmse:76.4416\n",
      "[290]\ttrain-rmse:64.2834\teval-rmse:76.3581\n",
      "[291]\ttrain-rmse:64.1586\teval-rmse:76.253\n",
      "[292]\ttrain-rmse:64.1379\teval-rmse:76.2449\n",
      "[293]\ttrain-rmse:64.0339\teval-rmse:76.1641\n",
      "[294]\ttrain-rmse:64.0041\teval-rmse:76.1404\n",
      "[295]\ttrain-rmse:63.9464\teval-rmse:76.0851\n",
      "[296]\ttrain-rmse:63.932\teval-rmse:76.0744\n",
      "[297]\ttrain-rmse:63.8383\teval-rmse:76.0001\n",
      "[298]\ttrain-rmse:63.7929\teval-rmse:75.9652\n",
      "[299]\ttrain-rmse:63.7313\teval-rmse:75.9205\n",
      "[300]\ttrain-rmse:63.6516\teval-rmse:75.8619\n",
      "[301]\ttrain-rmse:63.5509\teval-rmse:75.7887\n",
      "[302]\ttrain-rmse:63.4248\teval-rmse:75.6929\n",
      "[303]\ttrain-rmse:63.3639\teval-rmse:75.642\n",
      "[304]\ttrain-rmse:63.3125\teval-rmse:75.5957\n",
      "[305]\ttrain-rmse:63.2423\teval-rmse:75.5405\n",
      "[306]\ttrain-rmse:63.0751\teval-rmse:75.4223\n",
      "[307]\ttrain-rmse:62.8335\teval-rmse:75.2126\n",
      "[308]\ttrain-rmse:62.7534\teval-rmse:75.1512\n",
      "[309]\ttrain-rmse:62.6908\teval-rmse:75.0972\n",
      "[310]\ttrain-rmse:62.5805\teval-rmse:75.0212\n",
      "[311]\ttrain-rmse:62.5315\teval-rmse:74.9939\n",
      "[312]\ttrain-rmse:62.4267\teval-rmse:74.9055\n",
      "[313]\ttrain-rmse:62.3018\teval-rmse:74.7891\n",
      "[314]\ttrain-rmse:62.2061\teval-rmse:74.7207\n",
      "[315]\ttrain-rmse:62.081\teval-rmse:74.616\n",
      "[316]\ttrain-rmse:62.0102\teval-rmse:74.5646\n",
      "[317]\ttrain-rmse:61.9531\teval-rmse:74.5248\n",
      "[318]\ttrain-rmse:61.7848\teval-rmse:74.3935\n",
      "[319]\ttrain-rmse:61.7615\teval-rmse:74.3836\n",
      "[320]\ttrain-rmse:61.7156\teval-rmse:74.3495\n",
      "[321]\ttrain-rmse:61.5952\teval-rmse:74.2653\n",
      "[322]\ttrain-rmse:61.5354\teval-rmse:74.2209\n",
      "[323]\ttrain-rmse:61.4798\teval-rmse:74.1806\n",
      "[324]\ttrain-rmse:61.3638\teval-rmse:74.1236\n",
      "[325]\ttrain-rmse:61.2553\teval-rmse:74.0536\n",
      "[326]\ttrain-rmse:61.1971\teval-rmse:74.0196\n",
      "[327]\ttrain-rmse:61.1617\teval-rmse:73.9877\n",
      "[328]\ttrain-rmse:61.0618\teval-rmse:73.9136\n",
      "[329]\ttrain-rmse:61.0013\teval-rmse:73.8622\n",
      "[330]\ttrain-rmse:60.9677\teval-rmse:73.8378\n",
      "[331]\ttrain-rmse:60.9357\teval-rmse:73.8186\n",
      "[332]\ttrain-rmse:60.8911\teval-rmse:73.7872\n",
      "[333]\ttrain-rmse:60.8357\teval-rmse:73.7478\n",
      "[334]\ttrain-rmse:60.8047\teval-rmse:73.722\n",
      "[335]\ttrain-rmse:60.6916\teval-rmse:73.6226\n",
      "[336]\ttrain-rmse:60.6153\teval-rmse:73.5582\n",
      "[337]\ttrain-rmse:60.5276\teval-rmse:73.4799\n",
      "[338]\ttrain-rmse:60.4875\teval-rmse:73.453\n",
      "[339]\ttrain-rmse:60.4345\teval-rmse:73.4259\n",
      "[340]\ttrain-rmse:60.3653\teval-rmse:73.3797\n",
      "[341]\ttrain-rmse:60.237\teval-rmse:73.2923\n",
      "[342]\ttrain-rmse:60.2106\teval-rmse:73.2698\n",
      "[343]\ttrain-rmse:60.1661\teval-rmse:73.2359\n",
      "[344]\ttrain-rmse:60.0975\teval-rmse:73.1784\n",
      "[345]\ttrain-rmse:60.0545\teval-rmse:73.1481\n",
      "[346]\ttrain-rmse:60.0333\teval-rmse:73.1376\n",
      "[347]\ttrain-rmse:59.938\teval-rmse:73.0621\n",
      "[348]\ttrain-rmse:59.8907\teval-rmse:73.0229\n",
      "[349]\ttrain-rmse:59.7913\teval-rmse:72.9409\n",
      "[350]\ttrain-rmse:59.7409\teval-rmse:72.9066\n",
      "[351]\ttrain-rmse:59.614\teval-rmse:72.809\n",
      "[352]\ttrain-rmse:59.5425\teval-rmse:72.7613\n",
      "[353]\ttrain-rmse:59.4296\teval-rmse:72.6766\n",
      "[354]\ttrain-rmse:59.3628\teval-rmse:72.6194\n",
      "[355]\ttrain-rmse:59.2601\teval-rmse:72.5432\n",
      "[356]\ttrain-rmse:59.2135\teval-rmse:72.5135\n",
      "[357]\ttrain-rmse:59.135\teval-rmse:72.4674\n",
      "[358]\ttrain-rmse:59.0198\teval-rmse:72.4087\n",
      "[359]\ttrain-rmse:58.9719\teval-rmse:72.3695\n",
      "[360]\ttrain-rmse:58.9182\teval-rmse:72.3307\n",
      "[361]\ttrain-rmse:58.8826\teval-rmse:72.3019\n",
      "[362]\ttrain-rmse:58.823\teval-rmse:72.2622\n",
      "[363]\ttrain-rmse:58.7978\teval-rmse:72.2431\n",
      "[364]\ttrain-rmse:58.7646\teval-rmse:72.2197\n",
      "[365]\ttrain-rmse:58.6746\teval-rmse:72.1552\n",
      "[366]\ttrain-rmse:58.6299\teval-rmse:72.1348\n",
      "[367]\ttrain-rmse:58.6055\teval-rmse:72.1151\n",
      "[368]\ttrain-rmse:58.5065\teval-rmse:72.0468\n",
      "[369]\ttrain-rmse:58.4873\teval-rmse:72.035\n",
      "[370]\ttrain-rmse:58.4445\teval-rmse:72.0088\n",
      "[371]\ttrain-rmse:58.4049\teval-rmse:71.9857\n",
      "[372]\ttrain-rmse:58.3868\teval-rmse:71.9763\n",
      "[373]\ttrain-rmse:58.315\teval-rmse:71.9258\n",
      "[374]\ttrain-rmse:58.2955\teval-rmse:71.9119\n",
      "[375]\ttrain-rmse:58.2791\teval-rmse:71.9018\n",
      "[376]\ttrain-rmse:58.1861\teval-rmse:71.8399\n",
      "[377]\ttrain-rmse:58.1376\teval-rmse:71.8115\n",
      "[378]\ttrain-rmse:58.0354\teval-rmse:71.732\n",
      "[379]\ttrain-rmse:57.8842\teval-rmse:71.6098\n",
      "[380]\ttrain-rmse:57.8435\teval-rmse:71.585\n",
      "[381]\ttrain-rmse:57.8171\teval-rmse:71.5641\n",
      "[382]\ttrain-rmse:57.7111\teval-rmse:71.485\n",
      "[383]\ttrain-rmse:57.6293\teval-rmse:71.4256\n",
      "[384]\ttrain-rmse:57.5563\teval-rmse:71.3784\n",
      "[385]\ttrain-rmse:57.5296\teval-rmse:71.3622\n",
      "[386]\ttrain-rmse:57.4765\teval-rmse:71.3214\n",
      "[387]\ttrain-rmse:57.3669\teval-rmse:71.2339\n",
      "[388]\ttrain-rmse:57.2929\teval-rmse:71.1783\n",
      "[389]\ttrain-rmse:57.278\teval-rmse:71.1685\n",
      "[390]\ttrain-rmse:57.2302\teval-rmse:71.1472\n",
      "[391]\ttrain-rmse:57.2171\teval-rmse:71.1397\n",
      "[392]\ttrain-rmse:57.186\teval-rmse:71.117\n",
      "[393]\ttrain-rmse:57.1162\teval-rmse:71.0729\n",
      "[394]\ttrain-rmse:57.0234\teval-rmse:71.0043\n",
      "[395]\ttrain-rmse:56.9591\teval-rmse:70.9715\n",
      "[396]\ttrain-rmse:56.9134\teval-rmse:70.9381\n",
      "[397]\ttrain-rmse:56.8713\teval-rmse:70.9124\n",
      "[398]\ttrain-rmse:56.6936\teval-rmse:70.7802\n",
      "[399]\ttrain-rmse:56.6694\teval-rmse:70.7659\n",
      "[400]\ttrain-rmse:56.6394\teval-rmse:70.7437\n",
      "[401]\ttrain-rmse:56.5982\teval-rmse:70.7149\n",
      "[402]\ttrain-rmse:56.5108\teval-rmse:70.6438\n",
      "[403]\ttrain-rmse:56.4168\teval-rmse:70.5746\n",
      "[404]\ttrain-rmse:56.3089\teval-rmse:70.4958\n",
      "[405]\ttrain-rmse:56.2645\teval-rmse:70.4623\n",
      "[406]\ttrain-rmse:56.2195\teval-rmse:70.4296\n",
      "[407]\ttrain-rmse:56.1929\teval-rmse:70.4143\n",
      "[408]\ttrain-rmse:56.1286\teval-rmse:70.3732\n",
      "[409]\ttrain-rmse:56.0912\teval-rmse:70.3466\n",
      "[410]\ttrain-rmse:56.0542\teval-rmse:70.3316\n",
      "[411]\ttrain-rmse:56.0176\teval-rmse:70.3009\n",
      "[412]\ttrain-rmse:56.0078\teval-rmse:70.2957\n",
      "[413]\ttrain-rmse:55.9527\teval-rmse:70.2586\n",
      "[414]\ttrain-rmse:55.8376\teval-rmse:70.1634\n",
      "[415]\ttrain-rmse:55.751\teval-rmse:70.098\n",
      "[416]\ttrain-rmse:55.7082\teval-rmse:70.0639\n",
      "[417]\ttrain-rmse:55.6879\teval-rmse:70.0446\n",
      "[418]\ttrain-rmse:55.6089\teval-rmse:69.9716\n",
      "[419]\ttrain-rmse:55.571\teval-rmse:69.9384\n",
      "[420]\ttrain-rmse:55.5277\teval-rmse:69.9124\n",
      "[421]\ttrain-rmse:55.5088\teval-rmse:69.9008\n",
      "[422]\ttrain-rmse:55.4376\teval-rmse:69.8469\n",
      "[423]\ttrain-rmse:55.362\teval-rmse:69.7866\n",
      "[424]\ttrain-rmse:55.285\teval-rmse:69.75\n",
      "[425]\ttrain-rmse:55.2589\teval-rmse:69.7307\n",
      "[426]\ttrain-rmse:55.2019\teval-rmse:69.6917\n",
      "[427]\ttrain-rmse:55.1606\teval-rmse:69.6687\n",
      "[428]\ttrain-rmse:55.0835\teval-rmse:69.6014\n",
      "[429]\ttrain-rmse:55.0654\teval-rmse:69.5872\n",
      "[430]\ttrain-rmse:55.0323\teval-rmse:69.5696\n",
      "[431]\ttrain-rmse:54.9469\teval-rmse:69.5006\n",
      "[432]\ttrain-rmse:54.874\teval-rmse:69.4488\n",
      "[433]\ttrain-rmse:54.7655\teval-rmse:69.369\n",
      "[434]\ttrain-rmse:54.7431\teval-rmse:69.3556\n",
      "[435]\ttrain-rmse:54.6885\teval-rmse:69.3205\n",
      "[436]\ttrain-rmse:54.6175\teval-rmse:69.2668\n",
      "[437]\ttrain-rmse:54.5947\teval-rmse:69.2567\n",
      "[438]\ttrain-rmse:54.5706\teval-rmse:69.2352\n",
      "[439]\ttrain-rmse:54.5519\teval-rmse:69.2217\n",
      "[440]\ttrain-rmse:54.4803\teval-rmse:69.1682\n",
      "[441]\ttrain-rmse:54.4008\teval-rmse:69.1117\n",
      "[442]\ttrain-rmse:54.3696\teval-rmse:69.0939\n",
      "[443]\ttrain-rmse:54.3288\teval-rmse:69.0659\n",
      "[444]\ttrain-rmse:54.2986\teval-rmse:69.0408\n",
      "[445]\ttrain-rmse:54.2344\teval-rmse:68.9944\n",
      "[446]\ttrain-rmse:54.1626\teval-rmse:68.9454\n",
      "[447]\ttrain-rmse:54.1357\teval-rmse:68.929\n",
      "[448]\ttrain-rmse:54.1155\teval-rmse:68.9207\n",
      "[449]\ttrain-rmse:54.0935\teval-rmse:68.9096\n",
      "[450]\ttrain-rmse:54.0633\teval-rmse:68.8941\n",
      "[451]\ttrain-rmse:54.0224\teval-rmse:68.8653\n",
      "[452]\ttrain-rmse:53.9729\teval-rmse:68.8286\n",
      "[453]\ttrain-rmse:53.9153\teval-rmse:68.7873\n",
      "[454]\ttrain-rmse:53.8721\teval-rmse:68.7602\n",
      "[455]\ttrain-rmse:53.8118\teval-rmse:68.7229\n",
      "[456]\ttrain-rmse:53.7705\teval-rmse:68.6918\n",
      "[457]\ttrain-rmse:53.6412\teval-rmse:68.6192\n",
      "[458]\ttrain-rmse:53.6173\teval-rmse:68.5988\n",
      "[459]\ttrain-rmse:53.5658\teval-rmse:68.5571\n",
      "[460]\ttrain-rmse:53.5211\teval-rmse:68.5226\n",
      "[461]\ttrain-rmse:53.475\teval-rmse:68.4962\n",
      "[462]\ttrain-rmse:53.3859\teval-rmse:68.4162\n",
      "[463]\ttrain-rmse:53.311\teval-rmse:68.3632\n",
      "[464]\ttrain-rmse:53.2967\teval-rmse:68.3561\n",
      "[465]\ttrain-rmse:53.2421\teval-rmse:68.3169\n",
      "[466]\ttrain-rmse:53.1996\teval-rmse:68.2911\n",
      "[467]\ttrain-rmse:53.1289\teval-rmse:68.2396\n",
      "[468]\ttrain-rmse:53.0868\teval-rmse:68.2122\n",
      "[469]\ttrain-rmse:53.0197\teval-rmse:68.1587\n",
      "[470]\ttrain-rmse:52.978\teval-rmse:68.1274\n",
      "[471]\ttrain-rmse:52.9657\teval-rmse:68.119\n",
      "[472]\ttrain-rmse:52.8898\teval-rmse:68.0681\n",
      "[473]\ttrain-rmse:52.8591\teval-rmse:68.0418\n",
      "[474]\ttrain-rmse:52.8505\teval-rmse:68.035\n",
      "[475]\ttrain-rmse:52.8355\teval-rmse:68.0235\n",
      "[476]\ttrain-rmse:52.7823\teval-rmse:67.9894\n",
      "[477]\ttrain-rmse:52.7589\teval-rmse:67.9729\n",
      "[478]\ttrain-rmse:52.7272\teval-rmse:67.9506\n",
      "[479]\ttrain-rmse:52.6927\teval-rmse:67.9293\n",
      "[480]\ttrain-rmse:52.6759\teval-rmse:67.9223\n",
      "[481]\ttrain-rmse:52.6544\teval-rmse:67.9134\n",
      "[482]\ttrain-rmse:52.6166\teval-rmse:67.8854\n",
      "[483]\ttrain-rmse:52.5587\teval-rmse:67.8477\n",
      "[484]\ttrain-rmse:52.5516\teval-rmse:67.8429\n",
      "[485]\ttrain-rmse:52.5295\teval-rmse:67.8286\n",
      "[486]\ttrain-rmse:52.4575\teval-rmse:67.7757\n",
      "[487]\ttrain-rmse:52.3755\teval-rmse:67.7181\n",
      "[488]\ttrain-rmse:52.3266\teval-rmse:67.6943\n",
      "[489]\ttrain-rmse:52.2997\teval-rmse:67.6749\n",
      "[490]\ttrain-rmse:52.2414\teval-rmse:67.6413\n",
      "[491]\ttrain-rmse:52.2283\teval-rmse:67.6329\n",
      "[492]\ttrain-rmse:52.1901\teval-rmse:67.6025\n",
      "[493]\ttrain-rmse:52.1521\teval-rmse:67.5793\n",
      "[494]\ttrain-rmse:52.1099\teval-rmse:67.5535\n",
      "[495]\ttrain-rmse:52.0563\teval-rmse:67.5155\n",
      "[496]\ttrain-rmse:52.0001\teval-rmse:67.4803\n",
      "[497]\ttrain-rmse:51.9434\teval-rmse:67.4412\n",
      "[498]\ttrain-rmse:51.8905\teval-rmse:67.4078\n",
      "[499]\ttrain-rmse:51.8735\teval-rmse:67.403\n"
     ]
    }
   ],
   "source": [
    "params = {}\n",
    "params[\"objective\"] = \"reg:linear\"\n",
    "params[\"booster\"] = \"gbtree\"\n",
    "params[\"max_depth\"] = 6\n",
    "params[\"eval_metric\"] = 'rmse'\n",
    "params[\"subsample\"] = 0.9\n",
    "params[\"colsample_bytree\"] = 0.9\n",
    "params[\"silent\"] = 1\n",
    "params[\"seed\"] = 2016\n",
    "params[\"eta\"] = 0.1\n",
    "\n",
    "plst = list(params.items())\n",
    "num_rounds = 500\n",
    "early_stopping_rounds = 10\n",
    "\n",
    "watchlist = [(xgtrain2,'train'),(xgtrain1, 'eval')]\n",
    "\n",
    "model_4_1 = xgb.train(plst, xgtrain2, num_rounds, evals = watchlist, early_stopping_rounds = 10, verbose_eval = True)"
   ]
  },
  {
   "cell_type": "code",
   "execution_count": 29,
   "metadata": {
    "collapsed": false
   },
   "outputs": [
    {
     "name": "stdout",
     "output_type": "stream",
     "text": [
      "[0]\ttrain-rmse:6641.72\teval-rmse:6653.29\n",
      "Multiple eval metrics have been passed: 'eval-rmse' will be used for early stopping.\n",
      "\n",
      "Will train until eval-rmse hasn't improved in 10 rounds.\n",
      "[1]\ttrain-rmse:5978.67\teval-rmse:5989.28\n",
      "[2]\ttrain-rmse:5381.9\teval-rmse:5391.62\n",
      "[3]\ttrain-rmse:4844.87\teval-rmse:4853.71\n",
      "[4]\ttrain-rmse:4361.59\teval-rmse:4369.66\n",
      "[5]\ttrain-rmse:3926.6\teval-rmse:3933.96\n",
      "[6]\ttrain-rmse:3535.19\teval-rmse:3541.92\n",
      "[7]\ttrain-rmse:3182.96\teval-rmse:3189.11\n",
      "[8]\ttrain-rmse:2866.02\teval-rmse:2871.71\n",
      "[9]\ttrain-rmse:2580.83\teval-rmse:2586.02\n",
      "[10]\ttrain-rmse:2324.28\teval-rmse:2328.97\n",
      "[11]\ttrain-rmse:2093.42\teval-rmse:2097.72\n",
      "[12]\ttrain-rmse:1885.65\teval-rmse:1889.62\n",
      "[13]\ttrain-rmse:1698.81\teval-rmse:1702.48\n",
      "[14]\ttrain-rmse:1530.81\teval-rmse:1534.26\n",
      "[15]\ttrain-rmse:1379.67\teval-rmse:1382.86\n",
      "[16]\ttrain-rmse:1243.66\teval-rmse:1246.6\n",
      "[17]\ttrain-rmse:1121.46\teval-rmse:1124.22\n",
      "[18]\ttrain-rmse:1011.64\teval-rmse:1014.26\n",
      "[19]\ttrain-rmse:912.9\teval-rmse:915.328\n",
      "[20]\ttrain-rmse:824.295\teval-rmse:826.6\n",
      "[21]\ttrain-rmse:744.737\teval-rmse:746.921\n",
      "[22]\ttrain-rmse:673.396\teval-rmse:675.533\n",
      "[23]\ttrain-rmse:609.33\teval-rmse:611.445\n",
      "[24]\ttrain-rmse:551.938\teval-rmse:554.03\n",
      "[25]\ttrain-rmse:500.432\teval-rmse:502.547\n",
      "[26]\ttrain-rmse:454.485\teval-rmse:456.616\n",
      "[27]\ttrain-rmse:413.398\teval-rmse:415.534\n",
      "[28]\ttrain-rmse:376.672\teval-rmse:378.849\n",
      "[29]\ttrain-rmse:344.051\teval-rmse:346.312\n",
      "[30]\ttrain-rmse:314.911\teval-rmse:317.223\n",
      "[31]\ttrain-rmse:288.993\teval-rmse:291.376\n",
      "[32]\ttrain-rmse:266.116\teval-rmse:268.62\n",
      "[33]\ttrain-rmse:245.638\teval-rmse:248.254\n",
      "[34]\ttrain-rmse:227.889\teval-rmse:230.664\n",
      "[35]\ttrain-rmse:212.323\teval-rmse:215.229\n",
      "[36]\ttrain-rmse:198.43\teval-rmse:201.466\n",
      "[37]\ttrain-rmse:186.447\teval-rmse:189.635\n",
      "[38]\ttrain-rmse:175.834\teval-rmse:179.268\n",
      "[39]\ttrain-rmse:166.598\teval-rmse:170.2\n",
      "[40]\ttrain-rmse:158.69\teval-rmse:162.469\n",
      "[41]\ttrain-rmse:151.639\teval-rmse:155.611\n",
      "[42]\ttrain-rmse:145.574\teval-rmse:149.708\n",
      "[43]\ttrain-rmse:140.301\teval-rmse:144.632\n",
      "[44]\ttrain-rmse:135.712\teval-rmse:140.236\n",
      "[45]\ttrain-rmse:131.625\teval-rmse:136.297\n",
      "[46]\ttrain-rmse:128.181\teval-rmse:133.019\n",
      "[47]\ttrain-rmse:125.204\teval-rmse:130.22\n",
      "[48]\ttrain-rmse:122.526\teval-rmse:127.696\n",
      "[49]\ttrain-rmse:120.394\teval-rmse:125.742\n",
      "[50]\ttrain-rmse:118.364\teval-rmse:123.849\n",
      "[51]\ttrain-rmse:116.602\teval-rmse:122.182\n",
      "[52]\ttrain-rmse:115.117\teval-rmse:120.822\n",
      "[53]\ttrain-rmse:113.454\teval-rmse:119.274\n",
      "[54]\ttrain-rmse:112.15\teval-rmse:118.086\n",
      "[55]\ttrain-rmse:111.087\teval-rmse:117.119\n",
      "[56]\ttrain-rmse:110.258\teval-rmse:116.357\n",
      "[57]\ttrain-rmse:109.169\teval-rmse:115.349\n",
      "[58]\ttrain-rmse:108.424\teval-rmse:114.668\n",
      "[59]\ttrain-rmse:107.601\teval-rmse:113.93\n",
      "[60]\ttrain-rmse:106.809\teval-rmse:113.263\n",
      "[61]\ttrain-rmse:106.096\teval-rmse:112.612\n",
      "[62]\ttrain-rmse:105.481\teval-rmse:112.037\n",
      "[63]\ttrain-rmse:104.908\teval-rmse:111.531\n",
      "[64]\ttrain-rmse:104.104\teval-rmse:110.8\n",
      "[65]\ttrain-rmse:103.544\teval-rmse:110.314\n",
      "[66]\ttrain-rmse:102.997\teval-rmse:109.798\n",
      "[67]\ttrain-rmse:102.488\teval-rmse:109.346\n",
      "[68]\ttrain-rmse:101.855\teval-rmse:108.82\n",
      "[69]\ttrain-rmse:101.234\teval-rmse:108.234\n",
      "[70]\ttrain-rmse:100.858\teval-rmse:107.917\n",
      "[71]\ttrain-rmse:100.587\teval-rmse:107.676\n",
      "[72]\ttrain-rmse:100.302\teval-rmse:107.452\n",
      "[73]\ttrain-rmse:99.9705\teval-rmse:107.158\n",
      "[74]\ttrain-rmse:99.4017\teval-rmse:106.711\n",
      "[75]\ttrain-rmse:98.9937\teval-rmse:106.34\n",
      "[76]\ttrain-rmse:98.5773\teval-rmse:105.944\n",
      "[77]\ttrain-rmse:98.1173\teval-rmse:105.558\n",
      "[78]\ttrain-rmse:97.5709\teval-rmse:105.058\n",
      "[79]\ttrain-rmse:97.2673\teval-rmse:104.779\n",
      "[80]\ttrain-rmse:96.8054\teval-rmse:104.392\n",
      "[81]\ttrain-rmse:96.447\teval-rmse:104.085\n",
      "[82]\ttrain-rmse:96.2313\teval-rmse:103.884\n",
      "[83]\ttrain-rmse:95.837\teval-rmse:103.541\n",
      "[84]\ttrain-rmse:95.2338\teval-rmse:103.015\n",
      "[85]\ttrain-rmse:94.936\teval-rmse:102.722\n",
      "[86]\ttrain-rmse:94.4011\teval-rmse:102.285\n",
      "[87]\ttrain-rmse:94.1215\teval-rmse:102.055\n",
      "[88]\ttrain-rmse:93.7349\teval-rmse:101.695\n",
      "[89]\ttrain-rmse:93.4956\teval-rmse:101.48\n",
      "[90]\ttrain-rmse:93.1212\teval-rmse:101.173\n",
      "[91]\ttrain-rmse:92.9126\teval-rmse:101.008\n",
      "[92]\ttrain-rmse:92.6671\teval-rmse:100.798\n",
      "[93]\ttrain-rmse:92.5039\teval-rmse:100.652\n",
      "[94]\ttrain-rmse:92.2651\teval-rmse:100.433\n",
      "[95]\ttrain-rmse:91.9646\teval-rmse:100.186\n",
      "[96]\ttrain-rmse:91.6891\teval-rmse:99.9467\n",
      "[97]\ttrain-rmse:91.2038\teval-rmse:99.5076\n",
      "[98]\ttrain-rmse:90.9547\teval-rmse:99.3063\n",
      "[99]\ttrain-rmse:90.6324\teval-rmse:99.0439\n",
      "[100]\ttrain-rmse:90.3453\teval-rmse:98.7747\n",
      "[101]\ttrain-rmse:90.0854\teval-rmse:98.5419\n",
      "[102]\ttrain-rmse:89.8902\teval-rmse:98.3362\n",
      "[103]\ttrain-rmse:89.6982\teval-rmse:98.1761\n",
      "[104]\ttrain-rmse:89.3173\teval-rmse:97.827\n",
      "[105]\ttrain-rmse:89.168\teval-rmse:97.7072\n",
      "[106]\ttrain-rmse:88.8847\teval-rmse:97.444\n",
      "[107]\ttrain-rmse:88.6818\teval-rmse:97.2729\n",
      "[108]\ttrain-rmse:88.4477\teval-rmse:97.0819\n",
      "[109]\ttrain-rmse:88.2607\teval-rmse:96.9273\n",
      "[110]\ttrain-rmse:88.0657\teval-rmse:96.744\n",
      "[111]\ttrain-rmse:87.8695\teval-rmse:96.5943\n",
      "[112]\ttrain-rmse:87.5474\teval-rmse:96.3003\n",
      "[113]\ttrain-rmse:87.3757\teval-rmse:96.173\n",
      "[114]\ttrain-rmse:87.226\teval-rmse:96.0401\n",
      "[115]\ttrain-rmse:86.7323\teval-rmse:95.6756\n",
      "[116]\ttrain-rmse:86.4008\teval-rmse:95.3857\n",
      "[117]\ttrain-rmse:86.1319\teval-rmse:95.1428\n",
      "[118]\ttrain-rmse:85.9051\teval-rmse:94.9408\n",
      "[119]\ttrain-rmse:85.8109\teval-rmse:94.8561\n",
      "[120]\ttrain-rmse:85.6868\teval-rmse:94.7518\n",
      "[121]\ttrain-rmse:85.5424\teval-rmse:94.6477\n",
      "[122]\ttrain-rmse:85.4344\teval-rmse:94.571\n",
      "[123]\ttrain-rmse:85.3186\teval-rmse:94.4706\n",
      "[124]\ttrain-rmse:85.0435\teval-rmse:94.2484\n",
      "[125]\ttrain-rmse:84.8582\teval-rmse:94.1004\n",
      "[126]\ttrain-rmse:84.6663\teval-rmse:93.9163\n",
      "[127]\ttrain-rmse:84.4783\teval-rmse:93.7609\n",
      "[128]\ttrain-rmse:84.3386\teval-rmse:93.6398\n",
      "[129]\ttrain-rmse:84.0652\teval-rmse:93.3993\n",
      "[130]\ttrain-rmse:83.7247\teval-rmse:93.1101\n",
      "[131]\ttrain-rmse:83.5463\teval-rmse:92.9446\n",
      "[132]\ttrain-rmse:83.4646\teval-rmse:92.8807\n",
      "[133]\ttrain-rmse:83.2864\teval-rmse:92.7132\n",
      "[134]\ttrain-rmse:83.0137\teval-rmse:92.4959\n",
      "[135]\ttrain-rmse:82.8022\teval-rmse:92.3189\n",
      "[136]\ttrain-rmse:82.6361\teval-rmse:92.17\n",
      "[137]\ttrain-rmse:82.4532\teval-rmse:92.0274\n",
      "[138]\ttrain-rmse:82.287\teval-rmse:91.8808\n",
      "[139]\ttrain-rmse:81.9528\teval-rmse:91.6524\n",
      "[140]\ttrain-rmse:81.7827\teval-rmse:91.5073\n",
      "[141]\ttrain-rmse:81.6024\teval-rmse:91.3499\n",
      "[142]\ttrain-rmse:81.4055\teval-rmse:91.1531\n",
      "[143]\ttrain-rmse:81.2855\teval-rmse:91.0913\n",
      "[144]\ttrain-rmse:81.0284\teval-rmse:90.8552\n",
      "[145]\ttrain-rmse:80.8512\teval-rmse:90.7078\n",
      "[146]\ttrain-rmse:80.7095\teval-rmse:90.6041\n",
      "[147]\ttrain-rmse:80.5873\teval-rmse:90.5034\n",
      "[148]\ttrain-rmse:80.4079\teval-rmse:90.331\n",
      "[149]\ttrain-rmse:80.282\teval-rmse:90.2381\n",
      "[150]\ttrain-rmse:80.1247\teval-rmse:90.0863\n",
      "[151]\ttrain-rmse:80.0677\teval-rmse:90.0547\n",
      "[152]\ttrain-rmse:79.885\teval-rmse:89.8982\n",
      "[153]\ttrain-rmse:79.7346\teval-rmse:89.7902\n",
      "[154]\ttrain-rmse:79.4909\teval-rmse:89.5831\n",
      "[155]\ttrain-rmse:79.3099\teval-rmse:89.4273\n",
      "[156]\ttrain-rmse:79.1782\teval-rmse:89.3164\n",
      "[157]\ttrain-rmse:78.9588\teval-rmse:89.1377\n",
      "[158]\ttrain-rmse:78.7664\teval-rmse:88.9805\n",
      "[159]\ttrain-rmse:78.6648\teval-rmse:88.8937\n",
      "[160]\ttrain-rmse:78.4685\teval-rmse:88.7481\n",
      "[161]\ttrain-rmse:78.3385\teval-rmse:88.6371\n",
      "[162]\ttrain-rmse:78.1978\teval-rmse:88.5108\n",
      "[163]\ttrain-rmse:77.9663\teval-rmse:88.3386\n",
      "[164]\ttrain-rmse:77.8091\teval-rmse:88.1933\n",
      "[165]\ttrain-rmse:77.7115\teval-rmse:88.1082\n",
      "[166]\ttrain-rmse:77.4861\teval-rmse:87.9215\n",
      "[167]\ttrain-rmse:77.2826\teval-rmse:87.7568\n",
      "[168]\ttrain-rmse:77.1851\teval-rmse:87.6812\n",
      "[169]\ttrain-rmse:77.094\teval-rmse:87.6006\n",
      "[170]\ttrain-rmse:76.9832\teval-rmse:87.4962\n",
      "[171]\ttrain-rmse:76.8954\teval-rmse:87.421\n",
      "[172]\ttrain-rmse:76.7898\teval-rmse:87.3744\n",
      "[173]\ttrain-rmse:76.5921\teval-rmse:87.1977\n",
      "[174]\ttrain-rmse:76.3944\teval-rmse:87.0335\n",
      "[175]\ttrain-rmse:76.301\teval-rmse:86.9466\n",
      "[176]\ttrain-rmse:76.181\teval-rmse:86.8312\n",
      "[177]\ttrain-rmse:76.0876\teval-rmse:86.7532\n",
      "[178]\ttrain-rmse:75.888\teval-rmse:86.5858\n",
      "[179]\ttrain-rmse:75.7441\teval-rmse:86.4604\n",
      "[180]\ttrain-rmse:75.6279\teval-rmse:86.3768\n",
      "[181]\ttrain-rmse:75.4306\teval-rmse:86.2456\n",
      "[182]\ttrain-rmse:75.3339\teval-rmse:86.1747\n",
      "[183]\ttrain-rmse:75.1716\teval-rmse:86.0449\n",
      "[184]\ttrain-rmse:74.9911\teval-rmse:85.9211\n",
      "[185]\ttrain-rmse:74.8436\teval-rmse:85.7831\n",
      "[186]\ttrain-rmse:74.7882\teval-rmse:85.7439\n",
      "[187]\ttrain-rmse:74.6177\teval-rmse:85.5914\n",
      "[188]\ttrain-rmse:74.4324\teval-rmse:85.464\n",
      "[189]\ttrain-rmse:74.2607\teval-rmse:85.3376\n",
      "[190]\ttrain-rmse:74.1813\teval-rmse:85.269\n",
      "[191]\ttrain-rmse:74.1006\teval-rmse:85.1972\n",
      "[192]\ttrain-rmse:73.9362\teval-rmse:85.0731\n",
      "[193]\ttrain-rmse:73.8943\teval-rmse:85.0428\n",
      "[194]\ttrain-rmse:73.7958\teval-rmse:84.9753\n",
      "[195]\ttrain-rmse:73.7312\teval-rmse:84.9077\n",
      "[196]\ttrain-rmse:73.6075\teval-rmse:84.7999\n",
      "[197]\ttrain-rmse:73.422\teval-rmse:84.656\n",
      "[198]\ttrain-rmse:73.3656\teval-rmse:84.6069\n",
      "[199]\ttrain-rmse:73.2824\teval-rmse:84.553\n",
      "[200]\ttrain-rmse:73.2028\teval-rmse:84.5017\n",
      "[201]\ttrain-rmse:73.1347\teval-rmse:84.4485\n",
      "[202]\ttrain-rmse:73.0562\teval-rmse:84.3709\n",
      "[203]\ttrain-rmse:72.9867\teval-rmse:84.3202\n",
      "[204]\ttrain-rmse:72.9425\teval-rmse:84.2857\n",
      "[205]\ttrain-rmse:72.8136\teval-rmse:84.1827\n",
      "[206]\ttrain-rmse:72.7216\teval-rmse:84.1014\n",
      "[207]\ttrain-rmse:72.5952\teval-rmse:83.9893\n",
      "[208]\ttrain-rmse:72.4905\teval-rmse:83.9102\n",
      "[209]\ttrain-rmse:72.4231\teval-rmse:83.8612\n",
      "[210]\ttrain-rmse:72.3603\teval-rmse:83.7981\n",
      "[211]\ttrain-rmse:72.2022\teval-rmse:83.6653\n",
      "[212]\ttrain-rmse:72.0895\teval-rmse:83.5784\n",
      "[213]\ttrain-rmse:71.9582\teval-rmse:83.4572\n",
      "[214]\ttrain-rmse:71.8305\teval-rmse:83.3661\n",
      "[215]\ttrain-rmse:71.7623\teval-rmse:83.3185\n",
      "[216]\ttrain-rmse:71.7075\teval-rmse:83.2649\n",
      "[217]\ttrain-rmse:71.6581\teval-rmse:83.2172\n",
      "[218]\ttrain-rmse:71.5178\teval-rmse:83.1093\n",
      "[219]\ttrain-rmse:71.397\teval-rmse:83.0246\n",
      "[220]\ttrain-rmse:71.2697\teval-rmse:82.9213\n",
      "[221]\ttrain-rmse:71.2021\teval-rmse:82.8769\n",
      "[222]\ttrain-rmse:71.1495\teval-rmse:82.8321\n",
      "[223]\ttrain-rmse:71.036\teval-rmse:82.7373\n",
      "[224]\ttrain-rmse:70.9065\teval-rmse:82.6301\n",
      "[225]\ttrain-rmse:70.7222\teval-rmse:82.4754\n",
      "[226]\ttrain-rmse:70.6008\teval-rmse:82.3903\n",
      "[227]\ttrain-rmse:70.4877\teval-rmse:82.2974\n",
      "[228]\ttrain-rmse:70.308\teval-rmse:82.1483\n",
      "[229]\ttrain-rmse:70.2196\teval-rmse:82.0787\n",
      "[230]\ttrain-rmse:70.1727\teval-rmse:82.0425\n",
      "[231]\ttrain-rmse:70.1517\teval-rmse:82.0299\n",
      "[232]\ttrain-rmse:70.0517\teval-rmse:81.961\n",
      "[233]\ttrain-rmse:69.9971\teval-rmse:81.917\n",
      "[234]\ttrain-rmse:69.8331\teval-rmse:81.7913\n",
      "[235]\ttrain-rmse:69.6578\teval-rmse:81.6674\n",
      "[236]\ttrain-rmse:69.4968\teval-rmse:81.5246\n",
      "[237]\ttrain-rmse:69.4236\teval-rmse:81.4731\n",
      "[238]\ttrain-rmse:69.2719\teval-rmse:81.3416\n",
      "[239]\ttrain-rmse:69.2102\teval-rmse:81.3056\n",
      "[240]\ttrain-rmse:69.0979\teval-rmse:81.207\n",
      "[241]\ttrain-rmse:68.9733\teval-rmse:81.1047\n",
      "[242]\ttrain-rmse:68.8606\teval-rmse:81.0325\n",
      "[243]\ttrain-rmse:68.7628\teval-rmse:80.9547\n",
      "[244]\ttrain-rmse:68.6758\teval-rmse:80.8924\n",
      "[245]\ttrain-rmse:68.6113\teval-rmse:80.84\n",
      "[246]\ttrain-rmse:68.4872\teval-rmse:80.7253\n",
      "[247]\ttrain-rmse:68.3037\teval-rmse:80.5829\n",
      "[248]\ttrain-rmse:67.9921\teval-rmse:80.3162\n",
      "[249]\ttrain-rmse:67.8558\teval-rmse:80.1955\n",
      "[250]\ttrain-rmse:67.7188\teval-rmse:80.1057\n",
      "[251]\ttrain-rmse:67.6003\teval-rmse:79.9982\n",
      "[252]\ttrain-rmse:67.4547\teval-rmse:79.9133\n",
      "[253]\ttrain-rmse:67.3716\teval-rmse:79.86\n",
      "[254]\ttrain-rmse:67.3022\teval-rmse:79.8082\n",
      "[255]\ttrain-rmse:67.2476\teval-rmse:79.7682\n",
      "[256]\ttrain-rmse:67.1861\teval-rmse:79.7278\n",
      "[257]\ttrain-rmse:67.063\teval-rmse:79.6346\n",
      "[258]\ttrain-rmse:66.8951\teval-rmse:79.5235\n",
      "[259]\ttrain-rmse:66.8189\teval-rmse:79.4524\n",
      "[260]\ttrain-rmse:66.7637\teval-rmse:79.411\n",
      "[261]\ttrain-rmse:66.6914\teval-rmse:79.3434\n",
      "[262]\ttrain-rmse:66.5994\teval-rmse:79.2678\n",
      "[263]\ttrain-rmse:66.4731\teval-rmse:79.1747\n",
      "[264]\ttrain-rmse:66.4348\teval-rmse:79.1536\n",
      "[265]\ttrain-rmse:66.365\teval-rmse:79.1074\n",
      "[266]\ttrain-rmse:66.2366\teval-rmse:79.0103\n",
      "[267]\ttrain-rmse:66.154\teval-rmse:78.9356\n",
      "[268]\ttrain-rmse:66.0454\teval-rmse:78.854\n",
      "[269]\ttrain-rmse:65.9783\teval-rmse:78.8079\n",
      "[270]\ttrain-rmse:65.8908\teval-rmse:78.7432\n",
      "[271]\ttrain-rmse:65.8339\teval-rmse:78.6979\n",
      "[272]\ttrain-rmse:65.7525\teval-rmse:78.6308\n",
      "[273]\ttrain-rmse:65.635\teval-rmse:78.5451\n",
      "[274]\ttrain-rmse:65.5992\teval-rmse:78.5261\n",
      "[275]\ttrain-rmse:65.5593\teval-rmse:78.5008\n",
      "[276]\ttrain-rmse:65.4365\teval-rmse:78.3929\n",
      "[277]\ttrain-rmse:65.386\teval-rmse:78.3428\n",
      "[278]\ttrain-rmse:65.3163\teval-rmse:78.3072\n",
      "[279]\ttrain-rmse:65.2424\teval-rmse:78.2471\n",
      "[280]\ttrain-rmse:65.2233\teval-rmse:78.2211\n",
      "[281]\ttrain-rmse:65.1414\teval-rmse:78.1614\n",
      "[282]\ttrain-rmse:65.0336\teval-rmse:78.0674\n",
      "[283]\ttrain-rmse:65.0199\teval-rmse:78.0566\n",
      "[284]\ttrain-rmse:64.9515\teval-rmse:78.0052\n",
      "[285]\ttrain-rmse:64.8729\teval-rmse:77.9429\n",
      "[286]\ttrain-rmse:64.7522\teval-rmse:77.8429\n",
      "[287]\ttrain-rmse:64.6933\teval-rmse:77.7943\n",
      "[288]\ttrain-rmse:64.6596\teval-rmse:77.7753\n",
      "[289]\ttrain-rmse:64.5522\teval-rmse:77.6903\n",
      "[290]\ttrain-rmse:64.5286\teval-rmse:77.6717\n",
      "[291]\ttrain-rmse:64.4851\teval-rmse:77.6365\n",
      "[292]\ttrain-rmse:64.3464\teval-rmse:77.5194\n",
      "[293]\ttrain-rmse:64.2252\teval-rmse:77.4227\n",
      "[294]\ttrain-rmse:64.152\teval-rmse:77.3734\n",
      "[295]\ttrain-rmse:64.0792\teval-rmse:77.3252\n",
      "[296]\ttrain-rmse:63.983\teval-rmse:77.2455\n",
      "[297]\ttrain-rmse:63.9481\teval-rmse:77.2261\n",
      "[298]\ttrain-rmse:63.859\teval-rmse:77.1562\n",
      "[299]\ttrain-rmse:63.7885\teval-rmse:77.1054\n",
      "[300]\ttrain-rmse:63.7115\teval-rmse:77.0588\n",
      "[301]\ttrain-rmse:63.6687\teval-rmse:77.0376\n",
      "[302]\ttrain-rmse:63.4681\teval-rmse:76.8773\n",
      "[303]\ttrain-rmse:63.3119\teval-rmse:76.7399\n",
      "[304]\ttrain-rmse:63.2119\teval-rmse:76.6476\n",
      "[305]\ttrain-rmse:63.1265\teval-rmse:76.5766\n",
      "[306]\ttrain-rmse:63.0999\teval-rmse:76.5497\n",
      "[307]\ttrain-rmse:63.0414\teval-rmse:76.5043\n",
      "[308]\ttrain-rmse:63.022\teval-rmse:76.4968\n",
      "[309]\ttrain-rmse:62.9033\teval-rmse:76.3949\n",
      "[310]\ttrain-rmse:62.8318\teval-rmse:76.3473\n",
      "[311]\ttrain-rmse:62.7114\teval-rmse:76.2477\n",
      "[312]\ttrain-rmse:62.6181\teval-rmse:76.1761\n",
      "[313]\ttrain-rmse:62.5408\teval-rmse:76.1261\n",
      "[314]\ttrain-rmse:62.4999\teval-rmse:76.0986\n",
      "[315]\ttrain-rmse:62.3879\teval-rmse:76.0116\n",
      "[316]\ttrain-rmse:62.3434\teval-rmse:75.9756\n",
      "[317]\ttrain-rmse:62.2957\teval-rmse:75.95\n",
      "[318]\ttrain-rmse:62.1882\teval-rmse:75.8788\n",
      "[319]\ttrain-rmse:62.0637\teval-rmse:75.7871\n",
      "[320]\ttrain-rmse:62.0277\teval-rmse:75.7618\n",
      "[321]\ttrain-rmse:61.9752\teval-rmse:75.7211\n",
      "[322]\ttrain-rmse:61.8744\teval-rmse:75.6429\n",
      "[323]\ttrain-rmse:61.8219\teval-rmse:75.6084\n",
      "[324]\ttrain-rmse:61.7548\teval-rmse:75.5598\n",
      "[325]\ttrain-rmse:61.6849\teval-rmse:75.5111\n",
      "[326]\ttrain-rmse:61.6285\teval-rmse:75.4721\n",
      "[327]\ttrain-rmse:61.5804\teval-rmse:75.4365\n",
      "[328]\ttrain-rmse:61.4809\teval-rmse:75.3657\n",
      "[329]\ttrain-rmse:61.4436\teval-rmse:75.3314\n",
      "[330]\ttrain-rmse:61.4026\teval-rmse:75.2974\n",
      "[331]\ttrain-rmse:61.3611\teval-rmse:75.2632\n",
      "[332]\ttrain-rmse:61.3432\teval-rmse:75.2487\n",
      "[333]\ttrain-rmse:61.2824\teval-rmse:75.2084\n",
      "[334]\ttrain-rmse:61.105\teval-rmse:75.0488\n",
      "[335]\ttrain-rmse:61.0745\teval-rmse:75.033\n",
      "[336]\ttrain-rmse:61.033\teval-rmse:75.0006\n",
      "[337]\ttrain-rmse:61.0006\teval-rmse:74.974\n",
      "[338]\ttrain-rmse:60.9763\teval-rmse:74.9613\n",
      "[339]\ttrain-rmse:60.8697\teval-rmse:74.8786\n",
      "[340]\ttrain-rmse:60.8012\teval-rmse:74.8299\n",
      "[341]\ttrain-rmse:60.5504\teval-rmse:74.6804\n",
      "[342]\ttrain-rmse:60.4412\teval-rmse:74.5972\n",
      "[343]\ttrain-rmse:60.3475\teval-rmse:74.5266\n",
      "[344]\ttrain-rmse:60.2064\teval-rmse:74.3892\n",
      "[345]\ttrain-rmse:60.1811\teval-rmse:74.3695\n",
      "[346]\ttrain-rmse:60.083\teval-rmse:74.2918\n",
      "[347]\ttrain-rmse:60.0418\teval-rmse:74.2747\n",
      "[348]\ttrain-rmse:59.9253\teval-rmse:74.1853\n",
      "[349]\ttrain-rmse:59.84\teval-rmse:74.1144\n",
      "[350]\ttrain-rmse:59.7961\teval-rmse:74.0789\n",
      "[351]\ttrain-rmse:59.6593\teval-rmse:73.9794\n",
      "[352]\ttrain-rmse:59.5881\teval-rmse:73.932\n",
      "[353]\ttrain-rmse:59.4738\teval-rmse:73.8413\n",
      "[354]\ttrain-rmse:59.3667\teval-rmse:73.7597\n",
      "[355]\ttrain-rmse:59.251\teval-rmse:73.6856\n",
      "[356]\ttrain-rmse:59.1791\teval-rmse:73.6305\n",
      "[357]\ttrain-rmse:59.1064\teval-rmse:73.5827\n",
      "[358]\ttrain-rmse:59.0319\teval-rmse:73.5197\n",
      "[359]\ttrain-rmse:59.0187\teval-rmse:73.5138\n",
      "[360]\ttrain-rmse:58.9044\teval-rmse:73.4083\n",
      "[361]\ttrain-rmse:58.8114\teval-rmse:73.3346\n",
      "[362]\ttrain-rmse:58.725\teval-rmse:73.2675\n",
      "[363]\ttrain-rmse:58.6688\teval-rmse:73.2215\n",
      "[364]\ttrain-rmse:58.6424\teval-rmse:73.2009\n",
      "[365]\ttrain-rmse:58.6192\teval-rmse:73.1792\n",
      "[366]\ttrain-rmse:58.4961\teval-rmse:73.0935\n",
      "[367]\ttrain-rmse:58.4282\teval-rmse:73.0365\n",
      "[368]\ttrain-rmse:58.411\teval-rmse:73.0313\n",
      "[369]\ttrain-rmse:58.2919\teval-rmse:72.953\n",
      "[370]\ttrain-rmse:58.2229\teval-rmse:72.8967\n",
      "[371]\ttrain-rmse:58.1243\teval-rmse:72.8324\n",
      "[372]\ttrain-rmse:58.0485\teval-rmse:72.7793\n",
      "[373]\ttrain-rmse:57.9828\teval-rmse:72.7393\n",
      "[374]\ttrain-rmse:57.9379\teval-rmse:72.7078\n",
      "[375]\ttrain-rmse:57.9011\teval-rmse:72.6884\n",
      "[376]\ttrain-rmse:57.842\teval-rmse:72.6562\n",
      "[377]\ttrain-rmse:57.7432\teval-rmse:72.5829\n",
      "[378]\ttrain-rmse:57.7165\teval-rmse:72.5544\n",
      "[379]\ttrain-rmse:57.674\teval-rmse:72.5244\n",
      "[380]\ttrain-rmse:57.6389\teval-rmse:72.4951\n",
      "[381]\ttrain-rmse:57.5763\teval-rmse:72.4483\n",
      "[382]\ttrain-rmse:57.521\teval-rmse:72.4026\n",
      "[383]\ttrain-rmse:57.4928\teval-rmse:72.3777\n",
      "[384]\ttrain-rmse:57.4488\teval-rmse:72.3478\n",
      "[385]\ttrain-rmse:57.3657\teval-rmse:72.2785\n",
      "[386]\ttrain-rmse:57.2887\teval-rmse:72.2105\n",
      "[387]\ttrain-rmse:57.2112\teval-rmse:72.1613\n",
      "[388]\ttrain-rmse:57.1255\teval-rmse:72.0937\n",
      "[389]\ttrain-rmse:57.0771\teval-rmse:72.0554\n",
      "[390]\ttrain-rmse:57.0383\teval-rmse:72.0246\n",
      "[391]\ttrain-rmse:57.0149\teval-rmse:72.0046\n",
      "[392]\ttrain-rmse:56.9471\teval-rmse:71.9535\n",
      "[393]\ttrain-rmse:56.8384\teval-rmse:71.873\n",
      "[394]\ttrain-rmse:56.7472\teval-rmse:71.7955\n",
      "[395]\ttrain-rmse:56.6803\teval-rmse:71.7358\n",
      "[396]\ttrain-rmse:56.5997\teval-rmse:71.6724\n",
      "[397]\ttrain-rmse:56.5097\teval-rmse:71.6145\n",
      "[398]\ttrain-rmse:56.4222\teval-rmse:71.5485\n",
      "[399]\ttrain-rmse:56.3503\teval-rmse:71.4982\n",
      "[400]\ttrain-rmse:56.3213\teval-rmse:71.4692\n",
      "[401]\ttrain-rmse:56.278\teval-rmse:71.4321\n",
      "[402]\ttrain-rmse:56.2227\teval-rmse:71.4018\n",
      "[403]\ttrain-rmse:56.1626\teval-rmse:71.3564\n",
      "[404]\ttrain-rmse:56.0582\teval-rmse:71.286\n",
      "[405]\ttrain-rmse:56.0186\teval-rmse:71.257\n",
      "[406]\ttrain-rmse:55.9649\teval-rmse:71.2187\n",
      "[407]\ttrain-rmse:55.9095\teval-rmse:71.1839\n",
      "[408]\ttrain-rmse:55.8266\teval-rmse:71.1307\n",
      "[409]\ttrain-rmse:55.8081\teval-rmse:71.1157\n",
      "[410]\ttrain-rmse:55.798\teval-rmse:71.1078\n",
      "[411]\ttrain-rmse:55.7509\teval-rmse:71.0675\n",
      "[412]\ttrain-rmse:55.6685\teval-rmse:71.0115\n",
      "[413]\ttrain-rmse:55.603\teval-rmse:70.9696\n",
      "[414]\ttrain-rmse:55.5061\teval-rmse:70.8896\n",
      "[415]\ttrain-rmse:55.4279\teval-rmse:70.8371\n",
      "[416]\ttrain-rmse:55.3993\teval-rmse:70.8207\n",
      "[417]\ttrain-rmse:55.2979\teval-rmse:70.7599\n",
      "[418]\ttrain-rmse:55.2808\teval-rmse:70.7495\n",
      "[419]\ttrain-rmse:55.197\teval-rmse:70.6831\n",
      "[420]\ttrain-rmse:55.1511\teval-rmse:70.6588\n",
      "[421]\ttrain-rmse:55.1199\teval-rmse:70.6318\n",
      "[422]\ttrain-rmse:55.0721\teval-rmse:70.597\n",
      "[423]\ttrain-rmse:55.0201\teval-rmse:70.5713\n",
      "[424]\ttrain-rmse:54.9985\teval-rmse:70.5569\n",
      "[425]\ttrain-rmse:54.9503\teval-rmse:70.5214\n",
      "[426]\ttrain-rmse:54.8868\teval-rmse:70.4765\n",
      "[427]\ttrain-rmse:54.7938\teval-rmse:70.4102\n",
      "[428]\ttrain-rmse:54.7602\teval-rmse:70.381\n",
      "[429]\ttrain-rmse:54.7134\teval-rmse:70.3476\n",
      "[430]\ttrain-rmse:54.6927\teval-rmse:70.3364\n",
      "[431]\ttrain-rmse:54.6158\teval-rmse:70.2876\n",
      "[432]\ttrain-rmse:54.5963\teval-rmse:70.2688\n",
      "[433]\ttrain-rmse:54.561\teval-rmse:70.2445\n",
      "[434]\ttrain-rmse:54.5433\teval-rmse:70.2329\n",
      "[435]\ttrain-rmse:54.523\teval-rmse:70.2137\n",
      "[436]\ttrain-rmse:54.479\teval-rmse:70.1848\n",
      "[437]\ttrain-rmse:54.4524\teval-rmse:70.1698\n",
      "[438]\ttrain-rmse:54.4017\teval-rmse:70.1404\n",
      "[439]\ttrain-rmse:54.3822\teval-rmse:70.1277\n",
      "[440]\ttrain-rmse:54.2893\teval-rmse:70.0485\n",
      "[441]\ttrain-rmse:54.2591\teval-rmse:70.0215\n",
      "[442]\ttrain-rmse:54.1713\teval-rmse:69.9681\n",
      "[443]\ttrain-rmse:54.1104\teval-rmse:69.9297\n",
      "[444]\ttrain-rmse:54.0486\teval-rmse:69.8892\n",
      "[445]\ttrain-rmse:54.0106\teval-rmse:69.8639\n",
      "[446]\ttrain-rmse:53.9313\teval-rmse:69.8115\n",
      "[447]\ttrain-rmse:53.8716\teval-rmse:69.7653\n",
      "[448]\ttrain-rmse:53.8311\teval-rmse:69.7339\n",
      "[449]\ttrain-rmse:53.7857\teval-rmse:69.71\n",
      "[450]\ttrain-rmse:53.7045\teval-rmse:69.6384\n",
      "[451]\ttrain-rmse:53.6699\teval-rmse:69.6154\n",
      "[452]\ttrain-rmse:53.6353\teval-rmse:69.6026\n",
      "[453]\ttrain-rmse:53.6144\teval-rmse:69.5852\n",
      "[454]\ttrain-rmse:53.5655\teval-rmse:69.5473\n",
      "[455]\ttrain-rmse:53.5288\teval-rmse:69.5271\n",
      "[456]\ttrain-rmse:53.4654\teval-rmse:69.4822\n",
      "[457]\ttrain-rmse:53.4244\teval-rmse:69.45\n",
      "[458]\ttrain-rmse:53.3919\teval-rmse:69.4314\n",
      "[459]\ttrain-rmse:53.3412\teval-rmse:69.4003\n",
      "[460]\ttrain-rmse:53.2341\teval-rmse:69.3234\n",
      "[461]\ttrain-rmse:53.1681\teval-rmse:69.2746\n",
      "[462]\ttrain-rmse:53.1357\teval-rmse:69.2511\n",
      "[463]\ttrain-rmse:53.1119\teval-rmse:69.2385\n",
      "[464]\ttrain-rmse:53.0012\teval-rmse:69.1542\n",
      "[465]\ttrain-rmse:52.9417\teval-rmse:69.1221\n",
      "[466]\ttrain-rmse:52.9186\teval-rmse:69.1095\n",
      "[467]\ttrain-rmse:52.8734\teval-rmse:69.0784\n",
      "[468]\ttrain-rmse:52.8492\teval-rmse:69.069\n",
      "[469]\ttrain-rmse:52.7574\teval-rmse:69.0022\n",
      "[470]\ttrain-rmse:52.6833\teval-rmse:68.9666\n",
      "[471]\ttrain-rmse:52.6418\teval-rmse:68.9383\n",
      "[472]\ttrain-rmse:52.5741\teval-rmse:68.8947\n",
      "[473]\ttrain-rmse:52.5164\teval-rmse:68.8549\n",
      "[474]\ttrain-rmse:52.4843\teval-rmse:68.8323\n",
      "[475]\ttrain-rmse:52.4435\teval-rmse:68.8107\n",
      "[476]\ttrain-rmse:52.4201\teval-rmse:68.8022\n",
      "[477]\ttrain-rmse:52.3291\teval-rmse:68.7496\n",
      "[478]\ttrain-rmse:52.2575\teval-rmse:68.7033\n",
      "[479]\ttrain-rmse:52.2205\teval-rmse:68.681\n",
      "[480]\ttrain-rmse:52.1939\teval-rmse:68.6656\n",
      "[481]\ttrain-rmse:52.1644\teval-rmse:68.654\n",
      "[482]\ttrain-rmse:52.1335\teval-rmse:68.6415\n",
      "[483]\ttrain-rmse:52.0668\teval-rmse:68.5869\n",
      "[484]\ttrain-rmse:52.0195\teval-rmse:68.5475\n",
      "[485]\ttrain-rmse:51.9688\teval-rmse:68.5212\n",
      "[486]\ttrain-rmse:51.9049\teval-rmse:68.4756\n",
      "[487]\ttrain-rmse:51.8868\teval-rmse:68.4655\n",
      "[488]\ttrain-rmse:51.8429\teval-rmse:68.4415\n",
      "[489]\ttrain-rmse:51.7875\teval-rmse:68.4119\n",
      "[490]\ttrain-rmse:51.764\teval-rmse:68.4047\n",
      "[491]\ttrain-rmse:51.7265\teval-rmse:68.3808\n",
      "[492]\ttrain-rmse:51.7128\teval-rmse:68.3736\n",
      "[493]\ttrain-rmse:51.6912\teval-rmse:68.3606\n",
      "[494]\ttrain-rmse:51.6668\teval-rmse:68.3443\n",
      "[495]\ttrain-rmse:51.6304\teval-rmse:68.3207\n",
      "[496]\ttrain-rmse:51.5656\teval-rmse:68.2735\n",
      "[497]\ttrain-rmse:51.5069\teval-rmse:68.2364\n",
      "[498]\ttrain-rmse:51.4568\teval-rmse:68.1995\n",
      "[499]\ttrain-rmse:51.4168\teval-rmse:68.1735\n"
     ]
    }
   ],
   "source": [
    "watchlist = [(xgtrain3,'train'),(xgtrain1, 'eval')]\n",
    "model_4_2 = xgb.train(plst, xgtrain3, num_rounds, evals = watchlist, early_stopping_rounds = 10, verbose_eval = True)"
   ]
  },
  {
   "cell_type": "markdown",
   "metadata": {},
   "source": [
    "<H3>Validate the model</H3>"
   ]
  },
  {
   "cell_type": "code",
   "execution_count": 30,
   "metadata": {
    "collapsed": true
   },
   "outputs": [],
   "source": [
    "pred_xg4_1 = model_4_1.predict(xgtrain3)"
   ]
  },
  {
   "cell_type": "code",
   "execution_count": 31,
   "metadata": {
    "collapsed": false
   },
   "outputs": [
    {
     "data": {
      "text/plain": [
       "68.41197947997108"
      ]
     },
     "execution_count": 31,
     "metadata": {},
     "output_type": "execute_result"
    }
   ],
   "source": [
    "sqrt(mean_squared_error(y3, pred_xg4_1))"
   ]
  },
  {
   "cell_type": "code",
   "execution_count": 32,
   "metadata": {
    "collapsed": true
   },
   "outputs": [],
   "source": [
    "pred_xg4_2 = model_4_2.predict(xgtrain2)"
   ]
  },
  {
   "cell_type": "code",
   "execution_count": 33,
   "metadata": {
    "collapsed": false
   },
   "outputs": [
    {
     "data": {
      "text/plain": [
       "68.69809982032494"
      ]
     },
     "execution_count": 33,
     "metadata": {},
     "output_type": "execute_result"
    }
   ],
   "source": [
    "sqrt(mean_squared_error(y2, pred_xg4_2))"
   ]
  },
  {
   "cell_type": "code",
   "execution_count": 34,
   "metadata": {
    "collapsed": false
   },
   "outputs": [
    {
     "data": {
      "text/plain": [
       "21"
      ]
     },
     "execution_count": 34,
     "metadata": {},
     "output_type": "execute_result"
    }
   ],
   "source": [
    "del pred_xg4_1, pred_xg4_2\n",
    "gc.collect()"
   ]
  },
  {
   "cell_type": "code",
   "execution_count": 36,
   "metadata": {
    "collapsed": true
   },
   "outputs": [],
   "source": [
    "test = pd.read_csv('test\\\\CAX_Test.csv')"
   ]
  },
  {
   "cell_type": "code",
   "execution_count": 38,
   "metadata": {
    "collapsed": true
   },
   "outputs": [],
   "source": [
    "test = test[test.PH==4]"
   ]
  },
  {
   "cell_type": "code",
   "execution_count": 39,
   "metadata": {
    "collapsed": true
   },
   "outputs": [],
   "source": [
    "test.drop(test.columns[[0,1,2,6,7]], axis = 1, inplace = True)"
   ]
  },
  {
   "cell_type": "code",
   "execution_count": 40,
   "metadata": {
    "collapsed": true
   },
   "outputs": [],
   "source": [
    "test.drop('PH', axis=1, inplace=True)"
   ]
  },
  {
   "cell_type": "code",
   "execution_count": 41,
   "metadata": {
    "collapsed": true
   },
   "outputs": [],
   "source": [
    "test['Month1']=np.where(test['Month']==1.0, 1,0)\n",
    "test['Month2']=np.where(test['Month']==2.0, 1,0)\n",
    "test['Month3']=np.where(test['Month']==3.0, 1,0)\n",
    "test['Month4']=np.where(test['Month']==4.0, 1,0)\n",
    "test['Month5']=np.where(test['Month']==5.0, 1,0)\n",
    "test['Month6']=np.where(test['Month']==6.0, 1,0)\n",
    "test['Month7']=np.where(test['Month']==7.0, 1,0)\n",
    "test['Month8']=np.where(test['Month']==8.0, 1,0)\n",
    "test['Month9']=np.where(test['Month']==9.0, 1,0)\n",
    "test['Month10']=np.where(test['Month']==10.0, 1,0)\n",
    "test['Month11']=np.where(test['Month']==11.0, 1,0)\n",
    "test['Month12']=np.where(test['Month']==12.0, 1,0)\n",
    "test['Hour1']=np.where(test['Hour']==1.0, 1,0)\n",
    "test['Hour2']=np.where(test['Hour']==2.0, 1,0)\n",
    "test['Hour3']=np.where(test['Hour']==3.0, 1,0)\n",
    "test['Hour4']=np.where(test['Hour']==4.0, 1,0)\n",
    "test['Hour5']=np.where(test['Hour']==5.0, 1,0)\n",
    "test['Hour6']=np.where(test['Hour']==6.0, 1,0)\n",
    "test['Hour7']=np.where(test['Hour']==7.0, 1,0)\n",
    "test['Hour8']=np.where(test['Hour']==8.0, 1,0)\n",
    "test['Hour9']=np.where(test['Hour']==9.0, 1,0)\n",
    "test['Hour10']=np.where(test['Hour']==10.0, 1,0)\n",
    "test['Hour11']=np.where(test['Hour']==11.0, 1,0)\n",
    "test['Hour12']=np.where(test['Hour']==12.0, 1,0)\n",
    "test['Hour13']=np.where(test['Hour']==13.0, 1,0)\n",
    "test['Hour14']=np.where(test['Hour']==14.0, 1,0)\n",
    "test['Hour15']=np.where(test['Hour']==15.0, 1,0)\n",
    "test['Hour16']=np.where(test['Hour']==16.0, 1,0)\n",
    "test['Hour17']=np.where(test['Hour']==17.0, 1,0)\n",
    "test['Hour18']=np.where(test['Hour']==18.0, 1,0)\n",
    "test['Hour19']=np.where(test['Hour']==19.0, 1,0)\n",
    "test['Hour20']=np.where(test['Hour']==20.0, 1,0)\n",
    "test['Hour21']=np.where(test['Hour']==21.0, 1,0)\n",
    "test['Hour22']=np.where(test['Hour']==22.0, 1,0)\n",
    "test['Hour23']=np.where(test['Hour']==23.0, 1,0)\n",
    "test['Hour24']=np.where(test['Hour']==24.0, 1,0)"
   ]
  },
  {
   "cell_type": "code",
   "execution_count": 42,
   "metadata": {
    "collapsed": true
   },
   "outputs": [],
   "source": [
    "test.drop('Month', axis = 1, inplace = True)\n",
    "test.drop('Hour', axis = 1, inplace = True)\n",
    "test.drop('FF', axis = 1, inplace = True)\n",
    "test_id = test.pop('id')"
   ]
  },
  {
   "cell_type": "code",
   "execution_count": 43,
   "metadata": {
    "collapsed": true
   },
   "outputs": [],
   "source": [
    "xgtest = xgb.DMatrix(test)"
   ]
  },
  {
   "cell_type": "markdown",
   "metadata": {},
   "source": [
    "<H3>Predict on test</H3>"
   ]
  },
  {
   "cell_type": "code",
   "execution_count": 44,
   "metadata": {
    "collapsed": true
   },
   "outputs": [],
   "source": [
    "pred1 = model_4_1.predict(xgtest)\n",
    "pred2 = model_4_2.predict(xgtest)"
   ]
  },
  {
   "cell_type": "code",
   "execution_count": 45,
   "metadata": {
    "collapsed": true
   },
   "outputs": [],
   "source": [
    "submission_4 = pd.DataFrame(columns = ['id', 'pred1', 'pred2', 'FF'])"
   ]
  },
  {
   "cell_type": "code",
   "execution_count": 46,
   "metadata": {
    "collapsed": true
   },
   "outputs": [],
   "source": [
    "submission_4['id'] = test_id\n",
    "submission_4['pred1'] = pred1\n",
    "submission_4['pred2'] = pred2\n",
    "submission_4['FF'] = (submission_4['pred1']+submission_4['pred2'])/2.0"
   ]
  },
  {
   "cell_type": "code",
   "execution_count": 47,
   "metadata": {
    "collapsed": true
   },
   "outputs": [],
   "source": [
    "submission_4.drop('pred1', axis = 1, inplace = True)\n",
    "submission_4.drop('pred2', axis = 1, inplace = True)"
   ]
  },
  {
   "cell_type": "code",
   "execution_count": 48,
   "metadata": {
    "collapsed": true
   },
   "outputs": [],
   "source": [
    "submission_4.to_csv('0819\\\\submission_4.csv', index = False)"
   ]
  },
  {
   "cell_type": "code",
   "execution_count": 49,
   "metadata": {
    "collapsed": false
   },
   "outputs": [
    {
     "data": {
      "text/plain": [
       "(193541, 253)"
      ]
     },
     "execution_count": 49,
     "metadata": {},
     "output_type": "execute_result"
    }
   ],
   "source": [
    "test.shape"
   ]
  },
  {
   "cell_type": "markdown",
   "metadata": {},
   "source": [
    "<H3>Feature Importance</H3>"
   ]
  },
  {
   "cell_type": "code",
   "execution_count": 50,
   "metadata": {
    "collapsed": true
   },
   "outputs": [],
   "source": [
    "feat_imp_1 = pd.Series(model_4_1.get_fscore()).sort_values(ascending=False)\n",
    "feat_imp_2 = pd.Series(model_4_2.get_fscore()).sort_values(ascending=False)"
   ]
  },
  {
   "cell_type": "code",
   "execution_count": 51,
   "metadata": {
    "collapsed": true
   },
   "outputs": [],
   "source": [
    "feat_imp_1.to_csv('feat_imp_4_1.csv')\n",
    "feat_imp_2.to_csv('feat_imp_4_2.csv')"
   ]
  },
  {
   "cell_type": "code",
   "execution_count": 52,
   "metadata": {
    "collapsed": true
   },
   "outputs": [],
   "source": [
    "%matplotlib inline"
   ]
  },
  {
   "cell_type": "code",
   "execution_count": 53,
   "metadata": {
    "collapsed": false
   },
   "outputs": [
    {
     "data": {
      "text/plain": [
       "<matplotlib.text.Text at 0x9d0cfd0>"
      ]
     },
     "execution_count": 53,
     "metadata": {},
     "output_type": "execute_result"
    },
    {
     "data": {
      "image/png": "[encoded data removed]",
      "text/plain": [
       "<matplotlib.figure.Figure at 0x2babf860>"
      ]
     },
     "metadata": {},
     "output_type": "display_data"
    }
   ],
   "source": [
    "feat_imp_2[:25].plot(kind='bar', title='Feature Importances')\n",
    "plt.ylabel('Feature Importance Score')"
   ]
  },
  {
   "cell_type": "code",
   "execution_count": 54,
   "metadata": {
    "collapsed": false
   },
   "outputs": [
    {
     "data": {
      "text/plain": [
       "<matplotlib.text.Text at 0x28ecbf60>"
      ]
     },
     "execution_count": 54,
     "metadata": {},
     "output_type": "execute_result"
    },
    {
     "data": {
      "image/png": "[encoded data removed]",
      "text/plain": [
       "<matplotlib.figure.Figure at 0x2babf898>"
      ]
     },
     "metadata": {},
     "output_type": "display_data"
    }
   ],
   "source": [
    "feat_imp_1[:25].plot(kind='bar', title='Feature Importances')\n",
    "plt.ylabel('Feature Importance Score')"
   ]
  }
 ],
 "metadata": {
  "kernelspec": {
   "display_name": "Python 2",
   "language": "python",
   "name": "python2"
  },
  "language_info": {
   "codemirror_mode": {
    "name": "ipython",
    "version": 2
   },
   "file_extension": ".py",
   "mimetype": "text/x-python",
   "name": "python",
   "nbconvert_exporter": "python",
   "pygments_lexer": "ipython2",
   "version": "2.7.11"
  }
 },
 "nbformat": 4,
 "nbformat_minor": 0
}
