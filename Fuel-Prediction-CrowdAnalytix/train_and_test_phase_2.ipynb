{
 "cells": [
  {
   "cell_type": "markdown",
   "metadata": {},
   "source": [
    "<H3>Import Libraries</H3>"
   ]
  },
  {
   "cell_type": "code",
   "execution_count": 1,
   "metadata": {
    "collapsed": true
   },
   "outputs": [],
   "source": [
    "import numpy as np\n",
    "import os\n",
    "from scipy.misc import imread, imsave, imresize, imshow\n",
    "import random\n",
    "import matplotlib.pyplot as plt\n",
    "import pandas as pd\n",
    "import zipfile\n",
    "from sklearn import linear_model\n",
    "from sklearn.metrics import mean_squared_error\n",
    "from math import sqrt\n",
    "import gc\n",
    "\n",
    "import os\n",
    "\n",
    "mingw_path = 'C:\\\\Program Files\\\\mingw-w64\\\\x86_64-5.3.0-posix-seh-rt_v4-rev0\\\\mingw64\\\\bin'\n",
    "os.environ['PATH'] = mingw_path + ';' + os.environ['PATH']\n",
    "\n",
    "import xgboost as xgb"
   ]
  },
  {
   "cell_type": "markdown",
   "metadata": {},
   "source": [
    "<H3>Load Phase '2' data </H3>"
   ]
  },
  {
   "cell_type": "code",
   "execution_count": 2,
   "metadata": {
    "collapsed": false
   },
   "outputs": [
    {
     "name": "stderr",
     "output_type": "stream",
     "text": [
      "C:\\Anaconda2\\lib\\site-packages\\IPython\\core\\interactiveshell.py:2723: DtypeWarning: Columns (1) have mixed types. Specify dtype option on import or set low_memory=False.\n",
      "  interactivity=interactivity, compiler=compiler, result=result)\n"
     ]
    }
   ],
   "source": [
    "train1 = pd.read_csv('train_part\\\\2\\\\X_train_2_a.csv')"
   ]
  },
  {
   "cell_type": "code",
   "execution_count": 3,
   "metadata": {
    "collapsed": true
   },
   "outputs": [],
   "source": [
    "train2 = pd.read_csv('train_part\\\\2\\\\X_train_2_b.csv')"
   ]
  },
  {
   "cell_type": "code",
   "execution_count": 4,
   "metadata": {
    "collapsed": true
   },
   "outputs": [],
   "source": [
    "train1 = train1.sample(frac=1).reset_index(drop=True)"
   ]
  },
  {
   "cell_type": "code",
   "execution_count": 5,
   "metadata": {
    "collapsed": true
   },
   "outputs": [],
   "source": [
    "train2 = train2.sample(frac=1).reset_index(drop=True)"
   ]
  },
  {
   "cell_type": "code",
   "execution_count": 6,
   "metadata": {
    "collapsed": false
   },
   "outputs": [],
   "source": [
    "xtrain1 = train1[:100000]\n",
    "xtrain2 = train1[100000:200000]\n",
    "xtrain3 = train1[200000:]"
   ]
  },
  {
   "cell_type": "code",
   "execution_count": 7,
   "metadata": {
    "collapsed": false
   },
   "outputs": [
    {
     "data": {
      "text/plain": [
       "14"
      ]
     },
     "execution_count": 7,
     "metadata": {},
     "output_type": "execute_result"
    }
   ],
   "source": [
    "del train1\n",
    "gc.collect()"
   ]
  },
  {
   "cell_type": "code",
   "execution_count": 8,
   "metadata": {
    "collapsed": false
   },
   "outputs": [],
   "source": [
    "xtrain1 = xtrain1.append(train2[:100000])\n",
    "xtrain2 = xtrain2.append(train2[100000:200000])\n",
    "xtrain3 = xtrain3.append(train2[200000:])"
   ]
  },
  {
   "cell_type": "code",
   "execution_count": 9,
   "metadata": {
    "collapsed": false
   },
   "outputs": [
    {
     "data": {
      "text/plain": [
       "24"
      ]
     },
     "execution_count": 9,
     "metadata": {},
     "output_type": "execute_result"
    }
   ],
   "source": [
    "del train2\n",
    "gc.collect()"
   ]
  },
  {
   "cell_type": "code",
   "execution_count": 10,
   "metadata": {
    "collapsed": true
   },
   "outputs": [],
   "source": [
    "train3 = pd.read_csv('train_part\\\\2\\\\X_train_2_c.csv')"
   ]
  },
  {
   "cell_type": "code",
   "execution_count": 11,
   "metadata": {
    "collapsed": true
   },
   "outputs": [],
   "source": [
    "train3 = train3.sample(frac=1).reset_index(drop=True)"
   ]
  },
  {
   "cell_type": "code",
   "execution_count": 12,
   "metadata": {
    "collapsed": false
   },
   "outputs": [],
   "source": [
    "xtrain1 = xtrain1.append(train3[:100000])\n",
    "xtrain2 = xtrain2.append(train3[100000:200000])\n",
    "xtrain3 = xtrain3.append(train3[200000:])"
   ]
  },
  {
   "cell_type": "code",
   "execution_count": 13,
   "metadata": {
    "collapsed": false
   },
   "outputs": [
    {
     "data": {
      "text/plain": [
       "31"
      ]
     },
     "execution_count": 13,
     "metadata": {},
     "output_type": "execute_result"
    }
   ],
   "source": [
    "del train3\n",
    "gc.collect()"
   ]
  },
  {
   "cell_type": "code",
   "execution_count": 14,
   "metadata": {
    "collapsed": true
   },
   "outputs": [],
   "source": [
    "train4 = pd.read_csv('train_part\\\\2\\\\X_train_2_d.csv')"
   ]
  },
  {
   "cell_type": "code",
   "execution_count": 15,
   "metadata": {
    "collapsed": true
   },
   "outputs": [],
   "source": [
    "train4 = train4.sample(frac=1).reset_index(drop=True)"
   ]
  },
  {
   "cell_type": "code",
   "execution_count": 16,
   "metadata": {
    "collapsed": true
   },
   "outputs": [],
   "source": [
    "xtrain1 = xtrain1.append(train4[:100000])\n",
    "xtrain2 = xtrain2.append(train4[100000:200000])\n",
    "xtrain3 = xtrain3.append(train4[200000:])"
   ]
  },
  {
   "cell_type": "code",
   "execution_count": 17,
   "metadata": {
    "collapsed": false
   },
   "outputs": [
    {
     "data": {
      "text/plain": [
       "31"
      ]
     },
     "execution_count": 17,
     "metadata": {},
     "output_type": "execute_result"
    }
   ],
   "source": [
    "del train4\n",
    "gc.collect()"
   ]
  },
  {
   "cell_type": "code",
   "execution_count": 18,
   "metadata": {
    "collapsed": false
   },
   "outputs": [],
   "source": [
    "xtrain1.drop(xtrain1.columns[[0,1,2,6,7]], axis = 1, inplace = True)\n",
    "xtrain2.drop(xtrain2.columns[[0,1,2,6,7]], axis = 1, inplace = True)\n",
    "xtrain3.drop(xtrain3.columns[[0,1,2,6,7]], axis = 1, inplace = True)\n",
    "\n",
    "xtrain1.drop('PH', axis=1, inplace=True)\n",
    "xtrain2.drop('PH', axis=1, inplace=True)\n",
    "xtrain3.drop('PH', axis=1, inplace=True)"
   ]
  },
  {
   "cell_type": "code",
   "execution_count": 19,
   "metadata": {
    "collapsed": true
   },
   "outputs": [],
   "source": [
    "xtrain1['Month1']=np.where(xtrain1['Month']==1.0, 1,0)\n",
    "xtrain1['Month2']=np.where(xtrain1['Month']==2.0, 1,0)\n",
    "xtrain1['Month3']=np.where(xtrain1['Month']==3.0, 1,0)\n",
    "xtrain1['Month4']=np.where(xtrain1['Month']==4.0, 1,0)\n",
    "xtrain1['Month5']=np.where(xtrain1['Month']==5.0, 1,0)\n",
    "xtrain1['Month6']=np.where(xtrain1['Month']==6.0, 1,0)\n",
    "xtrain1['Month7']=np.where(xtrain1['Month']==7.0, 1,0)\n",
    "xtrain1['Month8']=np.where(xtrain1['Month']==8.0, 1,0)\n",
    "xtrain1['Month9']=np.where(xtrain1['Month']==9.0, 1,0)\n",
    "xtrain1['Month10']=np.where(xtrain1['Month']==10.0, 1,0)\n",
    "xtrain1['Month11']=np.where(xtrain1['Month']==11.0, 1,0)\n",
    "xtrain1['Month12']=np.where(xtrain1['Month']==12.0, 1,0)\n",
    "xtrain1['Hour1']=np.where(xtrain1['Hour']==1.0, 1,0)\n",
    "xtrain1['Hour2']=np.where(xtrain1['Hour']==2.0, 1,0)\n",
    "xtrain1['Hour3']=np.where(xtrain1['Hour']==3.0, 1,0)\n",
    "xtrain1['Hour4']=np.where(xtrain1['Hour']==4.0, 1,0)\n",
    "xtrain1['Hour5']=np.where(xtrain1['Hour']==5.0, 1,0)\n",
    "xtrain1['Hour6']=np.where(xtrain1['Hour']==6.0, 1,0)\n",
    "xtrain1['Hour7']=np.where(xtrain1['Hour']==7.0, 1,0)\n",
    "xtrain1['Hour8']=np.where(xtrain1['Hour']==8.0, 1,0)\n",
    "xtrain1['Hour9']=np.where(xtrain1['Hour']==9.0, 1,0)\n",
    "xtrain1['Hour10']=np.where(xtrain1['Hour']==10.0, 1,0)\n",
    "xtrain1['Hour11']=np.where(xtrain1['Hour']==11.0, 1,0)\n",
    "xtrain1['Hour12']=np.where(xtrain1['Hour']==12.0, 1,0)\n",
    "xtrain1['Hour13']=np.where(xtrain1['Hour']==13.0, 1,0)\n",
    "xtrain1['Hour14']=np.where(xtrain1['Hour']==14.0, 1,0)\n",
    "xtrain1['Hour15']=np.where(xtrain1['Hour']==15.0, 1,0)\n",
    "xtrain1['Hour16']=np.where(xtrain1['Hour']==16.0, 1,0)\n",
    "xtrain1['Hour17']=np.where(xtrain1['Hour']==17.0, 1,0)\n",
    "xtrain1['Hour18']=np.where(xtrain1['Hour']==18.0, 1,0)\n",
    "xtrain1['Hour19']=np.where(xtrain1['Hour']==19.0, 1,0)\n",
    "xtrain1['Hour20']=np.where(xtrain1['Hour']==20.0, 1,0)\n",
    "xtrain1['Hour21']=np.where(xtrain1['Hour']==21.0, 1,0)\n",
    "xtrain1['Hour22']=np.where(xtrain1['Hour']==22.0, 1,0)\n",
    "xtrain1['Hour23']=np.where(xtrain1['Hour']==23.0, 1,0)\n",
    "xtrain1['Hour24']=np.where(xtrain1['Hour']==24.0, 1,0)\n",
    "xtrain2['Month1']=np.where(xtrain2['Month']==1.0, 1,0)\n",
    "xtrain2['Month2']=np.where(xtrain2['Month']==2.0, 1,0)\n",
    "xtrain2['Month3']=np.where(xtrain2['Month']==3.0, 1,0)\n",
    "xtrain2['Month4']=np.where(xtrain2['Month']==4.0, 1,0)\n",
    "xtrain2['Month5']=np.where(xtrain2['Month']==5.0, 1,0)\n",
    "xtrain2['Month6']=np.where(xtrain2['Month']==6.0, 1,0)\n",
    "xtrain2['Month7']=np.where(xtrain2['Month']==7.0, 1,0)\n",
    "xtrain2['Month8']=np.where(xtrain2['Month']==8.0, 1,0)\n",
    "xtrain2['Month9']=np.where(xtrain2['Month']==9.0, 1,0)\n",
    "xtrain2['Month10']=np.where(xtrain2['Month']==10.0, 1,0)\n",
    "xtrain2['Month11']=np.where(xtrain2['Month']==11.0, 1,0)\n",
    "xtrain2['Month12']=np.where(xtrain2['Month']==12.0, 1,0)\n",
    "xtrain2['Hour1']=np.where(xtrain2['Hour']==1.0, 1,0)\n",
    "xtrain2['Hour2']=np.where(xtrain2['Hour']==2.0, 1,0)\n",
    "xtrain2['Hour3']=np.where(xtrain2['Hour']==3.0, 1,0)\n",
    "xtrain2['Hour4']=np.where(xtrain2['Hour']==4.0, 1,0)\n",
    "xtrain2['Hour5']=np.where(xtrain2['Hour']==5.0, 1,0)\n",
    "xtrain2['Hour6']=np.where(xtrain2['Hour']==6.0, 1,0)\n",
    "xtrain2['Hour7']=np.where(xtrain2['Hour']==7.0, 1,0)\n",
    "xtrain2['Hour8']=np.where(xtrain2['Hour']==8.0, 1,0)\n",
    "xtrain2['Hour9']=np.where(xtrain2['Hour']==9.0, 1,0)\n",
    "xtrain2['Hour10']=np.where(xtrain2['Hour']==10.0, 1,0)\n",
    "xtrain2['Hour11']=np.where(xtrain2['Hour']==11.0, 1,0)\n",
    "xtrain2['Hour12']=np.where(xtrain2['Hour']==12.0, 1,0)\n",
    "xtrain2['Hour13']=np.where(xtrain2['Hour']==13.0, 1,0)\n",
    "xtrain2['Hour14']=np.where(xtrain2['Hour']==14.0, 1,0)\n",
    "xtrain2['Hour15']=np.where(xtrain2['Hour']==15.0, 1,0)\n",
    "xtrain2['Hour16']=np.where(xtrain2['Hour']==16.0, 1,0)\n",
    "xtrain2['Hour17']=np.where(xtrain2['Hour']==17.0, 1,0)\n",
    "xtrain2['Hour18']=np.where(xtrain2['Hour']==18.0, 1,0)\n",
    "xtrain2['Hour19']=np.where(xtrain2['Hour']==19.0, 1,0)\n",
    "xtrain2['Hour20']=np.where(xtrain2['Hour']==20.0, 1,0)\n",
    "xtrain2['Hour21']=np.where(xtrain2['Hour']==21.0, 1,0)\n",
    "xtrain2['Hour22']=np.where(xtrain2['Hour']==22.0, 1,0)\n",
    "xtrain2['Hour23']=np.where(xtrain2['Hour']==23.0, 1,0)\n",
    "xtrain2['Hour24']=np.where(xtrain2['Hour']==24.0, 1,0)\n",
    "xtrain3['Month1']=np.where(xtrain3['Month']==1.0, 1,0)\n",
    "xtrain3['Month2']=np.where(xtrain3['Month']==2.0, 1,0)\n",
    "xtrain3['Month3']=np.where(xtrain3['Month']==3.0, 1,0)\n",
    "xtrain3['Month4']=np.where(xtrain3['Month']==4.0, 1,0)\n",
    "xtrain3['Month5']=np.where(xtrain3['Month']==5.0, 1,0)\n",
    "xtrain3['Month6']=np.where(xtrain3['Month']==6.0, 1,0)\n",
    "xtrain3['Month7']=np.where(xtrain3['Month']==7.0, 1,0)\n",
    "xtrain3['Month8']=np.where(xtrain3['Month']==8.0, 1,0)\n",
    "xtrain3['Month9']=np.where(xtrain3['Month']==9.0, 1,0)\n",
    "xtrain3['Month10']=np.where(xtrain3['Month']==10.0, 1,0)\n",
    "xtrain3['Month11']=np.where(xtrain3['Month']==11.0, 1,0)\n",
    "xtrain3['Month12']=np.where(xtrain3['Month']==12.0, 1,0)\n",
    "xtrain3['Hour1']=np.where(xtrain3['Hour']==1.0, 1,0)\n",
    "xtrain3['Hour2']=np.where(xtrain3['Hour']==2.0, 1,0)\n",
    "xtrain3['Hour3']=np.where(xtrain3['Hour']==3.0, 1,0)\n",
    "xtrain3['Hour4']=np.where(xtrain3['Hour']==4.0, 1,0)\n",
    "xtrain3['Hour5']=np.where(xtrain3['Hour']==5.0, 1,0)\n",
    "xtrain3['Hour6']=np.where(xtrain3['Hour']==6.0, 1,0)\n",
    "xtrain3['Hour7']=np.where(xtrain3['Hour']==7.0, 1,0)\n",
    "xtrain3['Hour8']=np.where(xtrain3['Hour']==8.0, 1,0)\n",
    "xtrain3['Hour9']=np.where(xtrain3['Hour']==9.0, 1,0)\n",
    "xtrain3['Hour10']=np.where(xtrain3['Hour']==10.0, 1,0)\n",
    "xtrain3['Hour11']=np.where(xtrain3['Hour']==11.0, 1,0)\n",
    "xtrain3['Hour12']=np.where(xtrain3['Hour']==12.0, 1,0)\n",
    "xtrain3['Hour13']=np.where(xtrain3['Hour']==13.0, 1,0)\n",
    "xtrain3['Hour14']=np.where(xtrain3['Hour']==14.0, 1,0)\n",
    "xtrain3['Hour15']=np.where(xtrain3['Hour']==15.0, 1,0)\n",
    "xtrain3['Hour16']=np.where(xtrain3['Hour']==16.0, 1,0)\n",
    "xtrain3['Hour17']=np.where(xtrain3['Hour']==17.0, 1,0)\n",
    "xtrain3['Hour18']=np.where(xtrain3['Hour']==18.0, 1,0)\n",
    "xtrain3['Hour19']=np.where(xtrain3['Hour']==19.0, 1,0)\n",
    "xtrain3['Hour20']=np.where(xtrain3['Hour']==20.0, 1,0)\n",
    "xtrain3['Hour21']=np.where(xtrain3['Hour']==21.0, 1,0)\n",
    "xtrain3['Hour22']=np.where(xtrain3['Hour']==22.0, 1,0)\n",
    "xtrain3['Hour23']=np.where(xtrain3['Hour']==23.0, 1,0)\n",
    "xtrain3['Hour24']=np.where(xtrain3['Hour']==24.0, 1,0)"
   ]
  },
  {
   "cell_type": "code",
   "execution_count": 20,
   "metadata": {
    "collapsed": false
   },
   "outputs": [],
   "source": [
    "xtrain1.drop('Month', axis = 1, inplace = True)\n",
    "xtrain2.drop('Month', axis = 1, inplace = True)\n",
    "xtrain3.drop('Month', axis = 1, inplace = True)\n",
    "\n",
    "xtrain1.drop('Hour', axis = 1, inplace = True)\n",
    "xtrain2.drop('Hour', axis = 1, inplace = True)\n",
    "xtrain3.drop('Hour', axis = 1, inplace = True)"
   ]
  },
  {
   "cell_type": "code",
   "execution_count": 21,
   "metadata": {
    "collapsed": true
   },
   "outputs": [],
   "source": [
    "y1 = xtrain1.pop('FF')\n",
    "y2 = xtrain2.pop('FF')\n",
    "y3 = xtrain3.pop('FF')"
   ]
  },
  {
   "cell_type": "code",
   "execution_count": 22,
   "metadata": {
    "collapsed": true
   },
   "outputs": [],
   "source": [
    "xgtrain1 = xgb.DMatrix(xtrain1, label = y1)"
   ]
  },
  {
   "cell_type": "code",
   "execution_count": 23,
   "metadata": {
    "collapsed": false
   },
   "outputs": [
    {
     "data": {
      "text/plain": [
       "322"
      ]
     },
     "execution_count": 23,
     "metadata": {},
     "output_type": "execute_result"
    }
   ],
   "source": [
    "del xtrain1\n",
    "gc.collect()"
   ]
  },
  {
   "cell_type": "code",
   "execution_count": 24,
   "metadata": {
    "collapsed": true
   },
   "outputs": [],
   "source": [
    "xgtrain2 = xgb.DMatrix(xtrain2, label = y2)"
   ]
  },
  {
   "cell_type": "code",
   "execution_count": 25,
   "metadata": {
    "collapsed": false
   },
   "outputs": [
    {
     "data": {
      "text/plain": [
       "7"
      ]
     },
     "execution_count": 25,
     "metadata": {},
     "output_type": "execute_result"
    }
   ],
   "source": [
    "del xtrain2\n",
    "gc.collect()"
   ]
  },
  {
   "cell_type": "code",
   "execution_count": 26,
   "metadata": {
    "collapsed": true
   },
   "outputs": [],
   "source": [
    "xgtrain3 = xgb.DMatrix(xtrain3, label = y3)"
   ]
  },
  {
   "cell_type": "code",
   "execution_count": 27,
   "metadata": {
    "collapsed": false
   },
   "outputs": [
    {
     "data": {
      "text/plain": [
       "7"
      ]
     },
     "execution_count": 27,
     "metadata": {},
     "output_type": "execute_result"
    }
   ],
   "source": [
    "del xtrain3\n",
    "gc.collect()"
   ]
  },
  {
   "cell_type": "markdown",
   "metadata": {},
   "source": [
    "<H3>Train the model</H3>"
   ]
  },
  {
   "cell_type": "code",
   "execution_count": 28,
   "metadata": {
    "collapsed": false
   },
   "outputs": [
    {
     "name": "stdout",
     "output_type": "stream",
     "text": [
      "[0]\ttrain-rmse:1380.7\teval-rmse:1378.33\n",
      "Multiple eval metrics have been passed: 'eval-rmse' will be used for early stopping.\n",
      "\n",
      "Will train until eval-rmse hasn't improved in 10 rounds.\n",
      "[1]\ttrain-rmse:1246.08\teval-rmse:1244\n",
      "[2]\ttrain-rmse:1125.35\teval-rmse:1123.52\n",
      "[3]\ttrain-rmse:1016.88\teval-rmse:1015.25\n",
      "[4]\ttrain-rmse:919.578\teval-rmse:918.166\n",
      "[5]\ttrain-rmse:832.312\teval-rmse:831.128\n",
      "[6]\ttrain-rmse:754.257\teval-rmse:753.346\n",
      "[7]\ttrain-rmse:684.263\teval-rmse:683.662\n",
      "[8]\ttrain-rmse:620.844\teval-rmse:620.454\n",
      "[9]\ttrain-rmse:564.7\teval-rmse:564.542\n",
      "[10]\ttrain-rmse:514.024\teval-rmse:514.167\n",
      "[11]\ttrain-rmse:469.571\teval-rmse:470.013\n",
      "[12]\ttrain-rmse:429.382\teval-rmse:430.195\n",
      "[13]\ttrain-rmse:393.657\teval-rmse:394.764\n",
      "[14]\ttrain-rmse:362.108\teval-rmse:363.462\n",
      "[15]\ttrain-rmse:334.186\teval-rmse:335.836\n",
      "[16]\ttrain-rmse:309.639\teval-rmse:311.642\n",
      "[17]\ttrain-rmse:288.093\teval-rmse:290.444\n",
      "[18]\ttrain-rmse:269.664\teval-rmse:272.311\n",
      "[19]\ttrain-rmse:252.998\teval-rmse:255.995\n",
      "[20]\ttrain-rmse:238.213\teval-rmse:241.605\n",
      "[21]\ttrain-rmse:225.988\teval-rmse:229.666\n",
      "[22]\ttrain-rmse:214.776\teval-rmse:218.856\n",
      "[23]\ttrain-rmse:205.541\teval-rmse:209.91\n",
      "[24]\ttrain-rmse:197.174\teval-rmse:201.856\n",
      "[25]\ttrain-rmse:189.53\teval-rmse:194.508\n",
      "[26]\ttrain-rmse:183.394\teval-rmse:188.612\n",
      "[27]\ttrain-rmse:178.159\teval-rmse:183.55\n",
      "[28]\ttrain-rmse:173.048\teval-rmse:178.753\n",
      "[29]\ttrain-rmse:168.639\teval-rmse:174.72\n",
      "[30]\ttrain-rmse:165.273\teval-rmse:171.5\n",
      "[31]\ttrain-rmse:162.53\teval-rmse:168.916\n",
      "[32]\ttrain-rmse:159.62\teval-rmse:166.226\n",
      "[33]\ttrain-rmse:157.228\teval-rmse:164.123\n",
      "[34]\ttrain-rmse:154.638\teval-rmse:161.703\n",
      "[35]\ttrain-rmse:152.829\teval-rmse:160.097\n",
      "[36]\ttrain-rmse:150.876\teval-rmse:158.399\n",
      "[37]\ttrain-rmse:149.674\teval-rmse:157.313\n",
      "[38]\ttrain-rmse:148.188\teval-rmse:156.026\n",
      "[39]\ttrain-rmse:146.698\teval-rmse:154.663\n",
      "[40]\ttrain-rmse:145.637\teval-rmse:153.692\n",
      "[41]\ttrain-rmse:144.761\teval-rmse:152.872\n",
      "[42]\ttrain-rmse:143.69\teval-rmse:151.971\n",
      "[43]\ttrain-rmse:142.493\teval-rmse:150.96\n",
      "[44]\ttrain-rmse:141.412\teval-rmse:150.098\n",
      "[45]\ttrain-rmse:140.38\teval-rmse:149.29\n",
      "[46]\ttrain-rmse:139.318\teval-rmse:148.44\n",
      "[47]\ttrain-rmse:138.749\teval-rmse:147.973\n",
      "[48]\ttrain-rmse:138\teval-rmse:147.393\n",
      "[49]\ttrain-rmse:137.283\teval-rmse:146.836\n",
      "[50]\ttrain-rmse:136.866\teval-rmse:146.464\n",
      "[51]\ttrain-rmse:136.137\teval-rmse:145.828\n",
      "[52]\ttrain-rmse:135.52\teval-rmse:145.309\n",
      "[53]\ttrain-rmse:134.629\teval-rmse:144.537\n",
      "[54]\ttrain-rmse:134.075\teval-rmse:144.115\n",
      "[55]\ttrain-rmse:133.339\teval-rmse:143.53\n",
      "[56]\ttrain-rmse:132.668\teval-rmse:142.933\n",
      "[57]\ttrain-rmse:132.291\teval-rmse:142.632\n",
      "[58]\ttrain-rmse:131.975\teval-rmse:142.344\n",
      "[59]\ttrain-rmse:131.424\teval-rmse:141.88\n",
      "[60]\ttrain-rmse:130.92\teval-rmse:141.429\n",
      "[61]\ttrain-rmse:130.594\teval-rmse:141.164\n",
      "[62]\ttrain-rmse:130.249\teval-rmse:140.853\n",
      "[63]\ttrain-rmse:129.866\teval-rmse:140.517\n",
      "[64]\ttrain-rmse:129.286\teval-rmse:139.984\n",
      "[65]\ttrain-rmse:128.908\teval-rmse:139.656\n",
      "[66]\ttrain-rmse:128.443\teval-rmse:139.309\n",
      "[67]\ttrain-rmse:127.797\teval-rmse:138.812\n",
      "[68]\ttrain-rmse:127.513\teval-rmse:138.596\n",
      "[69]\ttrain-rmse:127.058\teval-rmse:138.188\n",
      "[70]\ttrain-rmse:126.845\teval-rmse:138.036\n",
      "[71]\ttrain-rmse:126.725\teval-rmse:137.926\n",
      "[72]\ttrain-rmse:126.363\teval-rmse:137.668\n",
      "[73]\ttrain-rmse:125.978\teval-rmse:137.33\n",
      "[74]\ttrain-rmse:125.541\teval-rmse:136.988\n",
      "[75]\ttrain-rmse:125.454\teval-rmse:136.919\n",
      "[76]\ttrain-rmse:124.947\teval-rmse:136.482\n",
      "[77]\ttrain-rmse:124.818\teval-rmse:136.371\n",
      "[78]\ttrain-rmse:124.679\teval-rmse:136.261\n",
      "[79]\ttrain-rmse:124.527\teval-rmse:136.092\n",
      "[80]\ttrain-rmse:124.392\teval-rmse:136.016\n",
      "[81]\ttrain-rmse:124.204\teval-rmse:135.871\n",
      "[82]\ttrain-rmse:123.833\teval-rmse:135.58\n",
      "[83]\ttrain-rmse:123.748\teval-rmse:135.503\n",
      "[84]\ttrain-rmse:123.388\teval-rmse:135.174\n",
      "[85]\ttrain-rmse:123.266\teval-rmse:135.068\n",
      "[86]\ttrain-rmse:122.822\teval-rmse:134.744\n",
      "[87]\ttrain-rmse:122.756\teval-rmse:134.695\n",
      "[88]\ttrain-rmse:122.536\teval-rmse:134.472\n",
      "[89]\ttrain-rmse:122.302\teval-rmse:134.288\n",
      "[90]\ttrain-rmse:121.955\teval-rmse:134.057\n",
      "[91]\ttrain-rmse:121.796\teval-rmse:133.933\n",
      "[92]\ttrain-rmse:121.377\teval-rmse:133.632\n",
      "[93]\ttrain-rmse:121.288\teval-rmse:133.557\n",
      "[94]\ttrain-rmse:121.043\teval-rmse:133.385\n",
      "[95]\ttrain-rmse:120.832\teval-rmse:133.227\n",
      "[96]\ttrain-rmse:120.509\teval-rmse:132.923\n",
      "[97]\ttrain-rmse:120.257\teval-rmse:132.732\n",
      "[98]\ttrain-rmse:120.067\teval-rmse:132.6\n",
      "[99]\ttrain-rmse:119.98\teval-rmse:132.527\n",
      "[100]\ttrain-rmse:119.852\teval-rmse:132.454\n",
      "[101]\ttrain-rmse:119.677\teval-rmse:132.288\n",
      "[102]\ttrain-rmse:119.403\teval-rmse:132.075\n",
      "[103]\ttrain-rmse:119.245\teval-rmse:131.981\n",
      "[104]\ttrain-rmse:119.056\teval-rmse:131.865\n",
      "[105]\ttrain-rmse:118.935\teval-rmse:131.777\n",
      "[106]\ttrain-rmse:118.748\teval-rmse:131.617\n",
      "[107]\ttrain-rmse:118.618\teval-rmse:131.51\n",
      "[108]\ttrain-rmse:118.311\teval-rmse:131.269\n",
      "[109]\ttrain-rmse:118.079\teval-rmse:131.098\n",
      "[110]\ttrain-rmse:118.005\teval-rmse:131.037\n",
      "[111]\ttrain-rmse:117.894\teval-rmse:130.944\n",
      "[112]\ttrain-rmse:117.638\teval-rmse:130.742\n",
      "[113]\ttrain-rmse:117.513\teval-rmse:130.663\n",
      "[114]\ttrain-rmse:117.35\teval-rmse:130.532\n",
      "[115]\ttrain-rmse:117.193\teval-rmse:130.406\n",
      "[116]\ttrain-rmse:117.106\teval-rmse:130.366\n",
      "[117]\ttrain-rmse:116.923\teval-rmse:130.226\n",
      "[118]\ttrain-rmse:116.759\teval-rmse:130.108\n",
      "[119]\ttrain-rmse:116.629\teval-rmse:130.004\n",
      "[120]\ttrain-rmse:116.262\teval-rmse:129.773\n",
      "[121]\ttrain-rmse:115.992\teval-rmse:129.601\n",
      "[122]\ttrain-rmse:115.751\teval-rmse:129.428\n",
      "[123]\ttrain-rmse:115.549\teval-rmse:129.275\n",
      "[124]\ttrain-rmse:115.477\teval-rmse:129.232\n",
      "[125]\ttrain-rmse:115.381\teval-rmse:129.17\n",
      "[126]\ttrain-rmse:115.179\teval-rmse:129.04\n",
      "[127]\ttrain-rmse:115.022\teval-rmse:128.92\n",
      "[128]\ttrain-rmse:114.912\teval-rmse:128.84\n",
      "[129]\ttrain-rmse:114.672\teval-rmse:128.685\n",
      "[130]\ttrain-rmse:114.632\teval-rmse:128.665\n",
      "[131]\ttrain-rmse:114.463\teval-rmse:128.525\n",
      "[132]\ttrain-rmse:114.347\teval-rmse:128.462\n",
      "[133]\ttrain-rmse:114.235\teval-rmse:128.379\n",
      "[134]\ttrain-rmse:114.095\teval-rmse:128.297\n",
      "[135]\ttrain-rmse:113.948\teval-rmse:128.192\n",
      "[136]\ttrain-rmse:113.795\teval-rmse:128.067\n",
      "[137]\ttrain-rmse:113.68\teval-rmse:127.982\n",
      "[138]\ttrain-rmse:113.625\teval-rmse:127.933\n",
      "[139]\ttrain-rmse:113.373\teval-rmse:127.793\n",
      "[140]\ttrain-rmse:113.241\teval-rmse:127.697\n",
      "[141]\ttrain-rmse:113.165\teval-rmse:127.64\n",
      "[142]\ttrain-rmse:113.056\teval-rmse:127.558\n",
      "[143]\ttrain-rmse:112.904\teval-rmse:127.468\n",
      "[144]\ttrain-rmse:112.692\teval-rmse:127.306\n",
      "[145]\ttrain-rmse:112.525\teval-rmse:127.152\n",
      "[146]\ttrain-rmse:112.31\teval-rmse:127.003\n",
      "[147]\ttrain-rmse:112.157\teval-rmse:126.888\n",
      "[148]\ttrain-rmse:112.018\teval-rmse:126.801\n",
      "[149]\ttrain-rmse:111.924\teval-rmse:126.728\n",
      "[150]\ttrain-rmse:111.884\teval-rmse:126.698\n",
      "[151]\ttrain-rmse:111.715\teval-rmse:126.576\n",
      "[152]\ttrain-rmse:111.612\teval-rmse:126.502\n",
      "[153]\ttrain-rmse:111.497\teval-rmse:126.425\n",
      "[154]\ttrain-rmse:111.356\teval-rmse:126.335\n",
      "[155]\ttrain-rmse:111.127\teval-rmse:126.158\n",
      "[156]\ttrain-rmse:111.05\teval-rmse:126.099\n",
      "[157]\ttrain-rmse:110.96\teval-rmse:126.034\n",
      "[158]\ttrain-rmse:110.887\teval-rmse:125.987\n",
      "[159]\ttrain-rmse:110.625\teval-rmse:125.785\n",
      "[160]\ttrain-rmse:110.555\teval-rmse:125.749\n",
      "[161]\ttrain-rmse:110.42\teval-rmse:125.662\n",
      "[162]\ttrain-rmse:110.308\teval-rmse:125.574\n",
      "[163]\ttrain-rmse:110.045\teval-rmse:125.369\n",
      "[164]\ttrain-rmse:109.917\teval-rmse:125.269\n",
      "[165]\ttrain-rmse:109.687\teval-rmse:125.095\n",
      "[166]\ttrain-rmse:109.567\teval-rmse:124.995\n",
      "[167]\ttrain-rmse:109.211\teval-rmse:124.707\n",
      "[168]\ttrain-rmse:109.117\teval-rmse:124.644\n",
      "[169]\ttrain-rmse:108.918\teval-rmse:124.476\n",
      "[170]\ttrain-rmse:108.77\teval-rmse:124.345\n",
      "[171]\ttrain-rmse:108.628\teval-rmse:124.262\n",
      "[172]\ttrain-rmse:108.557\teval-rmse:124.212\n",
      "[173]\ttrain-rmse:108.333\teval-rmse:124.084\n",
      "[174]\ttrain-rmse:107.966\teval-rmse:123.845\n",
      "[175]\ttrain-rmse:107.871\teval-rmse:123.777\n",
      "[176]\ttrain-rmse:107.68\teval-rmse:123.656\n",
      "[177]\ttrain-rmse:107.606\teval-rmse:123.635\n",
      "[178]\ttrain-rmse:107.418\teval-rmse:123.493\n",
      "[179]\ttrain-rmse:107.256\teval-rmse:123.371\n",
      "[180]\ttrain-rmse:107.226\teval-rmse:123.354\n",
      "[181]\ttrain-rmse:107.101\teval-rmse:123.259\n",
      "[182]\ttrain-rmse:107.041\teval-rmse:123.228\n",
      "[183]\ttrain-rmse:106.989\teval-rmse:123.208\n",
      "[184]\ttrain-rmse:106.771\teval-rmse:123.039\n",
      "[185]\ttrain-rmse:106.717\teval-rmse:123.013\n",
      "[186]\ttrain-rmse:106.541\teval-rmse:122.912\n",
      "[187]\ttrain-rmse:106.448\teval-rmse:122.833\n",
      "[188]\ttrain-rmse:106.269\teval-rmse:122.697\n",
      "[189]\ttrain-rmse:106.031\teval-rmse:122.537\n",
      "[190]\ttrain-rmse:105.896\teval-rmse:122.433\n",
      "[191]\ttrain-rmse:105.827\teval-rmse:122.412\n",
      "[192]\ttrain-rmse:105.767\teval-rmse:122.359\n",
      "[193]\ttrain-rmse:105.677\teval-rmse:122.295\n",
      "[194]\ttrain-rmse:105.603\teval-rmse:122.25\n",
      "[195]\ttrain-rmse:105.448\teval-rmse:122.156\n",
      "[196]\ttrain-rmse:105.41\teval-rmse:122.128\n",
      "[197]\ttrain-rmse:105.35\teval-rmse:122.086\n",
      "[198]\ttrain-rmse:105.29\teval-rmse:122.052\n",
      "[199]\ttrain-rmse:105.195\teval-rmse:121.983\n",
      "[200]\ttrain-rmse:105.126\teval-rmse:121.934\n",
      "[201]\ttrain-rmse:105.016\teval-rmse:121.874\n",
      "[202]\ttrain-rmse:104.909\teval-rmse:121.795\n",
      "[203]\ttrain-rmse:104.73\teval-rmse:121.666\n",
      "[204]\ttrain-rmse:104.587\teval-rmse:121.471\n",
      "[205]\ttrain-rmse:104.53\teval-rmse:121.428\n",
      "[206]\ttrain-rmse:104.446\teval-rmse:121.347\n",
      "[207]\ttrain-rmse:104.38\teval-rmse:121.308\n",
      "[208]\ttrain-rmse:104.33\teval-rmse:121.27\n",
      "[209]\ttrain-rmse:104.232\teval-rmse:121.216\n",
      "[210]\ttrain-rmse:104.151\teval-rmse:121.177\n",
      "[211]\ttrain-rmse:104.091\teval-rmse:121.142\n",
      "[212]\ttrain-rmse:104.004\teval-rmse:121.074\n",
      "[213]\ttrain-rmse:103.957\teval-rmse:121.045\n",
      "[214]\ttrain-rmse:103.914\teval-rmse:120.991\n",
      "[215]\ttrain-rmse:103.732\teval-rmse:120.867\n",
      "[216]\ttrain-rmse:103.66\teval-rmse:120.819\n",
      "[217]\ttrain-rmse:103.617\teval-rmse:120.788\n",
      "[218]\ttrain-rmse:103.555\teval-rmse:120.748\n",
      "[219]\ttrain-rmse:103.501\teval-rmse:120.711\n",
      "[220]\ttrain-rmse:103.368\teval-rmse:120.609\n",
      "[221]\ttrain-rmse:103.242\teval-rmse:120.513\n",
      "[222]\ttrain-rmse:103.126\teval-rmse:120.434\n",
      "[223]\ttrain-rmse:103.05\teval-rmse:120.372\n",
      "[224]\ttrain-rmse:102.94\teval-rmse:120.308\n",
      "[225]\ttrain-rmse:102.882\teval-rmse:120.23\n",
      "[226]\ttrain-rmse:102.828\teval-rmse:120.195\n",
      "[227]\ttrain-rmse:102.773\teval-rmse:120.176\n",
      "[228]\ttrain-rmse:102.709\teval-rmse:120.138\n",
      "[229]\ttrain-rmse:102.653\teval-rmse:120.093\n",
      "[230]\ttrain-rmse:102.612\teval-rmse:120.074\n",
      "[231]\ttrain-rmse:102.492\teval-rmse:119.994\n",
      "[232]\ttrain-rmse:102.443\teval-rmse:119.975\n",
      "[233]\ttrain-rmse:102.392\teval-rmse:119.947\n",
      "[234]\ttrain-rmse:102.356\teval-rmse:119.938\n",
      "[235]\ttrain-rmse:102.312\teval-rmse:119.918\n",
      "[236]\ttrain-rmse:102.266\teval-rmse:119.882\n",
      "[237]\ttrain-rmse:102.171\teval-rmse:119.816\n",
      "[238]\ttrain-rmse:102.106\teval-rmse:119.771\n",
      "[239]\ttrain-rmse:102.018\teval-rmse:119.694\n",
      "[240]\ttrain-rmse:101.899\teval-rmse:119.604\n",
      "[241]\ttrain-rmse:101.886\teval-rmse:119.597\n",
      "[242]\ttrain-rmse:101.821\teval-rmse:119.565\n",
      "[243]\ttrain-rmse:101.744\teval-rmse:119.547\n",
      "[244]\ttrain-rmse:101.702\teval-rmse:119.52\n",
      "[245]\ttrain-rmse:101.647\teval-rmse:119.475\n",
      "[246]\ttrain-rmse:101.545\teval-rmse:119.399\n",
      "[247]\ttrain-rmse:101.494\teval-rmse:119.359\n",
      "[248]\ttrain-rmse:101.445\teval-rmse:119.337\n",
      "[249]\ttrain-rmse:101.409\teval-rmse:119.312\n",
      "[250]\ttrain-rmse:101.324\teval-rmse:119.26\n",
      "[251]\ttrain-rmse:101.107\teval-rmse:119.071\n",
      "[252]\ttrain-rmse:100.966\teval-rmse:118.976\n",
      "[253]\ttrain-rmse:100.809\teval-rmse:118.866\n",
      "[254]\ttrain-rmse:100.769\teval-rmse:118.844\n",
      "[255]\ttrain-rmse:100.665\teval-rmse:118.773\n",
      "[256]\ttrain-rmse:100.48\teval-rmse:118.618\n",
      "[257]\ttrain-rmse:100.299\teval-rmse:118.481\n",
      "[258]\ttrain-rmse:100.178\teval-rmse:118.427\n",
      "[259]\ttrain-rmse:100.158\teval-rmse:118.411\n",
      "[260]\ttrain-rmse:100.081\teval-rmse:118.369\n",
      "[261]\ttrain-rmse:99.9826\teval-rmse:118.3\n",
      "[262]\ttrain-rmse:99.8666\teval-rmse:118.206\n",
      "[263]\ttrain-rmse:99.7613\teval-rmse:118.152\n",
      "[264]\ttrain-rmse:99.706\teval-rmse:118.116\n",
      "[265]\ttrain-rmse:99.6555\teval-rmse:118.089\n",
      "[266]\ttrain-rmse:99.4834\teval-rmse:117.958\n",
      "[267]\ttrain-rmse:99.3239\teval-rmse:117.844\n",
      "[268]\ttrain-rmse:99.2671\teval-rmse:117.812\n",
      "[269]\ttrain-rmse:99.2086\teval-rmse:117.786\n",
      "[270]\ttrain-rmse:99.1671\teval-rmse:117.76\n",
      "[271]\ttrain-rmse:99.0219\teval-rmse:117.689\n",
      "[272]\ttrain-rmse:98.8882\teval-rmse:117.595\n",
      "[273]\ttrain-rmse:98.8115\teval-rmse:117.546\n",
      "[274]\ttrain-rmse:98.6659\teval-rmse:117.448\n",
      "[275]\ttrain-rmse:98.5274\teval-rmse:117.35\n",
      "[276]\ttrain-rmse:98.4188\teval-rmse:117.299\n",
      "[277]\ttrain-rmse:98.3665\teval-rmse:117.264\n",
      "[278]\ttrain-rmse:98.2015\teval-rmse:117.136\n",
      "[279]\ttrain-rmse:98.1559\teval-rmse:117.115\n",
      "[280]\ttrain-rmse:98.1009\teval-rmse:117.093\n",
      "[281]\ttrain-rmse:98.0447\teval-rmse:117.05\n",
      "[282]\ttrain-rmse:98.0103\teval-rmse:117.039\n",
      "[283]\ttrain-rmse:97.988\teval-rmse:117.021\n",
      "[284]\ttrain-rmse:97.947\teval-rmse:117.005\n",
      "[285]\ttrain-rmse:97.8793\teval-rmse:116.952\n",
      "[286]\ttrain-rmse:97.7527\teval-rmse:116.875\n",
      "[287]\ttrain-rmse:97.6474\teval-rmse:116.829\n",
      "[288]\ttrain-rmse:97.5596\teval-rmse:116.768\n",
      "[289]\ttrain-rmse:97.5053\teval-rmse:116.739\n",
      "[290]\ttrain-rmse:97.388\teval-rmse:116.664\n",
      "[291]\ttrain-rmse:97.2381\teval-rmse:116.584\n",
      "[292]\ttrain-rmse:97.2227\teval-rmse:116.575\n",
      "[293]\ttrain-rmse:97.1723\teval-rmse:116.546\n",
      "[294]\ttrain-rmse:97.1086\teval-rmse:116.519\n",
      "[295]\ttrain-rmse:97.075\teval-rmse:116.489\n",
      "[296]\ttrain-rmse:97.0493\teval-rmse:116.474\n",
      "[297]\ttrain-rmse:96.9686\teval-rmse:116.42\n",
      "[298]\ttrain-rmse:96.882\teval-rmse:116.346\n",
      "[299]\ttrain-rmse:96.7723\teval-rmse:116.279\n",
      "[300]\ttrain-rmse:96.7544\teval-rmse:116.264\n",
      "[301]\ttrain-rmse:96.6438\teval-rmse:116.197\n",
      "[302]\ttrain-rmse:96.6289\teval-rmse:116.187\n",
      "[303]\ttrain-rmse:96.6101\teval-rmse:116.174\n",
      "[304]\ttrain-rmse:96.5748\teval-rmse:116.151\n",
      "[305]\ttrain-rmse:96.5307\teval-rmse:116.13\n",
      "[306]\ttrain-rmse:96.4461\teval-rmse:116.082\n",
      "[307]\ttrain-rmse:96.4003\teval-rmse:116.059\n",
      "[308]\ttrain-rmse:96.3751\teval-rmse:116.05\n",
      "[309]\ttrain-rmse:96.3625\teval-rmse:116.037\n",
      "[310]\ttrain-rmse:96.2561\teval-rmse:115.965\n",
      "[311]\ttrain-rmse:96.2044\teval-rmse:115.939\n",
      "[312]\ttrain-rmse:96.1252\teval-rmse:115.88\n",
      "[313]\ttrain-rmse:96.1027\teval-rmse:115.87\n",
      "[314]\ttrain-rmse:96.0473\teval-rmse:115.832\n",
      "[315]\ttrain-rmse:95.9305\teval-rmse:115.744\n",
      "[316]\ttrain-rmse:95.8355\teval-rmse:115.663\n",
      "[317]\ttrain-rmse:95.7139\teval-rmse:115.564\n",
      "[318]\ttrain-rmse:95.6521\teval-rmse:115.536\n",
      "[319]\ttrain-rmse:95.6068\teval-rmse:115.499\n",
      "[320]\ttrain-rmse:95.5793\teval-rmse:115.484\n",
      "[321]\ttrain-rmse:95.5213\teval-rmse:115.464\n",
      "[322]\ttrain-rmse:95.5004\teval-rmse:115.455\n",
      "[323]\ttrain-rmse:95.3966\teval-rmse:115.386\n",
      "[324]\ttrain-rmse:95.3688\teval-rmse:115.367\n",
      "[325]\ttrain-rmse:95.2709\teval-rmse:115.292\n",
      "[326]\ttrain-rmse:95.2415\teval-rmse:115.284\n",
      "[327]\ttrain-rmse:95.1418\teval-rmse:115.209\n",
      "[328]\ttrain-rmse:95.0698\teval-rmse:115.164\n",
      "[329]\ttrain-rmse:95.0389\teval-rmse:115.149\n",
      "[330]\ttrain-rmse:95.008\teval-rmse:115.139\n",
      "[331]\ttrain-rmse:94.969\teval-rmse:115.12\n",
      "[332]\ttrain-rmse:94.9583\teval-rmse:115.12\n",
      "[333]\ttrain-rmse:94.8607\teval-rmse:115.066\n",
      "[334]\ttrain-rmse:94.7918\teval-rmse:115.026\n",
      "[335]\ttrain-rmse:94.7784\teval-rmse:115.019\n",
      "[336]\ttrain-rmse:94.6694\teval-rmse:114.952\n",
      "[337]\ttrain-rmse:94.569\teval-rmse:114.884\n",
      "[338]\ttrain-rmse:94.4907\teval-rmse:114.838\n",
      "[339]\ttrain-rmse:94.4202\teval-rmse:114.788\n",
      "[340]\ttrain-rmse:94.3455\teval-rmse:114.768\n",
      "[341]\ttrain-rmse:94.2802\teval-rmse:114.725\n",
      "[342]\ttrain-rmse:94.2236\teval-rmse:114.691\n",
      "[343]\ttrain-rmse:94.1843\teval-rmse:114.67\n",
      "[344]\ttrain-rmse:94.1308\teval-rmse:114.642\n",
      "[345]\ttrain-rmse:94.125\teval-rmse:114.639\n",
      "[346]\ttrain-rmse:94.0978\teval-rmse:114.63\n",
      "[347]\ttrain-rmse:93.9861\teval-rmse:114.576\n",
      "[348]\ttrain-rmse:93.9386\teval-rmse:114.544\n",
      "[349]\ttrain-rmse:93.9\teval-rmse:114.517\n",
      "[350]\ttrain-rmse:93.7827\teval-rmse:114.472\n",
      "[351]\ttrain-rmse:93.7422\teval-rmse:114.45\n",
      "[352]\ttrain-rmse:93.6997\teval-rmse:114.422\n",
      "[353]\ttrain-rmse:93.6494\teval-rmse:114.392\n",
      "[354]\ttrain-rmse:93.5876\teval-rmse:114.371\n",
      "[355]\ttrain-rmse:93.4949\teval-rmse:114.319\n",
      "[356]\ttrain-rmse:93.3703\teval-rmse:114.227\n",
      "[357]\ttrain-rmse:93.2828\teval-rmse:114.173\n",
      "[358]\ttrain-rmse:93.2219\teval-rmse:114.136\n",
      "[359]\ttrain-rmse:93.1908\teval-rmse:114.123\n",
      "[360]\ttrain-rmse:93.1288\teval-rmse:114.098\n",
      "[361]\ttrain-rmse:93.1124\teval-rmse:114.089\n",
      "[362]\ttrain-rmse:93.0966\teval-rmse:114.08\n",
      "[363]\ttrain-rmse:93.0346\teval-rmse:114.048\n",
      "[364]\ttrain-rmse:92.9399\teval-rmse:113.988\n",
      "[365]\ttrain-rmse:92.9229\teval-rmse:113.983\n",
      "[366]\ttrain-rmse:92.8827\teval-rmse:113.962\n",
      "[367]\ttrain-rmse:92.8014\teval-rmse:113.913\n",
      "[368]\ttrain-rmse:92.7916\teval-rmse:113.909\n",
      "[369]\ttrain-rmse:92.7767\teval-rmse:113.9\n",
      "[370]\ttrain-rmse:92.7405\teval-rmse:113.893\n",
      "[371]\ttrain-rmse:92.707\teval-rmse:113.87\n",
      "[372]\ttrain-rmse:92.657\teval-rmse:113.843\n",
      "[373]\ttrain-rmse:92.598\teval-rmse:113.807\n",
      "[374]\ttrain-rmse:92.5497\teval-rmse:113.754\n",
      "[375]\ttrain-rmse:92.4898\teval-rmse:113.718\n",
      "[376]\ttrain-rmse:92.4429\teval-rmse:113.705\n",
      "[377]\ttrain-rmse:92.4198\teval-rmse:113.699\n",
      "[378]\ttrain-rmse:92.3313\teval-rmse:113.659\n",
      "[379]\ttrain-rmse:92.281\teval-rmse:113.636\n",
      "[380]\ttrain-rmse:92.1872\teval-rmse:113.585\n",
      "[381]\ttrain-rmse:92.1685\teval-rmse:113.573\n",
      "[382]\ttrain-rmse:92.073\teval-rmse:113.51\n",
      "[383]\ttrain-rmse:92.0532\teval-rmse:113.497\n",
      "[384]\ttrain-rmse:92.0318\teval-rmse:113.495\n",
      "[385]\ttrain-rmse:92.006\teval-rmse:113.481\n",
      "[386]\ttrain-rmse:91.9917\teval-rmse:113.469\n",
      "[387]\ttrain-rmse:91.9551\teval-rmse:113.462\n",
      "[388]\ttrain-rmse:91.9313\teval-rmse:113.456\n",
      "[389]\ttrain-rmse:91.8822\teval-rmse:113.44\n",
      "[390]\ttrain-rmse:91.7529\teval-rmse:113.38\n",
      "[391]\ttrain-rmse:91.7259\teval-rmse:113.365\n",
      "[392]\ttrain-rmse:91.6591\teval-rmse:113.326\n",
      "[393]\ttrain-rmse:91.6108\teval-rmse:113.301\n",
      "[394]\ttrain-rmse:91.5697\teval-rmse:113.277\n",
      "[395]\ttrain-rmse:91.5038\teval-rmse:113.234\n",
      "[396]\ttrain-rmse:91.4133\teval-rmse:113.197\n",
      "[397]\ttrain-rmse:91.3792\teval-rmse:113.177\n",
      "[398]\ttrain-rmse:91.3363\teval-rmse:113.144\n",
      "[399]\ttrain-rmse:91.2771\teval-rmse:113.115\n",
      "[400]\ttrain-rmse:91.2203\teval-rmse:113.071\n",
      "[401]\ttrain-rmse:91.2056\teval-rmse:113.058\n",
      "[402]\ttrain-rmse:91.1389\teval-rmse:113.014\n",
      "[403]\ttrain-rmse:91.1195\teval-rmse:113.005\n",
      "[404]\ttrain-rmse:91.0739\teval-rmse:112.979\n",
      "[405]\ttrain-rmse:90.9096\teval-rmse:112.895\n",
      "[406]\ttrain-rmse:90.8772\teval-rmse:112.876\n",
      "[407]\ttrain-rmse:90.8167\teval-rmse:112.833\n",
      "[408]\ttrain-rmse:90.8083\teval-rmse:112.827\n",
      "[409]\ttrain-rmse:90.782\teval-rmse:112.812\n",
      "[410]\ttrain-rmse:90.717\teval-rmse:112.761\n",
      "[411]\ttrain-rmse:90.6703\teval-rmse:112.741\n",
      "[412]\ttrain-rmse:90.6011\teval-rmse:112.707\n",
      "[413]\ttrain-rmse:90.5477\teval-rmse:112.675\n",
      "[414]\ttrain-rmse:90.4766\teval-rmse:112.62\n",
      "[415]\ttrain-rmse:90.4197\teval-rmse:112.601\n",
      "[416]\ttrain-rmse:90.3677\teval-rmse:112.574\n",
      "[417]\ttrain-rmse:90.3166\teval-rmse:112.542\n",
      "[418]\ttrain-rmse:90.2725\teval-rmse:112.524\n",
      "[419]\ttrain-rmse:90.2471\teval-rmse:112.515\n",
      "[420]\ttrain-rmse:90.2121\teval-rmse:112.503\n",
      "[421]\ttrain-rmse:90.149\teval-rmse:112.479\n",
      "[422]\ttrain-rmse:90.0683\teval-rmse:112.429\n",
      "[423]\ttrain-rmse:90.04\teval-rmse:112.415\n",
      "[424]\ttrain-rmse:89.9987\teval-rmse:112.376\n",
      "[425]\ttrain-rmse:89.9091\teval-rmse:112.304\n",
      "[426]\ttrain-rmse:89.8748\teval-rmse:112.287\n",
      "[427]\ttrain-rmse:89.8111\teval-rmse:112.241\n",
      "[428]\ttrain-rmse:89.7825\teval-rmse:112.223\n",
      "[429]\ttrain-rmse:89.7631\teval-rmse:112.218\n",
      "[430]\ttrain-rmse:89.7232\teval-rmse:112.194\n",
      "[431]\ttrain-rmse:89.6807\teval-rmse:112.163\n",
      "[432]\ttrain-rmse:89.6437\teval-rmse:112.157\n",
      "[433]\ttrain-rmse:89.5272\teval-rmse:112.111\n",
      "[434]\ttrain-rmse:89.4703\teval-rmse:112.082\n",
      "[435]\ttrain-rmse:89.4295\teval-rmse:112.081\n",
      "[436]\ttrain-rmse:89.4056\teval-rmse:112.071\n",
      "[437]\ttrain-rmse:89.3114\teval-rmse:112.006\n",
      "[438]\ttrain-rmse:89.3035\teval-rmse:112.002\n",
      "[439]\ttrain-rmse:89.2556\teval-rmse:111.977\n",
      "[440]\ttrain-rmse:89.1976\teval-rmse:111.938\n",
      "[441]\ttrain-rmse:89.1591\teval-rmse:111.918\n",
      "[442]\ttrain-rmse:89.1306\teval-rmse:111.909\n",
      "[443]\ttrain-rmse:89.0693\teval-rmse:111.882\n",
      "[444]\ttrain-rmse:89.0522\teval-rmse:111.874\n",
      "[445]\ttrain-rmse:88.9809\teval-rmse:111.826\n",
      "[446]\ttrain-rmse:88.9323\teval-rmse:111.8\n",
      "[447]\ttrain-rmse:88.9028\teval-rmse:111.782\n",
      "[448]\ttrain-rmse:88.8863\teval-rmse:111.759\n",
      "[449]\ttrain-rmse:88.833\teval-rmse:111.741\n",
      "[450]\ttrain-rmse:88.7578\teval-rmse:111.691\n",
      "[451]\ttrain-rmse:88.7223\teval-rmse:111.674\n",
      "[452]\ttrain-rmse:88.6347\teval-rmse:111.629\n",
      "[453]\ttrain-rmse:88.6185\teval-rmse:111.629\n",
      "[454]\ttrain-rmse:88.6059\teval-rmse:111.618\n",
      "[455]\ttrain-rmse:88.5426\teval-rmse:111.563\n",
      "[456]\ttrain-rmse:88.5215\teval-rmse:111.556\n",
      "[457]\ttrain-rmse:88.4607\teval-rmse:111.524\n",
      "[458]\ttrain-rmse:88.4356\teval-rmse:111.511\n",
      "[459]\ttrain-rmse:88.3743\teval-rmse:111.479\n",
      "[460]\ttrain-rmse:88.3089\teval-rmse:111.446\n",
      "[461]\ttrain-rmse:88.2607\teval-rmse:111.429\n",
      "[462]\ttrain-rmse:88.2426\teval-rmse:111.423\n",
      "[463]\ttrain-rmse:88.2075\teval-rmse:111.396\n",
      "[464]\ttrain-rmse:88.1755\teval-rmse:111.378\n",
      "[465]\ttrain-rmse:88.1688\teval-rmse:111.375\n",
      "[466]\ttrain-rmse:88.0579\teval-rmse:111.295\n",
      "[467]\ttrain-rmse:88.0127\teval-rmse:111.279\n",
      "[468]\ttrain-rmse:87.9699\teval-rmse:111.257\n",
      "[469]\ttrain-rmse:87.8543\teval-rmse:111.2\n",
      "[470]\ttrain-rmse:87.7463\teval-rmse:111.132\n",
      "[471]\ttrain-rmse:87.6893\teval-rmse:111.108\n",
      "[472]\ttrain-rmse:87.6505\teval-rmse:111.088\n",
      "[473]\ttrain-rmse:87.5969\teval-rmse:111.053\n",
      "[474]\ttrain-rmse:87.5825\teval-rmse:111.048\n",
      "[475]\ttrain-rmse:87.5411\teval-rmse:111.036\n",
      "[476]\ttrain-rmse:87.4886\teval-rmse:111\n",
      "[477]\ttrain-rmse:87.4835\teval-rmse:110.999\n",
      "[478]\ttrain-rmse:87.4531\teval-rmse:110.982\n",
      "[479]\ttrain-rmse:87.4053\teval-rmse:110.956\n",
      "[480]\ttrain-rmse:87.3844\teval-rmse:110.946\n",
      "[481]\ttrain-rmse:87.342\teval-rmse:110.928\n",
      "[482]\ttrain-rmse:87.3125\teval-rmse:110.91\n",
      "[483]\ttrain-rmse:87.2844\teval-rmse:110.907\n",
      "[484]\ttrain-rmse:87.2635\teval-rmse:110.898\n",
      "[485]\ttrain-rmse:87.2517\teval-rmse:110.897\n",
      "[486]\ttrain-rmse:87.2031\teval-rmse:110.898\n",
      "[487]\ttrain-rmse:87.1464\teval-rmse:110.864\n",
      "[488]\ttrain-rmse:87.0784\teval-rmse:110.83\n",
      "[489]\ttrain-rmse:87.0651\teval-rmse:110.826\n",
      "[490]\ttrain-rmse:87.0358\teval-rmse:110.817\n",
      "[491]\ttrain-rmse:87.0244\teval-rmse:110.814\n",
      "[492]\ttrain-rmse:87.0012\teval-rmse:110.8\n",
      "[493]\ttrain-rmse:86.9612\teval-rmse:110.785\n",
      "[494]\ttrain-rmse:86.9487\teval-rmse:110.773\n",
      "[495]\ttrain-rmse:86.9424\teval-rmse:110.771\n",
      "[496]\ttrain-rmse:86.8732\teval-rmse:110.72\n",
      "[497]\ttrain-rmse:86.7824\teval-rmse:110.653\n",
      "[498]\ttrain-rmse:86.6938\teval-rmse:110.6\n",
      "[499]\ttrain-rmse:86.5935\teval-rmse:110.533\n"
     ]
    }
   ],
   "source": [
    "params = {}\n",
    "params[\"objective\"] = \"reg:linear\"\n",
    "params[\"booster\"] = \"gbtree\"\n",
    "params[\"max_depth\"] = 6\n",
    "params[\"eval_metric\"] = 'rmse'\n",
    "params[\"subsample\"] = 0.9\n",
    "params[\"colsample_bytree\"] = 0.9\n",
    "params[\"silent\"] = 1\n",
    "params[\"seed\"] = 2016\n",
    "params[\"eta\"] = 0.1\n",
    "\n",
    "plst = list(params.items())\n",
    "num_rounds = 500\n",
    "early_stopping_rounds = 10\n",
    "\n",
    "watchlist = [(xgtrain2,'train'),(xgtrain1, 'eval')]\n",
    "\n",
    "model_2_1 = xgb.train(plst, xgtrain2, num_rounds, evals = watchlist, early_stopping_rounds = 10, verbose_eval = True)"
   ]
  },
  {
   "cell_type": "code",
   "execution_count": 29,
   "metadata": {
    "collapsed": false
   },
   "outputs": [
    {
     "name": "stdout",
     "output_type": "stream",
     "text": [
      "[0]\ttrain-rmse:1375.16\teval-rmse:1378.43\n",
      "Multiple eval metrics have been passed: 'eval-rmse' will be used for early stopping.\n",
      "\n",
      "Will train until eval-rmse hasn't improved in 10 rounds.\n",
      "[1]\ttrain-rmse:1241.13\teval-rmse:1244.16\n",
      "[2]\ttrain-rmse:1120.77\teval-rmse:1123.78\n",
      "[3]\ttrain-rmse:1012.69\teval-rmse:1015.49\n",
      "[4]\ttrain-rmse:916.01\teval-rmse:918.772\n",
      "[5]\ttrain-rmse:829.083\teval-rmse:831.849\n",
      "[6]\ttrain-rmse:751.274\teval-rmse:754.048\n",
      "[7]\ttrain-rmse:681.578\teval-rmse:684.398\n",
      "[8]\ttrain-rmse:618.682\teval-rmse:621.605\n",
      "[9]\ttrain-rmse:562.379\teval-rmse:565.274\n",
      "[10]\ttrain-rmse:512.398\teval-rmse:515.329\n",
      "[11]\ttrain-rmse:467.601\teval-rmse:470.548\n",
      "[12]\ttrain-rmse:428.313\teval-rmse:431.318\n",
      "[13]\ttrain-rmse:393.209\teval-rmse:396.257\n",
      "[14]\ttrain-rmse:361.781\teval-rmse:364.87\n",
      "[15]\ttrain-rmse:334.001\teval-rmse:337.237\n",
      "[16]\ttrain-rmse:309.485\teval-rmse:312.799\n",
      "[17]\ttrain-rmse:287.921\teval-rmse:291.291\n",
      "[18]\ttrain-rmse:268.65\teval-rmse:272.176\n",
      "[19]\ttrain-rmse:252.304\teval-rmse:255.976\n",
      "[20]\ttrain-rmse:237.942\teval-rmse:241.74\n",
      "[21]\ttrain-rmse:225.302\teval-rmse:229.251\n",
      "[22]\ttrain-rmse:214.337\teval-rmse:218.42\n",
      "[23]\ttrain-rmse:205.255\teval-rmse:209.436\n",
      "[24]\ttrain-rmse:197.215\teval-rmse:201.459\n",
      "[25]\ttrain-rmse:190.363\teval-rmse:194.814\n",
      "[26]\ttrain-rmse:184.315\teval-rmse:189.018\n",
      "[27]\ttrain-rmse:178.841\teval-rmse:183.743\n",
      "[28]\ttrain-rmse:174.301\teval-rmse:179.284\n",
      "[29]\ttrain-rmse:170.292\teval-rmse:175.422\n",
      "[30]\ttrain-rmse:166.889\teval-rmse:172.137\n",
      "[31]\ttrain-rmse:163.909\teval-rmse:169.211\n",
      "[32]\ttrain-rmse:161.357\teval-rmse:166.844\n",
      "[33]\ttrain-rmse:158.396\teval-rmse:164.153\n",
      "[34]\ttrain-rmse:156.449\teval-rmse:162.311\n",
      "[35]\ttrain-rmse:154.16\teval-rmse:160.237\n",
      "[36]\ttrain-rmse:152.619\teval-rmse:158.722\n",
      "[37]\ttrain-rmse:151.382\teval-rmse:157.583\n",
      "[38]\ttrain-rmse:149.936\teval-rmse:156.392\n",
      "[39]\ttrain-rmse:148.604\teval-rmse:155.253\n",
      "[40]\ttrain-rmse:147.181\teval-rmse:153.969\n",
      "[41]\ttrain-rmse:145.933\teval-rmse:152.876\n",
      "[42]\ttrain-rmse:145.092\teval-rmse:152.07\n",
      "[43]\ttrain-rmse:144.007\teval-rmse:151.09\n",
      "[44]\ttrain-rmse:143.256\teval-rmse:150.512\n",
      "[45]\ttrain-rmse:142.42\teval-rmse:149.778\n",
      "[46]\ttrain-rmse:141.791\teval-rmse:149.172\n",
      "[47]\ttrain-rmse:141.006\teval-rmse:148.436\n",
      "[48]\ttrain-rmse:140.429\teval-rmse:147.93\n",
      "[49]\ttrain-rmse:139.828\teval-rmse:147.364\n",
      "[50]\ttrain-rmse:139.139\teval-rmse:146.799\n",
      "[51]\ttrain-rmse:138.372\teval-rmse:146.182\n",
      "[52]\ttrain-rmse:138.119\teval-rmse:145.989\n",
      "[53]\ttrain-rmse:137.456\teval-rmse:145.402\n",
      "[54]\ttrain-rmse:137.122\teval-rmse:145.139\n",
      "[55]\ttrain-rmse:136.581\teval-rmse:144.677\n",
      "[56]\ttrain-rmse:135.692\teval-rmse:143.863\n",
      "[57]\ttrain-rmse:135.35\teval-rmse:143.569\n",
      "[58]\ttrain-rmse:134.75\teval-rmse:143.022\n",
      "[59]\ttrain-rmse:134.181\teval-rmse:142.619\n",
      "[60]\ttrain-rmse:133.737\teval-rmse:142.215\n",
      "[61]\ttrain-rmse:133.299\teval-rmse:141.92\n",
      "[62]\ttrain-rmse:132.804\teval-rmse:141.539\n",
      "[63]\ttrain-rmse:132.196\teval-rmse:141.105\n",
      "[64]\ttrain-rmse:131.819\teval-rmse:140.798\n",
      "[65]\ttrain-rmse:131.397\teval-rmse:140.537\n",
      "[66]\ttrain-rmse:130.71\teval-rmse:139.927\n",
      "[67]\ttrain-rmse:130.269\teval-rmse:139.683\n",
      "[68]\ttrain-rmse:129.637\teval-rmse:139.138\n",
      "[69]\ttrain-rmse:129.323\teval-rmse:138.85\n",
      "[70]\ttrain-rmse:128.854\teval-rmse:138.518\n",
      "[71]\ttrain-rmse:128.481\teval-rmse:138.237\n",
      "[72]\ttrain-rmse:128.325\teval-rmse:138.139\n",
      "[73]\ttrain-rmse:128.114\teval-rmse:137.962\n",
      "[74]\ttrain-rmse:127.964\teval-rmse:137.847\n",
      "[75]\ttrain-rmse:127.571\teval-rmse:137.605\n",
      "[76]\ttrain-rmse:127.308\teval-rmse:137.385\n",
      "[77]\ttrain-rmse:126.875\teval-rmse:137.073\n",
      "[78]\ttrain-rmse:126.55\teval-rmse:136.893\n",
      "[79]\ttrain-rmse:126.165\teval-rmse:136.563\n",
      "[80]\ttrain-rmse:125.714\teval-rmse:136.185\n",
      "[81]\ttrain-rmse:125.25\teval-rmse:135.905\n",
      "[82]\ttrain-rmse:124.739\teval-rmse:135.495\n",
      "[83]\ttrain-rmse:124.33\teval-rmse:135.228\n",
      "[84]\ttrain-rmse:124.127\teval-rmse:135.069\n",
      "[85]\ttrain-rmse:123.928\teval-rmse:134.954\n",
      "[86]\ttrain-rmse:123.784\teval-rmse:134.829\n",
      "[87]\ttrain-rmse:123.379\teval-rmse:134.482\n",
      "[88]\ttrain-rmse:123.172\teval-rmse:134.31\n",
      "[89]\ttrain-rmse:123.068\teval-rmse:134.245\n",
      "[90]\ttrain-rmse:122.855\teval-rmse:134.069\n",
      "[91]\ttrain-rmse:122.447\teval-rmse:133.757\n",
      "[92]\ttrain-rmse:122.155\teval-rmse:133.563\n",
      "[93]\ttrain-rmse:121.973\teval-rmse:133.394\n",
      "[94]\ttrain-rmse:121.873\teval-rmse:133.326\n",
      "[95]\ttrain-rmse:121.59\teval-rmse:133.09\n",
      "[96]\ttrain-rmse:121.179\teval-rmse:132.772\n",
      "[97]\ttrain-rmse:121.044\teval-rmse:132.662\n",
      "[98]\ttrain-rmse:120.832\teval-rmse:132.53\n",
      "[99]\ttrain-rmse:120.725\teval-rmse:132.447\n",
      "[100]\ttrain-rmse:120.669\teval-rmse:132.403\n",
      "[101]\ttrain-rmse:120.494\teval-rmse:132.258\n",
      "[102]\ttrain-rmse:120.273\teval-rmse:132.127\n",
      "[103]\ttrain-rmse:120.147\teval-rmse:132.064\n",
      "[104]\ttrain-rmse:119.974\teval-rmse:131.945\n",
      "[105]\ttrain-rmse:119.706\teval-rmse:131.725\n",
      "[106]\ttrain-rmse:119.541\teval-rmse:131.618\n",
      "[107]\ttrain-rmse:119.437\teval-rmse:131.551\n",
      "[108]\ttrain-rmse:119.392\teval-rmse:131.519\n",
      "[109]\ttrain-rmse:119.256\teval-rmse:131.403\n",
      "[110]\ttrain-rmse:119.161\teval-rmse:131.324\n",
      "[111]\ttrain-rmse:118.972\teval-rmse:131.178\n",
      "[112]\ttrain-rmse:118.611\teval-rmse:130.931\n",
      "[113]\ttrain-rmse:118.491\teval-rmse:130.859\n",
      "[114]\ttrain-rmse:118.347\teval-rmse:130.747\n",
      "[115]\ttrain-rmse:118.228\teval-rmse:130.655\n",
      "[116]\ttrain-rmse:117.816\teval-rmse:130.302\n",
      "[117]\ttrain-rmse:117.695\teval-rmse:130.22\n",
      "[118]\ttrain-rmse:117.609\teval-rmse:130.162\n",
      "[119]\ttrain-rmse:117.568\teval-rmse:130.137\n",
      "[120]\ttrain-rmse:117.455\teval-rmse:130.048\n",
      "[121]\ttrain-rmse:117.262\teval-rmse:129.911\n",
      "[122]\ttrain-rmse:117.029\teval-rmse:129.716\n",
      "[123]\ttrain-rmse:116.801\teval-rmse:129.547\n",
      "[124]\ttrain-rmse:116.617\teval-rmse:129.433\n",
      "[125]\ttrain-rmse:116.43\teval-rmse:129.289\n",
      "[126]\ttrain-rmse:116.022\teval-rmse:128.945\n",
      "[127]\ttrain-rmse:115.719\teval-rmse:128.683\n",
      "[128]\ttrain-rmse:115.608\teval-rmse:128.6\n",
      "[129]\ttrain-rmse:115.417\teval-rmse:128.453\n",
      "[130]\ttrain-rmse:115.114\teval-rmse:128.206\n",
      "[131]\ttrain-rmse:114.885\teval-rmse:128.041\n",
      "[132]\ttrain-rmse:114.749\teval-rmse:127.952\n",
      "[133]\ttrain-rmse:114.629\teval-rmse:127.862\n",
      "[134]\ttrain-rmse:114.596\teval-rmse:127.842\n",
      "[135]\ttrain-rmse:114.444\teval-rmse:127.726\n",
      "[136]\ttrain-rmse:114.344\teval-rmse:127.649\n",
      "[137]\ttrain-rmse:114.173\teval-rmse:127.505\n",
      "[138]\ttrain-rmse:113.896\teval-rmse:127.276\n",
      "[139]\ttrain-rmse:113.778\teval-rmse:127.203\n",
      "[140]\ttrain-rmse:113.701\teval-rmse:127.137\n",
      "[141]\ttrain-rmse:113.595\teval-rmse:127.072\n",
      "[142]\ttrain-rmse:113.503\teval-rmse:127.015\n",
      "[143]\ttrain-rmse:113.38\teval-rmse:126.905\n",
      "[144]\ttrain-rmse:113.317\teval-rmse:126.862\n",
      "[145]\ttrain-rmse:113.165\teval-rmse:126.765\n",
      "[146]\ttrain-rmse:113.064\teval-rmse:126.696\n",
      "[147]\ttrain-rmse:112.999\teval-rmse:126.648\n",
      "[148]\ttrain-rmse:112.686\teval-rmse:126.409\n",
      "[149]\ttrain-rmse:112.542\teval-rmse:126.32\n",
      "[150]\ttrain-rmse:112.491\teval-rmse:126.286\n",
      "[151]\ttrain-rmse:112.415\teval-rmse:126.212\n",
      "[152]\ttrain-rmse:112.301\teval-rmse:126.155\n",
      "[153]\ttrain-rmse:112.241\teval-rmse:126.13\n",
      "[154]\ttrain-rmse:112.121\teval-rmse:126.051\n",
      "[155]\ttrain-rmse:111.868\teval-rmse:125.87\n",
      "[156]\ttrain-rmse:111.794\teval-rmse:125.848\n",
      "[157]\ttrain-rmse:111.49\teval-rmse:125.616\n",
      "[158]\ttrain-rmse:111.318\teval-rmse:125.509\n",
      "[159]\ttrain-rmse:111.213\teval-rmse:125.441\n",
      "[160]\ttrain-rmse:111.144\teval-rmse:125.401\n",
      "[161]\ttrain-rmse:111.086\teval-rmse:125.355\n",
      "[162]\ttrain-rmse:110.762\teval-rmse:125.094\n",
      "[163]\ttrain-rmse:110.656\teval-rmse:125.026\n",
      "[164]\ttrain-rmse:110.606\teval-rmse:124.998\n",
      "[165]\ttrain-rmse:110.449\teval-rmse:124.892\n",
      "[166]\ttrain-rmse:110.399\teval-rmse:124.85\n",
      "[167]\ttrain-rmse:110.278\teval-rmse:124.759\n",
      "[168]\ttrain-rmse:110.042\teval-rmse:124.564\n",
      "[169]\ttrain-rmse:109.92\teval-rmse:124.492\n",
      "[170]\ttrain-rmse:109.749\teval-rmse:124.365\n",
      "[171]\ttrain-rmse:109.533\teval-rmse:124.205\n",
      "[172]\ttrain-rmse:109.486\teval-rmse:124.171\n",
      "[173]\ttrain-rmse:109.309\teval-rmse:124.069\n",
      "[174]\ttrain-rmse:109.261\teval-rmse:124.051\n",
      "[175]\ttrain-rmse:109.034\teval-rmse:123.884\n",
      "[176]\ttrain-rmse:108.889\teval-rmse:123.797\n",
      "[177]\ttrain-rmse:108.773\teval-rmse:123.724\n",
      "[178]\ttrain-rmse:108.71\teval-rmse:123.676\n",
      "[179]\ttrain-rmse:108.568\teval-rmse:123.57\n",
      "[180]\ttrain-rmse:108.498\teval-rmse:123.52\n",
      "[181]\ttrain-rmse:108.338\teval-rmse:123.424\n",
      "[182]\ttrain-rmse:108.292\teval-rmse:123.391\n",
      "[183]\ttrain-rmse:108.168\teval-rmse:123.323\n",
      "[184]\ttrain-rmse:108.074\teval-rmse:123.259\n",
      "[185]\ttrain-rmse:107.997\teval-rmse:123.203\n",
      "[186]\ttrain-rmse:107.807\teval-rmse:123.067\n",
      "[187]\ttrain-rmse:107.748\teval-rmse:123.03\n",
      "[188]\ttrain-rmse:107.631\teval-rmse:122.963\n",
      "[189]\ttrain-rmse:107.556\teval-rmse:122.913\n",
      "[190]\ttrain-rmse:107.524\teval-rmse:122.895\n",
      "[191]\ttrain-rmse:107.48\teval-rmse:122.858\n",
      "[192]\ttrain-rmse:107.448\teval-rmse:122.84\n",
      "[193]\ttrain-rmse:107.295\teval-rmse:122.717\n",
      "[194]\ttrain-rmse:107.06\teval-rmse:122.565\n",
      "[195]\ttrain-rmse:106.945\teval-rmse:122.486\n",
      "[196]\ttrain-rmse:106.759\teval-rmse:122.34\n",
      "[197]\ttrain-rmse:106.603\teval-rmse:122.222\n",
      "[198]\ttrain-rmse:106.534\teval-rmse:122.195\n",
      "[199]\ttrain-rmse:106.495\teval-rmse:122.162\n",
      "[200]\ttrain-rmse:106.431\teval-rmse:122.124\n",
      "[201]\ttrain-rmse:106.346\teval-rmse:122.064\n",
      "[202]\ttrain-rmse:106.142\teval-rmse:121.906\n",
      "[203]\ttrain-rmse:106.07\teval-rmse:121.858\n",
      "[204]\ttrain-rmse:105.945\teval-rmse:121.76\n",
      "[205]\ttrain-rmse:105.873\teval-rmse:121.716\n",
      "[206]\ttrain-rmse:105.818\teval-rmse:121.676\n",
      "[207]\ttrain-rmse:105.678\teval-rmse:121.585\n",
      "[208]\ttrain-rmse:105.456\teval-rmse:121.428\n",
      "[209]\ttrain-rmse:105.29\teval-rmse:121.297\n",
      "[210]\ttrain-rmse:105.187\teval-rmse:121.231\n",
      "[211]\ttrain-rmse:105.134\teval-rmse:121.215\n",
      "[212]\ttrain-rmse:105.08\teval-rmse:121.181\n",
      "[213]\ttrain-rmse:104.925\teval-rmse:121.072\n",
      "[214]\ttrain-rmse:104.849\teval-rmse:121.022\n",
      "[215]\ttrain-rmse:104.816\teval-rmse:121.003\n",
      "[216]\ttrain-rmse:104.732\teval-rmse:120.944\n",
      "[217]\ttrain-rmse:104.67\teval-rmse:120.908\n",
      "[218]\ttrain-rmse:104.443\teval-rmse:120.727\n",
      "[219]\ttrain-rmse:104.364\teval-rmse:120.672\n",
      "[220]\ttrain-rmse:104.154\teval-rmse:120.509\n",
      "[221]\ttrain-rmse:104.118\teval-rmse:120.49\n",
      "[222]\ttrain-rmse:103.952\teval-rmse:120.363\n",
      "[223]\ttrain-rmse:103.754\teval-rmse:120.217\n",
      "[224]\ttrain-rmse:103.572\teval-rmse:120.08\n",
      "[225]\ttrain-rmse:103.453\teval-rmse:119.991\n",
      "[226]\ttrain-rmse:103.402\teval-rmse:119.967\n",
      "[227]\ttrain-rmse:103.371\teval-rmse:119.929\n",
      "[228]\ttrain-rmse:103.168\teval-rmse:119.787\n",
      "[229]\ttrain-rmse:103.078\teval-rmse:119.724\n",
      "[230]\ttrain-rmse:102.967\teval-rmse:119.649\n",
      "[231]\ttrain-rmse:102.876\teval-rmse:119.604\n",
      "[232]\ttrain-rmse:102.843\teval-rmse:119.589\n",
      "[233]\ttrain-rmse:102.689\teval-rmse:119.492\n",
      "[234]\ttrain-rmse:102.668\teval-rmse:119.472\n",
      "[235]\ttrain-rmse:102.626\teval-rmse:119.453\n",
      "[236]\ttrain-rmse:102.487\teval-rmse:119.338\n",
      "[237]\ttrain-rmse:102.354\teval-rmse:119.24\n",
      "[238]\ttrain-rmse:102.231\teval-rmse:119.155\n",
      "[239]\ttrain-rmse:102.165\teval-rmse:119.105\n",
      "[240]\ttrain-rmse:102.009\teval-rmse:118.975\n",
      "[241]\ttrain-rmse:101.964\teval-rmse:118.944\n",
      "[242]\ttrain-rmse:101.92\teval-rmse:118.914\n",
      "[243]\ttrain-rmse:101.74\teval-rmse:118.797\n",
      "[244]\ttrain-rmse:101.672\teval-rmse:118.767\n",
      "[245]\ttrain-rmse:101.634\teval-rmse:118.747\n",
      "[246]\ttrain-rmse:101.519\teval-rmse:118.651\n",
      "[247]\ttrain-rmse:101.368\teval-rmse:118.558\n",
      "[248]\ttrain-rmse:101.322\teval-rmse:118.523\n",
      "[249]\ttrain-rmse:101.277\teval-rmse:118.506\n",
      "[250]\ttrain-rmse:101.193\teval-rmse:118.468\n",
      "[251]\ttrain-rmse:101.127\teval-rmse:118.412\n",
      "[252]\ttrain-rmse:101.049\teval-rmse:118.361\n",
      "[253]\ttrain-rmse:101.017\teval-rmse:118.34\n",
      "[254]\ttrain-rmse:100.992\teval-rmse:118.325\n",
      "[255]\ttrain-rmse:100.961\teval-rmse:118.303\n",
      "[256]\ttrain-rmse:100.848\teval-rmse:118.224\n",
      "[257]\ttrain-rmse:100.803\teval-rmse:118.199\n",
      "[258]\ttrain-rmse:100.775\teval-rmse:118.176\n",
      "[259]\ttrain-rmse:100.653\teval-rmse:118.086\n",
      "[260]\ttrain-rmse:100.604\teval-rmse:118.05\n",
      "[261]\ttrain-rmse:100.559\teval-rmse:118.017\n",
      "[262]\ttrain-rmse:100.49\teval-rmse:117.983\n",
      "[263]\ttrain-rmse:100.452\teval-rmse:117.959\n",
      "[264]\ttrain-rmse:100.321\teval-rmse:117.86\n",
      "[265]\ttrain-rmse:100.252\teval-rmse:117.824\n",
      "[266]\ttrain-rmse:100.174\teval-rmse:117.771\n",
      "[267]\ttrain-rmse:100.133\teval-rmse:117.745\n",
      "[268]\ttrain-rmse:100.011\teval-rmse:117.682\n",
      "[269]\ttrain-rmse:99.9204\teval-rmse:117.611\n",
      "[270]\ttrain-rmse:99.8459\teval-rmse:117.567\n",
      "[271]\ttrain-rmse:99.8206\teval-rmse:117.554\n",
      "[272]\ttrain-rmse:99.7318\teval-rmse:117.519\n",
      "[273]\ttrain-rmse:99.6591\teval-rmse:117.474\n",
      "[274]\ttrain-rmse:99.6169\teval-rmse:117.44\n",
      "[275]\ttrain-rmse:99.5133\teval-rmse:117.39\n",
      "[276]\ttrain-rmse:99.4376\teval-rmse:117.355\n",
      "[277]\ttrain-rmse:99.3744\teval-rmse:117.316\n",
      "[278]\ttrain-rmse:99.3348\teval-rmse:117.303\n",
      "[279]\ttrain-rmse:99.2841\teval-rmse:117.279\n",
      "[280]\ttrain-rmse:99.2261\teval-rmse:117.24\n",
      "[281]\ttrain-rmse:99.1404\teval-rmse:117.177\n",
      "[282]\ttrain-rmse:99.1002\teval-rmse:117.153\n",
      "[283]\ttrain-rmse:98.9934\teval-rmse:117.07\n",
      "[284]\ttrain-rmse:98.9001\teval-rmse:117.018\n",
      "[285]\ttrain-rmse:98.8617\teval-rmse:116.996\n",
      "[286]\ttrain-rmse:98.8167\teval-rmse:116.973\n",
      "[287]\ttrain-rmse:98.7024\teval-rmse:116.905\n",
      "[288]\ttrain-rmse:98.5813\teval-rmse:116.831\n",
      "[289]\ttrain-rmse:98.4759\teval-rmse:116.749\n",
      "[290]\ttrain-rmse:98.3809\teval-rmse:116.674\n",
      "[291]\ttrain-rmse:98.319\teval-rmse:116.652\n",
      "[292]\ttrain-rmse:98.2908\teval-rmse:116.632\n",
      "[293]\ttrain-rmse:98.2477\teval-rmse:116.601\n",
      "[294]\ttrain-rmse:98.2275\teval-rmse:116.592\n",
      "[295]\ttrain-rmse:98.163\teval-rmse:116.565\n",
      "[296]\ttrain-rmse:98.0846\teval-rmse:116.522\n",
      "[297]\ttrain-rmse:98.0601\teval-rmse:116.504\n",
      "[298]\ttrain-rmse:97.9947\teval-rmse:116.464\n",
      "[299]\ttrain-rmse:97.9418\teval-rmse:116.431\n",
      "[300]\ttrain-rmse:97.9021\teval-rmse:116.411\n",
      "[301]\ttrain-rmse:97.8831\teval-rmse:116.398\n",
      "[302]\ttrain-rmse:97.8513\teval-rmse:116.371\n",
      "[303]\ttrain-rmse:97.7738\teval-rmse:116.33\n",
      "[304]\ttrain-rmse:97.6663\teval-rmse:116.256\n",
      "[305]\ttrain-rmse:97.6356\teval-rmse:116.246\n",
      "[306]\ttrain-rmse:97.579\teval-rmse:116.209\n",
      "[307]\ttrain-rmse:97.5675\teval-rmse:116.203\n",
      "[308]\ttrain-rmse:97.5186\teval-rmse:116.179\n",
      "[309]\ttrain-rmse:97.4888\teval-rmse:116.165\n",
      "[310]\ttrain-rmse:97.4286\teval-rmse:116.142\n",
      "[311]\ttrain-rmse:97.212\teval-rmse:115.988\n",
      "[312]\ttrain-rmse:97.1775\teval-rmse:115.969\n",
      "[313]\ttrain-rmse:97.1218\teval-rmse:115.949\n",
      "[314]\ttrain-rmse:97.0125\teval-rmse:115.88\n",
      "[315]\ttrain-rmse:96.9254\teval-rmse:115.828\n",
      "[316]\ttrain-rmse:96.7994\teval-rmse:115.742\n",
      "[317]\ttrain-rmse:96.7223\teval-rmse:115.703\n",
      "[318]\ttrain-rmse:96.6892\teval-rmse:115.684\n",
      "[319]\ttrain-rmse:96.6302\teval-rmse:115.643\n",
      "[320]\ttrain-rmse:96.5475\teval-rmse:115.591\n",
      "[321]\ttrain-rmse:96.5143\teval-rmse:115.57\n",
      "[322]\ttrain-rmse:96.4382\teval-rmse:115.515\n",
      "[323]\ttrain-rmse:96.4023\teval-rmse:115.495\n",
      "[324]\ttrain-rmse:96.3792\teval-rmse:115.49\n",
      "[325]\ttrain-rmse:96.3518\teval-rmse:115.486\n",
      "[326]\ttrain-rmse:96.2946\teval-rmse:115.467\n",
      "[327]\ttrain-rmse:96.1264\teval-rmse:115.33\n",
      "[328]\ttrain-rmse:96.0794\teval-rmse:115.299\n",
      "[329]\ttrain-rmse:96.0012\teval-rmse:115.253\n",
      "[330]\ttrain-rmse:95.8209\teval-rmse:115.181\n",
      "[331]\ttrain-rmse:95.7592\teval-rmse:115.149\n",
      "[332]\ttrain-rmse:95.7064\teval-rmse:115.134\n",
      "[333]\ttrain-rmse:95.646\teval-rmse:115.101\n",
      "[334]\ttrain-rmse:95.587\teval-rmse:115.067\n",
      "[335]\ttrain-rmse:95.5117\teval-rmse:115.019\n",
      "[336]\ttrain-rmse:95.4754\teval-rmse:115.001\n",
      "[337]\ttrain-rmse:95.336\teval-rmse:114.913\n",
      "[338]\ttrain-rmse:95.2056\teval-rmse:114.898\n",
      "[339]\ttrain-rmse:95.1696\teval-rmse:114.887\n",
      "[340]\ttrain-rmse:95.1381\teval-rmse:114.868\n",
      "[341]\ttrain-rmse:95.0611\teval-rmse:114.829\n",
      "[342]\ttrain-rmse:95.0254\teval-rmse:114.812\n",
      "[343]\ttrain-rmse:94.9506\teval-rmse:114.763\n",
      "[344]\ttrain-rmse:94.8772\teval-rmse:114.737\n",
      "[345]\ttrain-rmse:94.7998\teval-rmse:114.679\n",
      "[346]\ttrain-rmse:94.7556\teval-rmse:114.646\n",
      "[347]\ttrain-rmse:94.7035\teval-rmse:114.615\n",
      "[348]\ttrain-rmse:94.5961\teval-rmse:114.563\n",
      "[349]\ttrain-rmse:94.5449\teval-rmse:114.542\n",
      "[350]\ttrain-rmse:94.514\teval-rmse:114.527\n",
      "[351]\ttrain-rmse:94.46\teval-rmse:114.513\n",
      "[352]\ttrain-rmse:94.3832\teval-rmse:114.469\n",
      "[353]\ttrain-rmse:94.3243\teval-rmse:114.439\n",
      "[354]\ttrain-rmse:94.247\teval-rmse:114.389\n",
      "[355]\ttrain-rmse:94.1642\teval-rmse:114.337\n",
      "[356]\ttrain-rmse:94.1096\teval-rmse:114.3\n",
      "[357]\ttrain-rmse:94.0313\teval-rmse:114.258\n",
      "[358]\ttrain-rmse:93.9739\teval-rmse:114.231\n",
      "[359]\ttrain-rmse:93.9169\teval-rmse:114.196\n",
      "[360]\ttrain-rmse:93.8462\teval-rmse:114.147\n",
      "[361]\ttrain-rmse:93.7636\teval-rmse:114.1\n",
      "[362]\ttrain-rmse:93.6643\teval-rmse:114.049\n",
      "[363]\ttrain-rmse:93.5718\teval-rmse:113.987\n",
      "[364]\ttrain-rmse:93.5255\teval-rmse:113.952\n",
      "[365]\ttrain-rmse:93.4264\teval-rmse:113.889\n",
      "[366]\ttrain-rmse:93.3791\teval-rmse:113.855\n",
      "[367]\ttrain-rmse:93.2902\teval-rmse:113.799\n",
      "[368]\ttrain-rmse:93.2507\teval-rmse:113.778\n",
      "[369]\ttrain-rmse:93.2207\teval-rmse:113.759\n",
      "[370]\ttrain-rmse:93.1462\teval-rmse:113.735\n",
      "[371]\ttrain-rmse:93.0706\teval-rmse:113.687\n",
      "[372]\ttrain-rmse:92.9804\teval-rmse:113.633\n",
      "[373]\ttrain-rmse:92.948\teval-rmse:113.615\n",
      "[374]\ttrain-rmse:92.9013\teval-rmse:113.595\n",
      "[375]\ttrain-rmse:92.7477\teval-rmse:113.477\n",
      "[376]\ttrain-rmse:92.6988\teval-rmse:113.451\n",
      "[377]\ttrain-rmse:92.6667\teval-rmse:113.435\n",
      "[378]\ttrain-rmse:92.5715\teval-rmse:113.368\n",
      "[379]\ttrain-rmse:92.5466\teval-rmse:113.36\n",
      "[380]\ttrain-rmse:92.4653\teval-rmse:113.32\n",
      "[381]\ttrain-rmse:92.4332\teval-rmse:113.301\n",
      "[382]\ttrain-rmse:92.398\teval-rmse:113.283\n",
      "[383]\ttrain-rmse:92.3331\teval-rmse:113.236\n",
      "[384]\ttrain-rmse:92.2939\teval-rmse:113.228\n",
      "[385]\ttrain-rmse:92.2727\teval-rmse:113.209\n",
      "[386]\ttrain-rmse:92.2489\teval-rmse:113.192\n",
      "[387]\ttrain-rmse:92.2053\teval-rmse:113.187\n",
      "[388]\ttrain-rmse:92.0974\teval-rmse:113.121\n",
      "[389]\ttrain-rmse:91.966\teval-rmse:113.036\n",
      "[390]\ttrain-rmse:91.9547\teval-rmse:113.029\n",
      "[391]\ttrain-rmse:91.9355\teval-rmse:113.017\n",
      "[392]\ttrain-rmse:91.88\teval-rmse:112.983\n",
      "[393]\ttrain-rmse:91.8269\teval-rmse:112.955\n",
      "[394]\ttrain-rmse:91.8033\teval-rmse:112.943\n",
      "[395]\ttrain-rmse:91.7602\teval-rmse:112.924\n",
      "[396]\ttrain-rmse:91.6591\teval-rmse:112.874\n",
      "[397]\ttrain-rmse:91.5796\teval-rmse:112.833\n",
      "[398]\ttrain-rmse:91.5427\teval-rmse:112.807\n",
      "[399]\ttrain-rmse:91.5038\teval-rmse:112.784\n",
      "[400]\ttrain-rmse:91.4342\teval-rmse:112.74\n",
      "[401]\ttrain-rmse:91.404\teval-rmse:112.706\n",
      "[402]\ttrain-rmse:91.3564\teval-rmse:112.689\n",
      "[403]\ttrain-rmse:91.2697\teval-rmse:112.628\n",
      "[404]\ttrain-rmse:91.2526\teval-rmse:112.613\n",
      "[405]\ttrain-rmse:91.2382\teval-rmse:112.607\n",
      "[406]\ttrain-rmse:91.199\teval-rmse:112.576\n",
      "[407]\ttrain-rmse:91.1745\teval-rmse:112.562\n",
      "[408]\ttrain-rmse:91.1526\teval-rmse:112.557\n",
      "[409]\ttrain-rmse:91.0983\teval-rmse:112.519\n",
      "[410]\ttrain-rmse:91.0803\teval-rmse:112.502\n",
      "[411]\ttrain-rmse:90.9743\teval-rmse:112.432\n",
      "[412]\ttrain-rmse:90.9282\teval-rmse:112.417\n",
      "[413]\ttrain-rmse:90.8918\teval-rmse:112.403\n",
      "[414]\ttrain-rmse:90.8476\teval-rmse:112.385\n",
      "[415]\ttrain-rmse:90.6963\teval-rmse:112.285\n",
      "[416]\ttrain-rmse:90.6773\teval-rmse:112.278\n",
      "[417]\ttrain-rmse:90.6579\teval-rmse:112.271\n",
      "[418]\ttrain-rmse:90.5736\teval-rmse:112.223\n",
      "[419]\ttrain-rmse:90.5147\teval-rmse:112.178\n",
      "[420]\ttrain-rmse:90.4896\teval-rmse:112.168\n",
      "[421]\ttrain-rmse:90.4708\teval-rmse:112.156\n",
      "[422]\ttrain-rmse:90.4553\teval-rmse:112.147\n",
      "[423]\ttrain-rmse:90.4048\teval-rmse:112.124\n",
      "[424]\ttrain-rmse:90.3327\teval-rmse:112.096\n",
      "[425]\ttrain-rmse:90.2899\teval-rmse:112.067\n",
      "[426]\ttrain-rmse:90.2483\teval-rmse:112.051\n",
      "[427]\ttrain-rmse:90.2045\teval-rmse:112.031\n",
      "[428]\ttrain-rmse:90.1638\teval-rmse:112.002\n",
      "[429]\ttrain-rmse:90.1038\teval-rmse:111.972\n",
      "[430]\ttrain-rmse:90.0535\teval-rmse:111.952\n",
      "[431]\ttrain-rmse:90.0217\teval-rmse:111.943\n",
      "[432]\ttrain-rmse:89.9674\teval-rmse:111.905\n",
      "[433]\ttrain-rmse:89.9554\teval-rmse:111.895\n",
      "[434]\ttrain-rmse:89.8869\teval-rmse:111.862\n",
      "[435]\ttrain-rmse:89.8334\teval-rmse:111.848\n",
      "[436]\ttrain-rmse:89.7875\teval-rmse:111.814\n",
      "[437]\ttrain-rmse:89.7249\teval-rmse:111.771\n",
      "[438]\ttrain-rmse:89.6686\teval-rmse:111.74\n",
      "[439]\ttrain-rmse:89.6403\teval-rmse:111.726\n",
      "[440]\ttrain-rmse:89.5855\teval-rmse:111.718\n",
      "[441]\ttrain-rmse:89.5313\teval-rmse:111.69\n",
      "[442]\ttrain-rmse:89.4603\teval-rmse:111.642\n",
      "[443]\ttrain-rmse:89.4163\teval-rmse:111.626\n",
      "[444]\ttrain-rmse:89.3919\teval-rmse:111.61\n",
      "[445]\ttrain-rmse:89.378\teval-rmse:111.604\n",
      "[446]\ttrain-rmse:89.3581\teval-rmse:111.601\n",
      "[447]\ttrain-rmse:89.2465\teval-rmse:111.542\n",
      "[448]\ttrain-rmse:89.1807\teval-rmse:111.506\n",
      "[449]\ttrain-rmse:89.153\teval-rmse:111.475\n",
      "[450]\ttrain-rmse:89.1383\teval-rmse:111.471\n",
      "[451]\ttrain-rmse:89.1223\teval-rmse:111.465\n",
      "[452]\ttrain-rmse:89.0912\teval-rmse:111.449\n",
      "[453]\ttrain-rmse:89.0228\teval-rmse:111.428\n",
      "[454]\ttrain-rmse:89.0082\teval-rmse:111.419\n",
      "[455]\ttrain-rmse:88.9656\teval-rmse:111.414\n",
      "[456]\ttrain-rmse:88.9122\teval-rmse:111.391\n",
      "[457]\ttrain-rmse:88.8675\teval-rmse:111.361\n",
      "[458]\ttrain-rmse:88.8294\teval-rmse:111.338\n",
      "[459]\ttrain-rmse:88.787\teval-rmse:111.309\n",
      "[460]\ttrain-rmse:88.7363\teval-rmse:111.279\n",
      "[461]\ttrain-rmse:88.7094\teval-rmse:111.265\n",
      "[462]\ttrain-rmse:88.6373\teval-rmse:111.219\n",
      "[463]\ttrain-rmse:88.6316\teval-rmse:111.217\n",
      "[464]\ttrain-rmse:88.6129\teval-rmse:111.209\n",
      "[465]\ttrain-rmse:88.5994\teval-rmse:111.203\n",
      "[466]\ttrain-rmse:88.5556\teval-rmse:111.187\n",
      "[467]\ttrain-rmse:88.5389\teval-rmse:111.178\n",
      "[468]\ttrain-rmse:88.4996\teval-rmse:111.16\n",
      "[469]\ttrain-rmse:88.4839\teval-rmse:111.148\n",
      "[470]\ttrain-rmse:88.4575\teval-rmse:111.134\n",
      "[471]\ttrain-rmse:88.4399\teval-rmse:111.131\n",
      "[472]\ttrain-rmse:88.4203\teval-rmse:111.127\n",
      "[473]\ttrain-rmse:88.3943\teval-rmse:111.106\n",
      "[474]\ttrain-rmse:88.3468\teval-rmse:111.08\n",
      "[475]\ttrain-rmse:88.3361\teval-rmse:111.074\n",
      "[476]\ttrain-rmse:88.2037\teval-rmse:110.983\n",
      "[477]\ttrain-rmse:88.1787\teval-rmse:110.974\n",
      "[478]\ttrain-rmse:88.1242\teval-rmse:110.942\n",
      "[479]\ttrain-rmse:87.9822\teval-rmse:110.86\n",
      "[480]\ttrain-rmse:87.933\teval-rmse:110.837\n",
      "[481]\ttrain-rmse:87.8815\teval-rmse:110.812\n",
      "[482]\ttrain-rmse:87.8026\teval-rmse:110.765\n",
      "[483]\ttrain-rmse:87.7565\teval-rmse:110.741\n",
      "[484]\ttrain-rmse:87.6483\teval-rmse:110.686\n",
      "[485]\ttrain-rmse:87.6044\teval-rmse:110.668\n",
      "[486]\ttrain-rmse:87.5675\teval-rmse:110.643\n",
      "[487]\ttrain-rmse:87.5529\teval-rmse:110.636\n",
      "[488]\ttrain-rmse:87.5293\teval-rmse:110.629\n",
      "[489]\ttrain-rmse:87.4706\teval-rmse:110.604\n",
      "[490]\ttrain-rmse:87.4197\teval-rmse:110.579\n",
      "[491]\ttrain-rmse:87.3169\teval-rmse:110.515\n",
      "[492]\ttrain-rmse:87.2844\teval-rmse:110.495\n",
      "[493]\ttrain-rmse:87.2706\teval-rmse:110.49\n",
      "[494]\ttrain-rmse:87.2319\teval-rmse:110.465\n",
      "[495]\ttrain-rmse:87.2063\teval-rmse:110.451\n",
      "[496]\ttrain-rmse:87.191\teval-rmse:110.446\n",
      "[497]\ttrain-rmse:87.1398\teval-rmse:110.428\n",
      "[498]\ttrain-rmse:87.0941\teval-rmse:110.404\n",
      "[499]\ttrain-rmse:87.051\teval-rmse:110.384\n"
     ]
    }
   ],
   "source": [
    "watchlist = [(xgtrain3,'train'),(xgtrain1, 'eval')]\n",
    "model_2_2 = xgb.train(plst, xgtrain3, num_rounds, evals = watchlist, early_stopping_rounds = 10, verbose_eval = True)"
   ]
  },
  {
   "cell_type": "markdown",
   "metadata": {},
   "source": [
    "<H3>Validate the model</H3>"
   ]
  },
  {
   "cell_type": "code",
   "execution_count": 30,
   "metadata": {
    "collapsed": true
   },
   "outputs": [],
   "source": [
    "pred_xg2_1 = model_2_1.predict(xgtrain3)"
   ]
  },
  {
   "cell_type": "code",
   "execution_count": 31,
   "metadata": {
    "collapsed": false
   },
   "outputs": [
    {
     "data": {
      "text/plain": [
       "107.83168003417794"
      ]
     },
     "execution_count": 31,
     "metadata": {},
     "output_type": "execute_result"
    }
   ],
   "source": [
    "sqrt(mean_squared_error(y3, pred_xg2_1))"
   ]
  },
  {
   "cell_type": "code",
   "execution_count": 32,
   "metadata": {
    "collapsed": true
   },
   "outputs": [],
   "source": [
    "pred_xg2_2 = model_2_2.predict(xgtrain2)"
   ]
  },
  {
   "cell_type": "code",
   "execution_count": 33,
   "metadata": {
    "collapsed": false
   },
   "outputs": [
    {
     "data": {
      "text/plain": [
       "108.7937140579777"
      ]
     },
     "execution_count": 33,
     "metadata": {},
     "output_type": "execute_result"
    }
   ],
   "source": [
    "sqrt(mean_squared_error(y2, pred_xg2_2))"
   ]
  },
  {
   "cell_type": "code",
   "execution_count": 34,
   "metadata": {
    "collapsed": false
   },
   "outputs": [
    {
     "data": {
      "text/plain": [
       "21"
      ]
     },
     "execution_count": 34,
     "metadata": {},
     "output_type": "execute_result"
    }
   ],
   "source": [
    "del pred_xg2_1, pred_xg2_2\n",
    "gc.collect()"
   ]
  },
  {
   "cell_type": "code",
   "execution_count": 35,
   "metadata": {
    "collapsed": false
   },
   "outputs": [
    {
     "data": {
      "text/plain": [
       "14"
      ]
     },
     "execution_count": 35,
     "metadata": {},
     "output_type": "execute_result"
    }
   ],
   "source": [
    "del xgtrain1, xgtrain2, xgtrain3, y1, y2, y3\n",
    "gc.collect()"
   ]
  },
  {
   "cell_type": "code",
   "execution_count": 36,
   "metadata": {
    "collapsed": true
   },
   "outputs": [],
   "source": [
    "test = pd.read_csv('test\\\\CAX_Test.csv')"
   ]
  },
  {
   "cell_type": "code",
   "execution_count": 37,
   "metadata": {
    "collapsed": true
   },
   "outputs": [],
   "source": [
    "test = test[test.PH==2]"
   ]
  },
  {
   "cell_type": "code",
   "execution_count": 38,
   "metadata": {
    "collapsed": true
   },
   "outputs": [],
   "source": [
    "test.drop(test.columns[[0,1,2,6,7]], axis = 1, inplace = True)"
   ]
  },
  {
   "cell_type": "code",
   "execution_count": 39,
   "metadata": {
    "collapsed": true
   },
   "outputs": [],
   "source": [
    "test.drop('PH', axis=1, inplace=True)"
   ]
  },
  {
   "cell_type": "code",
   "execution_count": 40,
   "metadata": {
    "collapsed": true
   },
   "outputs": [],
   "source": [
    "test['Month1']=np.where(test['Month']==1.0, 1,0)\n",
    "test['Month2']=np.where(test['Month']==2.0, 1,0)\n",
    "test['Month3']=np.where(test['Month']==3.0, 1,0)\n",
    "test['Month4']=np.where(test['Month']==4.0, 1,0)\n",
    "test['Month5']=np.where(test['Month']==5.0, 1,0)\n",
    "test['Month6']=np.where(test['Month']==6.0, 1,0)\n",
    "test['Month7']=np.where(test['Month']==7.0, 1,0)\n",
    "test['Month8']=np.where(test['Month']==8.0, 1,0)\n",
    "test['Month9']=np.where(test['Month']==9.0, 1,0)\n",
    "test['Month10']=np.where(test['Month']==10.0, 1,0)\n",
    "test['Month11']=np.where(test['Month']==11.0, 1,0)\n",
    "test['Month12']=np.where(test['Month']==12.0, 1,0)\n",
    "test['Hour1']=np.where(test['Hour']==1.0, 1,0)\n",
    "test['Hour2']=np.where(test['Hour']==2.0, 1,0)\n",
    "test['Hour3']=np.where(test['Hour']==3.0, 1,0)\n",
    "test['Hour4']=np.where(test['Hour']==4.0, 1,0)\n",
    "test['Hour5']=np.where(test['Hour']==5.0, 1,0)\n",
    "test['Hour6']=np.where(test['Hour']==6.0, 1,0)\n",
    "test['Hour7']=np.where(test['Hour']==7.0, 1,0)\n",
    "test['Hour8']=np.where(test['Hour']==8.0, 1,0)\n",
    "test['Hour9']=np.where(test['Hour']==9.0, 1,0)\n",
    "test['Hour10']=np.where(test['Hour']==10.0, 1,0)\n",
    "test['Hour11']=np.where(test['Hour']==11.0, 1,0)\n",
    "test['Hour12']=np.where(test['Hour']==12.0, 1,0)\n",
    "test['Hour13']=np.where(test['Hour']==13.0, 1,0)\n",
    "test['Hour14']=np.where(test['Hour']==14.0, 1,0)\n",
    "test['Hour15']=np.where(test['Hour']==15.0, 1,0)\n",
    "test['Hour16']=np.where(test['Hour']==16.0, 1,0)\n",
    "test['Hour17']=np.where(test['Hour']==17.0, 1,0)\n",
    "test['Hour18']=np.where(test['Hour']==18.0, 1,0)\n",
    "test['Hour19']=np.where(test['Hour']==19.0, 1,0)\n",
    "test['Hour20']=np.where(test['Hour']==20.0, 1,0)\n",
    "test['Hour21']=np.where(test['Hour']==21.0, 1,0)\n",
    "test['Hour22']=np.where(test['Hour']==22.0, 1,0)\n",
    "test['Hour23']=np.where(test['Hour']==23.0, 1,0)\n",
    "test['Hour24']=np.where(test['Hour']==24.0, 1,0)"
   ]
  },
  {
   "cell_type": "code",
   "execution_count": 41,
   "metadata": {
    "collapsed": true
   },
   "outputs": [],
   "source": [
    "test.drop('Month', axis = 1, inplace = True)\n",
    "test.drop('Hour', axis = 1, inplace = True)\n",
    "test.drop('FF', axis = 1, inplace = True)\n",
    "test_id = test.pop('id')"
   ]
  },
  {
   "cell_type": "code",
   "execution_count": 42,
   "metadata": {
    "collapsed": true
   },
   "outputs": [],
   "source": [
    "xgtest = xgb.DMatrix(test)"
   ]
  },
  {
   "cell_type": "markdown",
   "metadata": {},
   "source": [
    "<H3>Predict on test data</H3>"
   ]
  },
  {
   "cell_type": "code",
   "execution_count": 43,
   "metadata": {
    "collapsed": true
   },
   "outputs": [],
   "source": [
    "pred1 = model_2_1.predict(xgtest)\n",
    "pred2 = model_2_2.predict(xgtest)"
   ]
  },
  {
   "cell_type": "code",
   "execution_count": 44,
   "metadata": {
    "collapsed": true
   },
   "outputs": [],
   "source": [
    "submission_2 = pd.DataFrame(columns = ['id', 'pred1', 'pred2', 'FF'])"
   ]
  },
  {
   "cell_type": "code",
   "execution_count": 45,
   "metadata": {
    "collapsed": true
   },
   "outputs": [],
   "source": [
    "submission_2['id'] = test_id\n",
    "submission_2['pred1'] = pred1\n",
    "submission_2['pred2'] = pred2\n",
    "submission_2['FF'] = (submission_2['pred1']+submission_2['pred2'])/2.0"
   ]
  },
  {
   "cell_type": "code",
   "execution_count": 46,
   "metadata": {
    "collapsed": true
   },
   "outputs": [],
   "source": [
    "submission_2.drop('pred1', axis = 1, inplace = True)\n",
    "submission_2.drop('pred2', axis = 1, inplace = True)"
   ]
  },
  {
   "cell_type": "code",
   "execution_count": 47,
   "metadata": {
    "collapsed": true
   },
   "outputs": [],
   "source": [
    "submission_2.to_csv('0819\\\\submission_2.csv', index = False)"
   ]
  },
  {
   "cell_type": "code",
   "execution_count": 52,
   "metadata": {
    "collapsed": false
   },
   "outputs": [],
   "source": [
    "feat_imp_1 = pd.Series(model_2_1.get_fscore()).sort_values(ascending=False)"
   ]
  },
  {
   "cell_type": "code",
   "execution_count": 53,
   "metadata": {
    "collapsed": false
   },
   "outputs": [],
   "source": [
    "%matplotlib inline"
   ]
  },
  {
   "cell_type": "code",
   "execution_count": 57,
   "metadata": {
    "collapsed": false
   },
   "outputs": [
    {
     "data": {
      "text/plain": [
       "<matplotlib.text.Text at 0x143d5080>"
      ]
     },
     "execution_count": 57,
     "metadata": {},
     "output_type": "execute_result"
    },
    {
     "data": {
      "image/png": "[encoded data removed]",
      "text/plain": [
       "<matplotlib.figure.Figure at 0x1d5b5f28>"
      ]
     },
     "metadata": {},
     "output_type": "display_data"
    }
   ],
   "source": [
    "feat_imp_1[:25].plot(kind='bar', title='Feature Importances')\n",
    "plt.ylabel('Feature Importance Score')"
   ]
  },
  {
   "cell_type": "code",
   "execution_count": 58,
   "metadata": {
    "collapsed": true
   },
   "outputs": [],
   "source": [
    "feat_imp_2 = pd.Series(model_2_2.get_fscore()).sort_values(ascending=False)"
   ]
  },
  {
   "cell_type": "code",
   "execution_count": 59,
   "metadata": {
    "collapsed": false,
    "scrolled": true
   },
   "outputs": [
    {
     "data": {
      "text/plain": [
       "<matplotlib.text.Text at 0x468e33c8>"
      ]
     },
     "execution_count": 59,
     "metadata": {},
     "output_type": "execute_result"
    },
    {
     "data": {
      "image/png": "[encoded data removed]",
      "text/plain": [
       "<matplotlib.figure.Figure at 0x562ea978>"
      ]
     },
     "metadata": {},
     "output_type": "display_data"
    }
   ],
   "source": [
    "feat_imp_2[:25].plot(kind='bar', title='Feature Importances')\n",
    "plt.ylabel('Feature Importance Score')"
   ]
  },
  {
   "cell_type": "code",
   "execution_count": 61,
   "metadata": {
    "collapsed": false
   },
   "outputs": [],
   "source": [
    "feat_imp_2.to_csv('feat_imp_2_2.csv')"
   ]
  },
  {
   "cell_type": "code",
   "execution_count": 62,
   "metadata": {
    "collapsed": true
   },
   "outputs": [],
   "source": [
    "feat_imp_1.to_csv('feat_imp_2_1.csv')"
   ]
  }
 ],
 "metadata": {
  "kernelspec": {
   "display_name": "Python 2",
   "language": "python",
   "name": "python2"
  },
  "language_info": {
   "codemirror_mode": {
    "name": "ipython",
    "version": 2
   },
   "file_extension": ".py",
   "mimetype": "text/x-python",
   "name": "python",
   "nbconvert_exporter": "python",
   "pygments_lexer": "ipython2",
   "version": "2.7.11"
  }
 },
 "nbformat": 4,
 "nbformat_minor": 0
}
