{
 "cells": [
  {
   "cell_type": "code",
   "execution_count": 1,
   "metadata": {
    "collapsed": true
   },
   "outputs": [],
   "source": [
    "import pandas as pd"
   ]
  },
  {
   "cell_type": "code",
   "execution_count": 4,
   "metadata": {
    "collapsed": true
   },
   "outputs": [],
   "source": [
    "submission = pd.read_csv('0819\\\\submission_0.csv')\n",
    "submission_1 = pd.read_csv('0819\\\\submission_1.csv')\n",
    "submission_2 = pd.read_csv('0819\\\\submission_2.csv')\n",
    "submission_3 = pd.read_csv('0819\\\\submission_3.csv')\n",
    "submission_4 = pd.read_csv('0819\\\\submission_4.csv')\n",
    "submission_5 = pd.read_csv('0819\\\\submission_5.csv')\n",
    "submission_6 = pd.read_csv('0819\\\\submission_6a.csv')\n",
    "submission_7 = pd.read_csv('0819\\\\submission_7.csv')\n",
    "submission = submission.append(submission_1)\n",
    "submission = submission.append(submission_2)\n",
    "submission = submission.append(submission_3)\n",
    "submission = submission.append(submission_4)\n",
    "submission = submission.append(submission_5)\n",
    "submission = submission.append(submission_6)\n",
    "submission = submission.append(submission_7)\n",
    "submission.ix[submission.FF < 0, 'FF'] = 0\n",
    "submission.to_csv('xgb_0820_b.csv', index = False)"
   ]
  }
 ],
 "metadata": {
  "kernelspec": {
   "display_name": "Python 2",
   "language": "python",
   "name": "python2"
  },
  "language_info": {
   "codemirror_mode": {
    "name": "ipython",
    "version": 2
   },
   "file_extension": ".py",
   "mimetype": "text/x-python",
   "name": "python",
   "nbconvert_exporter": "python",
   "pygments_lexer": "ipython2",
   "version": "2.7.11"
  }
 },
 "nbformat": 4,
 "nbformat_minor": 0
}
