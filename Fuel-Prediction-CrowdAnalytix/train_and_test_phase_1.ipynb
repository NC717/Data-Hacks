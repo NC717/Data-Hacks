{
 "cells": [
  {
   "cell_type": "markdown",
   "metadata": {},
   "source": [
    "<H3>Import libraries</H3>"
   ]
  },
  {
   "cell_type": "code",
   "execution_count": 1,
   "metadata": {
    "collapsed": true
   },
   "outputs": [],
   "source": [
    "import numpy as np\n",
    "import os\n",
    "from scipy.misc import imread, imsave, imresize, imshow\n",
    "import random\n",
    "import matplotlib.pyplot as plt\n",
    "import pandas as pd\n",
    "import zipfile\n",
    "from sklearn import linear_model\n",
    "from sklearn.metrics import mean_squared_error\n",
    "from math import sqrt\n",
    "import gc\n",
    "from sklearn.cross_validation import train_test_split\n",
    "\n",
    "import os\n",
    "\n",
    "mingw_path = 'C:\\\\Program Files\\\\mingw-w64\\\\x86_64-5.3.0-posix-seh-rt_v4-rev0\\\\mingw64\\\\bin'\n",
    "os.environ['PATH'] = mingw_path + ';' + os.environ['PATH']\n",
    "\n",
    "import xgboost as xgb"
   ]
  },
  {
   "cell_type": "markdown",
   "metadata": {},
   "source": [
    "<H3>Read the files containing Phase '1' data</H3>"
   ]
  },
  {
   "cell_type": "code",
   "execution_count": 2,
   "metadata": {
    "collapsed": false
   },
   "outputs": [
    {
     "name": "stderr",
     "output_type": "stream",
     "text": [
      "C:\\Anaconda2\\lib\\site-packages\\IPython\\core\\interactiveshell.py:2723: DtypeWarning: Columns (1) have mixed types. Specify dtype option on import or set low_memory=False.\n",
      "  interactivity=interactivity, compiler=compiler, result=result)\n"
     ]
    }
   ],
   "source": [
    "train = pd.read_csv('train_part\\\\1\\\\X_train_1.csv')"
   ]
  },
  {
   "cell_type": "code",
   "execution_count": 3,
   "metadata": {
    "collapsed": false
   },
   "outputs": [
    {
     "data": {
      "text/plain": [
       "61.03945032922989"
      ]
     },
     "execution_count": 3,
     "metadata": {},
     "output_type": "execute_result"
    }
   ],
   "source": [
    "train['FF'].mean()"
   ]
  },
  {
   "cell_type": "code",
   "execution_count": 4,
   "metadata": {
    "collapsed": false
   },
   "outputs": [
    {
     "data": {
      "text/plain": [
       "(42195, 226)"
      ]
     },
     "execution_count": 4,
     "metadata": {},
     "output_type": "execute_result"
    }
   ],
   "source": [
    "train[train.FF==0].shape"
   ]
  },
  {
   "cell_type": "code",
   "execution_count": 5,
   "metadata": {
    "collapsed": false
   },
   "outputs": [
    {
     "data": {
      "text/plain": [
       "(52395, 226)"
      ]
     },
     "execution_count": 5,
     "metadata": {},
     "output_type": "execute_result"
    }
   ],
   "source": [
    "train.shape"
   ]
  },
  {
   "cell_type": "code",
   "execution_count": 6,
   "metadata": {
    "collapsed": false
   },
   "outputs": [],
   "source": [
    "train.drop(train.columns[[0,1,2,6,7]], axis = 1, inplace = True)\n",
    "train.drop('PH', axis=1, inplace=True)"
   ]
  },
  {
   "cell_type": "code",
   "execution_count": 7,
   "metadata": {
    "collapsed": true
   },
   "outputs": [],
   "source": [
    "train['Month1']=np.where(train['Month']==1.0, 1,0)\n",
    "train['Month2']=np.where(train['Month']==2.0, 1,0)\n",
    "train['Month3']=np.where(train['Month']==3.0, 1,0)\n",
    "train['Month4']=np.where(train['Month']==4.0, 1,0)\n",
    "train['Month5']=np.where(train['Month']==5.0, 1,0)\n",
    "train['Month6']=np.where(train['Month']==6.0, 1,0)\n",
    "train['Month7']=np.where(train['Month']==7.0, 1,0)\n",
    "train['Month8']=np.where(train['Month']==8.0, 1,0)\n",
    "train['Month9']=np.where(train['Month']==9.0, 1,0)\n",
    "train['Month10']=np.where(train['Month']==10.0, 1,0)\n",
    "train['Month11']=np.where(train['Month']==11.0, 1,0)\n",
    "train['Month12']=np.where(train['Month']==12.0, 1,0)\n",
    "train['Hour1']=np.where(train['Hour']==1.0, 1,0)\n",
    "train['Hour2']=np.where(train['Hour']==2.0, 1,0)\n",
    "train['Hour3']=np.where(train['Hour']==3.0, 1,0)\n",
    "train['Hour4']=np.where(train['Hour']==4.0, 1,0)\n",
    "train['Hour5']=np.where(train['Hour']==5.0, 1,0)\n",
    "train['Hour6']=np.where(train['Hour']==6.0, 1,0)\n",
    "train['Hour7']=np.where(train['Hour']==7.0, 1,0)\n",
    "train['Hour8']=np.where(train['Hour']==8.0, 1,0)\n",
    "train['Hour9']=np.where(train['Hour']==9.0, 1,0)\n",
    "train['Hour10']=np.where(train['Hour']==10.0, 1,0)\n",
    "train['Hour11']=np.where(train['Hour']==11.0, 1,0)\n",
    "train['Hour12']=np.where(train['Hour']==12.0, 1,0)\n",
    "train['Hour13']=np.where(train['Hour']==13.0, 1,0)\n",
    "train['Hour14']=np.where(train['Hour']==14.0, 1,0)\n",
    "train['Hour15']=np.where(train['Hour']==15.0, 1,0)\n",
    "train['Hour16']=np.where(train['Hour']==16.0, 1,0)\n",
    "train['Hour17']=np.where(train['Hour']==17.0, 1,0)\n",
    "train['Hour18']=np.where(train['Hour']==18.0, 1,0)\n",
    "train['Hour19']=np.where(train['Hour']==19.0, 1,0)\n",
    "train['Hour20']=np.where(train['Hour']==20.0, 1,0)\n",
    "train['Hour21']=np.where(train['Hour']==21.0, 1,0)\n",
    "train['Hour22']=np.where(train['Hour']==22.0, 1,0)\n",
    "train['Hour23']=np.where(train['Hour']==23.0, 1,0)\n",
    "train['Hour24']=np.where(train['Hour']==24.0, 1,0)"
   ]
  },
  {
   "cell_type": "code",
   "execution_count": 8,
   "metadata": {
    "collapsed": false
   },
   "outputs": [],
   "source": [
    "train.drop('Month', axis = 1, inplace = True)\n",
    "train.drop('Hour', axis = 1, inplace = True)"
   ]
  },
  {
   "cell_type": "code",
   "execution_count": 9,
   "metadata": {
    "collapsed": true
   },
   "outputs": [],
   "source": [
    "y = train.pop('FF')"
   ]
  },
  {
   "cell_type": "code",
   "execution_count": 10,
   "metadata": {
    "collapsed": true
   },
   "outputs": [],
   "source": [
    "xtrain2, xtrain1, y2, y1 = train_test_split(train, y, test_size = 0.2, random_state = 2016)"
   ]
  },
  {
   "cell_type": "code",
   "execution_count": 11,
   "metadata": {
    "collapsed": false
   },
   "outputs": [],
   "source": [
    "xgtrain1 = xgb.DMatrix(xtrain1, label = y1)"
   ]
  },
  {
   "cell_type": "code",
   "execution_count": 12,
   "metadata": {
    "collapsed": true
   },
   "outputs": [],
   "source": [
    "xgtrain2 = xgb.DMatrix(xtrain2, label = y2)"
   ]
  },
  {
   "cell_type": "markdown",
   "metadata": {},
   "source": [
    "<H3>Train the model</H3>"
   ]
  },
  {
   "cell_type": "code",
   "execution_count": 13,
   "metadata": {
    "collapsed": false
   },
   "outputs": [
    {
     "name": "stdout",
     "output_type": "stream",
     "text": [
      "[0]\ttrain-rmse:221.388\teval-rmse:218.124\n",
      "Multiple eval metrics have been passed: 'eval-rmse' will be used for early stopping.\n",
      "\n",
      "Will train until eval-rmse hasn't improved in 10 rounds.\n",
      "[1]\ttrain-rmse:201.344\teval-rmse:198.225\n",
      "[2]\ttrain-rmse:183.376\teval-rmse:180.46\n",
      "[3]\ttrain-rmse:167.478\teval-rmse:165.009\n",
      "[4]\ttrain-rmse:153.472\teval-rmse:151.243\n",
      "[5]\ttrain-rmse:140.848\teval-rmse:138.895\n",
      "[6]\ttrain-rmse:129.817\teval-rmse:128.102\n",
      "[7]\ttrain-rmse:120.038\teval-rmse:118.555\n",
      "[8]\ttrain-rmse:111.521\teval-rmse:110.217\n",
      "[9]\ttrain-rmse:103.747\teval-rmse:102.744\n",
      "[10]\ttrain-rmse:97.076\teval-rmse:96.4507\n",
      "[11]\ttrain-rmse:91.2663\teval-rmse:90.8477\n",
      "[12]\ttrain-rmse:86.2199\teval-rmse:86.1644\n",
      "[13]\ttrain-rmse:81.8164\teval-rmse:82.2278\n",
      "[14]\ttrain-rmse:77.948\teval-rmse:78.5569\n",
      "[15]\ttrain-rmse:74.741\teval-rmse:75.7988\n",
      "[16]\ttrain-rmse:71.8354\teval-rmse:73.2711\n",
      "[17]\ttrain-rmse:69.4339\teval-rmse:71.0746\n",
      "[18]\ttrain-rmse:67.129\teval-rmse:69.0403\n",
      "[19]\ttrain-rmse:65.3337\teval-rmse:67.5146\n",
      "[20]\ttrain-rmse:63.6825\teval-rmse:66.1699\n",
      "[21]\ttrain-rmse:62.3862\teval-rmse:65.2414\n",
      "[22]\ttrain-rmse:60.941\teval-rmse:64.3057\n",
      "[23]\ttrain-rmse:59.8638\teval-rmse:63.3581\n",
      "[24]\ttrain-rmse:58.8372\teval-rmse:62.5245\n",
      "[25]\ttrain-rmse:57.8987\teval-rmse:61.9774\n",
      "[26]\ttrain-rmse:57.2809\teval-rmse:61.5327\n",
      "[27]\ttrain-rmse:56.584\teval-rmse:60.9675\n",
      "[28]\ttrain-rmse:56.1235\teval-rmse:60.6387\n",
      "[29]\ttrain-rmse:55.4976\teval-rmse:60.1643\n",
      "[30]\ttrain-rmse:54.94\teval-rmse:59.9832\n",
      "[31]\ttrain-rmse:54.4579\teval-rmse:59.7296\n",
      "[32]\ttrain-rmse:54.0029\teval-rmse:59.4426\n",
      "[33]\ttrain-rmse:53.6974\teval-rmse:59.4026\n",
      "[34]\ttrain-rmse:53.5089\teval-rmse:59.4124\n",
      "[35]\ttrain-rmse:53.1949\teval-rmse:59.4098\n",
      "[36]\ttrain-rmse:52.9755\teval-rmse:59.3631\n",
      "[37]\ttrain-rmse:52.4382\teval-rmse:59.2519\n",
      "[38]\ttrain-rmse:52.1809\teval-rmse:59.0836\n",
      "[39]\ttrain-rmse:52.0126\teval-rmse:59.0411\n",
      "[40]\ttrain-rmse:51.8036\teval-rmse:58.9501\n",
      "[41]\ttrain-rmse:51.449\teval-rmse:58.8011\n",
      "[42]\ttrain-rmse:51.0591\teval-rmse:58.5643\n",
      "[43]\ttrain-rmse:50.9194\teval-rmse:58.5398\n",
      "[44]\ttrain-rmse:50.686\teval-rmse:58.3678\n",
      "[45]\ttrain-rmse:50.3669\teval-rmse:58.2244\n",
      "[46]\ttrain-rmse:50.1685\teval-rmse:58.1045\n",
      "[47]\ttrain-rmse:49.936\teval-rmse:58.0315\n",
      "[48]\ttrain-rmse:49.7438\teval-rmse:57.9344\n",
      "[49]\ttrain-rmse:49.6328\teval-rmse:57.8836\n",
      "[50]\ttrain-rmse:49.3196\teval-rmse:57.7262\n",
      "[51]\ttrain-rmse:49.1218\teval-rmse:57.5591\n",
      "[52]\ttrain-rmse:48.9882\teval-rmse:57.5327\n",
      "[53]\ttrain-rmse:48.8529\teval-rmse:57.4899\n",
      "[54]\ttrain-rmse:48.7276\teval-rmse:57.4198\n",
      "[55]\ttrain-rmse:48.6035\teval-rmse:57.4021\n",
      "[56]\ttrain-rmse:48.5239\teval-rmse:57.3782\n",
      "[57]\ttrain-rmse:48.333\teval-rmse:57.3094\n",
      "[58]\ttrain-rmse:48.1141\teval-rmse:57.2891\n",
      "[59]\ttrain-rmse:47.9153\teval-rmse:57.2759\n",
      "[60]\ttrain-rmse:47.6893\teval-rmse:57.2363\n",
      "[61]\ttrain-rmse:47.5466\teval-rmse:57.182\n",
      "[62]\ttrain-rmse:47.4054\teval-rmse:57.1419\n",
      "[63]\ttrain-rmse:47.1652\teval-rmse:57.0865\n",
      "[64]\ttrain-rmse:46.9095\teval-rmse:56.9599\n",
      "[65]\ttrain-rmse:46.8636\teval-rmse:56.9291\n",
      "[66]\ttrain-rmse:46.486\teval-rmse:56.8397\n",
      "[67]\ttrain-rmse:46.3693\teval-rmse:56.7959\n",
      "[68]\ttrain-rmse:46.19\teval-rmse:56.7363\n",
      "[69]\ttrain-rmse:45.9715\teval-rmse:56.6876\n",
      "[70]\ttrain-rmse:45.8364\teval-rmse:56.6636\n",
      "[71]\ttrain-rmse:45.7398\teval-rmse:56.6337\n",
      "[72]\ttrain-rmse:45.6033\teval-rmse:56.6012\n",
      "[73]\ttrain-rmse:45.4496\teval-rmse:56.5285\n",
      "[74]\ttrain-rmse:45.2803\teval-rmse:56.5314\n",
      "[75]\ttrain-rmse:45.0224\teval-rmse:56.4443\n",
      "[76]\ttrain-rmse:44.9568\teval-rmse:56.4364\n",
      "[77]\ttrain-rmse:44.8474\teval-rmse:56.4125\n",
      "[78]\ttrain-rmse:44.7525\teval-rmse:56.3964\n",
      "[79]\ttrain-rmse:44.706\teval-rmse:56.3979\n",
      "[80]\ttrain-rmse:44.5346\teval-rmse:56.3733\n",
      "[81]\ttrain-rmse:44.4389\teval-rmse:56.332\n",
      "[82]\ttrain-rmse:44.2619\teval-rmse:56.2584\n",
      "[83]\ttrain-rmse:44.1503\teval-rmse:56.2673\n",
      "[84]\ttrain-rmse:43.9698\teval-rmse:56.22\n",
      "[85]\ttrain-rmse:43.6162\teval-rmse:56.0727\n",
      "[86]\ttrain-rmse:43.4735\teval-rmse:56.0039\n",
      "[87]\ttrain-rmse:43.3188\teval-rmse:56.0011\n",
      "[88]\ttrain-rmse:43.1727\teval-rmse:55.9866\n",
      "[89]\ttrain-rmse:43.0503\teval-rmse:55.9197\n",
      "[90]\ttrain-rmse:42.6336\teval-rmse:55.7805\n",
      "[91]\ttrain-rmse:42.5626\teval-rmse:55.7586\n",
      "[92]\ttrain-rmse:42.501\teval-rmse:55.734\n",
      "[93]\ttrain-rmse:42.3896\teval-rmse:55.6653\n",
      "[94]\ttrain-rmse:42.3158\teval-rmse:55.67\n",
      "[95]\ttrain-rmse:42.2402\teval-rmse:55.661\n",
      "[96]\ttrain-rmse:42.0511\teval-rmse:55.6061\n",
      "[97]\ttrain-rmse:41.9651\teval-rmse:55.5701\n",
      "[98]\ttrain-rmse:41.9134\teval-rmse:55.5704\n",
      "[99]\ttrain-rmse:41.8406\teval-rmse:55.5141\n",
      "[100]\ttrain-rmse:41.7234\teval-rmse:55.5092\n",
      "[101]\ttrain-rmse:41.6106\teval-rmse:55.4752\n",
      "[102]\ttrain-rmse:41.584\teval-rmse:55.4656\n",
      "[103]\ttrain-rmse:41.5219\teval-rmse:55.4478\n",
      "[104]\ttrain-rmse:41.4697\teval-rmse:55.4372\n",
      "[105]\ttrain-rmse:41.3934\teval-rmse:55.4146\n",
      "[106]\ttrain-rmse:41.075\teval-rmse:55.2947\n",
      "[107]\ttrain-rmse:41.0424\teval-rmse:55.2792\n",
      "[108]\ttrain-rmse:40.9536\teval-rmse:55.195\n",
      "[109]\ttrain-rmse:40.9366\teval-rmse:55.1929\n",
      "[110]\ttrain-rmse:40.9\teval-rmse:55.1909\n",
      "[111]\ttrain-rmse:40.8374\teval-rmse:55.1909\n",
      "[112]\ttrain-rmse:40.7481\teval-rmse:55.1843\n",
      "[113]\ttrain-rmse:40.7179\teval-rmse:55.1713\n",
      "[114]\ttrain-rmse:40.5035\teval-rmse:55.0999\n",
      "[115]\ttrain-rmse:40.3494\teval-rmse:55.0817\n",
      "[116]\ttrain-rmse:40.2746\teval-rmse:55.0666\n",
      "[117]\ttrain-rmse:40.1803\teval-rmse:55.0585\n",
      "[118]\ttrain-rmse:40.1297\teval-rmse:55.0577\n",
      "[119]\ttrain-rmse:40.0834\teval-rmse:55.0657\n",
      "[120]\ttrain-rmse:40.0475\teval-rmse:55.0654\n",
      "[121]\ttrain-rmse:40.0296\teval-rmse:55.0565\n",
      "[122]\ttrain-rmse:39.8143\teval-rmse:54.9559\n",
      "[123]\ttrain-rmse:39.6988\teval-rmse:54.9397\n",
      "[124]\ttrain-rmse:39.5008\teval-rmse:54.862\n",
      "[125]\ttrain-rmse:39.4416\teval-rmse:54.8096\n",
      "[126]\ttrain-rmse:39.3069\teval-rmse:54.7937\n",
      "[127]\ttrain-rmse:39.2432\teval-rmse:54.7444\n",
      "[128]\ttrain-rmse:39.2167\teval-rmse:54.7253\n",
      "[129]\ttrain-rmse:39.0877\teval-rmse:54.71\n",
      "[130]\ttrain-rmse:39.03\teval-rmse:54.7112\n",
      "[131]\ttrain-rmse:38.9667\teval-rmse:54.682\n",
      "[132]\ttrain-rmse:38.911\teval-rmse:54.6775\n",
      "[133]\ttrain-rmse:38.8476\teval-rmse:54.6648\n",
      "[134]\ttrain-rmse:38.7362\teval-rmse:54.6669\n",
      "[135]\ttrain-rmse:38.648\teval-rmse:54.6551\n",
      "[136]\ttrain-rmse:38.4541\teval-rmse:54.6033\n",
      "[137]\ttrain-rmse:38.3908\teval-rmse:54.5921\n",
      "[138]\ttrain-rmse:38.3839\teval-rmse:54.59\n",
      "[139]\ttrain-rmse:38.3333\teval-rmse:54.568\n",
      "[140]\ttrain-rmse:38.2911\teval-rmse:54.5804\n",
      "[141]\ttrain-rmse:38.2518\teval-rmse:54.5739\n",
      "[142]\ttrain-rmse:38.2048\teval-rmse:54.5581\n",
      "[143]\ttrain-rmse:38.0815\teval-rmse:54.5089\n",
      "[144]\ttrain-rmse:38.0175\teval-rmse:54.4958\n",
      "[145]\ttrain-rmse:37.9925\teval-rmse:54.4888\n",
      "[146]\ttrain-rmse:37.974\teval-rmse:54.4745\n",
      "[147]\ttrain-rmse:37.8777\teval-rmse:54.4647\n",
      "[148]\ttrain-rmse:37.855\teval-rmse:54.4495\n",
      "[149]\ttrain-rmse:37.7955\teval-rmse:54.4204\n",
      "[150]\ttrain-rmse:37.7458\teval-rmse:54.4124\n",
      "[151]\ttrain-rmse:37.6105\teval-rmse:54.4093\n",
      "[152]\ttrain-rmse:37.4031\teval-rmse:54.3375\n",
      "[153]\ttrain-rmse:37.3525\teval-rmse:54.3311\n",
      "[154]\ttrain-rmse:37.2209\teval-rmse:54.314\n",
      "[155]\ttrain-rmse:37.2111\teval-rmse:54.313\n",
      "[156]\ttrain-rmse:37.1386\teval-rmse:54.3106\n",
      "[157]\ttrain-rmse:37.0469\teval-rmse:54.2971\n",
      "[158]\ttrain-rmse:37.0364\teval-rmse:54.2954\n",
      "[159]\ttrain-rmse:36.973\teval-rmse:54.2926\n",
      "[160]\ttrain-rmse:36.9549\teval-rmse:54.281\n",
      "[161]\ttrain-rmse:36.8593\teval-rmse:54.2493\n",
      "[162]\ttrain-rmse:36.8334\teval-rmse:54.2553\n",
      "[163]\ttrain-rmse:36.7461\teval-rmse:54.2109\n",
      "[164]\ttrain-rmse:36.7107\teval-rmse:54.1936\n",
      "[165]\ttrain-rmse:36.6592\teval-rmse:54.1816\n",
      "[166]\ttrain-rmse:36.5571\teval-rmse:54.164\n",
      "[167]\ttrain-rmse:36.4813\teval-rmse:54.1439\n",
      "[168]\ttrain-rmse:36.4085\teval-rmse:54.1168\n",
      "[169]\ttrain-rmse:36.3746\teval-rmse:54.1244\n",
      "[170]\ttrain-rmse:36.229\teval-rmse:54.1262\n",
      "[171]\ttrain-rmse:36.2209\teval-rmse:54.1205\n",
      "[172]\ttrain-rmse:36.1893\teval-rmse:54.1159\n",
      "[173]\ttrain-rmse:36.1685\teval-rmse:54.1201\n",
      "[174]\ttrain-rmse:36.0814\teval-rmse:54.1061\n",
      "[175]\ttrain-rmse:36.0712\teval-rmse:54.1049\n",
      "[176]\ttrain-rmse:36.0583\teval-rmse:54.107\n",
      "[177]\ttrain-rmse:36.0455\teval-rmse:54.1016\n",
      "[178]\ttrain-rmse:35.9675\teval-rmse:54.1013\n",
      "[179]\ttrain-rmse:35.9032\teval-rmse:54.0777\n",
      "[180]\ttrain-rmse:35.7918\teval-rmse:54.0037\n",
      "[181]\ttrain-rmse:35.7354\teval-rmse:53.9905\n",
      "[182]\ttrain-rmse:35.6454\teval-rmse:53.9772\n",
      "[183]\ttrain-rmse:35.5585\teval-rmse:53.9462\n",
      "[184]\ttrain-rmse:35.5453\teval-rmse:53.944\n",
      "[185]\ttrain-rmse:35.5252\teval-rmse:53.9398\n",
      "[186]\ttrain-rmse:35.457\teval-rmse:53.916\n",
      "[187]\ttrain-rmse:35.3772\teval-rmse:53.8783\n",
      "[188]\ttrain-rmse:35.2901\teval-rmse:53.8528\n",
      "[189]\ttrain-rmse:35.2609\teval-rmse:53.8479\n",
      "[190]\ttrain-rmse:35.2107\teval-rmse:53.827\n",
      "[191]\ttrain-rmse:35.1893\teval-rmse:53.8263\n",
      "[192]\ttrain-rmse:35.0803\teval-rmse:53.8267\n",
      "[193]\ttrain-rmse:35.0377\teval-rmse:53.7612\n",
      "[194]\ttrain-rmse:35.0043\teval-rmse:53.732\n",
      "[195]\ttrain-rmse:34.94\teval-rmse:53.7117\n",
      "[196]\ttrain-rmse:34.8694\teval-rmse:53.6994\n",
      "[197]\ttrain-rmse:34.7105\teval-rmse:53.6752\n",
      "[198]\ttrain-rmse:34.5924\teval-rmse:53.6419\n",
      "[199]\ttrain-rmse:34.5599\teval-rmse:53.6399\n",
      "[200]\ttrain-rmse:34.5054\teval-rmse:53.6423\n",
      "[201]\ttrain-rmse:34.4174\teval-rmse:53.6446\n",
      "[202]\ttrain-rmse:34.4068\teval-rmse:53.6434\n",
      "[203]\ttrain-rmse:34.3658\teval-rmse:53.648\n",
      "[204]\ttrain-rmse:34.3466\teval-rmse:53.6481\n",
      "[205]\ttrain-rmse:34.2984\teval-rmse:53.6445\n",
      "[206]\ttrain-rmse:34.1937\teval-rmse:53.6003\n",
      "[207]\ttrain-rmse:34.1369\teval-rmse:53.5982\n",
      "[208]\ttrain-rmse:34.0537\teval-rmse:53.5815\n",
      "[209]\ttrain-rmse:33.9338\teval-rmse:53.5243\n",
      "[210]\ttrain-rmse:33.8696\teval-rmse:53.5309\n",
      "[211]\ttrain-rmse:33.8358\teval-rmse:53.5252\n",
      "[212]\ttrain-rmse:33.7858\teval-rmse:53.5302\n",
      "[213]\ttrain-rmse:33.7539\teval-rmse:53.5282\n",
      "[214]\ttrain-rmse:33.7267\teval-rmse:53.5195\n",
      "[215]\ttrain-rmse:33.6755\teval-rmse:53.5105\n",
      "[216]\ttrain-rmse:33.5466\teval-rmse:53.4571\n",
      "[217]\ttrain-rmse:33.4732\teval-rmse:53.4508\n",
      "[218]\ttrain-rmse:33.4606\teval-rmse:53.4408\n",
      "[219]\ttrain-rmse:33.4173\teval-rmse:53.4359\n",
      "[220]\ttrain-rmse:33.3798\teval-rmse:53.4383\n",
      "[221]\ttrain-rmse:33.3273\teval-rmse:53.4045\n",
      "[222]\ttrain-rmse:33.311\teval-rmse:53.4028\n",
      "[223]\ttrain-rmse:33.3012\teval-rmse:53.4017\n",
      "[224]\ttrain-rmse:33.2238\teval-rmse:53.3969\n",
      "[225]\ttrain-rmse:33.1904\teval-rmse:53.363\n",
      "[226]\ttrain-rmse:33.139\teval-rmse:53.3581\n",
      "[227]\ttrain-rmse:33.1143\teval-rmse:53.3568\n",
      "[228]\ttrain-rmse:33.1077\teval-rmse:53.3553\n",
      "[229]\ttrain-rmse:33.0787\teval-rmse:53.3518\n",
      "[230]\ttrain-rmse:33.0451\teval-rmse:53.3393\n",
      "[231]\ttrain-rmse:33.0327\teval-rmse:53.3265\n",
      "[232]\ttrain-rmse:32.9518\teval-rmse:53.2999\n",
      "[233]\ttrain-rmse:32.9151\teval-rmse:53.2896\n",
      "[234]\ttrain-rmse:32.8279\teval-rmse:53.2715\n",
      "[235]\ttrain-rmse:32.8062\teval-rmse:53.2729\n",
      "[236]\ttrain-rmse:32.713\teval-rmse:53.2246\n",
      "[237]\ttrain-rmse:32.6507\teval-rmse:53.2158\n",
      "[238]\ttrain-rmse:32.6356\teval-rmse:53.2135\n",
      "[239]\ttrain-rmse:32.5568\teval-rmse:53.161\n",
      "[240]\ttrain-rmse:32.496\teval-rmse:53.1488\n",
      "[241]\ttrain-rmse:32.4564\teval-rmse:53.1426\n",
      "[242]\ttrain-rmse:32.3624\teval-rmse:53.1355\n",
      "[243]\ttrain-rmse:32.3325\teval-rmse:53.1375\n",
      "[244]\ttrain-rmse:32.2437\teval-rmse:53.1305\n",
      "[245]\ttrain-rmse:32.1899\teval-rmse:53.1113\n",
      "[246]\ttrain-rmse:32.1112\teval-rmse:53.0765\n",
      "[247]\ttrain-rmse:32.0691\teval-rmse:53.0741\n",
      "[248]\ttrain-rmse:31.9918\teval-rmse:53.0716\n",
      "[249]\ttrain-rmse:31.9119\teval-rmse:53.0552\n",
      "[250]\ttrain-rmse:31.8728\teval-rmse:53.046\n",
      "[251]\ttrain-rmse:31.7883\teval-rmse:53.0389\n",
      "[252]\ttrain-rmse:31.7766\teval-rmse:53.0338\n",
      "[253]\ttrain-rmse:31.7351\teval-rmse:53.026\n",
      "[254]\ttrain-rmse:31.7165\teval-rmse:53.0147\n",
      "[255]\ttrain-rmse:31.7\teval-rmse:53.0105\n",
      "[256]\ttrain-rmse:31.6472\teval-rmse:52.9899\n",
      "[257]\ttrain-rmse:31.6328\teval-rmse:52.9874\n",
      "[258]\ttrain-rmse:31.6156\teval-rmse:52.9828\n",
      "[259]\ttrain-rmse:31.4525\teval-rmse:52.9054\n",
      "[260]\ttrain-rmse:31.3845\teval-rmse:52.9039\n",
      "[261]\ttrain-rmse:31.2462\teval-rmse:52.8525\n",
      "[262]\ttrain-rmse:31.2241\teval-rmse:52.8538\n",
      "[263]\ttrain-rmse:31.1952\teval-rmse:52.8381\n",
      "[264]\ttrain-rmse:31.1622\teval-rmse:52.821\n",
      "[265]\ttrain-rmse:31.1183\teval-rmse:52.8148\n",
      "[266]\ttrain-rmse:31.0392\teval-rmse:52.7899\n",
      "[267]\ttrain-rmse:31.0308\teval-rmse:52.7881\n",
      "[268]\ttrain-rmse:31.0128\teval-rmse:52.775\n",
      "[269]\ttrain-rmse:30.9732\teval-rmse:52.7632\n",
      "[270]\ttrain-rmse:30.9501\teval-rmse:52.7626\n",
      "[271]\ttrain-rmse:30.8528\teval-rmse:52.7564\n",
      "[272]\ttrain-rmse:30.8242\teval-rmse:52.7601\n",
      "[273]\ttrain-rmse:30.7667\teval-rmse:52.7552\n",
      "[274]\ttrain-rmse:30.7163\teval-rmse:52.7535\n",
      "[275]\ttrain-rmse:30.7061\teval-rmse:52.746\n",
      "[276]\ttrain-rmse:30.6618\teval-rmse:52.7\n",
      "[277]\ttrain-rmse:30.5802\teval-rmse:52.691\n",
      "[278]\ttrain-rmse:30.5652\teval-rmse:52.6824\n",
      "[279]\ttrain-rmse:30.5433\teval-rmse:52.6749\n",
      "[280]\ttrain-rmse:30.5055\teval-rmse:52.6754\n",
      "[281]\ttrain-rmse:30.4563\teval-rmse:52.6566\n",
      "[282]\ttrain-rmse:30.429\teval-rmse:52.6335\n",
      "[283]\ttrain-rmse:30.306\teval-rmse:52.5995\n",
      "[284]\ttrain-rmse:30.2644\teval-rmse:52.5997\n",
      "[285]\ttrain-rmse:30.2413\teval-rmse:52.5943\n",
      "[286]\ttrain-rmse:30.2226\teval-rmse:52.5812\n",
      "[287]\ttrain-rmse:30.1683\teval-rmse:52.5653\n",
      "[288]\ttrain-rmse:30.1256\teval-rmse:52.5349\n",
      "[289]\ttrain-rmse:30.1083\teval-rmse:52.5418\n",
      "[290]\ttrain-rmse:30.0308\teval-rmse:52.5412\n",
      "[291]\ttrain-rmse:30.0224\teval-rmse:52.539\n",
      "[292]\ttrain-rmse:29.9995\teval-rmse:52.538\n",
      "[293]\ttrain-rmse:29.9907\teval-rmse:52.5269\n",
      "[294]\ttrain-rmse:29.8886\teval-rmse:52.4647\n",
      "[295]\ttrain-rmse:29.7757\teval-rmse:52.3972\n",
      "[296]\ttrain-rmse:29.7621\teval-rmse:52.3874\n",
      "[297]\ttrain-rmse:29.7071\teval-rmse:52.3815\n",
      "[298]\ttrain-rmse:29.6892\teval-rmse:52.373\n",
      "[299]\ttrain-rmse:29.5947\teval-rmse:52.346\n",
      "[300]\ttrain-rmse:29.5688\teval-rmse:52.3381\n",
      "[301]\ttrain-rmse:29.5077\teval-rmse:52.335\n",
      "[302]\ttrain-rmse:29.4446\teval-rmse:52.3103\n",
      "[303]\ttrain-rmse:29.3874\teval-rmse:52.2983\n",
      "[304]\ttrain-rmse:29.3805\teval-rmse:52.2963\n",
      "[305]\ttrain-rmse:29.2992\teval-rmse:52.2974\n",
      "[306]\ttrain-rmse:29.2291\teval-rmse:52.2689\n",
      "[307]\ttrain-rmse:29.1582\teval-rmse:52.2649\n",
      "[308]\ttrain-rmse:29.1407\teval-rmse:52.2329\n",
      "[309]\ttrain-rmse:29.0677\teval-rmse:52.2264\n",
      "[310]\ttrain-rmse:29.0149\teval-rmse:52.2141\n",
      "[311]\ttrain-rmse:28.9425\teval-rmse:52.2023\n",
      "[312]\ttrain-rmse:28.8175\teval-rmse:52.1611\n",
      "[313]\ttrain-rmse:28.7783\teval-rmse:52.164\n",
      "[314]\ttrain-rmse:28.7293\teval-rmse:52.133\n",
      "[315]\ttrain-rmse:28.6726\teval-rmse:52.1234\n",
      "[316]\ttrain-rmse:28.6182\teval-rmse:52.1209\n",
      "[317]\ttrain-rmse:28.5856\teval-rmse:52.1082\n",
      "[318]\ttrain-rmse:28.5331\teval-rmse:52.1227\n",
      "[319]\ttrain-rmse:28.4897\teval-rmse:52.1298\n",
      "[320]\ttrain-rmse:28.4677\teval-rmse:52.1257\n",
      "[321]\ttrain-rmse:28.439\teval-rmse:52.118\n",
      "[322]\ttrain-rmse:28.4\teval-rmse:52.1049\n",
      "[323]\ttrain-rmse:28.3911\teval-rmse:52.1\n",
      "[324]\ttrain-rmse:28.336\teval-rmse:52.1003\n",
      "[325]\ttrain-rmse:28.2319\teval-rmse:52.0828\n",
      "[326]\ttrain-rmse:28.2205\teval-rmse:52.0685\n",
      "[327]\ttrain-rmse:28.1766\teval-rmse:52.0484\n",
      "[328]\ttrain-rmse:28.1139\teval-rmse:52.0355\n",
      "[329]\ttrain-rmse:28.0896\teval-rmse:52.0241\n",
      "[330]\ttrain-rmse:28.0332\teval-rmse:51.9892\n",
      "[331]\ttrain-rmse:28.005\teval-rmse:51.982\n",
      "[332]\ttrain-rmse:27.9687\teval-rmse:51.9825\n",
      "[333]\ttrain-rmse:27.9424\teval-rmse:51.9762\n",
      "[334]\ttrain-rmse:27.8999\teval-rmse:51.9703\n",
      "[335]\ttrain-rmse:27.8844\teval-rmse:51.9637\n",
      "[336]\ttrain-rmse:27.8546\teval-rmse:51.9565\n",
      "[337]\ttrain-rmse:27.7967\teval-rmse:51.9554\n",
      "[338]\ttrain-rmse:27.7709\teval-rmse:51.9519\n",
      "[339]\ttrain-rmse:27.7418\teval-rmse:51.9495\n",
      "[340]\ttrain-rmse:27.7182\teval-rmse:51.941\n",
      "[341]\ttrain-rmse:27.6964\teval-rmse:51.9385\n",
      "[342]\ttrain-rmse:27.6827\teval-rmse:51.9341\n",
      "[343]\ttrain-rmse:27.6446\teval-rmse:51.9346\n",
      "[344]\ttrain-rmse:27.5879\teval-rmse:51.9326\n",
      "[345]\ttrain-rmse:27.5771\teval-rmse:51.93\n",
      "[346]\ttrain-rmse:27.5635\teval-rmse:51.9181\n",
      "[347]\ttrain-rmse:27.5378\teval-rmse:51.9106\n",
      "[348]\ttrain-rmse:27.4289\teval-rmse:51.891\n",
      "[349]\ttrain-rmse:27.4177\teval-rmse:51.8925\n",
      "[350]\ttrain-rmse:27.3225\teval-rmse:51.8858\n",
      "[351]\ttrain-rmse:27.2717\teval-rmse:51.8905\n",
      "[352]\ttrain-rmse:27.2305\teval-rmse:51.8987\n",
      "[353]\ttrain-rmse:27.1829\teval-rmse:51.8811\n",
      "[354]\ttrain-rmse:27.1761\teval-rmse:51.8778\n",
      "[355]\ttrain-rmse:27.1498\teval-rmse:51.8714\n",
      "[356]\ttrain-rmse:27.0733\teval-rmse:51.8648\n",
      "[357]\ttrain-rmse:27.0385\teval-rmse:51.8464\n",
      "[358]\ttrain-rmse:27.0131\teval-rmse:51.8349\n",
      "[359]\ttrain-rmse:26.984\teval-rmse:51.8321\n",
      "[360]\ttrain-rmse:26.9514\teval-rmse:51.8212\n",
      "[361]\ttrain-rmse:26.9123\teval-rmse:51.8185\n",
      "[362]\ttrain-rmse:26.8708\teval-rmse:51.8131\n",
      "[363]\ttrain-rmse:26.8235\teval-rmse:51.8041\n",
      "[364]\ttrain-rmse:26.8105\teval-rmse:51.8015\n",
      "[365]\ttrain-rmse:26.7504\teval-rmse:51.7946\n",
      "[366]\ttrain-rmse:26.7323\teval-rmse:51.7896\n",
      "[367]\ttrain-rmse:26.6928\teval-rmse:51.7854\n",
      "[368]\ttrain-rmse:26.5985\teval-rmse:51.7408\n",
      "[369]\ttrain-rmse:26.5439\teval-rmse:51.731\n",
      "[370]\ttrain-rmse:26.5357\teval-rmse:51.7306\n",
      "[371]\ttrain-rmse:26.5023\teval-rmse:51.7162\n",
      "[372]\ttrain-rmse:26.4559\teval-rmse:51.6753\n",
      "[373]\ttrain-rmse:26.4432\teval-rmse:51.673\n",
      "[374]\ttrain-rmse:26.3989\teval-rmse:51.6847\n",
      "[375]\ttrain-rmse:26.3614\teval-rmse:51.6836\n",
      "[376]\ttrain-rmse:26.3428\teval-rmse:51.6546\n",
      "[377]\ttrain-rmse:26.3191\teval-rmse:51.6432\n",
      "[378]\ttrain-rmse:26.3063\teval-rmse:51.6268\n",
      "[379]\ttrain-rmse:26.286\teval-rmse:51.6319\n",
      "[380]\ttrain-rmse:26.2279\teval-rmse:51.6305\n",
      "[381]\ttrain-rmse:26.1472\teval-rmse:51.5881\n",
      "[382]\ttrain-rmse:26.0728\teval-rmse:51.5572\n",
      "[383]\ttrain-rmse:26.0685\teval-rmse:51.5547\n",
      "[384]\ttrain-rmse:26.0505\teval-rmse:51.5489\n",
      "[385]\ttrain-rmse:26.0261\teval-rmse:51.5479\n",
      "[386]\ttrain-rmse:25.9543\teval-rmse:51.5393\n",
      "[387]\ttrain-rmse:25.9171\teval-rmse:51.5248\n",
      "[388]\ttrain-rmse:25.9035\teval-rmse:51.5233\n",
      "[389]\ttrain-rmse:25.8791\teval-rmse:51.5279\n",
      "[390]\ttrain-rmse:25.822\teval-rmse:51.5146\n",
      "[391]\ttrain-rmse:25.8126\teval-rmse:51.5124\n",
      "[392]\ttrain-rmse:25.7757\teval-rmse:51.5051\n",
      "[393]\ttrain-rmse:25.7491\teval-rmse:51.4989\n",
      "[394]\ttrain-rmse:25.7406\teval-rmse:51.4998\n",
      "[395]\ttrain-rmse:25.6763\teval-rmse:51.4782\n",
      "[396]\ttrain-rmse:25.6245\teval-rmse:51.4793\n",
      "[397]\ttrain-rmse:25.568\teval-rmse:51.435\n",
      "[398]\ttrain-rmse:25.5336\teval-rmse:51.4289\n",
      "[399]\ttrain-rmse:25.5137\teval-rmse:51.4099\n",
      "[400]\ttrain-rmse:25.4761\teval-rmse:51.4077\n",
      "[401]\ttrain-rmse:25.4333\teval-rmse:51.398\n",
      "[402]\ttrain-rmse:25.4032\teval-rmse:51.392\n",
      "[403]\ttrain-rmse:25.366\teval-rmse:51.3885\n",
      "[404]\ttrain-rmse:25.2934\teval-rmse:51.3651\n",
      "[405]\ttrain-rmse:25.2728\teval-rmse:51.3632\n",
      "[406]\ttrain-rmse:25.2137\teval-rmse:51.367\n",
      "[407]\ttrain-rmse:25.1594\teval-rmse:51.3752\n",
      "[408]\ttrain-rmse:25.1195\teval-rmse:51.3545\n",
      "[409]\ttrain-rmse:25.077\teval-rmse:51.3484\n",
      "[410]\ttrain-rmse:25.0367\teval-rmse:51.2868\n",
      "[411]\ttrain-rmse:24.9879\teval-rmse:51.2618\n",
      "[412]\ttrain-rmse:24.9472\teval-rmse:51.2212\n",
      "[413]\ttrain-rmse:24.9312\teval-rmse:51.2145\n",
      "[414]\ttrain-rmse:24.9222\teval-rmse:51.2169\n",
      "[415]\ttrain-rmse:24.8985\teval-rmse:51.2079\n",
      "[416]\ttrain-rmse:24.853\teval-rmse:51.1987\n",
      "[417]\ttrain-rmse:24.8374\teval-rmse:51.1974\n",
      "[418]\ttrain-rmse:24.821\teval-rmse:51.1933\n",
      "[419]\ttrain-rmse:24.7967\teval-rmse:51.1915\n",
      "[420]\ttrain-rmse:24.751\teval-rmse:51.1968\n",
      "[421]\ttrain-rmse:24.6789\teval-rmse:51.1911\n",
      "[422]\ttrain-rmse:24.6702\teval-rmse:51.1896\n",
      "[423]\ttrain-rmse:24.6405\teval-rmse:51.1853\n",
      "[424]\ttrain-rmse:24.6199\teval-rmse:51.1826\n",
      "[425]\ttrain-rmse:24.6047\teval-rmse:51.1728\n",
      "[426]\ttrain-rmse:24.5734\teval-rmse:51.166\n",
      "[427]\ttrain-rmse:24.5523\teval-rmse:51.1647\n",
      "[428]\ttrain-rmse:24.5421\teval-rmse:51.1649\n",
      "[429]\ttrain-rmse:24.5213\teval-rmse:51.1535\n",
      "[430]\ttrain-rmse:24.5119\teval-rmse:51.1526\n",
      "[431]\ttrain-rmse:24.4645\teval-rmse:51.1468\n",
      "[432]\ttrain-rmse:24.4539\teval-rmse:51.1438\n",
      "[433]\ttrain-rmse:24.3962\teval-rmse:51.1303\n",
      "[434]\ttrain-rmse:24.2995\teval-rmse:51.1287\n",
      "[435]\ttrain-rmse:24.279\teval-rmse:51.1237\n",
      "[436]\ttrain-rmse:24.2695\teval-rmse:51.1253\n",
      "[437]\ttrain-rmse:24.2382\teval-rmse:51.1141\n",
      "[438]\ttrain-rmse:24.212\teval-rmse:51.1085\n",
      "[439]\ttrain-rmse:24.1616\teval-rmse:51.1051\n",
      "[440]\ttrain-rmse:24.1283\teval-rmse:51.0981\n",
      "[441]\ttrain-rmse:24.0957\teval-rmse:51.0909\n",
      "[442]\ttrain-rmse:24.0642\teval-rmse:51.0906\n",
      "[443]\ttrain-rmse:24.0192\teval-rmse:51.0545\n",
      "[444]\ttrain-rmse:23.9814\teval-rmse:51.0465\n",
      "[445]\ttrain-rmse:23.9799\teval-rmse:51.0465\n",
      "[446]\ttrain-rmse:23.9614\teval-rmse:51.0412\n",
      "[447]\ttrain-rmse:23.9088\teval-rmse:51.0427\n",
      "[448]\ttrain-rmse:23.8985\teval-rmse:51.041\n",
      "[449]\ttrain-rmse:23.8836\teval-rmse:51.0387\n",
      "[450]\ttrain-rmse:23.8711\teval-rmse:51.0375\n",
      "[451]\ttrain-rmse:23.8597\teval-rmse:51.0365\n",
      "[452]\ttrain-rmse:23.8421\teval-rmse:51.0383\n",
      "[453]\ttrain-rmse:23.8148\teval-rmse:51.0464\n",
      "[454]\ttrain-rmse:23.788\teval-rmse:51.0384\n",
      "[455]\ttrain-rmse:23.7605\teval-rmse:51.0265\n",
      "[456]\ttrain-rmse:23.7302\teval-rmse:51.0177\n",
      "[457]\ttrain-rmse:23.712\teval-rmse:51.0143\n",
      "[458]\ttrain-rmse:23.69\teval-rmse:50.9881\n",
      "[459]\ttrain-rmse:23.6538\teval-rmse:50.9774\n",
      "[460]\ttrain-rmse:23.6192\teval-rmse:50.9784\n",
      "[461]\ttrain-rmse:23.5899\teval-rmse:50.9791\n",
      "[462]\ttrain-rmse:23.586\teval-rmse:50.9812\n",
      "[463]\ttrain-rmse:23.5751\teval-rmse:50.9784\n",
      "[464]\ttrain-rmse:23.5578\teval-rmse:50.9745\n",
      "[465]\ttrain-rmse:23.5424\teval-rmse:50.9706\n",
      "[466]\ttrain-rmse:23.4798\teval-rmse:50.9438\n",
      "[467]\ttrain-rmse:23.4349\teval-rmse:50.9298\n",
      "[468]\ttrain-rmse:23.402\teval-rmse:50.9283\n",
      "[469]\ttrain-rmse:23.3521\teval-rmse:50.8993\n",
      "[470]\ttrain-rmse:23.3311\teval-rmse:50.8933\n",
      "[471]\ttrain-rmse:23.3141\teval-rmse:50.8901\n",
      "[472]\ttrain-rmse:23.3091\teval-rmse:50.8923\n",
      "[473]\ttrain-rmse:23.2989\teval-rmse:50.8879\n",
      "[474]\ttrain-rmse:23.2554\teval-rmse:50.8874\n",
      "[475]\ttrain-rmse:23.201\teval-rmse:50.8787\n",
      "[476]\ttrain-rmse:23.1874\teval-rmse:50.8795\n",
      "[477]\ttrain-rmse:23.1563\teval-rmse:50.8644\n",
      "[478]\ttrain-rmse:23.1434\teval-rmse:50.8591\n",
      "[479]\ttrain-rmse:23.0997\teval-rmse:50.8306\n",
      "[480]\ttrain-rmse:23.0697\teval-rmse:50.8245\n",
      "[481]\ttrain-rmse:23.0476\teval-rmse:50.8158\n",
      "[482]\ttrain-rmse:23.0014\teval-rmse:50.814\n",
      "[483]\ttrain-rmse:22.9655\teval-rmse:50.8079\n",
      "[484]\ttrain-rmse:22.9249\teval-rmse:50.804\n",
      "[485]\ttrain-rmse:22.9191\teval-rmse:50.8014\n",
      "[486]\ttrain-rmse:22.8938\teval-rmse:50.8002\n",
      "[487]\ttrain-rmse:22.8741\teval-rmse:50.8001\n",
      "[488]\ttrain-rmse:22.8589\teval-rmse:50.7951\n",
      "[489]\ttrain-rmse:22.832\teval-rmse:50.7957\n",
      "[490]\ttrain-rmse:22.7841\teval-rmse:50.7945\n",
      "[491]\ttrain-rmse:22.7794\teval-rmse:50.7843\n",
      "[492]\ttrain-rmse:22.7449\teval-rmse:50.7836\n",
      "[493]\ttrain-rmse:22.7392\teval-rmse:50.7858\n",
      "[494]\ttrain-rmse:22.6596\teval-rmse:50.7542\n",
      "[495]\ttrain-rmse:22.6254\teval-rmse:50.749\n",
      "[496]\ttrain-rmse:22.6225\teval-rmse:50.7501\n",
      "[497]\ttrain-rmse:22.5943\teval-rmse:50.7443\n",
      "[498]\ttrain-rmse:22.5693\teval-rmse:50.7378\n",
      "[499]\ttrain-rmse:22.5427\teval-rmse:50.7357\n"
     ]
    }
   ],
   "source": [
    "params = {}\n",
    "params[\"objective\"] = \"reg:linear\"\n",
    "params[\"booster\"] = \"gbtree\"\n",
    "params[\"max_depth\"] = 6\n",
    "params[\"eval_metric\"] = 'rmse'\n",
    "params[\"subsample\"] = 0.9\n",
    "params[\"colsample_bytree\"] = 0.9\n",
    "params[\"silent\"] = 1\n",
    "params[\"seed\"] = 2016\n",
    "params[\"eta\"] = 0.1\n",
    "\n",
    "plst = list(params.items())\n",
    "num_rounds = 500\n",
    "early_stopping_rounds = 10\n",
    "\n",
    "watchlist = [(xgtrain2,'train'),(xgtrain1, 'eval')]\n",
    "\n",
    "model_1_1 = xgb.train(plst, xgtrain2, num_rounds, evals = watchlist, early_stopping_rounds = 10, verbose_eval = True)"
   ]
  },
  {
   "cell_type": "code",
   "execution_count": 14,
   "metadata": {
    "collapsed": true
   },
   "outputs": [],
   "source": [
    "test_pred = model_1_1.predict(xgtrain1)"
   ]
  },
  {
   "cell_type": "code",
   "execution_count": 15,
   "metadata": {
    "collapsed": false
   },
   "outputs": [
    {
     "data": {
      "text/plain": [
       "10479"
      ]
     },
     "execution_count": 15,
     "metadata": {},
     "output_type": "execute_result"
    }
   ],
   "source": [
    "len(test_pred)"
   ]
  },
  {
   "cell_type": "code",
   "execution_count": 17,
   "metadata": {
    "collapsed": false
   },
   "outputs": [
    {
     "data": {
      "text/plain": [
       "60.125568"
      ]
     },
     "execution_count": 17,
     "metadata": {},
     "output_type": "execute_result"
    }
   ],
   "source": [
    "np.mean(test_pred)"
   ]
  },
  {
   "cell_type": "code",
   "execution_count": 22,
   "metadata": {
    "collapsed": false
   },
   "outputs": [
    {
     "data": {
      "text/plain": [
       "2313.043"
      ]
     },
     "execution_count": 22,
     "metadata": {},
     "output_type": "execute_result"
    }
   ],
   "source": [
    "max(test_pred)"
   ]
  },
  {
   "cell_type": "code",
   "execution_count": 23,
   "metadata": {
    "collapsed": true
   },
   "outputs": [],
   "source": [
    "xtrain2, xtrain1, y2, y1 = train_test_split(train, y, test_size = 0.2, random_state = 1982)"
   ]
  },
  {
   "cell_type": "code",
   "execution_count": 24,
   "metadata": {
    "collapsed": true
   },
   "outputs": [],
   "source": [
    "xgtrain1 = xgb.DMatrix(xtrain1, label = y1)"
   ]
  },
  {
   "cell_type": "code",
   "execution_count": 25,
   "metadata": {
    "collapsed": true
   },
   "outputs": [],
   "source": [
    "xgtrain2 = xgb.DMatrix(xtrain2, label = y2)"
   ]
  },
  {
   "cell_type": "code",
   "execution_count": 26,
   "metadata": {
    "collapsed": false
   },
   "outputs": [
    {
     "name": "stdout",
     "output_type": "stream",
     "text": [
      "[0]\ttrain-rmse:222.191\teval-rmse:214.765\n",
      "Multiple eval metrics have been passed: 'eval-rmse' will be used for early stopping.\n",
      "\n",
      "Will train until eval-rmse hasn't improved in 10 rounds.\n",
      "[1]\ttrain-rmse:202.078\teval-rmse:195.57\n",
      "[2]\ttrain-rmse:184.044\teval-rmse:178.399\n",
      "[3]\ttrain-rmse:167.991\teval-rmse:163.063\n",
      "[4]\ttrain-rmse:153.877\teval-rmse:149.666\n",
      "[5]\ttrain-rmse:141.129\teval-rmse:137.595\n",
      "[6]\ttrain-rmse:130.001\teval-rmse:127.026\n",
      "[7]\ttrain-rmse:120.178\teval-rmse:117.691\n",
      "[8]\ttrain-rmse:111.561\teval-rmse:109.614\n",
      "[9]\ttrain-rmse:103.773\teval-rmse:102.368\n",
      "[10]\ttrain-rmse:97.1\teval-rmse:96.0856\n",
      "[11]\ttrain-rmse:91.2676\teval-rmse:90.5181\n",
      "[12]\ttrain-rmse:86.2048\teval-rmse:85.8748\n",
      "[13]\ttrain-rmse:81.8467\teval-rmse:81.8803\n",
      "[14]\ttrain-rmse:78.0857\teval-rmse:78.5993\n",
      "[15]\ttrain-rmse:74.7878\teval-rmse:75.6493\n",
      "[16]\ttrain-rmse:71.8944\teval-rmse:73.1101\n",
      "[17]\ttrain-rmse:69.4398\teval-rmse:70.9261\n",
      "[18]\ttrain-rmse:67.4199\teval-rmse:69.1888\n",
      "[19]\ttrain-rmse:65.6546\teval-rmse:67.6681\n",
      "[20]\ttrain-rmse:63.8725\teval-rmse:66.1252\n",
      "[21]\ttrain-rmse:62.5842\teval-rmse:65.0564\n",
      "[22]\ttrain-rmse:61.2988\teval-rmse:64.0032\n",
      "[23]\ttrain-rmse:59.9741\teval-rmse:62.8289\n",
      "[24]\ttrain-rmse:58.8791\teval-rmse:62.0584\n",
      "[25]\ttrain-rmse:58.0911\teval-rmse:61.4177\n",
      "[26]\ttrain-rmse:57.2842\teval-rmse:60.7594\n",
      "[27]\ttrain-rmse:56.5934\teval-rmse:60.3624\n",
      "[28]\ttrain-rmse:56.0129\teval-rmse:59.9832\n",
      "[29]\ttrain-rmse:55.4848\teval-rmse:59.5999\n",
      "[30]\ttrain-rmse:55.0514\teval-rmse:59.3539\n",
      "[31]\ttrain-rmse:54.3681\teval-rmse:58.9306\n",
      "[32]\ttrain-rmse:53.7441\teval-rmse:58.4507\n",
      "[33]\ttrain-rmse:53.2109\teval-rmse:58.102\n",
      "[34]\ttrain-rmse:52.865\teval-rmse:57.8731\n",
      "[35]\ttrain-rmse:52.6069\teval-rmse:57.743\n",
      "[36]\ttrain-rmse:52.2422\teval-rmse:57.5801\n",
      "[37]\ttrain-rmse:51.9566\teval-rmse:57.3281\n",
      "[38]\ttrain-rmse:51.771\teval-rmse:57.2601\n",
      "[39]\ttrain-rmse:51.5843\teval-rmse:57.1457\n",
      "[40]\ttrain-rmse:51.3646\teval-rmse:57.0464\n",
      "[41]\ttrain-rmse:51.0823\teval-rmse:56.8622\n",
      "[42]\ttrain-rmse:50.786\teval-rmse:56.7452\n",
      "[43]\ttrain-rmse:50.6154\teval-rmse:56.7029\n",
      "[44]\ttrain-rmse:50.2695\teval-rmse:56.5109\n",
      "[45]\ttrain-rmse:50.153\teval-rmse:56.4742\n",
      "[46]\ttrain-rmse:49.8982\teval-rmse:56.3479\n",
      "[47]\ttrain-rmse:49.7494\teval-rmse:56.277\n",
      "[48]\ttrain-rmse:49.5629\teval-rmse:56.1969\n",
      "[49]\ttrain-rmse:49.3342\teval-rmse:56.1413\n",
      "[50]\ttrain-rmse:49.113\teval-rmse:56.1048\n",
      "[51]\ttrain-rmse:48.9919\teval-rmse:56.0604\n",
      "[52]\ttrain-rmse:48.7974\teval-rmse:56.0011\n",
      "[53]\ttrain-rmse:48.546\teval-rmse:55.8904\n",
      "[54]\ttrain-rmse:48.2364\teval-rmse:55.7105\n",
      "[55]\ttrain-rmse:48.0462\teval-rmse:55.6092\n",
      "[56]\ttrain-rmse:47.8913\teval-rmse:55.6102\n",
      "[57]\ttrain-rmse:47.543\teval-rmse:55.4982\n",
      "[58]\ttrain-rmse:47.0639\teval-rmse:55.1236\n",
      "[59]\ttrain-rmse:46.9587\teval-rmse:55.1155\n",
      "[60]\ttrain-rmse:46.841\teval-rmse:55.0575\n",
      "[61]\ttrain-rmse:46.5471\teval-rmse:54.8433\n",
      "[62]\ttrain-rmse:46.426\teval-rmse:54.7787\n",
      "[63]\ttrain-rmse:46.3419\teval-rmse:54.7369\n",
      "[64]\ttrain-rmse:46.2118\teval-rmse:54.6678\n",
      "[65]\ttrain-rmse:45.9979\teval-rmse:54.6029\n",
      "[66]\ttrain-rmse:45.8316\teval-rmse:54.52\n",
      "[67]\ttrain-rmse:45.7083\teval-rmse:54.4412\n",
      "[68]\ttrain-rmse:45.4288\teval-rmse:54.3996\n",
      "[69]\ttrain-rmse:45.3064\teval-rmse:54.3788\n",
      "[70]\ttrain-rmse:45.1097\teval-rmse:54.3418\n",
      "[71]\ttrain-rmse:45.0446\teval-rmse:54.3264\n",
      "[72]\ttrain-rmse:44.9385\teval-rmse:54.316\n",
      "[73]\ttrain-rmse:44.7705\teval-rmse:54.247\n",
      "[74]\ttrain-rmse:44.5695\teval-rmse:54.1506\n",
      "[75]\ttrain-rmse:44.4288\teval-rmse:54.0711\n",
      "[76]\ttrain-rmse:44.3348\teval-rmse:54.0529\n",
      "[77]\ttrain-rmse:44.2438\teval-rmse:54.0358\n",
      "[78]\ttrain-rmse:44.088\teval-rmse:54.0714\n",
      "[79]\ttrain-rmse:43.7569\teval-rmse:53.8675\n",
      "[80]\ttrain-rmse:43.6674\teval-rmse:53.8126\n",
      "[81]\ttrain-rmse:43.6338\teval-rmse:53.7786\n",
      "[82]\ttrain-rmse:43.5158\teval-rmse:53.7855\n",
      "[83]\ttrain-rmse:43.461\teval-rmse:53.7912\n",
      "[84]\ttrain-rmse:43.1559\teval-rmse:53.6994\n",
      "[85]\ttrain-rmse:43.1258\teval-rmse:53.7123\n",
      "[86]\ttrain-rmse:42.9706\teval-rmse:53.6823\n",
      "[87]\ttrain-rmse:42.8408\teval-rmse:53.6838\n",
      "[88]\ttrain-rmse:42.8144\teval-rmse:53.6891\n",
      "[89]\ttrain-rmse:42.5714\teval-rmse:53.5926\n",
      "[90]\ttrain-rmse:42.473\teval-rmse:53.5813\n",
      "[91]\ttrain-rmse:42.3816\teval-rmse:53.5352\n",
      "[92]\ttrain-rmse:42.3097\teval-rmse:53.5202\n",
      "[93]\ttrain-rmse:42.1941\teval-rmse:53.4936\n",
      "[94]\ttrain-rmse:42.18\teval-rmse:53.4973\n",
      "[95]\ttrain-rmse:41.8893\teval-rmse:53.4289\n",
      "[96]\ttrain-rmse:41.7489\teval-rmse:53.4157\n",
      "[97]\ttrain-rmse:41.6057\teval-rmse:53.3849\n",
      "[98]\ttrain-rmse:41.5586\teval-rmse:53.3646\n",
      "[99]\ttrain-rmse:41.4383\teval-rmse:53.353\n",
      "[100]\ttrain-rmse:41.3857\teval-rmse:53.3252\n",
      "[101]\ttrain-rmse:41.1195\teval-rmse:53.1797\n",
      "[102]\ttrain-rmse:41.0684\teval-rmse:53.1916\n",
      "[103]\ttrain-rmse:40.9627\teval-rmse:53.1627\n",
      "[104]\ttrain-rmse:40.8698\teval-rmse:53.103\n",
      "[105]\ttrain-rmse:40.7401\teval-rmse:53.0685\n",
      "[106]\ttrain-rmse:40.6675\teval-rmse:53.0582\n",
      "[107]\ttrain-rmse:40.5125\teval-rmse:52.91\n",
      "[108]\ttrain-rmse:40.4427\teval-rmse:52.9212\n",
      "[109]\ttrain-rmse:40.4173\teval-rmse:52.917\n",
      "[110]\ttrain-rmse:40.2577\teval-rmse:52.8681\n",
      "[111]\ttrain-rmse:40.2319\teval-rmse:52.8779\n",
      "[112]\ttrain-rmse:40.1053\teval-rmse:52.8635\n",
      "[113]\ttrain-rmse:39.9828\teval-rmse:52.8388\n",
      "[114]\ttrain-rmse:39.966\teval-rmse:52.8401\n",
      "[115]\ttrain-rmse:39.9064\teval-rmse:52.821\n",
      "[116]\ttrain-rmse:39.7909\teval-rmse:52.7925\n",
      "[117]\ttrain-rmse:39.754\teval-rmse:52.7939\n",
      "[118]\ttrain-rmse:39.6782\teval-rmse:52.7821\n",
      "[119]\ttrain-rmse:39.6535\teval-rmse:52.7841\n",
      "[120]\ttrain-rmse:39.5898\teval-rmse:52.7709\n",
      "[121]\ttrain-rmse:39.4673\teval-rmse:52.7836\n",
      "[122]\ttrain-rmse:39.4538\teval-rmse:52.7936\n",
      "[123]\ttrain-rmse:39.3929\teval-rmse:52.7948\n",
      "[124]\ttrain-rmse:39.3496\teval-rmse:52.7749\n",
      "[125]\ttrain-rmse:39.2773\teval-rmse:52.7652\n",
      "[126]\ttrain-rmse:39.2215\teval-rmse:52.7426\n",
      "[127]\ttrain-rmse:39.0613\teval-rmse:52.5974\n",
      "[128]\ttrain-rmse:39.0121\teval-rmse:52.5694\n",
      "[129]\ttrain-rmse:38.9365\teval-rmse:52.5663\n",
      "[130]\ttrain-rmse:38.8025\teval-rmse:52.5743\n",
      "[131]\ttrain-rmse:38.7926\teval-rmse:52.572\n",
      "[132]\ttrain-rmse:38.6693\teval-rmse:52.5241\n",
      "[133]\ttrain-rmse:38.5642\teval-rmse:52.5135\n",
      "[134]\ttrain-rmse:38.4398\teval-rmse:52.5355\n",
      "[135]\ttrain-rmse:38.3343\teval-rmse:52.5178\n",
      "[136]\ttrain-rmse:38.2234\teval-rmse:52.4636\n",
      "[137]\ttrain-rmse:38.1872\teval-rmse:52.4597\n",
      "[138]\ttrain-rmse:38.1388\teval-rmse:52.3919\n",
      "[139]\ttrain-rmse:38.0352\teval-rmse:52.3169\n",
      "[140]\ttrain-rmse:38.0213\teval-rmse:52.3161\n",
      "[141]\ttrain-rmse:37.9316\teval-rmse:52.3114\n",
      "[142]\ttrain-rmse:37.844\teval-rmse:52.2834\n",
      "[143]\ttrain-rmse:37.7441\teval-rmse:52.2677\n",
      "[144]\ttrain-rmse:37.629\teval-rmse:52.1523\n",
      "[145]\ttrain-rmse:37.4972\teval-rmse:52.0771\n",
      "[146]\ttrain-rmse:37.4701\teval-rmse:52.0781\n",
      "[147]\ttrain-rmse:37.4284\teval-rmse:52.0706\n",
      "[148]\ttrain-rmse:37.3517\teval-rmse:52.0216\n",
      "[149]\ttrain-rmse:37.2234\teval-rmse:51.9196\n",
      "[150]\ttrain-rmse:37.112\teval-rmse:51.9058\n",
      "[151]\ttrain-rmse:37.002\teval-rmse:51.8779\n",
      "[152]\ttrain-rmse:36.9515\teval-rmse:51.8614\n",
      "[153]\ttrain-rmse:36.9082\teval-rmse:51.8547\n",
      "[154]\ttrain-rmse:36.7567\teval-rmse:51.8105\n",
      "[155]\ttrain-rmse:36.7454\teval-rmse:51.8124\n",
      "[156]\ttrain-rmse:36.7253\teval-rmse:51.7905\n",
      "[157]\ttrain-rmse:36.7084\teval-rmse:51.7916\n",
      "[158]\ttrain-rmse:36.5352\teval-rmse:51.6955\n",
      "[159]\ttrain-rmse:36.3994\teval-rmse:51.5951\n",
      "[160]\ttrain-rmse:36.3712\teval-rmse:51.6004\n",
      "[161]\ttrain-rmse:36.3215\teval-rmse:51.5893\n",
      "[162]\ttrain-rmse:36.2635\teval-rmse:51.5343\n",
      "[163]\ttrain-rmse:36.2315\teval-rmse:51.4854\n",
      "[164]\ttrain-rmse:36.1899\teval-rmse:51.4884\n",
      "[165]\ttrain-rmse:36.0988\teval-rmse:51.4855\n",
      "[166]\ttrain-rmse:36.0268\teval-rmse:51.4727\n",
      "[167]\ttrain-rmse:36.0024\teval-rmse:51.4845\n",
      "[168]\ttrain-rmse:35.9402\teval-rmse:51.4967\n",
      "[169]\ttrain-rmse:35.8599\teval-rmse:51.4992\n",
      "[170]\ttrain-rmse:35.8485\teval-rmse:51.4972\n",
      "[171]\ttrain-rmse:35.7731\teval-rmse:51.4942\n",
      "[172]\ttrain-rmse:35.7551\teval-rmse:51.4953\n",
      "[173]\ttrain-rmse:35.73\teval-rmse:51.4881\n",
      "[174]\ttrain-rmse:35.6603\teval-rmse:51.4853\n",
      "[175]\ttrain-rmse:35.6065\teval-rmse:51.4887\n",
      "[176]\ttrain-rmse:35.5071\teval-rmse:51.4504\n",
      "[177]\ttrain-rmse:35.4929\teval-rmse:51.4449\n",
      "[178]\ttrain-rmse:35.423\teval-rmse:51.4001\n",
      "[179]\ttrain-rmse:35.3879\teval-rmse:51.4106\n",
      "[180]\ttrain-rmse:35.3726\teval-rmse:51.4142\n",
      "[181]\ttrain-rmse:35.3198\teval-rmse:51.4058\n",
      "[182]\ttrain-rmse:35.1805\teval-rmse:51.3885\n",
      "[183]\ttrain-rmse:35.1233\teval-rmse:51.3816\n",
      "[184]\ttrain-rmse:35.0977\teval-rmse:51.3865\n",
      "[185]\ttrain-rmse:35.0385\teval-rmse:51.371\n",
      "[186]\ttrain-rmse:34.9486\teval-rmse:51.3608\n",
      "[187]\ttrain-rmse:34.8773\teval-rmse:51.3439\n",
      "[188]\ttrain-rmse:34.8013\teval-rmse:51.282\n",
      "[189]\ttrain-rmse:34.7166\teval-rmse:51.233\n",
      "[190]\ttrain-rmse:34.6425\teval-rmse:51.1936\n",
      "[191]\ttrain-rmse:34.5627\teval-rmse:51.1858\n",
      "[192]\ttrain-rmse:34.553\teval-rmse:51.1746\n",
      "[193]\ttrain-rmse:34.5267\teval-rmse:51.1703\n",
      "[194]\ttrain-rmse:34.486\teval-rmse:51.1669\n",
      "[195]\ttrain-rmse:34.3797\teval-rmse:51.1823\n",
      "[196]\ttrain-rmse:34.3286\teval-rmse:51.149\n",
      "[197]\ttrain-rmse:34.2629\teval-rmse:51.1279\n",
      "[198]\ttrain-rmse:34.2308\teval-rmse:51.0849\n",
      "[199]\ttrain-rmse:34.1821\teval-rmse:51.055\n",
      "[200]\ttrain-rmse:34.1193\teval-rmse:51.0495\n",
      "[201]\ttrain-rmse:34.0875\teval-rmse:51.046\n",
      "[202]\ttrain-rmse:34.0513\teval-rmse:51.0546\n",
      "[203]\ttrain-rmse:34.012\teval-rmse:51.0374\n",
      "[204]\ttrain-rmse:33.9141\teval-rmse:51.0227\n",
      "[205]\ttrain-rmse:33.8751\teval-rmse:50.996\n",
      "[206]\ttrain-rmse:33.863\teval-rmse:50.994\n",
      "[207]\ttrain-rmse:33.834\teval-rmse:50.998\n",
      "[208]\ttrain-rmse:33.7559\teval-rmse:51.0201\n",
      "[209]\ttrain-rmse:33.5634\teval-rmse:50.9138\n",
      "[210]\ttrain-rmse:33.5336\teval-rmse:50.8953\n",
      "[211]\ttrain-rmse:33.3694\teval-rmse:50.8499\n",
      "[212]\ttrain-rmse:33.2699\teval-rmse:50.8437\n",
      "[213]\ttrain-rmse:33.2506\teval-rmse:50.8513\n",
      "[214]\ttrain-rmse:33.1625\teval-rmse:50.8149\n",
      "[215]\ttrain-rmse:33.0938\teval-rmse:50.8107\n",
      "[216]\ttrain-rmse:33.0447\teval-rmse:50.7903\n",
      "[217]\ttrain-rmse:32.9912\teval-rmse:50.7783\n",
      "[218]\ttrain-rmse:32.8623\teval-rmse:50.7533\n",
      "[219]\ttrain-rmse:32.8418\teval-rmse:50.7463\n",
      "[220]\ttrain-rmse:32.8218\teval-rmse:50.7421\n",
      "[221]\ttrain-rmse:32.7583\teval-rmse:50.7275\n",
      "[222]\ttrain-rmse:32.7254\teval-rmse:50.7183\n",
      "[223]\ttrain-rmse:32.7065\teval-rmse:50.7117\n",
      "[224]\ttrain-rmse:32.683\teval-rmse:50.7128\n",
      "[225]\ttrain-rmse:32.6312\teval-rmse:50.709\n",
      "[226]\ttrain-rmse:32.5246\teval-rmse:50.682\n",
      "[227]\ttrain-rmse:32.4371\teval-rmse:50.6791\n",
      "[228]\ttrain-rmse:32.4201\teval-rmse:50.6766\n",
      "[229]\ttrain-rmse:32.2504\teval-rmse:50.5868\n",
      "[230]\ttrain-rmse:32.2484\teval-rmse:50.5927\n",
      "[231]\ttrain-rmse:32.2064\teval-rmse:50.5896\n",
      "[232]\ttrain-rmse:32.1806\teval-rmse:50.5931\n",
      "[233]\ttrain-rmse:32.0771\teval-rmse:50.552\n",
      "[234]\ttrain-rmse:32.0589\teval-rmse:50.5475\n",
      "[235]\ttrain-rmse:31.9891\teval-rmse:50.541\n",
      "[236]\ttrain-rmse:31.9556\teval-rmse:50.5281\n",
      "[237]\ttrain-rmse:31.9131\teval-rmse:50.5133\n",
      "[238]\ttrain-rmse:31.9087\teval-rmse:50.5135\n",
      "[239]\ttrain-rmse:31.8868\teval-rmse:50.5157\n",
      "[240]\ttrain-rmse:31.881\teval-rmse:50.5185\n",
      "[241]\ttrain-rmse:31.8393\teval-rmse:50.5315\n",
      "[242]\ttrain-rmse:31.7448\teval-rmse:50.506\n",
      "[243]\ttrain-rmse:31.7369\teval-rmse:50.5057\n",
      "[244]\ttrain-rmse:31.6713\teval-rmse:50.5171\n",
      "[245]\ttrain-rmse:31.5976\teval-rmse:50.4976\n",
      "[246]\ttrain-rmse:31.5433\teval-rmse:50.5019\n",
      "[247]\ttrain-rmse:31.5185\teval-rmse:50.5079\n",
      "[248]\ttrain-rmse:31.5135\teval-rmse:50.5076\n",
      "[249]\ttrain-rmse:31.4717\teval-rmse:50.5144\n",
      "[250]\ttrain-rmse:31.436\teval-rmse:50.5224\n",
      "[251]\ttrain-rmse:31.3996\teval-rmse:50.5222\n",
      "[252]\ttrain-rmse:31.3842\teval-rmse:50.5229\n",
      "[253]\ttrain-rmse:31.3577\teval-rmse:50.5151\n",
      "[254]\ttrain-rmse:31.3479\teval-rmse:50.5226\n",
      "[255]\ttrain-rmse:31.3377\teval-rmse:50.5293\n",
      "Stopping. Best iteration:\n",
      "[245]\ttrain-rmse:31.5976\teval-rmse:50.4976\n",
      "\n"
     ]
    }
   ],
   "source": [
    "watchlist = [(xgtrain2,'train'),(xgtrain1, 'eval')]\n",
    "model_1_2 = xgb.train(plst, xgtrain2, num_rounds, evals = watchlist, early_stopping_rounds = 10, verbose_eval = True)"
   ]
  },
  {
   "cell_type": "code",
   "execution_count": 27,
   "metadata": {
    "collapsed": true
   },
   "outputs": [],
   "source": [
    "test = pd.read_csv('test\\\\CAX_Test.csv')"
   ]
  },
  {
   "cell_type": "code",
   "execution_count": 28,
   "metadata": {
    "collapsed": true
   },
   "outputs": [],
   "source": [
    "test = test[test.PH==1]"
   ]
  },
  {
   "cell_type": "code",
   "execution_count": 29,
   "metadata": {
    "collapsed": false
   },
   "outputs": [
    {
     "data": {
      "text/plain": [
       "(7752, 227)"
      ]
     },
     "execution_count": 29,
     "metadata": {},
     "output_type": "execute_result"
    }
   ],
   "source": [
    "test.shape"
   ]
  },
  {
   "cell_type": "code",
   "execution_count": 30,
   "metadata": {
    "collapsed": true
   },
   "outputs": [],
   "source": [
    "test.drop(test.columns[[0,1,2,6,7]], axis = 1, inplace = True)"
   ]
  },
  {
   "cell_type": "code",
   "execution_count": 31,
   "metadata": {
    "collapsed": true
   },
   "outputs": [],
   "source": [
    "test.drop('PH', axis=1, inplace=True)"
   ]
  },
  {
   "cell_type": "code",
   "execution_count": 32,
   "metadata": {
    "collapsed": true
   },
   "outputs": [],
   "source": [
    "test['Month1']=np.where(test['Month']==1.0, 1,0)\n",
    "test['Month2']=np.where(test['Month']==2.0, 1,0)\n",
    "test['Month3']=np.where(test['Month']==3.0, 1,0)\n",
    "test['Month4']=np.where(test['Month']==4.0, 1,0)\n",
    "test['Month5']=np.where(test['Month']==5.0, 1,0)\n",
    "test['Month6']=np.where(test['Month']==6.0, 1,0)\n",
    "test['Month7']=np.where(test['Month']==7.0, 1,0)\n",
    "test['Month8']=np.where(test['Month']==8.0, 1,0)\n",
    "test['Month9']=np.where(test['Month']==9.0, 1,0)\n",
    "test['Month10']=np.where(test['Month']==10.0, 1,0)\n",
    "test['Month11']=np.where(test['Month']==11.0, 1,0)\n",
    "test['Month12']=np.where(test['Month']==12.0, 1,0)\n",
    "test['Hour1']=np.where(test['Hour']==1.0, 1,0)\n",
    "test['Hour2']=np.where(test['Hour']==2.0, 1,0)\n",
    "test['Hour3']=np.where(test['Hour']==3.0, 1,0)\n",
    "test['Hour4']=np.where(test['Hour']==4.0, 1,0)\n",
    "test['Hour5']=np.where(test['Hour']==5.0, 1,0)\n",
    "test['Hour6']=np.where(test['Hour']==6.0, 1,0)\n",
    "test['Hour7']=np.where(test['Hour']==7.0, 1,0)\n",
    "test['Hour8']=np.where(test['Hour']==8.0, 1,0)\n",
    "test['Hour9']=np.where(test['Hour']==9.0, 1,0)\n",
    "test['Hour10']=np.where(test['Hour']==10.0, 1,0)\n",
    "test['Hour11']=np.where(test['Hour']==11.0, 1,0)\n",
    "test['Hour12']=np.where(test['Hour']==12.0, 1,0)\n",
    "test['Hour13']=np.where(test['Hour']==13.0, 1,0)\n",
    "test['Hour14']=np.where(test['Hour']==14.0, 1,0)\n",
    "test['Hour15']=np.where(test['Hour']==15.0, 1,0)\n",
    "test['Hour16']=np.where(test['Hour']==16.0, 1,0)\n",
    "test['Hour17']=np.where(test['Hour']==17.0, 1,0)\n",
    "test['Hour18']=np.where(test['Hour']==18.0, 1,0)\n",
    "test['Hour19']=np.where(test['Hour']==19.0, 1,0)\n",
    "test['Hour20']=np.where(test['Hour']==20.0, 1,0)\n",
    "test['Hour21']=np.where(test['Hour']==21.0, 1,0)\n",
    "test['Hour22']=np.where(test['Hour']==22.0, 1,0)\n",
    "test['Hour23']=np.where(test['Hour']==23.0, 1,0)\n",
    "test['Hour24']=np.where(test['Hour']==24.0, 1,0)"
   ]
  },
  {
   "cell_type": "code",
   "execution_count": 33,
   "metadata": {
    "collapsed": true
   },
   "outputs": [],
   "source": [
    "test.drop('Month', axis = 1, inplace = True)\n",
    "test.drop('Hour', axis = 1, inplace = True)\n",
    "test.drop('FF', axis = 1, inplace = True)\n",
    "test_id = test.pop('id')"
   ]
  },
  {
   "cell_type": "code",
   "execution_count": 34,
   "metadata": {
    "collapsed": true
   },
   "outputs": [],
   "source": [
    "xgtest = xgb.DMatrix(test)"
   ]
  },
  {
   "cell_type": "markdown",
   "metadata": {},
   "source": [
    "<H3>Predict on test set</H3>"
   ]
  },
  {
   "cell_type": "code",
   "execution_count": 35,
   "metadata": {
    "collapsed": true
   },
   "outputs": [],
   "source": [
    "pred1 = model_1_1.predict(xgtest)\n",
    "pred2 = model_1_2.predict(xgtest)"
   ]
  },
  {
   "cell_type": "code",
   "execution_count": 36,
   "metadata": {
    "collapsed": true
   },
   "outputs": [],
   "source": [
    "submission_1 = pd.DataFrame(columns = ['id', 'pred1', 'pred2', 'FF'])"
   ]
  },
  {
   "cell_type": "code",
   "execution_count": 37,
   "metadata": {
    "collapsed": true
   },
   "outputs": [],
   "source": [
    "submission_1['id'] = test_id\n",
    "submission_1['pred1'] = pred1\n",
    "submission_1['pred2'] = pred2\n",
    "submission_1['FF'] = (submission_1['pred1']+submission_1['pred2'])/2.0"
   ]
  },
  {
   "cell_type": "code",
   "execution_count": 38,
   "metadata": {
    "collapsed": true
   },
   "outputs": [],
   "source": [
    "submission_1.drop('pred1', axis = 1, inplace = True)\n",
    "submission_1.drop('pred2', axis = 1, inplace = True)"
   ]
  },
  {
   "cell_type": "code",
   "execution_count": 39,
   "metadata": {
    "collapsed": true
   },
   "outputs": [],
   "source": [
    "submission_1.to_csv('0819\\\\submission_1.csv', index = False)"
   ]
  },
  {
   "cell_type": "code",
   "execution_count": 40,
   "metadata": {
    "collapsed": true
   },
   "outputs": [],
   "source": [
    "feat_imp_1 = pd.Series(model_1_1.get_fscore()).sort_values(ascending=False)\n",
    "feat_imp_2 = pd.Series(model_1_2.get_fscore()).sort_values(ascending=False)"
   ]
  },
  {
   "cell_type": "code",
   "execution_count": 41,
   "metadata": {
    "collapsed": true
   },
   "outputs": [],
   "source": [
    "%matplotlib inline"
   ]
  },
  {
   "cell_type": "code",
   "execution_count": 42,
   "metadata": {
    "collapsed": true
   },
   "outputs": [],
   "source": [
    "feat_imp_1.to_csv('feat_imp_1_1.csv')\n",
    "feat_imp_2.to_csv('feat_imp_1_2.csv')"
   ]
  },
  {
   "cell_type": "code",
   "execution_count": 43,
   "metadata": {
    "collapsed": false
   },
   "outputs": [
    {
     "data": {
      "text/plain": [
       "<matplotlib.text.Text at 0x12f839b0>"
      ]
     },
     "execution_count": 43,
     "metadata": {},
     "output_type": "execute_result"
    },
    {
     "data": {
      "image/png": "[encoded data removed]",
      "text/plain": [
       "<matplotlib.figure.Figure at 0xde85e80>"
      ]
     },
     "metadata": {},
     "output_type": "display_data"
    }
   ],
   "source": [
    "feat_imp_1[:25].plot(kind='bar', title='Feature Importances')\n",
    "plt.ylabel('Feature Importance Score')"
   ]
  },
  {
   "cell_type": "code",
   "execution_count": 44,
   "metadata": {
    "collapsed": false
   },
   "outputs": [
    {
     "data": {
      "text/plain": [
       "<matplotlib.text.Text at 0x2f384fd0>"
      ]
     },
     "execution_count": 44,
     "metadata": {},
     "output_type": "execute_result"
    },
    {
     "data": {
      "image/png": "[encoded data removed]",
      "text/plain": [
       "<matplotlib.figure.Figure at 0x87014160>"
      ]
     },
     "metadata": {},
     "output_type": "display_data"
    }
   ],
   "source": [
    "feat_imp_2[:25].plot(kind='bar', title='Feature Importances')\n",
    "plt.ylabel('Feature Importance Score')"
   ]
  }
 ],
 "metadata": {
  "kernelspec": {
   "display_name": "Python 2",
   "language": "python",
   "name": "python2"
  },
  "language_info": {
   "codemirror_mode": {
    "name": "ipython",
    "version": 2
   },
   "file_extension": ".py",
   "mimetype": "text/x-python",
   "name": "python",
   "nbconvert_exporter": "python",
   "pygments_lexer": "ipython2",
   "version": "2.7.11"
  }
 },
 "nbformat": 4,
 "nbformat_minor": 0
}
