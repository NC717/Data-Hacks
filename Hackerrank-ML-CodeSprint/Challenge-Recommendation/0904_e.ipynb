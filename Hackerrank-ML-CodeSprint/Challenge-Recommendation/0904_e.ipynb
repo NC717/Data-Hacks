{
 "cells": [
  {
   "cell_type": "markdown",
   "metadata": {},
   "source": [
    "<H3>Load libraries</H3>"
   ]
  },
  {
   "cell_type": "code",
   "execution_count": 1,
   "metadata": {
    "collapsed": true
   },
   "outputs": [],
   "source": [
    "import numpy as np\n",
    "import os\n",
    "import random\n",
    "import matplotlib.pyplot as plt\n",
    "import pandas as pd\n",
    "import gc\n",
    "from sklearn.cross_validation import KFold\n",
    "\n",
    "import graphlab as gl"
   ]
  },
  {
   "cell_type": "markdown",
   "metadata": {},
   "source": [
    "<H3>Load submissions data</H3>"
   ]
  },
  {
   "cell_type": "code",
   "execution_count": 2,
   "metadata": {
    "collapsed": true
   },
   "outputs": [],
   "source": [
    "submissions = pd.read_csv('submissions.csv')"
   ]
  },
  {
   "cell_type": "code",
   "execution_count": 3,
   "metadata": {
    "collapsed": false
   },
   "outputs": [
    {
     "data": {
      "text/html": [
       "<div>\n",
       "<table border=\"1\" class=\"dataframe\">\n",
       "  <thead>\n",
       "    <tr style=\"text-align: right;\">\n",
       "      <th></th>\n",
       "      <th>hacker_id</th>\n",
       "      <th>contest_id</th>\n",
       "      <th>challenge_id</th>\n",
       "      <th>language</th>\n",
       "      <th>solved</th>\n",
       "      <th>created_at</th>\n",
       "    </tr>\n",
       "  </thead>\n",
       "  <tbody>\n",
       "    <tr>\n",
       "      <th>0</th>\n",
       "      <td>56d47667c6a9242e</td>\n",
       "      <td>c8ff662c97d345d2</td>\n",
       "      <td>6d95afeb4d968b91</td>\n",
       "      <td>java</td>\n",
       "      <td>0</td>\n",
       "      <td>2011-08-07 00:36:53 UTC</td>\n",
       "    </tr>\n",
       "    <tr>\n",
       "      <th>1</th>\n",
       "      <td>56d47667c6a9242e</td>\n",
       "      <td>c8ff662c97d345d2</td>\n",
       "      <td>6d95afeb4d968b91</td>\n",
       "      <td>java</td>\n",
       "      <td>0</td>\n",
       "      <td>2011-08-07 00:38:45 UTC</td>\n",
       "    </tr>\n",
       "    <tr>\n",
       "      <th>2</th>\n",
       "      <td>56d47667c6a9242e</td>\n",
       "      <td>c8ff662c97d345d2</td>\n",
       "      <td>6d95afeb4d968b91</td>\n",
       "      <td>java</td>\n",
       "      <td>0</td>\n",
       "      <td>2011-08-07 00:43:49 UTC</td>\n",
       "    </tr>\n",
       "    <tr>\n",
       "      <th>3</th>\n",
       "      <td>56d47667c6a9242e</td>\n",
       "      <td>c8ff662c97d345d2</td>\n",
       "      <td>6d95afeb4d968b91</td>\n",
       "      <td>java</td>\n",
       "      <td>0</td>\n",
       "      <td>2011-08-07 00:52:34 UTC</td>\n",
       "    </tr>\n",
       "    <tr>\n",
       "      <th>4</th>\n",
       "      <td>56d47667c6a9242e</td>\n",
       "      <td>c8ff662c97d345d2</td>\n",
       "      <td>6d95afeb4d968b91</td>\n",
       "      <td>java</td>\n",
       "      <td>0</td>\n",
       "      <td>2011-08-07 00:56:52 UTC</td>\n",
       "    </tr>\n",
       "  </tbody>\n",
       "</table>\n",
       "</div>"
      ],
      "text/plain": [
       "          hacker_id        contest_id      challenge_id language  solved  \\\n",
       "0  56d47667c6a9242e  c8ff662c97d345d2  6d95afeb4d968b91     java       0   \n",
       "1  56d47667c6a9242e  c8ff662c97d345d2  6d95afeb4d968b91     java       0   \n",
       "2  56d47667c6a9242e  c8ff662c97d345d2  6d95afeb4d968b91     java       0   \n",
       "3  56d47667c6a9242e  c8ff662c97d345d2  6d95afeb4d968b91     java       0   \n",
       "4  56d47667c6a9242e  c8ff662c97d345d2  6d95afeb4d968b91     java       0   \n",
       "\n",
       "                created_at  \n",
       "0  2011-08-07 00:36:53 UTC  \n",
       "1  2011-08-07 00:38:45 UTC  \n",
       "2  2011-08-07 00:43:49 UTC  \n",
       "3  2011-08-07 00:52:34 UTC  \n",
       "4  2011-08-07 00:56:52 UTC  "
      ]
     },
     "execution_count": 3,
     "metadata": {},
     "output_type": "execute_result"
    }
   ],
   "source": [
    "submissions.head()"
   ]
  },
  {
   "cell_type": "code",
   "execution_count": 4,
   "metadata": {
    "collapsed": false
   },
   "outputs": [],
   "source": [
    "sub1 = submissions[['hacker_id', 'contest_id', 'challenge_id', 'solved']]"
   ]
  },
  {
   "cell_type": "code",
   "execution_count": 5,
   "metadata": {
    "collapsed": true
   },
   "outputs": [],
   "source": [
    "sub1 = sub1[sub1['contest_id']=='c8ff662c97d345d2']"
   ]
  },
  {
   "cell_type": "code",
   "execution_count": 6,
   "metadata": {
    "collapsed": true
   },
   "outputs": [],
   "source": [
    "sub1.drop('contest_id', axis = 1, inplace = True)"
   ]
  },
  {
   "cell_type": "code",
   "execution_count": 7,
   "metadata": {
    "collapsed": false
   },
   "outputs": [],
   "source": [
    "sub1['final_solved'] = sub1.groupby(['hacker_id', 'challenge_id'])['solved'].transform('max')"
   ]
  },
  {
   "cell_type": "code",
   "execution_count": 8,
   "metadata": {
    "collapsed": false
   },
   "outputs": [],
   "source": [
    "sub1.drop('solved', axis = 1, inplace = True)"
   ]
  },
  {
   "cell_type": "code",
   "execution_count": 9,
   "metadata": {
    "collapsed": true
   },
   "outputs": [],
   "source": [
    "sub1 = sub1[sub1['final_solved']==0]"
   ]
  },
  {
   "cell_type": "code",
   "execution_count": 10,
   "metadata": {
    "collapsed": true
   },
   "outputs": [],
   "source": [
    "sub1 = sub1.drop_duplicates()"
   ]
  },
  {
   "cell_type": "code",
   "execution_count": 11,
   "metadata": {
    "collapsed": false
   },
   "outputs": [
    {
     "data": {
      "text/plain": [
       "(13247, 3)"
      ]
     },
     "execution_count": 11,
     "metadata": {},
     "output_type": "execute_result"
    }
   ],
   "source": [
    "sub1.shape"
   ]
  },
  {
   "cell_type": "markdown",
   "metadata": {},
   "source": [
    "<H3>Taking a subset of challenges in the contest c8ff662c97d345d2 which were attempted but not solved by hackers</H3>"
   ]
  },
  {
   "cell_type": "code",
   "execution_count": 12,
   "metadata": {
    "collapsed": false
   },
   "outputs": [
    {
     "data": {
      "text/html": [
       "<div>\n",
       "<table border=\"1\" class=\"dataframe\">\n",
       "  <thead>\n",
       "    <tr style=\"text-align: right;\">\n",
       "      <th></th>\n",
       "      <th>hacker_id</th>\n",
       "      <th>challenge_id</th>\n",
       "      <th>final_solved</th>\n",
       "    </tr>\n",
       "  </thead>\n",
       "  <tbody>\n",
       "    <tr>\n",
       "      <th>0</th>\n",
       "      <td>56d47667c6a9242e</td>\n",
       "      <td>6d95afeb4d968b91</td>\n",
       "      <td>0</td>\n",
       "    </tr>\n",
       "    <tr>\n",
       "      <th>10</th>\n",
       "      <td>661657184c3d9218</td>\n",
       "      <td>6d95afeb4d968b91</td>\n",
       "      <td>0</td>\n",
       "    </tr>\n",
       "    <tr>\n",
       "      <th>11</th>\n",
       "      <td>05d5253080e43d9f</td>\n",
       "      <td>a4d04413ee4b0b24</td>\n",
       "      <td>0</td>\n",
       "    </tr>\n",
       "    <tr>\n",
       "      <th>12</th>\n",
       "      <td>661657184c3d9218</td>\n",
       "      <td>a4d04413ee4b0b24</td>\n",
       "      <td>0</td>\n",
       "    </tr>\n",
       "    <tr>\n",
       "      <th>14</th>\n",
       "      <td>661657184c3d9218</td>\n",
       "      <td>127df5e318d03214</td>\n",
       "      <td>0</td>\n",
       "    </tr>\n",
       "  </tbody>\n",
       "</table>\n",
       "</div>"
      ],
      "text/plain": [
       "           hacker_id      challenge_id  final_solved\n",
       "0   56d47667c6a9242e  6d95afeb4d968b91             0\n",
       "10  661657184c3d9218  6d95afeb4d968b91             0\n",
       "11  05d5253080e43d9f  a4d04413ee4b0b24             0\n",
       "12  661657184c3d9218  a4d04413ee4b0b24             0\n",
       "14  661657184c3d9218  127df5e318d03214             0"
      ]
     },
     "execution_count": 12,
     "metadata": {},
     "output_type": "execute_result"
    }
   ],
   "source": [
    "sub1.head()"
   ]
  },
  {
   "cell_type": "code",
   "execution_count": 13,
   "metadata": {
    "collapsed": true
   },
   "outputs": [],
   "source": [
    "sub2 = submissions[['hacker_id', 'challenge_id', 'created_at']]"
   ]
  },
  {
   "cell_type": "code",
   "execution_count": 14,
   "metadata": {
    "collapsed": true
   },
   "outputs": [],
   "source": [
    "sub1 = pd.merge(sub1, sub2, on = ['hacker_id', 'challenge_id'], how = 'left')"
   ]
  },
  {
   "cell_type": "code",
   "execution_count": 16,
   "metadata": {
    "collapsed": false
   },
   "outputs": [],
   "source": [
    "sub1['time'] = sub1.groupby(['hacker_id', 'challenge_id'])['created_at'].transform('max')"
   ]
  },
  {
   "cell_type": "code",
   "execution_count": 18,
   "metadata": {
    "collapsed": false
   },
   "outputs": [],
   "source": [
    "sub1 = sub1[['hacker_id', 'challenge_id', 'time']]"
   ]
  },
  {
   "cell_type": "code",
   "execution_count": 20,
   "metadata": {
    "collapsed": false
   },
   "outputs": [],
   "source": [
    "sub1 = sub1.drop_duplicates().reset_index(drop = True)"
   ]
  },
  {
   "cell_type": "code",
   "execution_count": 21,
   "metadata": {
    "collapsed": false
   },
   "outputs": [
    {
     "data": {
      "text/plain": [
       "(13247, 3)"
      ]
     },
     "execution_count": 21,
     "metadata": {},
     "output_type": "execute_result"
    }
   ],
   "source": [
    "sub1.shape"
   ]
  },
  {
   "cell_type": "markdown",
   "metadata": {},
   "source": [
    "<H3>Sorting the unsolved challenges based on time</H3>"
   ]
  },
  {
   "cell_type": "code",
   "execution_count": 22,
   "metadata": {
    "collapsed": false
   },
   "outputs": [
    {
     "name": "stderr",
     "output_type": "stream",
     "text": [
      "C:\\Anaconda2\\envs\\gl-env\\lib\\site-packages\\ipykernel\\__main__.py:1: FutureWarning: sort(columns=....) is deprecated, use sort_values(by=.....)\n",
      "  if __name__ == '__main__':\n"
     ]
    }
   ],
   "source": [
    "sub1 = sub1.sort(['hacker_id', 'time'], ascending = [False, False])"
   ]
  },
  {
   "cell_type": "code",
   "execution_count": 23,
   "metadata": {
    "collapsed": false
   },
   "outputs": [
    {
     "data": {
      "text/html": [
       "<div>\n",
       "<table border=\"1\" class=\"dataframe\">\n",
       "  <thead>\n",
       "    <tr style=\"text-align: right;\">\n",
       "      <th></th>\n",
       "      <th>hacker_id</th>\n",
       "      <th>challenge_id</th>\n",
       "      <th>time</th>\n",
       "    </tr>\n",
       "  </thead>\n",
       "  <tbody>\n",
       "    <tr>\n",
       "      <th>11231</th>\n",
       "      <td>fffcfd13f3e0969d</td>\n",
       "      <td>7b6a8414a1e8273c</td>\n",
       "      <td>2016-07-01 03:43:06 UTC</td>\n",
       "    </tr>\n",
       "    <tr>\n",
       "      <th>10522</th>\n",
       "      <td>fffcfd13f3e0969d</td>\n",
       "      <td>659f2ceb67eca1ef</td>\n",
       "      <td>2016-06-10 13:06:39 UTC</td>\n",
       "    </tr>\n",
       "    <tr>\n",
       "      <th>5352</th>\n",
       "      <td>ffe228e656e5cbbd</td>\n",
       "      <td>659f2ceb67eca1ef</td>\n",
       "      <td>2015-09-21 14:46:39 UTC</td>\n",
       "    </tr>\n",
       "    <tr>\n",
       "      <th>5350</th>\n",
       "      <td>ffe228e656e5cbbd</td>\n",
       "      <td>10fbfe48f770e0e9</td>\n",
       "      <td>2015-09-21 14:07:12 UTC</td>\n",
       "    </tr>\n",
       "    <tr>\n",
       "      <th>10609</th>\n",
       "      <td>ffe0dff4db6deb6e</td>\n",
       "      <td>7de92abeb686999e</td>\n",
       "      <td>2016-06-13 16:47:44 UTC</td>\n",
       "    </tr>\n",
       "    <tr>\n",
       "      <th>10473</th>\n",
       "      <td>ffe0dff4db6deb6e</td>\n",
       "      <td>9aba48565107d1ce</td>\n",
       "      <td>2016-06-09 04:48:06 UTC</td>\n",
       "    </tr>\n",
       "    <tr>\n",
       "      <th>12891</th>\n",
       "      <td>ffcae6424b43fbb2</td>\n",
       "      <td>59ec55c0e537bfcf</td>\n",
       "      <td>2016-08-13 04:54:17 UTC</td>\n",
       "    </tr>\n",
       "    <tr>\n",
       "      <th>1283</th>\n",
       "      <td>ffc55c6b4fd6753d</td>\n",
       "      <td>5f6525508e7e07b7</td>\n",
       "      <td>2014-07-02 01:34:11 UTC</td>\n",
       "    </tr>\n",
       "    <tr>\n",
       "      <th>1260</th>\n",
       "      <td>ffc55c6b4fd6753d</td>\n",
       "      <td>1e5b724075cd3d1e</td>\n",
       "      <td>2014-06-25 13:35:42 UTC</td>\n",
       "    </tr>\n",
       "    <tr>\n",
       "      <th>5389</th>\n",
       "      <td>ffb87a9ca8233500</td>\n",
       "      <td>daaa4f5cca620546</td>\n",
       "      <td>2015-09-23 17:38:11 UTC</td>\n",
       "    </tr>\n",
       "  </tbody>\n",
       "</table>\n",
       "</div>"
      ],
      "text/plain": [
       "              hacker_id      challenge_id                     time\n",
       "11231  fffcfd13f3e0969d  7b6a8414a1e8273c  2016-07-01 03:43:06 UTC\n",
       "10522  fffcfd13f3e0969d  659f2ceb67eca1ef  2016-06-10 13:06:39 UTC\n",
       "5352   ffe228e656e5cbbd  659f2ceb67eca1ef  2015-09-21 14:46:39 UTC\n",
       "5350   ffe228e656e5cbbd  10fbfe48f770e0e9  2015-09-21 14:07:12 UTC\n",
       "10609  ffe0dff4db6deb6e  7de92abeb686999e  2016-06-13 16:47:44 UTC\n",
       "10473  ffe0dff4db6deb6e  9aba48565107d1ce  2016-06-09 04:48:06 UTC\n",
       "12891  ffcae6424b43fbb2  59ec55c0e537bfcf  2016-08-13 04:54:17 UTC\n",
       "1283   ffc55c6b4fd6753d  5f6525508e7e07b7  2014-07-02 01:34:11 UTC\n",
       "1260   ffc55c6b4fd6753d  1e5b724075cd3d1e  2014-06-25 13:35:42 UTC\n",
       "5389   ffb87a9ca8233500  daaa4f5cca620546  2015-09-23 17:38:11 UTC"
      ]
     },
     "execution_count": 23,
     "metadata": {},
     "output_type": "execute_result"
    }
   ],
   "source": [
    "sub1.head(10)"
   ]
  },
  {
   "cell_type": "code",
   "execution_count": 24,
   "metadata": {
    "collapsed": true
   },
   "outputs": [],
   "source": [
    "unsolve_hacker_list = list(sub1['hacker_id'].unique())"
   ]
  },
  {
   "cell_type": "code",
   "execution_count": 25,
   "metadata": {
    "collapsed": false
   },
   "outputs": [
    {
     "data": {
      "text/plain": [
       "5809"
      ]
     },
     "execution_count": 25,
     "metadata": {},
     "output_type": "execute_result"
    }
   ],
   "source": [
    "len(unsolve_hacker_list)"
   ]
  },
  {
   "cell_type": "markdown",
   "metadata": {},
   "source": [
    "<H3>Load challenges data</H3>"
   ]
  },
  {
   "cell_type": "code",
   "execution_count": 26,
   "metadata": {
    "collapsed": true
   },
   "outputs": [],
   "source": [
    "challenges = pd.read_csv('challenges.csv')"
   ]
  },
  {
   "cell_type": "code",
   "execution_count": 27,
   "metadata": {
    "collapsed": true
   },
   "outputs": [],
   "source": [
    "user_list = list(submissions['hacker_id'].unique())"
   ]
  },
  {
   "cell_type": "markdown",
   "metadata": {},
   "source": [
    "<H3>Create an SFrame</H3>"
   ]
  },
  {
   "cell_type": "code",
   "execution_count": 28,
   "metadata": {
    "collapsed": false
   },
   "outputs": [
    {
     "name": "stderr",
     "output_type": "stream",
     "text": [
      "[INFO] graphlab.cython.cy_server: GraphLab Create v2.1 started. Logging: C:\\Users\\ERNEST~1.S\\AppData\\Local\\Temp\\graphlab_server_1473014713.log.0\n"
     ]
    },
    {
     "name": "stdout",
     "output_type": "stream",
     "text": [
      "This non-commercial license of GraphLab Create for academic use is assigned to ernest.kirubakaran@gmail.com and will expire on August 31, 2017.\n"
     ]
    }
   ],
   "source": [
    "train_data = gl.SFrame(submissions[submissions['solved']==1])"
   ]
  },
  {
   "cell_type": "markdown",
   "metadata": {},
   "source": [
    "<H3>Train the model</H3>"
   ]
  },
  {
   "cell_type": "code",
   "execution_count": 29,
   "metadata": {
    "collapsed": false
   },
   "outputs": [
    {
     "data": {
      "text/html": [
       "<pre>Recsys training: model = item_similarity</pre>"
      ],
      "text/plain": [
       "Recsys training: model = item_similarity"
      ]
     },
     "metadata": {},
     "output_type": "display_data"
    },
    {
     "data": {
      "text/html": [
       "<pre>Warning: Ignoring columns contest_id, language, solved, created_at;</pre>"
      ],
      "text/plain": [
       "Warning: Ignoring columns contest_id, language, solved, created_at;"
      ]
     },
     "metadata": {},
     "output_type": "display_data"
    },
    {
     "data": {
      "text/html": [
       "<pre>    To use one of these as a target column, set target = <column_name></pre>"
      ],
      "text/plain": [
       "    To use one of these as a target column, set target = <column_name>"
      ]
     },
     "metadata": {},
     "output_type": "display_data"
    },
    {
     "data": {
      "text/html": [
       "<pre>    and use a method that allows the use of a target.</pre>"
      ],
      "text/plain": [
       "    and use a method that allows the use of a target."
      ]
     },
     "metadata": {},
     "output_type": "display_data"
    },
    {
     "data": {
      "text/html": [
       "<pre>Preparing data set.</pre>"
      ],
      "text/plain": [
       "Preparing data set."
      ]
     },
     "metadata": {},
     "output_type": "display_data"
    },
    {
     "data": {
      "text/html": [
       "<pre>    Data has 150995 observations with 9289 users and 1906 items.</pre>"
      ],
      "text/plain": [
       "    Data has 150995 observations with 9289 users and 1906 items."
      ]
     },
     "metadata": {},
     "output_type": "display_data"
    },
    {
     "data": {
      "text/html": [
       "<pre>    Data prepared in: 0.18513s</pre>"
      ],
      "text/plain": [
       "    Data prepared in: 0.18513s"
      ]
     },
     "metadata": {},
     "output_type": "display_data"
    },
    {
     "data": {
      "text/html": [
       "<pre>Training model from provided data.</pre>"
      ],
      "text/plain": [
       "Training model from provided data."
      ]
     },
     "metadata": {},
     "output_type": "display_data"
    },
    {
     "data": {
      "text/html": [
       "<pre>Gathering per-item and per-user statistics.</pre>"
      ],
      "text/plain": [
       "Gathering per-item and per-user statistics."
      ]
     },
     "metadata": {},
     "output_type": "display_data"
    },
    {
     "data": {
      "text/html": [
       "<pre>+--------------------------------+------------+</pre>"
      ],
      "text/plain": [
       "+--------------------------------+------------+"
      ]
     },
     "metadata": {},
     "output_type": "display_data"
    },
    {
     "data": {
      "text/html": [
       "<pre>| Elapsed Time (Item Statistics) | % Complete |</pre>"
      ],
      "text/plain": [
       "| Elapsed Time (Item Statistics) | % Complete |"
      ]
     },
     "metadata": {},
     "output_type": "display_data"
    },
    {
     "data": {
      "text/html": [
       "<pre>+--------------------------------+------------+</pre>"
      ],
      "text/plain": [
       "+--------------------------------+------------+"
      ]
     },
     "metadata": {},
     "output_type": "display_data"
    },
    {
     "data": {
      "text/html": [
       "<pre>| 2.002ms                        | 10.75      |</pre>"
      ],
      "text/plain": [
       "| 2.002ms                        | 10.75      |"
      ]
     },
     "metadata": {},
     "output_type": "display_data"
    },
    {
     "data": {
      "text/html": [
       "<pre>| 11.009ms                       | 100        |</pre>"
      ],
      "text/plain": [
       "| 11.009ms                       | 100        |"
      ]
     },
     "metadata": {},
     "output_type": "display_data"
    },
    {
     "data": {
      "text/html": [
       "<pre>+--------------------------------+------------+</pre>"
      ],
      "text/plain": [
       "+--------------------------------+------------+"
      ]
     },
     "metadata": {},
     "output_type": "display_data"
    },
    {
     "data": {
      "text/html": [
       "<pre>Setting up lookup tables.</pre>"
      ],
      "text/plain": [
       "Setting up lookup tables."
      ]
     },
     "metadata": {},
     "output_type": "display_data"
    },
    {
     "data": {
      "text/html": [
       "<pre>Processing data in one pass using dense lookup tables.</pre>"
      ],
      "text/plain": [
       "Processing data in one pass using dense lookup tables."
      ]
     },
     "metadata": {},
     "output_type": "display_data"
    },
    {
     "data": {
      "text/html": [
       "<pre>+-------------------------------------+------------------+-----------------+</pre>"
      ],
      "text/plain": [
       "+-------------------------------------+------------------+-----------------+"
      ]
     },
     "metadata": {},
     "output_type": "display_data"
    },
    {
     "data": {
      "text/html": [
       "<pre>| Elapsed Time (Constructing Lookups) | Total % Complete | Items Processed |</pre>"
      ],
      "text/plain": [
       "| Elapsed Time (Constructing Lookups) | Total % Complete | Items Processed |"
      ]
     },
     "metadata": {},
     "output_type": "display_data"
    },
    {
     "data": {
      "text/html": [
       "<pre>+-------------------------------------+------------------+-----------------+</pre>"
      ],
      "text/plain": [
       "+-------------------------------------+------------------+-----------------+"
      ]
     },
     "metadata": {},
     "output_type": "display_data"
    },
    {
     "data": {
      "text/html": [
       "<pre>| 32.026ms                            | 0                | 0               |</pre>"
      ],
      "text/plain": [
       "| 32.026ms                            | 0                | 0               |"
      ]
     },
     "metadata": {},
     "output_type": "display_data"
    },
    {
     "data": {
      "text/html": [
       "<pre>| 175.123ms                           | 100              | 1906            |</pre>"
      ],
      "text/plain": [
       "| 175.123ms                           | 100              | 1906            |"
      ]
     },
     "metadata": {},
     "output_type": "display_data"
    },
    {
     "data": {
      "text/html": [
       "<pre>+-------------------------------------+------------------+-----------------+</pre>"
      ],
      "text/plain": [
       "+-------------------------------------+------------------+-----------------+"
      ]
     },
     "metadata": {},
     "output_type": "display_data"
    },
    {
     "data": {
      "text/html": [
       "<pre>Finalizing lookup tables.</pre>"
      ],
      "text/plain": [
       "Finalizing lookup tables."
      ]
     },
     "metadata": {},
     "output_type": "display_data"
    },
    {
     "data": {
      "text/html": [
       "<pre>Generating candidate set for working with new users.</pre>"
      ],
      "text/plain": [
       "Generating candidate set for working with new users."
      ]
     },
     "metadata": {},
     "output_type": "display_data"
    },
    {
     "data": {
      "text/html": [
       "<pre>Finished training in 1.18956s</pre>"
      ],
      "text/plain": [
       "Finished training in 1.18956s"
      ]
     },
     "metadata": {},
     "output_type": "display_data"
    }
   ],
   "source": [
    "model = gl.item_similarity_recommender.create(train_data, user_id = 'hacker_id', item_id= 'challenge_id', similarity_type='jaccard')"
   ]
  },
  {
   "cell_type": "markdown",
   "metadata": {},
   "source": [
    "<H3>Get recommendations for users</H3>"
   ]
  },
  {
   "cell_type": "code",
   "execution_count": 30,
   "metadata": {
    "collapsed": false
   },
   "outputs": [
    {
     "data": {
      "text/html": [
       "<pre>recommendations finished on 1000/10000 queries. users per second: 39971.2</pre>"
      ],
      "text/plain": [
       "recommendations finished on 1000/10000 queries. users per second: 39971.2"
      ]
     },
     "metadata": {},
     "output_type": "display_data"
    },
    {
     "data": {
      "text/html": [
       "<pre>recommendations finished on 2000/10000 queries. users per second: 39188</pre>"
      ],
      "text/plain": [
       "recommendations finished on 2000/10000 queries. users per second: 39188"
      ]
     },
     "metadata": {},
     "output_type": "display_data"
    },
    {
     "data": {
      "text/html": [
       "<pre>recommendations finished on 3000/10000 queries. users per second: 37473.8</pre>"
      ],
      "text/plain": [
       "recommendations finished on 3000/10000 queries. users per second: 37473.8"
      ]
     },
     "metadata": {},
     "output_type": "display_data"
    },
    {
     "data": {
      "text/html": [
       "<pre>recommendations finished on 4000/10000 queries. users per second: 36671.3</pre>"
      ],
      "text/plain": [
       "recommendations finished on 4000/10000 queries. users per second: 36671.3"
      ]
     },
     "metadata": {},
     "output_type": "display_data"
    },
    {
     "data": {
      "text/html": [
       "<pre>recommendations finished on 5000/10000 queries. users per second: 36206.4</pre>"
      ],
      "text/plain": [
       "recommendations finished on 5000/10000 queries. users per second: 36206.4"
      ]
     },
     "metadata": {},
     "output_type": "display_data"
    },
    {
     "data": {
      "text/html": [
       "<pre>recommendations finished on 6000/10000 queries. users per second: 35478</pre>"
      ],
      "text/plain": [
       "recommendations finished on 6000/10000 queries. users per second: 35478"
      ]
     },
     "metadata": {},
     "output_type": "display_data"
    },
    {
     "data": {
      "text/html": [
       "<pre>recommendations finished on 7000/10000 queries. users per second: 35507.9</pre>"
      ],
      "text/plain": [
       "recommendations finished on 7000/10000 queries. users per second: 35507.9"
      ]
     },
     "metadata": {},
     "output_type": "display_data"
    },
    {
     "data": {
      "text/html": [
       "<pre>recommendations finished on 8000/10000 queries. users per second: 34458.3</pre>"
      ],
      "text/plain": [
       "recommendations finished on 8000/10000 queries. users per second: 34458.3"
      ]
     },
     "metadata": {},
     "output_type": "display_data"
    },
    {
     "data": {
      "text/html": [
       "<pre>recommendations finished on 9000/10000 queries. users per second: 34994.7</pre>"
      ],
      "text/plain": [
       "recommendations finished on 9000/10000 queries. users per second: 34994.7"
      ]
     },
     "metadata": {},
     "output_type": "display_data"
    },
    {
     "data": {
      "text/html": [
       "<pre>recommendations finished on 10000/10000 queries. users per second: 32444.6</pre>"
      ],
      "text/plain": [
       "recommendations finished on 10000/10000 queries. users per second: 32444.6"
      ]
     },
     "metadata": {},
     "output_type": "display_data"
    }
   ],
   "source": [
    "recommendation = model.recommend(users = user_list, k = 50)"
   ]
  },
  {
   "cell_type": "code",
   "execution_count": 31,
   "metadata": {
    "collapsed": true
   },
   "outputs": [],
   "source": [
    "challenge_contest = challenges[['challenge_id', 'contest_id']]"
   ]
  },
  {
   "cell_type": "code",
   "execution_count": 32,
   "metadata": {
    "collapsed": true
   },
   "outputs": [],
   "source": [
    "challenge_contest = challenge_contest.drop_duplicates()"
   ]
  },
  {
   "cell_type": "code",
   "execution_count": 33,
   "metadata": {
    "collapsed": true
   },
   "outputs": [],
   "source": [
    "recommendation_df = recommendation.to_dataframe()"
   ]
  },
  {
   "cell_type": "code",
   "execution_count": 34,
   "metadata": {
    "collapsed": false
   },
   "outputs": [],
   "source": [
    "recommendation_df = pd.merge(recommendation_df, challenge_contest, on = 'challenge_id', how = 'left')"
   ]
  },
  {
   "cell_type": "markdown",
   "metadata": {},
   "source": [
    "<H3>Keep only valid challenges in the recommendations</H3>"
   ]
  },
  {
   "cell_type": "code",
   "execution_count": 35,
   "metadata": {
    "collapsed": true
   },
   "outputs": [],
   "source": [
    "recommendation_df = recommendation_df[recommendation_df['contest_id'] == 'c8ff662c97d345d2']"
   ]
  },
  {
   "cell_type": "code",
   "execution_count": 36,
   "metadata": {
    "collapsed": false
   },
   "outputs": [
    {
     "data": {
      "text/plain": [
       "(484380, 5)"
      ]
     },
     "execution_count": 36,
     "metadata": {},
     "output_type": "execute_result"
    }
   ],
   "source": [
    "recommendation_df.shape"
   ]
  },
  {
   "cell_type": "code",
   "execution_count": 37,
   "metadata": {
    "collapsed": true
   },
   "outputs": [],
   "source": [
    "recommendation_df.drop(['contest_id', 'rank'], axis = 1, inplace = True)"
   ]
  },
  {
   "cell_type": "code",
   "execution_count": 38,
   "metadata": {
    "collapsed": true
   },
   "outputs": [],
   "source": [
    "recommendation_df['hacker_count'] = recommendation_df.groupby(['hacker_id'])['challenge_id'].transform('count')"
   ]
  },
  {
   "cell_type": "code",
   "execution_count": 39,
   "metadata": {
    "collapsed": false
   },
   "outputs": [
    {
     "data": {
      "text/plain": [
       "count    484380.000000\n",
       "mean         49.212098\n",
       "std           3.791646\n",
       "min           2.000000\n",
       "25%          50.000000\n",
       "50%          50.000000\n",
       "75%          50.000000\n",
       "max          50.000000\n",
       "Name: hacker_count, dtype: float64"
      ]
     },
     "execution_count": 39,
     "metadata": {},
     "output_type": "execute_result"
    }
   ],
   "source": [
    "recommendation_df['hacker_count'].describe()"
   ]
  },
  {
   "cell_type": "code",
   "execution_count": 40,
   "metadata": {
    "collapsed": true
   },
   "outputs": [],
   "source": [
    "recommendation_df['challenge_count'] = recommendation_df.groupby(['challenge_id'])['score'].transform('count')"
   ]
  },
  {
   "cell_type": "code",
   "execution_count": 41,
   "metadata": {
    "collapsed": true
   },
   "outputs": [],
   "source": [
    "chal_counts = set(list(recommendation_df['challenge_count']))"
   ]
  },
  {
   "cell_type": "markdown",
   "metadata": {},
   "source": [
    "<H3>Get top 10 challenges in the prediction</H3>"
   ]
  },
  {
   "cell_type": "code",
   "execution_count": 42,
   "metadata": {
    "collapsed": false
   },
   "outputs": [],
   "source": [
    "top_challenges = []\n",
    "for i in (sorted(chal_counts)[-10:]):\n",
    "    j = recommendation_df[recommendation_df['challenge_count']==i].head(1)['challenge_id'].values[0]\n",
    "    top_challenges.append(j)"
   ]
  },
  {
   "cell_type": "code",
   "execution_count": 43,
   "metadata": {
    "collapsed": false
   },
   "outputs": [
    {
     "data": {
      "text/plain": [
       "['9580a525da7618e9',\n",
       " '34386eca594b7bc2',\n",
       " 'a8fa4ef7a8bc43dc',\n",
       " '32863af4fa5c200b',\n",
       " 'b49bb8ec9c2b8481',\n",
       " '286001f675d5dc00',\n",
       " '76fba8ff25f765b6',\n",
       " '425f241df843cd89',\n",
       " '26c95b75d8237f39',\n",
       " '14494ad91c883fa1']"
      ]
     },
     "execution_count": 43,
     "metadata": {},
     "output_type": "execute_result"
    }
   ],
   "source": [
    "top_challenges"
   ]
  },
  {
   "cell_type": "markdown",
   "metadata": {},
   "source": [
    "<H3>Find out hackers for whom the number of predictions is less than 10</H3>"
   ]
  },
  {
   "cell_type": "code",
   "execution_count": 44,
   "metadata": {
    "collapsed": true
   },
   "outputs": [],
   "source": [
    "less_hackers = recommendation_df[recommendation_df['hacker_count'] < 10]"
   ]
  },
  {
   "cell_type": "code",
   "execution_count": 45,
   "metadata": {
    "collapsed": true
   },
   "outputs": [],
   "source": [
    "less_hacker_list = list(less_hackers['hacker_id'].unique())"
   ]
  },
  {
   "cell_type": "code",
   "execution_count": 46,
   "metadata": {
    "collapsed": false
   },
   "outputs": [
    {
     "data": {
      "text/plain": [
       "48"
      ]
     },
     "execution_count": 46,
     "metadata": {},
     "output_type": "execute_result"
    }
   ],
   "source": [
    "len(less_hacker_list)"
   ]
  },
  {
   "cell_type": "code",
   "execution_count": 47,
   "metadata": {
    "collapsed": true
   },
   "outputs": [],
   "source": [
    "pred_hacker_list = list(recommendation_df['hacker_id'].unique())"
   ]
  },
  {
   "cell_type": "code",
   "execution_count": 48,
   "metadata": {
    "collapsed": false
   },
   "outputs": [
    {
     "data": {
      "text/plain": [
       "9998"
      ]
     },
     "execution_count": 48,
     "metadata": {},
     "output_type": "execute_result"
    }
   ],
   "source": [
    "len(pred_hacker_list)"
   ]
  },
  {
   "cell_type": "code",
   "execution_count": 49,
   "metadata": {
    "collapsed": true
   },
   "outputs": [],
   "source": [
    "total_hacker_list = list(submissions['hacker_id'].unique())"
   ]
  },
  {
   "cell_type": "markdown",
   "metadata": {},
   "source": [
    "<H3>Hackers for whom no recommendation was made</H3>"
   ]
  },
  {
   "cell_type": "code",
   "execution_count": 50,
   "metadata": {
    "collapsed": true
   },
   "outputs": [],
   "source": [
    "missing_hacker_list = [i for i in total_hacker_list if i not in pred_hacker_list]"
   ]
  },
  {
   "cell_type": "code",
   "execution_count": 51,
   "metadata": {
    "collapsed": false
   },
   "outputs": [
    {
     "data": {
      "text/plain": [
       "['14128435fc0eb297', 'd639fbb774b9d862']"
      ]
     },
     "execution_count": 51,
     "metadata": {},
     "output_type": "execute_result"
    }
   ],
   "source": [
    "missing_hacker_list"
   ]
  },
  {
   "cell_type": "markdown",
   "metadata": {},
   "source": [
    "<H3>Hackers for whom 10 recommendations are available</H3>"
   ]
  },
  {
   "cell_type": "code",
   "execution_count": 52,
   "metadata": {
    "collapsed": true
   },
   "outputs": [],
   "source": [
    "pred_hacker_list = [i for i in pred_hacker_list if i not in less_hacker_list]"
   ]
  },
  {
   "cell_type": "code",
   "execution_count": 53,
   "metadata": {
    "collapsed": false
   },
   "outputs": [
    {
     "data": {
      "text/plain": [
       "9950"
      ]
     },
     "execution_count": 53,
     "metadata": {},
     "output_type": "execute_result"
    }
   ],
   "source": [
    "len(pred_hacker_list)"
   ]
  },
  {
   "cell_type": "code",
   "execution_count": 54,
   "metadata": {
    "collapsed": true
   },
   "outputs": [],
   "source": [
    "recommendation_df.drop(['hacker_count', 'challenge_count'], axis = 1, inplace = True)"
   ]
  },
  {
   "cell_type": "code",
   "execution_count": 55,
   "metadata": {
    "collapsed": false
   },
   "outputs": [
    {
     "name": "stderr",
     "output_type": "stream",
     "text": [
      "C:\\Anaconda2\\envs\\gl-env\\lib\\site-packages\\ipykernel\\__main__.py:1: FutureWarning: sort(columns=....) is deprecated, use sort_values(by=.....)\n",
      "  if __name__ == '__main__':\n"
     ]
    }
   ],
   "source": [
    "recommendation_df = recommendation_df.sort(['hacker_id', 'score'], ascending = [False, False])"
   ]
  },
  {
   "cell_type": "markdown",
   "metadata": {},
   "source": [
    "<H3>Saving results for users having 10 recommendations</H3>\n",
    "<H4>Top two unsolved challenges are included for every user. The rest 8 recommendations are from the model</H4>"
   ]
  },
  {
   "cell_type": "code",
   "execution_count": 56,
   "metadata": {
    "collapsed": false
   },
   "outputs": [],
   "source": [
    "result = []\n",
    "for user in pred_hacker_list:\n",
    "    temp_df = recommendation_df[recommendation_df['hacker_id']==user].reset_index(drop = True)\n",
    "    if user in unsolve_hacker_list:\n",
    "        unsolve_list = list(sub1[sub1['hacker_id']==user]['challenge_id'].unique())\n",
    "        a = len(unsolve_list)\n",
    "        b = 0\n",
    "        if a > 2:\n",
    "            unsolve_list = unsolve_list[:2]\n",
    "        a = len(unsolve_list)\n",
    "        res = [user]\n",
    "        res = res + unsolve_list\n",
    "        while a < 10:\n",
    "            c = temp_df['challenge_id'][b]\n",
    "            if c not in unsolve_list:\n",
    "                res.append(c)\n",
    "                a += 1\n",
    "            b += 1\n",
    "    else:\n",
    "        res = [user]\n",
    "        for i in xrange(10):\n",
    "            res.append(temp_df['challenge_id'][i])\n",
    "    reso = res[0] + ',' + res[1] + ',' + res[2] + ',' + res[3] + ',' + res[4] + ',' + res[5] + ',' + res[6] + ',' + res[7] + ',' + res[8] + ',' + res[9] + ',' + res[10]\n",
    "    result.append(reso)      "
   ]
  },
  {
   "cell_type": "markdown",
   "metadata": {},
   "source": [
    "<H3>For users with less recommendations, top challenges in recommendations are added</H3>"
   ]
  },
  {
   "cell_type": "code",
   "execution_count": 57,
   "metadata": {
    "collapsed": false
   },
   "outputs": [],
   "source": [
    "for user in less_hacker_list:\n",
    "    temp_df = recommendation_df[recommendation_df['hacker_id']==user].reset_index(drop = True)\n",
    "    res = [user]\n",
    "    res = res + list(temp_df['challenge_id'])\n",
    "    a = (len(res) -1)\n",
    "    while a < 10:\n",
    "        res.append(top_challenges[a])\n",
    "        a += 1\n",
    "    reso = res[0] + ',' + res[1] + ',' + res[2] + ',' + res[3] + ',' + res[4] + ',' + res[5] + ',' + res[6] + ',' + res[7] + ',' + res[8] + ',' + res[9] + ',' + res[10]\n",
    "    result.append(reso)      "
   ]
  },
  {
   "cell_type": "code",
   "execution_count": 58,
   "metadata": {
    "collapsed": false
   },
   "outputs": [],
   "source": [
    "for user in missing_hacker_list:\n",
    "    res = [user] + top_challenges\n",
    "    reso = res[0] + ',' + res[1] + ',' + res[2] + ',' + res[3] + ',' + res[4] + ',' + res[5] + ',' + res[6] + ',' + res[7] + ',' + res[8] + ',' + res[9] + ',' + res[10]\n",
    "    result.append(reso)"
   ]
  },
  {
   "cell_type": "code",
   "execution_count": 59,
   "metadata": {
    "collapsed": true
   },
   "outputs": [],
   "source": [
    "result = pd.DataFrame(result)"
   ]
  },
  {
   "cell_type": "code",
   "execution_count": 60,
   "metadata": {
    "collapsed": false
   },
   "outputs": [
    {
     "data": {
      "text/plain": [
       "(10000, 1)"
      ]
     },
     "execution_count": 60,
     "metadata": {},
     "output_type": "execute_result"
    }
   ],
   "source": [
    "result.shape"
   ]
  },
  {
   "cell_type": "markdown",
   "metadata": {},
   "source": [
    "<H3>Saving the result</H3>"
   ]
  },
  {
   "cell_type": "code",
   "execution_count": 61,
   "metadata": {
    "collapsed": true
   },
   "outputs": [],
   "source": [
    "result.to_csv('recommendation.csv', header = False, index = False) "
   ]
  }
 ],
 "metadata": {
  "kernelspec": {
   "display_name": "Python [gl-env]",
   "language": "python",
   "name": "Python [gl-env]"
  },
  "language_info": {
   "codemirror_mode": {
    "name": "ipython",
    "version": 2
   },
   "file_extension": ".py",
   "mimetype": "text/x-python",
   "name": "python",
   "nbconvert_exporter": "python",
   "pygments_lexer": "ipython2",
   "version": "2.7.12"
  }
 },
 "nbformat": 4,
 "nbformat_minor": 0
}
