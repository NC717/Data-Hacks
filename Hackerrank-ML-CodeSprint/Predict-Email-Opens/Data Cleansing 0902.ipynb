{
 "cells": [
  {
   "cell_type": "markdown",
   "metadata": {},
   "source": [
    "<H3>Load libraries</H3>"
   ]
  },
  {
   "cell_type": "code",
   "execution_count": 1,
   "metadata": {
    "collapsed": true
   },
   "outputs": [],
   "source": [
    "import numpy as np\n",
    "import os\n",
    "import random\n",
    "import matplotlib.pyplot as plt\n",
    "import pandas as pd\n",
    "import gc\n",
    "from sklearn.cross_validation import train_test_split\n",
    "\n",
    "%matplotlib inline"
   ]
  },
  {
   "cell_type": "markdown",
   "metadata": {},
   "source": [
    "<H3>Load train and test data</H3>"
   ]
  },
  {
   "cell_type": "code",
   "execution_count": 2,
   "metadata": {
    "collapsed": true
   },
   "outputs": [],
   "source": [
    "train = pd.read_csv('training_dataset.csv')\n",
    "test = pd.read_csv('test_dataset.csv')"
   ]
  },
  {
   "cell_type": "code",
   "execution_count": 3,
   "metadata": {
    "collapsed": false
   },
   "outputs": [
    {
     "name": "stdout",
     "output_type": "stream",
     "text": [
      "(486048, 54)\n",
      "(207424, 48)\n"
     ]
    }
   ],
   "source": [
    "print train.shape\n",
    "print test.shape"
   ]
  },
  {
   "cell_type": "markdown",
   "metadata": {},
   "source": [
    "<H3>Count the number of emails per user and number of opens by an user</H3>\n",
    "<H4>Find also the ratio between those two variables</H4>"
   ]
  },
  {
   "cell_type": "code",
   "execution_count": 4,
   "metadata": {
    "collapsed": true
   },
   "outputs": [],
   "source": [
    "train['user_count'] = train.groupby(['user_id'])['user_id'].transform('count')\n",
    "train['open_count'] = train.groupby(['user_id'])['opened'].transform('sum')\n",
    "train['open_ratio'] = train['open_count'] / train['user_count'] \n",
    "user_info = train[['user_id', 'user_count', 'open_count', 'open_ratio']]"
   ]
  },
  {
   "cell_type": "code",
   "execution_count": 5,
   "metadata": {
    "collapsed": true
   },
   "outputs": [],
   "source": [
    "user_info = user_info.drop_duplicates()"
   ]
  },
  {
   "cell_type": "code",
   "execution_count": 6,
   "metadata": {
    "collapsed": true
   },
   "outputs": [],
   "source": [
    "test = pd.merge(test, user_info, on = 'user_id', how = 'left')"
   ]
  },
  {
   "cell_type": "code",
   "execution_count": 7,
   "metadata": {
    "collapsed": true
   },
   "outputs": [],
   "source": [
    "import time\n",
    "import datetime"
   ]
  },
  {
   "cell_type": "markdown",
   "metadata": {},
   "source": [
    "<H3>Convert time formats</H3>"
   ]
  },
  {
   "cell_type": "code",
   "execution_count": 8,
   "metadata": {
    "collapsed": true
   },
   "outputs": [],
   "source": [
    "lo_mean = train.last_online.mean()\n",
    "train.ix[train['last_online'].isnull(), 'last_online'] = lo_mean\n",
    "test.ix[test['last_online'].isnull(), 'last_online'] = lo_mean"
   ]
  },
  {
   "cell_type": "code",
   "execution_count": 9,
   "metadata": {
    "collapsed": true
   },
   "outputs": [],
   "source": [
    "train['last_online_t'] = train.apply(lambda x: time.strftime('%Y-%m-%d %H:%M:%S', time.localtime(x['last_online'] )), axis = 1)\n",
    "train['hacker_created_t'] = train.apply(lambda x: time.strftime('%Y-%m-%d %H:%M:%S', time.localtime(x['hacker_created_at'] )), axis = 1)\n",
    "train['sent_time_t'] = train.apply(lambda x: time.strftime('%Y-%m-%d %H:%M:%S', time.localtime(x['sent_time'] )), axis = 1)"
   ]
  },
  {
   "cell_type": "code",
   "execution_count": 10,
   "metadata": {
    "collapsed": true
   },
   "outputs": [],
   "source": [
    "train['last_online_t'] = pd.to_datetime(train['last_online_t'])\n",
    "train['hacker_created_t'] = pd.to_datetime(train['hacker_created_t'])\n",
    "train['sent_time_t'] = pd.to_datetime(train['sent_time_t'])"
   ]
  },
  {
   "cell_type": "code",
   "execution_count": 11,
   "metadata": {
    "collapsed": true
   },
   "outputs": [],
   "source": [
    "train['sent_date'] = train.apply(lambda x: x['sent_time_t'].date().day, axis = 1)"
   ]
  },
  {
   "cell_type": "markdown",
   "metadata": {},
   "source": [
    "<H3>Create dummy variables</H3>"
   ]
  },
  {
   "cell_type": "code",
   "execution_count": 12,
   "metadata": {
    "collapsed": true
   },
   "outputs": [],
   "source": [
    "sent_date_dum = pd.get_dummies(train['sent_date'], prefix = 'sd')\n",
    "train = train.join(sent_date_dum)"
   ]
  },
  {
   "cell_type": "code",
   "execution_count": 13,
   "metadata": {
    "collapsed": true
   },
   "outputs": [],
   "source": [
    "train['sent_day'] = train.apply(lambda x: x['sent_time_t'].strftime('%a'), axis = 1)"
   ]
  },
  {
   "cell_type": "code",
   "execution_count": 14,
   "metadata": {
    "collapsed": true
   },
   "outputs": [],
   "source": [
    "sent_day_dum = pd.get_dummies(train['sent_day'], prefix = 'sda')\n",
    "train = train.join(sent_day_dum)"
   ]
  },
  {
   "cell_type": "code",
   "execution_count": 15,
   "metadata": {
    "collapsed": true
   },
   "outputs": [],
   "source": [
    "train['sent_hr'] = train.apply(lambda x: x['sent_time_t'].time().hour, axis = 1)"
   ]
  },
  {
   "cell_type": "code",
   "execution_count": 16,
   "metadata": {
    "collapsed": true
   },
   "outputs": [],
   "source": [
    "sent_hr_dum = pd.get_dummies(train['sent_hr'], prefix = 'sh')\n",
    "train = train.join(sent_hr_dum)"
   ]
  },
  {
   "cell_type": "code",
   "execution_count": 17,
   "metadata": {
    "collapsed": true
   },
   "outputs": [],
   "source": [
    "train['hack_yr'] = train.apply(lambda x: (2017 - x['hacker_created_t'].date().year), axis = 1)"
   ]
  },
  {
   "cell_type": "code",
   "execution_count": 18,
   "metadata": {
    "collapsed": true
   },
   "outputs": [],
   "source": [
    "hack_yr_dum = pd.get_dummies(train['hack_yr'], prefix = 'hy')\n",
    "train = train.join(hack_yr_dum)"
   ]
  },
  {
   "cell_type": "code",
   "execution_count": 19,
   "metadata": {
    "collapsed": true
   },
   "outputs": [],
   "source": [
    "train['hr_gap'] = train.apply(lambda x: (x['sent_time_t'] - x['last_online_t']).days, axis = 1)"
   ]
  },
  {
   "cell_type": "code",
   "execution_count": 20,
   "metadata": {
    "collapsed": true
   },
   "outputs": [],
   "source": [
    "train.ix[train['hacker_timezone'].isnull(), 'hacker_timezone'] = 1.800000e+04\n",
    "tz_dum = pd.get_dummies(train['hacker_timezone'], prefix = 'tz')\n",
    "train = train.join(tz_dum)"
   ]
  },
  {
   "cell_type": "code",
   "execution_count": 21,
   "metadata": {
    "collapsed": true
   },
   "outputs": [],
   "source": [
    "test['last_online_t'] = test.apply(lambda x: time.strftime('%Y-%m-%d %H:%M:%S', time.localtime(x['last_online'] )), axis = 1)\n",
    "test['hacker_created_t'] = test.apply(lambda x: time.strftime('%Y-%m-%d %H:%M:%S', time.localtime(x['hacker_created_at'] )), axis = 1)\n",
    "test['sent_time_t'] = test.apply(lambda x: time.strftime('%Y-%m-%d %H:%M:%S', time.localtime(x['sent_time'] )), axis = 1)"
   ]
  },
  {
   "cell_type": "code",
   "execution_count": 22,
   "metadata": {
    "collapsed": true
   },
   "outputs": [],
   "source": [
    "test['last_online_t'] = pd.to_datetime(test['last_online_t'])\n",
    "test['hacker_created_t'] = pd.to_datetime(test['hacker_created_t'])\n",
    "test['sent_time_t'] = pd.to_datetime(test['sent_time_t'])"
   ]
  },
  {
   "cell_type": "code",
   "execution_count": 23,
   "metadata": {
    "collapsed": true
   },
   "outputs": [],
   "source": [
    "test['sent_date'] = test.apply(lambda x: x['sent_time_t'].date().day, axis = 1)"
   ]
  },
  {
   "cell_type": "code",
   "execution_count": 24,
   "metadata": {
    "collapsed": true
   },
   "outputs": [],
   "source": [
    "sent_date_dum = pd.get_dummies(test['sent_date'], prefix = 'sd')\n",
    "test = test.join(sent_date_dum)"
   ]
  },
  {
   "cell_type": "code",
   "execution_count": 25,
   "metadata": {
    "collapsed": true
   },
   "outputs": [],
   "source": [
    "test['sent_day'] = test.apply(lambda x: x['sent_time_t'].strftime('%a'), axis = 1)"
   ]
  },
  {
   "cell_type": "code",
   "execution_count": 26,
   "metadata": {
    "collapsed": true
   },
   "outputs": [],
   "source": [
    "sent_day_dum = pd.get_dummies(test['sent_day'], prefix = 'sda')\n",
    "test = test.join(sent_day_dum)"
   ]
  },
  {
   "cell_type": "code",
   "execution_count": 27,
   "metadata": {
    "collapsed": true
   },
   "outputs": [],
   "source": [
    "test['sent_hr'] = test.apply(lambda x: x['sent_time_t'].time().hour, axis = 1)"
   ]
  },
  {
   "cell_type": "code",
   "execution_count": 28,
   "metadata": {
    "collapsed": true
   },
   "outputs": [],
   "source": [
    "sent_hr_dum = pd.get_dummies(test['sent_hr'], prefix = 'sh')\n",
    "test = test.join(sent_hr_dum)"
   ]
  },
  {
   "cell_type": "code",
   "execution_count": 29,
   "metadata": {
    "collapsed": true
   },
   "outputs": [],
   "source": [
    "test['hack_yr'] = test.apply(lambda x: (2017 - x['hacker_created_t'].date().year), axis = 1)"
   ]
  },
  {
   "cell_type": "code",
   "execution_count": 30,
   "metadata": {
    "collapsed": true
   },
   "outputs": [],
   "source": [
    "hack_yr_dum = pd.get_dummies(test['hack_yr'], prefix = 'hy')\n",
    "test = test.join(hack_yr_dum)"
   ]
  },
  {
   "cell_type": "code",
   "execution_count": 31,
   "metadata": {
    "collapsed": true
   },
   "outputs": [],
   "source": [
    "test['hr_gap'] = test.apply(lambda x: (x['sent_time_t'] - x['last_online_t']).days, axis = 1)"
   ]
  },
  {
   "cell_type": "code",
   "execution_count": 32,
   "metadata": {
    "collapsed": true
   },
   "outputs": [],
   "source": [
    "test.ix[test['hacker_timezone'].isnull(), 'hacker_timezone'] = 1.800000e+04\n",
    "tz_dum = pd.get_dummies(test['hacker_timezone'], prefix = 'tz')\n",
    "test = test.join(tz_dum)"
   ]
  },
  {
   "cell_type": "code",
   "execution_count": 33,
   "metadata": {
    "collapsed": true
   },
   "outputs": [],
   "source": [
    "mail_cat_dum = pd.get_dummies(train['mail_category'],prefix='mc')\n",
    "train = train.join(mail_cat_dum)\n",
    "mail_cat_dum_test = pd.get_dummies(test['mail_category'],prefix='mc')\n",
    "test = test.join(mail_cat_dum_test)"
   ]
  },
  {
   "cell_type": "code",
   "execution_count": 34,
   "metadata": {
    "collapsed": true
   },
   "outputs": [],
   "source": [
    "train_columns = list(train.columns)\n",
    "test_columns = list(test.columns)"
   ]
  },
  {
   "cell_type": "code",
   "execution_count": 35,
   "metadata": {
    "collapsed": false
   },
   "outputs": [
    {
     "data": {
      "text/plain": [
       "['open_time',\n",
       " 'click_time',\n",
       " 'unsubscribe_time',\n",
       " 'clicked',\n",
       " 'opened',\n",
       " 'unsubscribed',\n",
       " 'mc_mail_category_13',\n",
       " 'mc_mail_category_15',\n",
       " 'mc_mail_category_17',\n",
       " 'mc_mail_category_18']"
      ]
     },
     "execution_count": 35,
     "metadata": {},
     "output_type": "execute_result"
    }
   ],
   "source": [
    "[i for i in train_columns if i not in test_columns]"
   ]
  },
  {
   "cell_type": "code",
   "execution_count": 36,
   "metadata": {
    "collapsed": true
   },
   "outputs": [],
   "source": [
    "train_cols_del = ['user_id', 'mail_id', 'mail_type', 'open_time', 'click_time', 'unsubscribe_time', 'unsubscribed', 'clicked', \n",
    "                  'contest_login_count_1_days', 'ipn_count_1_days', 'ipn_read_1_days', 'mail_type', 'mail_category', \n",
    "                 'hacker_timezone', 'last_online', 'hacker_created_at', 'sent_time', 'last_online_t',\n",
    "                 'hacker_created_t', 'sent_time_t', 'sent_date', 'sent_day', 'sent_hr', 'hack_yr', 'hr_gap', \n",
    "                  'mc_mail_category_13', 'mc_mail_category_15', 'mc_mail_category_17', 'mc_mail_category_18']\n",
    "test_cols_del = ['user_id', 'mail_id','mail_type', 'contest_login_count_1_days', 'ipn_count_1_days', 'ipn_read_1_days', \n",
    "                 'mail_type', 'mail_category', 'hacker_timezone', 'last_online', 'hacker_created_at', \n",
    "                 'sent_time', 'last_online_t', 'hacker_created_t', 'sent_time_t', 'sent_date', 'sent_day', 'sent_hr', 'hack_yr',\n",
    "                'hr_gap']"
   ]
  },
  {
   "cell_type": "code",
   "execution_count": 37,
   "metadata": {
    "collapsed": true
   },
   "outputs": [],
   "source": [
    "train.drop(train_cols_del, axis=1, inplace=True)\n",
    "test.drop(test_cols_del, axis=1, inplace=True)"
   ]
  },
  {
   "cell_type": "code",
   "execution_count": 38,
   "metadata": {
    "collapsed": false
   },
   "outputs": [
    {
     "name": "stdout",
     "output_type": "stream",
     "text": [
      "(486048, 145)\n",
      "(207424, 144)\n"
     ]
    }
   ],
   "source": [
    "print train.shape\n",
    "print test.shape"
   ]
  },
  {
   "cell_type": "markdown",
   "metadata": {},
   "source": [
    "<H3>Save cleaned data as csv files</H3>"
   ]
  },
  {
   "cell_type": "code",
   "execution_count": 39,
   "metadata": {
    "collapsed": true
   },
   "outputs": [],
   "source": [
    "train.to_csv('train_clean.csv', index = False)\n",
    "test.to_csv('test_clean.csv', index = False)"
   ]
  }
 ],
 "metadata": {
  "kernelspec": {
   "display_name": "Python 2",
   "language": "python",
   "name": "python2"
  },
  "language_info": {
   "codemirror_mode": {
    "name": "ipython",
    "version": 2
   },
   "file_extension": ".py",
   "mimetype": "text/x-python",
   "name": "python",
   "nbconvert_exporter": "python",
   "pygments_lexer": "ipython2",
   "version": "2.7.11"
  }
 },
 "nbformat": 4,
 "nbformat_minor": 0
}
