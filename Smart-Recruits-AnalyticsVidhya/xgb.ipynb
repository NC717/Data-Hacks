{
 "cells": [
  {
   "cell_type": "markdown",
   "metadata": {},
   "source": [
    "<H3>Load Libraries</H3>"
   ]
  },
  {
   "cell_type": "code",
   "execution_count": 1,
   "metadata": {
    "collapsed": true
   },
   "outputs": [],
   "source": [
    "import os\n",
    "\n",
    "mingw_path = 'C:\\\\Program Files\\\\mingw-w64\\\\x86_64-5.3.0-posix-seh-rt_v4-rev0\\\\mingw64\\\\bin'\n",
    "os.environ['PATH'] = mingw_path + ';' + os.environ['PATH']\n",
    "\n",
    "import numpy as np\n",
    "import scipy as sp\n",
    "import matplotlib as mpl\n",
    "import pandas as pd\n",
    "import xgboost as xgb\n",
    "from sklearn.metrics import roc_auc_score\n",
    "from sklearn.cross_validation import train_test_split\n",
    "from sklearn import preprocessing"
   ]
  },
  {
   "cell_type": "markdown",
   "metadata": {},
   "source": [
    "<H3>Load dataset</H3>"
   ]
  },
  {
   "cell_type": "code",
   "execution_count": 2,
   "metadata": {
    "collapsed": true
   },
   "outputs": [],
   "source": [
    "train = pd.read_csv('Train_pjb2QcD.csv')\n",
    "test = pd.read_csv('Test_wyCirpO.csv')"
   ]
  },
  {
   "cell_type": "code",
   "execution_count": 3,
   "metadata": {
    "collapsed": false
   },
   "outputs": [
    {
     "name": "stdout",
     "output_type": "stream",
     "text": [
      "(9527, 23)\n",
      "(5045, 22)\n"
     ]
    }
   ],
   "source": [
    "print train.shape\n",
    "print test.shape"
   ]
  },
  {
   "cell_type": "markdown",
   "metadata": {},
   "source": [
    "<H3>Cleansing</H3>"
   ]
  },
  {
   "cell_type": "code",
   "execution_count": 4,
   "metadata": {
    "collapsed": true
   },
   "outputs": [],
   "source": [
    "test_id = test['ID']\n",
    "train.drop(['ID'], axis = 1, inplace = True)\n",
    "test.drop(['ID'], axis = 1, inplace = True)"
   ]
  },
  {
   "cell_type": "code",
   "execution_count": 5,
   "metadata": {
    "collapsed": true
   },
   "outputs": [],
   "source": [
    "train.drop(['Application_Receipt_Date'], axis = 1, inplace = True)\n",
    "test.drop(['Application_Receipt_Date'], axis = 1, inplace = True)"
   ]
  },
  {
   "cell_type": "code",
   "execution_count": 6,
   "metadata": {
    "collapsed": false
   },
   "outputs": [
    {
     "name": "stdout",
     "output_type": "stream",
     "text": [
      "1982\n"
     ]
    }
   ],
   "source": [
    "app_dob = []\n",
    "for i in xrange (0,train.shape[0]):\n",
    "    if str(train.Applicant_BirthDate[i]) == 'nan':\n",
    "        app_dob.append(0)\n",
    "    else:\n",
    "        app_dob.append(int(train.Applicant_BirthDate[i][-4:]))\n",
    "print max(set(app_dob), key=app_dob.count)"
   ]
  },
  {
   "cell_type": "code",
   "execution_count": 7,
   "metadata": {
    "collapsed": true
   },
   "outputs": [],
   "source": [
    "train.Applicant_BirthDate = train.Applicant_BirthDate.fillna('1/1/1982')\n",
    "test.Applicant_BirthDate = test.Applicant_BirthDate.fillna('1/1/1982')\n",
    "train['Age'] = train['Applicant_BirthDate'].apply(lambda x: 2016 - int(x[-4:]))\n",
    "test['Age'] = test['Applicant_BirthDate'].apply(lambda x: 2016 - int(x[-4:]))\n",
    "\n",
    "train.drop(['Applicant_BirthDate'], axis = 1, inplace = True)\n",
    "test.drop(['Applicant_BirthDate'], axis = 1, inplace = True)"
   ]
  },
  {
   "cell_type": "code",
   "execution_count": 8,
   "metadata": {
    "collapsed": false
   },
   "outputs": [
    {
     "name": "stdout",
     "output_type": "stream",
     "text": [
      "1974\n"
     ]
    }
   ],
   "source": [
    "man_dob = []\n",
    "for i in xrange (0,train.shape[0]):\n",
    "    if str(train.Manager_DoB[i]) == 'nan':\n",
    "        man_dob.append(0)\n",
    "    else:\n",
    "        man_dob.append(int(train.Manager_DoB[i][-4:]))\n",
    "print max(set(man_dob), key=man_dob.count)"
   ]
  },
  {
   "cell_type": "code",
   "execution_count": 9,
   "metadata": {
    "collapsed": true
   },
   "outputs": [],
   "source": [
    "train.Manager_DoB = train.Manager_DoB.fillna('1/1/1974')\n",
    "test.Manager_DoB = test.Manager_DoB.fillna('1/1/1974')\n",
    "train['Man_age'] = train['Manager_DoB'].apply(lambda x: 2016 - int(x[-4:]))\n",
    "test['Man_age'] = test['Manager_DoB'].apply(lambda x: 2016 -int(x[-4:]))\n",
    "\n",
    "train.drop(['Manager_DoB'], axis = 1, inplace = True)\n",
    "test.drop(['Manager_DoB'], axis = 1, inplace = True)"
   ]
  },
  {
   "cell_type": "code",
   "execution_count": 10,
   "metadata": {
    "collapsed": false
   },
   "outputs": [
    {
     "name": "stdout",
     "output_type": "stream",
     "text": [
      "2007\n"
     ]
    }
   ],
   "source": [
    "man_doj = []\n",
    "for i in xrange (0,train.shape[0]):\n",
    "    if str(train.Manager_DOJ[i]) == 'nan':\n",
    "        man_doj.append(0)\n",
    "    else:\n",
    "        man_doj.append(int(train.Manager_DOJ[i][-4:]))\n",
    "print max(set(man_doj), key=man_doj.count)"
   ]
  },
  {
   "cell_type": "code",
   "execution_count": 11,
   "metadata": {
    "collapsed": true
   },
   "outputs": [],
   "source": [
    "train.Manager_DOJ = train.Manager_DOJ.fillna('1/1/2007')\n",
    "test.Manager_DOJ = test.Manager_DOJ.fillna('1/1/2007')\n",
    "train['Man_ex'] = train['Manager_DOJ'].apply(lambda x: 2016 - int(x[-4:]))\n",
    "test['Man_ex'] = test['Manager_DOJ'].apply(lambda x: 2016 -int(x[-4:]))\n",
    "\n",
    "train.drop(['Manager_DOJ'], axis = 1, inplace = True)\n",
    "test.drop(['Manager_DOJ'], axis = 1, inplace = True)"
   ]
  },
  {
   "cell_type": "code",
   "execution_count": 12,
   "metadata": {
    "collapsed": false
   },
   "outputs": [
    {
     "data": {
      "text/plain": [
       "Office_PIN                        0\n",
       "Applicant_City_PIN               97\n",
       "Applicant_Gender                 67\n",
       "Applicant_Marital_Status         73\n",
       "Applicant_Occupation           1221\n",
       "Applicant_Qualification          86\n",
       "Manager_Joining_Designation     683\n",
       "Manager_Current_Designation     683\n",
       "Manager_Grade                   683\n",
       "Manager_Status                  683\n",
       "Manager_Gender                  683\n",
       "Manager_Num_Application         683\n",
       "Manager_Num_Coded               683\n",
       "Manager_Business                683\n",
       "Manager_Num_Products            683\n",
       "Manager_Business2               683\n",
       "Manager_Num_Products2           683\n",
       "Business_Sourced                  0\n",
       "Age                               0\n",
       "Man_age                           0\n",
       "Man_ex                            0\n",
       "dtype: int64"
      ]
     },
     "execution_count": 12,
     "metadata": {},
     "output_type": "execute_result"
    }
   ],
   "source": [
    "train.apply(lambda x: sum(x.isnull()))"
   ]
  },
  {
   "cell_type": "code",
   "execution_count": 13,
   "metadata": {
    "collapsed": true
   },
   "outputs": [],
   "source": [
    "test.loc[test['Applicant_Qualification']=='Associate/Fellow of Institute of Institute of Costs and Works Accountants of India', 'Applicant_Qualification'] = 'Associate/Fellow of Institute of Company Secretories of India'"
   ]
  },
  {
   "cell_type": "code",
   "execution_count": 14,
   "metadata": {
    "collapsed": true
   },
   "outputs": [],
   "source": [
    "data_cols = list(train.columns)\n",
    "remove_cols = ['Office_PIN', 'Business_Sourced', 'Age', 'Man_age', 'Man_ex']\n",
    "new_cols = [x for x in data_cols if x not in remove_cols]"
   ]
  },
  {
   "cell_type": "code",
   "execution_count": 15,
   "metadata": {
    "collapsed": false
   },
   "outputs": [
    {
     "name": "stdout",
     "output_type": "stream",
     "text": [
      "\n",
      "Frequency count for variable Applicant_City_PIN\n",
      "202001.0    103\n",
      "492001.0     75\n",
      "305001.0     64\n",
      "452001.0     55\n",
      "476001.0     51\n",
      "281001.0     49\n",
      "125001.0     48\n",
      "285001.0     47\n",
      "803101.0     46\n",
      "274001.0     46\n",
      "277001.0     45\n",
      "845305.0     44\n",
      "250001.0     42\n",
      "431001.0     41\n",
      "121004.0     41\n",
      "462001.0     40\n",
      "121001.0     40\n",
      "201301.0     39\n",
      "122001.0     39\n",
      "474001.0     39\n",
      "208001.0     37\n",
      "834001.0     34\n",
      "444601.0     33\n",
      "210001.0     33\n",
      "271201.0     32\n",
      "277303.0     32\n",
      "121002.0     30\n",
      "533101.0     30\n",
      "444606.0     29\n",
      "224122.0     27\n",
      "           ... \n",
      "206301.0      1\n",
      "517583.0      1\n",
      "271607.0      1\n",
      "222302.0      1\n",
      "422610.0      1\n",
      "124021.0      1\n",
      "271502.0      1\n",
      "271503.0      1\n",
      "173204.0      1\n",
      "534320.0      1\n",
      "173209.0      1\n",
      "173212.0      1\n",
      "173221.0      1\n",
      "632001.0      1\n",
      "124113.0      1\n",
      "127405.0      1\n",
      "271821.0      1\n",
      "690524.0      1\n",
      "206122.0      1\n",
      "140604.0      1\n",
      "281204.0      1\n",
      "517501.0      1\n",
      "501143.0      1\n",
      "452005.0      1\n",
      "206249.0      1\n",
      "452011.0      1\n",
      "206253.0      1\n",
      "452014.0      1\n",
      "271801.0      1\n",
      "225204.0      1\n",
      "Name: Applicant_City_PIN, dtype: int64\n",
      "\n",
      "Frequency count for variable Applicant_Gender\n",
      "M    7179\n",
      "F    2281\n",
      "Name: Applicant_Gender, dtype: int64\n",
      "\n",
      "Frequency count for variable Applicant_Marital_Status\n",
      "M    6177\n",
      "S    3267\n",
      "W       6\n",
      "D       4\n",
      "Name: Applicant_Marital_Status, dtype: int64\n",
      "\n",
      "Frequency count for variable Applicant_Occupation\n",
      "Salaried         3787\n",
      "Business         2303\n",
      "Others           1966\n",
      "Self Employed     149\n",
      "Student           101\n",
      "Name: Applicant_Occupation, dtype: int64\n",
      "\n",
      "Frequency count for variable Applicant_Qualification\n",
      "Class XII                                                           5806\n",
      "Graduate                                                            3196\n",
      "Class X                                                              225\n",
      "Others                                                               132\n",
      "Masters of Business Administration                                    74\n",
      "Associate / Fellow of Institute of Chartered Accountans of India       3\n",
      "Associate/Fellow of Acturial Society of India                          1\n",
      "Associate/Fellow of Insurance Institute of India                       1\n",
      "Associate/Fellow of Institute of Company Secretories of India          1\n",
      "Professional Qualification in Marketing                                1\n",
      "Certified Associateship of Indian Institute of Bankers                 1\n",
      "Name: Applicant_Qualification, dtype: int64\n",
      "\n",
      "Frequency count for variable Manager_Joining_Designation\n",
      "Level 1    4632\n",
      "Level 2    2787\n",
      "Level 3    1146\n",
      "Level 4     200\n",
      "Other        58\n",
      "Level 6      18\n",
      "Level 7       2\n",
      "Level 5       1\n",
      "Name: Manager_Joining_Designation, dtype: int64\n",
      "\n",
      "Frequency count for variable Manager_Current_Designation\n",
      "Level 2    3208\n",
      "Level 1    2479\n",
      "Level 3    2033\n",
      "Level 4    1031\n",
      "Level 5      93\n",
      "Name: Manager_Current_Designation, dtype: int64\n",
      "\n",
      "Frequency count for variable Manager_Grade\n",
      "3.0     3207\n",
      "2.0     2471\n",
      "4.0     2038\n",
      "5.0      666\n",
      "6.0      406\n",
      "7.0       22\n",
      "8.0       14\n",
      "1.0        8\n",
      "9.0        7\n",
      "10.0       5\n",
      "Name: Manager_Grade, dtype: int64\n",
      "\n",
      "Frequency count for variable Manager_Status\n",
      "Confirmation    5277\n",
      "Probation       3567\n",
      "Name: Manager_Status, dtype: int64\n",
      "\n",
      "Frequency count for variable Manager_Gender\n",
      "M    7627\n",
      "F    1217\n",
      "Name: Manager_Gender, dtype: int64\n",
      "\n",
      "Frequency count for variable Manager_Num_Application\n",
      "0.0     2980\n",
      "1.0     1677\n",
      "2.0     1339\n",
      "3.0     1073\n",
      "4.0      710\n",
      "5.0      458\n",
      "6.0      270\n",
      "7.0      132\n",
      "8.0       84\n",
      "9.0       63\n",
      "10.0      27\n",
      "11.0      14\n",
      "16.0       6\n",
      "12.0       5\n",
      "13.0       4\n",
      "14.0       1\n",
      "22.0       1\n",
      "Name: Manager_Num_Application, dtype: int64\n",
      "\n",
      "Frequency count for variable Manager_Num_Coded\n",
      "0.0    5283\n",
      "1.0    1799\n",
      "2.0     936\n",
      "3.0     471\n",
      "4.0     225\n",
      "5.0      83\n",
      "6.0      30\n",
      "7.0       7\n",
      "8.0       6\n",
      "9.0       4\n",
      "Name: Manager_Num_Coded, dtype: int64\n",
      "\n",
      "Frequency count for variable Manager_Business\n",
      "0.0          2904\n",
      "20000.0        34\n",
      "50000.0        19\n",
      "25000.0        14\n",
      "30000.0        10\n",
      "200000.0       10\n",
      "307003.0       10\n",
      "302911.0        9\n",
      "714000.0        8\n",
      "11640.0         8\n",
      "574520.0        8\n",
      "52900.0         8\n",
      "10207.0         7\n",
      "60000.0         7\n",
      "77956.0         7\n",
      "188025.0        7\n",
      "170553.0        7\n",
      "283495.0        7\n",
      "199430.0        7\n",
      "14555.0         7\n",
      "48501.0         7\n",
      "150000.0        6\n",
      "432239.0        6\n",
      "1035357.0       6\n",
      "211941.0        6\n",
      "285144.0        6\n",
      "35000.0         6\n",
      "51642.0         6\n",
      "45000.0         6\n",
      "271836.0        6\n",
      "             ... \n",
      "58717.0         1\n",
      "75098.0         1\n",
      "75085.0         1\n",
      "714053.0        1\n",
      "1854078.0       1\n",
      "419124.0        1\n",
      "140594.0        1\n",
      "402877.0        1\n",
      "189900.0        1\n",
      "91597.0         1\n",
      "173576.0        1\n",
      "829007.0        1\n",
      "75332.0         1\n",
      "108099.0        1\n",
      "190011.0        1\n",
      "140858.0        1\n",
      "271913.0        1\n",
      "75299.0         1\n",
      "353822.0        1\n",
      "222717.0        1\n",
      "42446.0         1\n",
      "91644.0         1\n",
      "170804.0        1\n",
      "400636.0        1\n",
      "239089.0        1\n",
      "157165.0        1\n",
      "287004.0        1\n",
      "222682.0        1\n",
      "353743.0        1\n",
      "155589.0        1\n",
      "Name: Manager_Business, dtype: int64\n",
      "\n",
      "Frequency count for variable Manager_Num_Products\n",
      "0.0      2909\n",
      "6.0       432\n",
      "5.0       426\n",
      "4.0       398\n",
      "7.0       384\n",
      "8.0       359\n",
      "9.0       331\n",
      "3.0       313\n",
      "11.0      310\n",
      "1.0       292\n",
      "2.0       288\n",
      "10.0      283\n",
      "12.0      255\n",
      "13.0      229\n",
      "14.0      214\n",
      "15.0      192\n",
      "17.0      168\n",
      "18.0      137\n",
      "16.0      134\n",
      "19.0      105\n",
      "20.0       82\n",
      "21.0       75\n",
      "23.0       73\n",
      "22.0       52\n",
      "24.0       51\n",
      "25.0       46\n",
      "27.0       31\n",
      "26.0       31\n",
      "29.0       28\n",
      "28.0       26\n",
      "32.0       22\n",
      "30.0       22\n",
      "33.0       16\n",
      "35.0       15\n",
      "31.0       12\n",
      "34.0       11\n",
      "37.0       10\n",
      "41.0        9\n",
      "36.0        8\n",
      "42.0        7\n",
      "39.0        7\n",
      "38.0        7\n",
      "40.0        5\n",
      "60.0        5\n",
      "51.0        5\n",
      "43.0        4\n",
      "66.0        4\n",
      "47.0        4\n",
      "44.0        3\n",
      "46.0        3\n",
      "53.0        2\n",
      "74.0        2\n",
      "45.0        2\n",
      "101.0       2\n",
      "59.0        1\n",
      "48.0        1\n",
      "61.0        1\n",
      "Name: Manager_Num_Products, dtype: int64\n",
      "\n",
      "Frequency count for variable Manager_Business2\n",
      "0.0          2909\n",
      "20000.0        34\n",
      "50000.0        19\n",
      "25000.0        14\n",
      "30000.0        10\n",
      "200000.0       10\n",
      "307003.0       10\n",
      "302911.0        9\n",
      "714000.0        8\n",
      "11640.0         8\n",
      "52900.0         8\n",
      "574520.0        8\n",
      "283495.0        7\n",
      "14555.0         7\n",
      "48501.0         7\n",
      "60000.0         7\n",
      "77956.0         7\n",
      "10207.0         7\n",
      "188025.0        7\n",
      "170553.0        7\n",
      "199430.0        7\n",
      "285144.0        6\n",
      "250585.0        6\n",
      "35000.0         6\n",
      "150000.0        6\n",
      "271836.0        6\n",
      "432239.0        6\n",
      "211941.0        6\n",
      "51642.0         6\n",
      "45000.0         6\n",
      "             ... \n",
      "124274.0        1\n",
      "75115.0         1\n",
      "304490.0        1\n",
      "58717.0         1\n",
      "75098.0         1\n",
      "75085.0         1\n",
      "714053.0        1\n",
      "42446.0         1\n",
      "353743.0        1\n",
      "222682.0        1\n",
      "271913.0        1\n",
      "3423740.0       1\n",
      "337495.0        1\n",
      "568739.0        1\n",
      "829007.0        1\n",
      "75332.0         1\n",
      "108099.0        1\n",
      "190011.0        1\n",
      "140858.0        1\n",
      "75299.0         1\n",
      "287004.0        1\n",
      "353822.0        1\n",
      "173576.0        1\n",
      "222717.0        1\n",
      "91644.0         1\n",
      "170804.0        1\n",
      "400636.0        1\n",
      "239089.0        1\n",
      "157165.0        1\n",
      "40926.0         1\n",
      "Name: Manager_Business2, dtype: int64\n",
      "\n",
      "Frequency count for variable Manager_Num_Products2\n",
      "0.0      2914\n",
      "6.0       435\n",
      "5.0       424\n",
      "4.0       405\n",
      "7.0       385\n",
      "8.0       355\n",
      "9.0       331\n",
      "3.0       314\n",
      "11.0      311\n",
      "1.0       290\n",
      "2.0       287\n",
      "10.0      282\n",
      "12.0      255\n",
      "13.0      227\n",
      "14.0      214\n",
      "15.0      194\n",
      "17.0      168\n",
      "18.0      134\n",
      "16.0      133\n",
      "19.0      103\n",
      "20.0       85\n",
      "21.0       76\n",
      "23.0       72\n",
      "22.0       54\n",
      "24.0       52\n",
      "25.0       45\n",
      "26.0       32\n",
      "27.0       28\n",
      "28.0       25\n",
      "29.0       25\n",
      "30.0       22\n",
      "32.0       22\n",
      "33.0       16\n",
      "35.0       15\n",
      "31.0       12\n",
      "37.0       10\n",
      "34.0        9\n",
      "39.0        8\n",
      "36.0        8\n",
      "41.0        7\n",
      "42.0        7\n",
      "38.0        7\n",
      "40.0        5\n",
      "43.0        5\n",
      "60.0        5\n",
      "51.0        5\n",
      "44.0        4\n",
      "66.0        4\n",
      "47.0        4\n",
      "46.0        3\n",
      "53.0        2\n",
      "74.0        2\n",
      "45.0        2\n",
      "101.0       2\n",
      "59.0        1\n",
      "48.0        1\n",
      "61.0        1\n",
      "Name: Manager_Num_Products2, dtype: int64\n"
     ]
    }
   ],
   "source": [
    "for v in new_cols:\n",
    "    print '\\nFrequency count for variable %s'%v\n",
    "    print train[v].value_counts()"
   ]
  },
  {
   "cell_type": "code",
   "execution_count": 16,
   "metadata": {
    "collapsed": false
   },
   "outputs": [
    {
     "data": {
      "text/plain": [
       "Office_PIN                       int64\n",
       "Applicant_City_PIN             float64\n",
       "Applicant_Gender                object\n",
       "Applicant_Marital_Status        object\n",
       "Applicant_Occupation            object\n",
       "Applicant_Qualification         object\n",
       "Manager_Joining_Designation     object\n",
       "Manager_Current_Designation     object\n",
       "Manager_Grade                  float64\n",
       "Manager_Status                  object\n",
       "Manager_Gender                  object\n",
       "Manager_Num_Application        float64\n",
       "Manager_Num_Coded              float64\n",
       "Manager_Business               float64\n",
       "Manager_Num_Products           float64\n",
       "Manager_Business2              float64\n",
       "Manager_Num_Products2          float64\n",
       "Business_Sourced                 int64\n",
       "Age                              int64\n",
       "Man_age                          int64\n",
       "Man_ex                           int64\n",
       "dtype: object"
      ]
     },
     "execution_count": 16,
     "metadata": {},
     "output_type": "execute_result"
    }
   ],
   "source": [
    "train.dtypes"
   ]
  },
  {
   "cell_type": "code",
   "execution_count": 17,
   "metadata": {
    "collapsed": true
   },
   "outputs": [],
   "source": [
    "train.Applicant_City_PIN.fillna(202001.0, inplace = True)\n",
    "train.Applicant_Gender.fillna('M', inplace = True)\n",
    "train.Applicant_Marital_Status.fillna('M', inplace = True)\n",
    "train.Applicant_Occupation.fillna('Salaried', inplace = True)\n",
    "train.Applicant_Qualification.fillna('Class XII', inplace = True)\n",
    "train.Manager_Joining_Designation.fillna('Level 1', inplace = True)\n",
    "train.Manager_Current_Designation.fillna('Level 2', inplace = True)\n",
    "train.Manager_Grade.fillna(3.0, inplace = True)\n",
    "train.Manager_Status.fillna('Confirmation', inplace = True)\n",
    "train.Manager_Gender.fillna('M', inplace = True)\n",
    "train.Manager_Num_Application.fillna(round(train.Manager_Num_Application.mean()), inplace = True)\n",
    "train.Manager_Num_Coded.fillna(round(train.Manager_Num_Coded.mean()), inplace = True)\n",
    "train.Manager_Business.fillna(round(train.Manager_Business.mean()), inplace = True)\n",
    "train.Manager_Num_Products.fillna(round(train.Manager_Num_Products.mean()), inplace = True)\n",
    "train.Manager_Business2.fillna(round(train.Manager_Business2.mean()), inplace = True)\n",
    "train.Manager_Num_Products2.fillna(round(train.Manager_Num_Products2.mean()), inplace = True)\n",
    "\n",
    "test.Applicant_City_PIN.fillna(202001.0, inplace = True)\n",
    "test.Applicant_Gender.fillna('M', inplace = True)\n",
    "test.Applicant_Marital_Status.fillna('M', inplace = True)\n",
    "test.Applicant_Occupation.fillna('Salaried', inplace = True)\n",
    "test.Applicant_Qualification.fillna('Class XII', inplace = True)\n",
    "test.Manager_Joining_Designation.fillna('Level 1', inplace = True)\n",
    "test.Manager_Current_Designation.fillna('Level 2', inplace = True)\n",
    "test.Manager_Grade.fillna(3.0, inplace = True)\n",
    "test.Manager_Status.fillna('Confirmation', inplace = True)\n",
    "test.Manager_Gender.fillna('M', inplace = True)\n",
    "test.Manager_Num_Application.fillna(round(train.Manager_Num_Application.mean()), inplace = True)\n",
    "test.Manager_Num_Coded.fillna(round(train.Manager_Num_Coded.mean()), inplace = True)\n",
    "test.Manager_Business.fillna(round(train.Manager_Business.mean()), inplace = True)\n",
    "test.Manager_Num_Products.fillna(round(train.Manager_Num_Products.mean()), inplace = True)\n",
    "test.Manager_Business2.fillna(round(train.Manager_Business2.mean()), inplace = True)\n",
    "test.Manager_Num_Products2.fillna(round(train.Manager_Num_Products2.mean()), inplace = True)"
   ]
  },
  {
   "cell_type": "code",
   "execution_count": 18,
   "metadata": {
    "collapsed": false
   },
   "outputs": [],
   "source": [
    "app_sex = preprocessing.LabelEncoder()\n",
    "train.Applicant_Gender = app_sex.fit_transform(train.Applicant_Gender)\n",
    "test.Applicant_Gender = app_sex.transform(test.Applicant_Gender)"
   ]
  },
  {
   "cell_type": "code",
   "execution_count": 19,
   "metadata": {
    "collapsed": true
   },
   "outputs": [],
   "source": [
    "app_sta = preprocessing.LabelEncoder()\n",
    "train.Applicant_Marital_Status = app_sta.fit_transform(train.Applicant_Marital_Status)\n",
    "test.Applicant_Marital_Status = app_sta.transform(test.Applicant_Marital_Status)"
   ]
  },
  {
   "cell_type": "code",
   "execution_count": 20,
   "metadata": {
    "collapsed": true
   },
   "outputs": [],
   "source": [
    "app_occ = preprocessing.LabelEncoder()\n",
    "train.Applicant_Occupation = app_occ.fit_transform(train.Applicant_Occupation)\n",
    "test.Applicant_Occupation = app_occ.transform(test.Applicant_Occupation)"
   ]
  },
  {
   "cell_type": "code",
   "execution_count": 21,
   "metadata": {
    "collapsed": true
   },
   "outputs": [],
   "source": [
    "app_qua = preprocessing.LabelEncoder()\n",
    "train.Applicant_Qualification = app_qua.fit_transform(train.Applicant_Qualification)\n",
    "test.Applicant_Qualification = app_qua.transform(test.Applicant_Qualification)"
   ]
  },
  {
   "cell_type": "code",
   "execution_count": 22,
   "metadata": {
    "collapsed": true
   },
   "outputs": [],
   "source": [
    "man_d0 = preprocessing.LabelEncoder()\n",
    "train.Manager_Joining_Designation = man_d0.fit_transform(train.Manager_Joining_Designation)\n",
    "test.Manager_Joining_Designation = man_d0.transform(test.Manager_Joining_Designation)"
   ]
  },
  {
   "cell_type": "code",
   "execution_count": 23,
   "metadata": {
    "collapsed": true
   },
   "outputs": [],
   "source": [
    "man_d1 = preprocessing.LabelEncoder()\n",
    "train.Manager_Current_Designation = man_d1.fit_transform(train.Manager_Current_Designation)\n",
    "test.Manager_Current_Designation = man_d1.transform(test.Manager_Current_Designation)"
   ]
  },
  {
   "cell_type": "code",
   "execution_count": 24,
   "metadata": {
    "collapsed": true
   },
   "outputs": [],
   "source": [
    "man_sta = preprocessing.LabelEncoder()\n",
    "train.Manager_Status = man_sta.fit_transform(train.Manager_Status)\n",
    "test.Manager_Status = man_sta.transform(test.Manager_Status)"
   ]
  },
  {
   "cell_type": "code",
   "execution_count": 25,
   "metadata": {
    "collapsed": true
   },
   "outputs": [],
   "source": [
    "man_sex = preprocessing.LabelEncoder()\n",
    "train.Manager_Gender = man_sex.fit_transform(train.Manager_Gender)\n",
    "test.Manager_Gender = man_sex.transform(test.Manager_Gender)"
   ]
  },
  {
   "cell_type": "code",
   "execution_count": 26,
   "metadata": {
    "collapsed": true
   },
   "outputs": [],
   "source": [
    "y = train.pop('Business_Sourced')\n",
    "X = train"
   ]
  },
  {
   "cell_type": "markdown",
   "metadata": {},
   "source": [
    "<H3>Split train and validation</H3>"
   ]
  },
  {
   "cell_type": "code",
   "execution_count": 335,
   "metadata": {
    "collapsed": true
   },
   "outputs": [],
   "source": [
    "X_train, X_val, y_train, y_val = train_test_split(X,y,test_size=0.2)\n",
    "xgtrain = xgb.DMatrix(X_train, label=y_train)\n",
    "xgval = xgb.DMatrix(X_val, label=y_val)\n",
    "xgtest = xgb.DMatrix(test)"
   ]
  },
  {
   "cell_type": "markdown",
   "metadata": {},
   "source": [
    "<H3>Run Model</H3>"
   ]
  },
  {
   "cell_type": "code",
   "execution_count": 336,
   "metadata": {
    "collapsed": false
   },
   "outputs": [
    {
     "name": "stdout",
     "output_type": "stream",
     "text": [
      "0.860824303701\n",
      "0.645575335397\n"
     ]
    }
   ],
   "source": [
    "params = {}\n",
    "params[\"objective\"] = \"binary:logistic\"\n",
    "params[\"eta\"] = 0.03\n",
    "params[\"min_child_weight\"] = 1\n",
    "params[\"subsample\"] = 0.6\n",
    "params[\"scale_pos_weight\"] = 1.0\n",
    "params[\"silent\"] = 1\n",
    "params[\"max_depth\"] = 6\n",
    "params[\"eval_metric\"] = 'auc'\n",
    "params[\"colsample_bytree\"] = 0.6\n",
    "params[\"lambda\"] = 50\n",
    "\n",
    "plst = list(params.items())\n",
    "num_rounds = 1000\n",
    "model = xgb.train(plst, xgtrain, num_rounds)\n",
    "\n",
    "train_pred = model.predict(xgtrain)\n",
    "val_pred = model.predict(xgval)\n",
    "test_pred = model.predict(xgtest)\n",
    "\n",
    "print (roc_auc_score(y_train, train_pred))\n",
    "print (roc_auc_score(y_val, val_pred))"
   ]
  },
  {
   "cell_type": "markdown",
   "metadata": {},
   "source": [
    "<H3>Create submission file</H3>"
   ]
  },
  {
   "cell_type": "code",
   "execution_count": 337,
   "metadata": {
    "collapsed": true
   },
   "outputs": [],
   "source": [
    "submission = pd.DataFrame({\"ID\":test_id, \"Business_Sourced\":test_pred})\n",
    "submission.to_csv(\"submission_0725.csv\", index=False)"
   ]
  },
  {
   "cell_type": "code",
   "execution_count": 352,
   "metadata": {
    "collapsed": true
   },
   "outputs": [],
   "source": [
    "X_train, X_val, y_train, y_val = train_test_split(X,y,test_size=0.2)\n",
    "xgtrain = xgb.DMatrix(X_train, label=y_train)\n",
    "xgval = xgb.DMatrix(X_val, label=y_val)\n",
    "xgtest = xgb.DMatrix(test)"
   ]
  },
  {
   "cell_type": "code",
   "execution_count": 353,
   "metadata": {
    "collapsed": false
   },
   "outputs": [
    {
     "name": "stdout",
     "output_type": "stream",
     "text": [
      "0.714349530057\n",
      "0.625016044629\n"
     ]
    }
   ],
   "source": [
    "params = {}\n",
    "params[\"objective\"] = \"binary:logistic\"\n",
    "params[\"eta\"] = 0.03\n",
    "params[\"min_child_weight\"] = 1\n",
    "params[\"subsample\"] = 0.6\n",
    "params[\"scale_pos_weight\"] = 1.0\n",
    "params[\"silent\"] = 0\n",
    "params[\"max_depth\"] = 2\n",
    "params[\"eval_metric\"] = 'auc'\n",
    "params[\"colsample_bytree\"] = 0.6\n",
    "params[\"lambda\"] = 25\n",
    "\n",
    "plst = list(params.items())\n",
    "num_rounds = 1000\n",
    "model = xgb.train(plst, xgtrain, num_rounds)\n",
    "\n",
    "train_pred = model.predict(xgtrain)\n",
    "val_pred = model.predict(xgval)\n",
    "test_pred = model.predict(xgtest)\n",
    "\n",
    "print (roc_auc_score(y_train, train_pred))\n",
    "print (roc_auc_score(y_val, val_pred))"
   ]
  }
 ],
 "metadata": {
  "kernelspec": {
   "display_name": "Python 2",
   "language": "python",
   "name": "python2"
  },
  "language_info": {
   "codemirror_mode": {
    "name": "ipython",
    "version": 2
   },
   "file_extension": ".py",
   "mimetype": "text/x-python",
   "name": "python",
   "nbconvert_exporter": "python",
   "pygments_lexer": "ipython2",
   "version": "2.7.11"
  }
 },
 "nbformat": 4,
 "nbformat_minor": 0
}
